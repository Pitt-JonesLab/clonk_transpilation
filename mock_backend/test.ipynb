{
 "cells": [
  {
   "cell_type": "code",
   "execution_count": 2,
   "metadata": {},
   "outputs": [],
   "source": [
    "import sys\n",
    "sys.path.append(\"..\")\n",
    "import fakeutils, mock_backend\n",
    "from fakeutils.configurable_backend_v2 import ConfigurableFakeBackendV2"
   ]
  },
  {
   "cell_type": "code",
   "execution_count": 3,
   "metadata": {},
   "outputs": [],
   "source": [
    "import itertools\n",
    "from qiskit.test.mock.utils.configurable_backend import ConfigurableFakeBackend\n",
    "from qiskit.providers.models import BackendProperties\n",
    "from qiskit.providers.models.backendproperties import Nduv, Gate\n",
    "from qiskit.exceptions import QiskitError\n",
    "from qiskit.circuit.library.standard_gates import (\n",
    "    IGate,\n",
    "    RXGate,\n",
    "    RYGate,\n",
    "    CZGate,\n",
    "    SwapGate,\n",
    "    U3Gate\n",
    ")\n",
    "\n",
    "\n",
    "class FakeExampleV2(ConfigurableFakeBackendV2):\n",
    "    \"\"\"A mock backendv2\"\"\"\n",
    "\n",
    "    def __init__(self):\n",
    "        qubits = list(range(4))\n",
    "        coupling_map = [[0, 1], [0, 2], [0, 3], [1, 2]]\n",
    "        qubit_coordinates = [[0, 1], [1, 0], [1, 1], [1, 2]]\n",
    "\n",
    "        gate_configuration = {}\n",
    "        gate_configuration[IGate] = [(i,) for i in qubits]\n",
    "\n",
    "        # only can do RXGates on qubits 0 and 4\n",
    "        gate_configuration[U3Gate] = [\n",
    "            (i,) for i in list(set(qubits).difference([1, 2]))\n",
    "        ]\n",
    "        # can do RY on all qubits\n",
    "        gate_configuration[RYGate] = [(i,) for i in qubits]\n",
    "\n",
    "        # can do CZ on all pairs in coupling map\n",
    "        gate_configuration[CZGate] = [(i, j) for i, j in coupling_map]\n",
    "\n",
    "        # can only measure qubits 2,3\n",
    "        measurable_qubits = [2, 3]\n",
    "\n",
    "        super().__init__(\n",
    "            name=\"mock_example\",\n",
    "            description=\"a mock backend\",\n",
    "            n_qubits=len(qubits),\n",
    "            gate_configuration=gate_configuration,\n",
    "            parameterized_gates={U3Gate: [\"theta\", \"phi\", \"lam\"], RYGate: [\"theta\"]},\n",
    "            measurable_qubits=measurable_qubits,\n",
    "            qubit_coordinates=qubit_coordinates,\n",
    "        )\n"
   ]
  },
  {
   "cell_type": "code",
   "execution_count": 5,
   "metadata": {},
   "outputs": [
    {
     "ename": "TypeError",
     "evalue": "__init__() takes from 2 to 3 positional arguments but 6 were given",
     "output_type": "error",
     "traceback": [
      "\u001b[0;31m---------------------------------------------------------------------------\u001b[0m",
      "\u001b[0;31mTypeError\u001b[0m                                 Traceback (most recent call last)",
      "Input \u001b[0;32mIn [5]\u001b[0m, in \u001b[0;36m<module>\u001b[0;34m\u001b[0m\n\u001b[0;32m----> 1\u001b[0m a \u001b[38;5;241m=\u001b[39m \u001b[43mFakeExampleV2\u001b[49m\u001b[43m(\u001b[49m\u001b[43m)\u001b[49m\n",
      "Input \u001b[0;32mIn [3]\u001b[0m, in \u001b[0;36mFakeExampleV2.__init__\u001b[0;34m(self)\u001b[0m\n\u001b[1;32m     37\u001b[0m \u001b[38;5;66;03m# can only measure qubits 2,3\u001b[39;00m\n\u001b[1;32m     38\u001b[0m measurable_qubits \u001b[38;5;241m=\u001b[39m [\u001b[38;5;241m2\u001b[39m, \u001b[38;5;241m3\u001b[39m]\n\u001b[0;32m---> 40\u001b[0m \u001b[38;5;28;43msuper\u001b[39;49m\u001b[43m(\u001b[49m\u001b[43m)\u001b[49m\u001b[38;5;241;43m.\u001b[39;49m\u001b[38;5;21;43m__init__\u001b[39;49m\u001b[43m(\u001b[49m\n\u001b[1;32m     41\u001b[0m \u001b[43m    \u001b[49m\u001b[43mname\u001b[49m\u001b[38;5;241;43m=\u001b[39;49m\u001b[38;5;124;43m\"\u001b[39;49m\u001b[38;5;124;43mmock_example\u001b[39;49m\u001b[38;5;124;43m\"\u001b[39;49m\u001b[43m,\u001b[49m\n\u001b[1;32m     42\u001b[0m \u001b[43m    \u001b[49m\u001b[43mdescription\u001b[49m\u001b[38;5;241;43m=\u001b[39;49m\u001b[38;5;124;43m\"\u001b[39;49m\u001b[38;5;124;43ma mock backend\u001b[39;49m\u001b[38;5;124;43m\"\u001b[39;49m\u001b[43m,\u001b[49m\n\u001b[1;32m     43\u001b[0m \u001b[43m    \u001b[49m\u001b[43mn_qubits\u001b[49m\u001b[38;5;241;43m=\u001b[39;49m\u001b[38;5;28;43mlen\u001b[39;49m\u001b[43m(\u001b[49m\u001b[43mqubits\u001b[49m\u001b[43m)\u001b[49m\u001b[43m,\u001b[49m\n\u001b[1;32m     44\u001b[0m \u001b[43m    \u001b[49m\u001b[43mgate_configuration\u001b[49m\u001b[38;5;241;43m=\u001b[39;49m\u001b[43mgate_configuration\u001b[49m\u001b[43m,\u001b[49m\n\u001b[1;32m     45\u001b[0m \u001b[43m    \u001b[49m\u001b[43mparameterized_gates\u001b[49m\u001b[38;5;241;43m=\u001b[39;49m\u001b[43m{\u001b[49m\u001b[43mU3Gate\u001b[49m\u001b[43m:\u001b[49m\u001b[43m \u001b[49m\u001b[43m[\u001b[49m\u001b[38;5;124;43m\"\u001b[39;49m\u001b[38;5;124;43mtheta\u001b[39;49m\u001b[38;5;124;43m\"\u001b[39;49m\u001b[43m,\u001b[49m\u001b[43m \u001b[49m\u001b[38;5;124;43m\"\u001b[39;49m\u001b[38;5;124;43mphi\u001b[39;49m\u001b[38;5;124;43m\"\u001b[39;49m\u001b[43m,\u001b[49m\u001b[43m \u001b[49m\u001b[38;5;124;43m\"\u001b[39;49m\u001b[38;5;124;43mlam\u001b[39;49m\u001b[38;5;124;43m\"\u001b[39;49m\u001b[43m]\u001b[49m\u001b[43m,\u001b[49m\u001b[43m \u001b[49m\u001b[43mRYGate\u001b[49m\u001b[43m:\u001b[49m\u001b[38;5;124;43m\"\u001b[39;49m\u001b[38;5;124;43mtheta\u001b[39;49m\u001b[38;5;124;43m\"\u001b[39;49m\u001b[43m}\u001b[49m\u001b[43m,\u001b[49m\n\u001b[1;32m     46\u001b[0m \u001b[43m    \u001b[49m\u001b[43mmeasurable_qubits\u001b[49m\u001b[38;5;241;43m=\u001b[39;49m\u001b[43mmeasurable_qubits\u001b[49m\u001b[43m,\u001b[49m\n\u001b[1;32m     47\u001b[0m \u001b[43m    \u001b[49m\u001b[43mqubit_coordinates\u001b[49m\u001b[38;5;241;43m=\u001b[39;49m\u001b[43mqubit_coordinates\u001b[49m\u001b[43m,\u001b[49m\n\u001b[1;32m     48\u001b[0m \u001b[43m\u001b[49m\u001b[43m)\u001b[49m\n",
      "File \u001b[0;32m~/transpilation_EM/mock_backend/../fakeutils/configurable_backend_v2.py:134\u001b[0m, in \u001b[0;36mConfigurableFakeBackendV2.__init__\u001b[0;34m(self, name, description, n_qubits, gate_configuration, measurable_qubits, parameterized_gates, qubit_coordinates, qubit_t1, qubit_t2, qubit_frequency, qubit_readout_error, single_qubit_gates, dt, std, seed)\u001b[0m\n\u001b[1;32m    128\u001b[0m temp_gate_props \u001b[38;5;241m=\u001b[39m {\n\u001b[1;32m    129\u001b[0m     qubit_tuple: InstructionProperties(duration\u001b[38;5;241m=\u001b[39m\u001b[38;5;241m0.0\u001b[39m, error\u001b[38;5;241m=\u001b[39m\u001b[38;5;241m0\u001b[39m)\n\u001b[1;32m    130\u001b[0m     \u001b[38;5;28;01mfor\u001b[39;00m qubit_tuple \u001b[38;5;129;01min\u001b[39;00m qubit_tuple_list\n\u001b[1;32m    131\u001b[0m }\n\u001b[1;32m    132\u001b[0m \u001b[38;5;28;01mif\u001b[39;00m gate \u001b[38;5;129;01min\u001b[39;00m parameterized_gates\u001b[38;5;241m.\u001b[39mkeys():\n\u001b[1;32m    133\u001b[0m     \u001b[38;5;28mself\u001b[39m\u001b[38;5;241m.\u001b[39m_target\u001b[38;5;241m.\u001b[39madd_instruction(\n\u001b[0;32m--> 134\u001b[0m         \u001b[43mgate\u001b[49m\u001b[43m(\u001b[49m\u001b[38;5;241;43m*\u001b[39;49m\u001b[43m[\u001b[49m\u001b[43mParameter\u001b[49m\u001b[43m(\u001b[49m\u001b[43mp\u001b[49m\u001b[43m)\u001b[49m\u001b[43m \u001b[49m\u001b[38;5;28;43;01mfor\u001b[39;49;00m\u001b[43m \u001b[49m\u001b[43mp\u001b[49m\u001b[43m \u001b[49m\u001b[38;5;129;43;01min\u001b[39;49;00m\u001b[43m \u001b[49m\u001b[43mparameterized_gates\u001b[49m\u001b[43m[\u001b[49m\u001b[43mgate\u001b[49m\u001b[43m]\u001b[49m\u001b[43m]\u001b[49m\u001b[43m)\u001b[49m,\n\u001b[1;32m    135\u001b[0m         temp_gate_props,\n\u001b[1;32m    136\u001b[0m     )\n\u001b[1;32m    137\u001b[0m \u001b[38;5;28;01melse\u001b[39;00m:\n\u001b[1;32m    138\u001b[0m     \u001b[38;5;28mself\u001b[39m\u001b[38;5;241m.\u001b[39m_target\u001b[38;5;241m.\u001b[39madd_instruction(gate(), temp_gate_props)\n",
      "\u001b[0;31mTypeError\u001b[0m: __init__() takes from 2 to 3 positional arguments but 6 were given"
     ]
    }
   ],
   "source": [
    "a = FakeExampleV2()"
   ]
  }
 ],
 "metadata": {
  "interpreter": {
   "hash": "3c923d04e9af837f8cfab086aad703afe35b7499ff33e9e2bcba0d425db844a6"
  },
  "kernelspec": {
   "display_name": "Python 3.8.10 64-bit ('venv': venv)",
   "language": "python",
   "name": "python3"
  },
  "language_info": {
   "codemirror_mode": {
    "name": "ipython",
    "version": 3
   },
   "file_extension": ".py",
   "mimetype": "text/x-python",
   "name": "python",
   "nbconvert_exporter": "python",
   "pygments_lexer": "ipython3",
   "version": "3.8.10"
  },
  "orig_nbformat": 4
 },
 "nbformat": 4,
 "nbformat_minor": 2
}

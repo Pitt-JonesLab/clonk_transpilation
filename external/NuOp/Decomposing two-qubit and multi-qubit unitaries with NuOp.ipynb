{
 "cells": [
  {
   "cell_type": "code",
   "execution_count": 11,
   "id": "45c06ed5",
   "metadata": {},
   "outputs": [],
   "source": [
    "import numpy as np\n",
    "import qiskit\n",
    "from qiskit import QuantumCircuit\n",
    "from parallel_two_qubit_gate_decomposition import *\n",
    "from NuOp.gates_numpy import cnot_gate, fsim_gate, cphase_gate, xy_gate, get_gate_unitary_qiskit, iswap, fsim\n",
    "from itertools import product\n",
    "from qiskit.transpiler import PassManager\n",
    "#test"
   ]
  },
  {
   "cell_type": "markdown",
   "id": "7e7b992d",
   "metadata": {},
   "source": [
    "## Decomposition example with a single two-qubit gate "
   ]
  },
  {
   "cell_type": "code",
   "execution_count": 38,
   "id": "f91ebcfc",
   "metadata": {},
   "outputs": [],
   "source": [
    "qc = QuantumCircuit(2)\n",
    "qc.cx(0,1)\n",
    "qc.cx(1,0)\n",
    "qc.cx(0,1)\n",
    "# fid_2q = {(0,1):[1]}\n",
    "fid_2q = dict.fromkeys([(i,j) for i,j in product(range(qc.num_qubits), repeat=2) if i!=j], [1])\n",
    "params = [[1/2]]\n",
    "gate_labels = ['$iSwap^{1/2}$']\n",
    "gate_defs = [iswap]\n",
    "pgrp = ParallelGateReplacementPass(gate_defs, params, gate_labels,fid_2q, [1 for _ in range(54)], tol=0.000001)\n",
    "# pm = PassManager([pgrp, re])\n",
    "pm = PassManager([pgrp])\n",
    "circ_trans = pm.run(qc)\n",
    "# print(re.property_set)\n",
    "circ_trans.draw(output='mpl')"
   ]
  },
  {
   "cell_type": "code",
   "execution_count": 2,
   "id": "f5e139aa",
   "metadata": {},
   "outputs": [],
   "source": [
    "# CNOT gate in the circuit\n",
    "my_op = np.matrix([[1,0,0,0],\n",
    "                   [0,1,0,0],\n",
    "                   [0,0,0,1],\n",
    "                   [0,0,1,0]])"
   ]
  },
  {
   "cell_type": "code",
   "execution_count": 3,
   "id": "d9209cf6",
   "metadata": {},
   "outputs": [
    {
     "data": {
      "text/plain": [
       "<qiskit.circuit.instructionset.InstructionSet at 0x7fd2c1b5f880>"
      ]
     },
     "execution_count": 3,
     "metadata": {},
     "output_type": "execute_result"
    }
   ],
   "source": [
    "test_circuit = QuantumCircuit(2)\n",
    "test_circuit.unitary(my_op, [0,1])"
   ]
  },
  {
   "cell_type": "code",
   "execution_count": 4,
   "id": "8c07d9d9",
   "metadata": {},
   "outputs": [
    {
     "data": {
      "text/plain": [
       "<qiskit.circuit.instructionset.InstructionSet at 0x7fd2c1387100>"
      ]
     },
     "execution_count": 4,
     "metadata": {},
     "output_type": "execute_result"
    }
   ],
   "source": [
    "test_circuit = QuantumCircuit(2)\n",
    "test_circuit.cx(0,1)"
   ]
  },
  {
   "cell_type": "code",
   "execution_count": 6,
   "id": "4ca93ff9",
   "metadata": {},
   "outputs": [],
   "source": [
    "# Assume the HW supports the Google SYC gate. This is an underlying fsim_gate. \n",
    "# So we pass the fsim_gate function in the gate_defs,\n",
    "# we pass the desired SYC parameters (theta=pi/2, phi=pi/6) in the params, we pass a label for circuit drawing, \n",
    "# and we pass the calibration fidelity of this gate on qubits 0 and 1\n",
    "\n",
    "# fid_2q = {(0,1): [0.995]} \n",
    "fid_2q = {(0,1):[1]}\n",
    "# params = [[np.pi/2, np.pi/6]]\n",
    "params = [[1/2]]\n",
    "gate_labels = ['$iSwap^{1/2}$']\n",
    "# gate_defs = [fsim_gate]\n",
    "gate_defs = [iswap]\n",
    "\n",
    "# All these inputs get passed to the gate decomposition pass. \n",
    "# Ignore the [1 to 54] loop (that was from our assumption of Sycamore hardware, but I believe it no longer plays a role)\n",
    "# tolerance defines the fidelity accuracy we want from the decomposition. If you set the tol=0.1 or so, you can see that \n",
    "# lesser two-qubit gates are used.\n",
    "\n",
    "pgrp = ParallelGateReplacementPass(gate_defs, params, gate_labels,fid_2q, [1 for _ in range(54)], tol=0)\n",
    "approx_cz = pgrp.run(test_circuit)"
   ]
  },
  {
   "cell_type": "code",
   "execution_count": 7,
   "id": "e98fd796",
   "metadata": {},
   "outputs": [
    {
     "data": {
      "image/png": "[encoded data removed]",
      "text/plain": [
       "<Figure size 748.652x144.48 with 1 Axes>"
      ]
     },
     "execution_count": 7,
     "metadata": {},
     "output_type": "execute_result"
    }
   ],
   "source": [
    "approx_cz.draw(output='mpl')"
   ]
  },
  {
   "cell_type": "markdown",
   "id": "fa120e63",
   "metadata": {},
   "source": [
    "## Decomposition example with two circuit gates with two hardware gates"
   ]
  },
  {
   "cell_type": "code",
   "execution_count": 8,
   "id": "255f382e",
   "metadata": {},
   "outputs": [
    {
     "data": {
      "image/png": "[encoded data removed]",
      "text/plain": [
       "<Figure size 327.397x325.08 with 1 Axes>"
      ]
     },
     "execution_count": 8,
     "metadata": {},
     "output_type": "execute_result"
    }
   ],
   "source": [
    "test_circuit = QuantumCircuit(5)\n",
    "test_circuit.unitary(my_op, [2,3])\n",
    "test_circuit.unitary(my_op, [3,4])\n",
    "test_circuit.draw(output='mpl')"
   ]
  },
  {
   "cell_type": "code",
   "execution_count": 11,
   "id": "d16dd6ba",
   "metadata": {},
   "outputs": [],
   "source": [
    "# fid_2q = {(2,3): [0.94, #CZ fidelity\n",
    "#                   0.99],#XY fidelity\n",
    "#           (3,4): [0.93, #CZ\n",
    "#                   0.96]}#XY\n",
    "# params = [[np.pi], \n",
    "#           [np.pi]]\n",
    "# gate_labels = ['CZ', \n",
    "#                'XY']\n",
    "# gate_defs = [cphase_gate, \n",
    "#              xy_gate]\n",
    "# pgrp = ParallelGateReplacementPass(gate_defs, params, gate_labels,fid_2q, [1 for _ in range(54)], tol=0.00000001)\n",
    "# approx = pgrp.run(test_circuit)"
   ]
  },
  {
   "cell_type": "code",
   "execution_count": 28,
   "id": "323b9ef5",
   "metadata": {},
   "outputs": [
    {
     "data": {
      "image/png": "[encoded data removed]",
      "text/plain": [
       "<Figure size 146.797x325.08 with 1 Axes>"
      ]
     },
     "execution_count": 28,
     "metadata": {},
     "output_type": "execute_result"
    }
   ],
   "source": [
    "test_circuit = QuantumCircuit(5)\n",
    "test_circuit.swap(0,1)\n",
    "test_circuit.draw(output='mpl')"
   ]
  },
  {
   "cell_type": "code",
   "execution_count": 37,
   "id": "fee71887",
   "metadata": {},
   "outputs": [],
   "source": [
    "fid_2q = {(2,3): [1, 1],\n",
    "          (3,4): [1,1],\n",
    "          (0,4): [1,1],\n",
    "          (0,1): [1,1]}\n",
    "params = [[1/2], \n",
    "          [1/2]]\n",
    "gate_labels = ['iSwap^1/2$', \n",
    "               'iSwap^1/2$']\n",
    "gate_defs = [iswap, \n",
    "             iswap]\n",
    "pgrp = ParallelGateReplacementPass(gate_defs, params, gate_labels,fid_2q, [1 for _ in range(54)], tol=0.0)\n",
    "approx = pgrp.run(test_circuit)"
   ]
  },
  {
   "cell_type": "code",
   "execution_count": 38,
   "id": "61ed1583",
   "metadata": {},
   "outputs": [
    {
     "data": {
      "image/png": "[encoded data removed]",
      "text/plain": [
       "<Figure size 1170.2x325.08 with 1 Axes>"
      ]
     },
     "execution_count": 38,
     "metadata": {},
     "output_type": "execute_result"
    }
   ],
   "source": [
    "approx.draw(output='mpl')"
   ]
  },
  {
   "cell_type": "code",
   "execution_count": 39,
   "id": "deceaa70",
   "metadata": {},
   "outputs": [],
   "source": [
    "fid_2q = {(2,3): [1, 1],\n",
    "          (3,4): [1,1],\n",
    "          (0,4): [1,1],\n",
    "          (0,1): [1,1]}\n",
    "params = [[1], \n",
    "          [1]]\n",
    "gate_labels = ['iSwap^1$', \n",
    "               'iSwap^1$']\n",
    "gate_defs = [iswap, \n",
    "             iswap]\n",
    "pgrp = ParallelGateReplacementPass(gate_defs, params, gate_labels,fid_2q, [1 for _ in range(54)], tol=0.0)\n",
    "approx = pgrp.run(test_circuit)"
   ]
  },
  {
   "cell_type": "code",
   "execution_count": 41,
   "id": "bd9e7b8a",
   "metadata": {},
   "outputs": [
    {
     "data": {
      "image/png": "[encoded data removed]",
      "text/plain": [
       "<Figure size 929.397x325.08 with 1 Axes>"
      ]
     },
     "execution_count": 41,
     "metadata": {},
     "output_type": "execute_result"
    }
   ],
   "source": [
    "approx.draw(output='mpl')"
   ]
  },
  {
   "cell_type": "markdown",
   "id": "70cec793",
   "metadata": {},
   "source": [
    "## Multi-qubit unitary example"
   ]
  },
  {
   "cell_type": "code",
   "execution_count": 118,
   "id": "5dbdad46",
   "metadata": {},
   "outputs": [],
   "source": [
    "# from parallel_multi_qubit_gate_decomposition import *"
   ]
  },
  {
   "cell_type": "code",
   "execution_count": 119,
   "id": "c77b0b9f",
   "metadata": {},
   "outputs": [],
   "source": [
    "# test_circuit = QuantumCircuit(4)\n",
    "# my_op = np.kron(fsim_gate(np.pi/2, np.pi/6), fsim_gate(np.pi/3, np.pi/6)) #creating a test unitary by multiplying two fsim gates\n",
    "# test_circuit.unitary(my_op, [0,1,2,3])"
   ]
  },
  {
   "cell_type": "code",
   "execution_count": 120,
   "id": "a23e2c5c",
   "metadata": {},
   "outputs": [
    {
     "data": {
      "image/png": "[encoded data removed]",
      "text/plain": [
       "<Figure size 327.397x325.08 with 1 Axes>"
      ]
     },
     "execution_count": 120,
     "metadata": {},
     "output_type": "execute_result"
    }
   ],
   "source": [
    "test_circuit.draw(output='mpl')"
   ]
  },
  {
   "cell_type": "code",
   "execution_count": 121,
   "id": "c1bf78a2",
   "metadata": {},
   "outputs": [],
   "source": [
    "# fid_2q = {(0,1): [0.99, 0.99],\n",
    "#           (1,2): [0.99, 0.99],\n",
    "#           (2,3): [0.94, #CZ fidelity\n",
    "#                   0.99],#XY fidelity\n",
    "#           (3,4): [0.93, #CZ\n",
    "#                   0.96]}#XY\n",
    "# params = [[np.pi], \n",
    "#           [np.pi]]\n",
    "# gate_labels = ['CZ', \n",
    "#                'XY']\n",
    "# gate_defs = [cphase_gate, \n",
    "#              xy_gate]\n",
    "# pgrp = MultiQubitGateReplacementPass(gate_defs, params, gate_labels,fid_2q, [1 for _ in range(54)], tol=0.0001)\n",
    "# approx = pgrp.run(test_circuit)"
   ]
  },
  {
   "cell_type": "code",
   "execution_count": 122,
   "id": "dbc7023a",
   "metadata": {},
   "outputs": [],
   "source": [
    "# approx.draw()"
   ]
  }
 ],
 "metadata": {
  "kernelspec": {
   "display_name": "Python 3 (ipykernel)",
   "language": "python",
   "name": "python3"
  },
  "language_info": {
   "codemirror_mode": {
    "name": "ipython",
    "version": 3
   },
   "file_extension": ".py",
   "mimetype": "text/x-python",
   "name": "python",
   "nbconvert_exporter": "python",
   "pygments_lexer": "ipython3",
   "version": "3.8.10"
  }
 },
 "nbformat": 4,
 "nbformat_minor": 5
}

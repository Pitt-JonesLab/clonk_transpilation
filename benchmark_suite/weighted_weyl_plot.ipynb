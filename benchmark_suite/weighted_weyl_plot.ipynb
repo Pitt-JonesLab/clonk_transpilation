{
 "cells": [
  {
   "cell_type": "code",
   "execution_count": 13,
   "metadata": {},
   "outputs": [],
   "source": [
    "\"\"\"Define circuits to test\"\"\"\n",
    "lambda_list = []\n",
    "from supermarq.benchmarks import *\n",
    "from supermarq.features import cirq_to_qiskit\n",
    "\n",
    "# Random\n",
    "# from qiskit.circuit.random import random_circuit\n",
    "# random_lambda = lambda q: random_circuit(num_qubits=q, depth=q, measure=False, max_operands=2)\n",
    "# lambda_list.append(random_lambda)\n",
    "\n",
    "# # Quantum Volume\n",
    "from qiskit.circuit.library import QuantumVolume\n",
    "qv_lambda = lambda q: QuantumVolume(num_qubits=q, depth=q)\n",
    "lambda_list.append(qv_lambda)\n",
    "\n",
    "# QFT\n",
    "from qiskit.circuit.library.basis_change import QFT\n",
    "qft_lambda = lambda q: QFT(q)\n",
    "lambda_list.append(qft_lambda)\n",
    "\n",
    "# # Inverse QFT\n",
    "# inverse_qft_lambda = lambda q: QFT(q, inverse=True)\n",
    "# label = \"IQFT\"\n",
    "# circuits[label] = CircuitTranspilerBenchmark(inverse_qft_lambda, q_range, label=label)\n",
    "\n",
    "# QAOA, takes a long time to generate - consider capping max size before 20\n",
    "# qaoa_lambda = lambda q: cirq_to_qiskit(QAOAFermionicSwapProxy(q).circuit())\n",
    "# label = \"QAOA_Fermionic_Swap\"\n",
    "# circuits[label] = CircuitTranspilerBenchmark(qaoa_lambda, q_range, label=label)\n",
    "\n",
    "# # QAOA vanilla\n",
    "qaoa_vanilla_lambda = lambda q: cirq_to_qiskit(QAOAVanillaProxy(q).circuit())\n",
    "lambda_list.append(qaoa_vanilla_lambda)\n",
    "\n",
    "# VQE - very slow to generate\n",
    "# vqe_lambda = lambda q: cirq_to_qiskit(VQEProxy(q, 4).circuit()[0])\n",
    "# label = \"VQE\"\n",
    "# circuits[label] = CircuitTranspilerBenchmark(vqe_lambda, q_range, label=label)\n",
    "\n",
    "# Simulation\n",
    "hamiltonian_lambda = lambda q: cirq_to_qiskit(\n",
    "    HamiltonianSimulation(q, 1 / 10, 0.5).circuit()\n",
    ")\n",
    "lambda_list.append(hamiltonian_lambda)\n",
    "\n",
    "# weighted adder or ripple carry adder\n",
    "from qiskit.circuit.library.arithmetic.adders.cdkm_ripple_carry_adder import (\n",
    "    CDKMRippleCarryAdder,\n",
    ")\n",
    "from qiskit import QuantumCircuit\n",
    "\n",
    "# using trick of composing into an empty circuit so that it builds everything into a single quantumregister\n",
    "adder_lambda = (\n",
    "    lambda q: QuantumCircuit(q)\n",
    "    .compose(CDKMRippleCarryAdder(num_state_qubits=int((q - 1) / 2)), inplace=False)\n",
    "    .decompose()\n",
    "    .decompose()\n",
    "    .decompose()\n",
    ")\n",
    "lambda_list.append(adder_lambda)\n",
    "\n",
    "\n",
    "# multiplier\n",
    "from qiskit.circuit.library.arithmetic.multipliers import RGQFTMultiplier\n",
    "multiplier_lambda = (\n",
    "    lambda q: QuantumCircuit(q)\n",
    "    .compose(RGQFTMultiplier(num_state_qubits=int(q / 4)), inplace=False)\n",
    "    .decompose()\n",
    "    .decompose()\n",
    "    .decompose()\n",
    ")\n",
    "lambda_list.append(multiplier_lambda)\n",
    "\n",
    "\n",
    "# # GHZ\n",
    "ghz_lambda = lambda q: cirq_to_qiskit(GHZ(q).circuit())\n",
    "lambda_list.append(ghz_lambda)"
   ]
  },
  {
   "cell_type": "code",
   "execution_count": 14,
   "metadata": {},
   "outputs": [],
   "source": [
    "import weylchamber\n",
    "from qiskit.converters import circuit_to_dag\n",
    "from qiskit import transpile\n",
    "from qiskit.transpiler import PassManager\n",
    "from qiskit.transpiler.passes import ConsolidateBlocks, Collect2qBlocks\n",
    "from qiskit.quantum_info import Operator"
   ]
  },
  {
   "cell_type": "code",
   "execution_count": 15,
   "metadata": {},
   "outputs": [],
   "source": [
    "# # Random\n",
    "# from qiskit.circuit.random import random_circuit\n",
    "# random_lambda = lambda q: random_circuit(num_qubits=q, depth=q, measure=False, max_operands=2)\n",
    "# lambda_list = [random_lambda]"
   ]
  },
  {
   "cell_type": "code",
   "execution_count": 16,
   "metadata": {},
   "outputs": [],
   "source": [
    "coordinate_list = []\n",
    "for lambda_item in lambda_list:\n",
    "    circuit = lambda_item(16)\n",
    "    pm = PassManager()\n",
    "    pm.append(Collect2qBlocks())\n",
    "    pm.append(ConsolidateBlocks(force_consolidate=True))\n",
    "    transp_circuit = pm.run(circuit)\n",
    "    dag = circuit_to_dag(transp_circuit)\n",
    "    for gate in dag.collect_2q_runs():\n",
    "        assert len(gate) == 1\n",
    "        d = Operator(gate[0].op).data\n",
    "        coordinate_list.append(weylchamber.c1c2c3(d))\n",
    "coordinate_freq = {i:coordinate_list.count(i) for i in set(coordinate_list)}"
   ]
  },
  {
   "cell_type": "code",
   "execution_count": 17,
   "metadata": {},
   "outputs": [
    {
     "data": {
      "image/png": "[encoded data removed]",
      "text/plain": [
       "<Figure size 432x288 with 1 Axes>"
      ]
     },
     "metadata": {
      "needs_background": "light"
     },
     "output_type": "display_data"
    }
   ],
   "source": [
    "import matplotlib.pyplot as plt\n",
    "plt.close()\n",
    "fig = plt.figure()\n",
    "ax = fig.add_subplot(111, projection=\"3d\")\n",
    "\n",
    "from weylchamber import WeylChamber\n",
    "w = WeylChamber();\n",
    "\n",
    "## \n",
    "for k, v in coordinate_freq.items():\n",
    "    w.scatter(*k, s=.6*v)\n",
    "##\n",
    "\n",
    "w.labels = {}\n",
    "w.render(ax)\n",
    "plt.savefig(\"weyl.svg\", format='svg', facecolor='None')\n",
    "fig.show()"
   ]
  }
 ],
 "metadata": {
  "kernelspec": {
   "display_name": "Python 3.8.10 ('venv': venv)",
   "language": "python",
   "name": "python3"
  },
  "language_info": {
   "codemirror_mode": {
    "name": "ipython",
    "version": 3
   },
   "file_extension": ".py",
   "mimetype": "text/x-python",
   "name": "python",
   "nbconvert_exporter": "python",
   "pygments_lexer": "ipython3",
   "version": "3.8.10"
  },
  "orig_nbformat": 4,
  "vscode": {
   "interpreter": {
    "hash": "3c923d04e9af837f8cfab086aad703afe35b7499ff33e9e2bcba0d425db844a6"
   }
  }
 },
 "nbformat": 4,
 "nbformat_minor": 2
}

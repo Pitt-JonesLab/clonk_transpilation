{
 "cells": [
  {
   "cell_type": "code",
   "execution_count": 6,
   "metadata": {},
   "outputs": [
    {
     "name": "stdout",
     "output_type": "stream",
     "text": [
      "\\documentclass[border=2px]{standalone}\n",
      "\n",
      "\\usepackage[braket, qm]{qcircuit}\n",
      "\\usepackage{graphicx}\n",
      "\n",
      "\\begin{document}\n",
      "\\scalebox{1.0}{\n",
      "\\Qcircuit @C=1.0em @R=0.8em @!R { \\\\\n",
      "\t \t\\nghost{{q}_{0} :  } & \\lstick{{q}_{0} :  } & \\qswap & \\ctrl{2} & \\targ & \\ctrl{2} & \\qw & \\qw\\\\\n",
      "\t \t\\nghost{{q}_{1} :  } & \\lstick{{q}_{1} :  } & \\qw & \\qw & \\qw & \\qw & \\qw & \\qw\\\\\n",
      "\t \t\\nghost{{q}_{2} :  } & \\lstick{{q}_{2} :  } & \\qswap \\qwx[-2] & \\targ & \\ctrl{-2} & \\targ & \\qw & \\qw\\\\\n",
      "\\\\ }}\n",
      "\\end{document}\n"
     ]
    }
   ],
   "source": [
    "from qiskit import QuantumCircuit\n",
    "import sys\n",
    "sys.path.append(\"..\")\n",
    "from utils.riswap_gates.riswap import RiSwapGate\n",
    "qc = QuantumCircuit(3)\n",
    "# qc.u(0, 0, 0,0)\n",
    "# qc.u(0, 0, 0,1)\n",
    "# qc.append(RiSwapGate(0.5), [0,1])\n",
    "# qc.u(0, 0, 0,0)\n",
    "# qc.u(0, 0, 0,1)\n",
    "# qc.append(RiSwapGate(0.5), [0,1])\n",
    "# qc.u(0, 0, 0,0)\n",
    "# qc.u(0, 0, 0,1)\n",
    "qc.swap(0,2)\n",
    "\n",
    "qc.cx(0,2)\n",
    "qc.cx(2,0)\n",
    "qc.cx(0,2)\n",
    "print(qc.draw(output='latex_source', with_layout=False))"
   ]
  },
  {
   "cell_type": "code",
   "execution_count": 7,
   "metadata": {},
   "outputs": [
    {
     "data": {
      "image/png": "[encoded data removed]",
      "text/plain": [
       "<Figure size 327.397x204.68 with 1 Axes>"
      ]
     },
     "execution_count": 7,
     "metadata": {},
     "output_type": "execute_result"
    }
   ],
   "source": [
    "qc.draw(output='mpl')"
   ]
  }
 ],
 "metadata": {
  "interpreter": {
   "hash": "3c923d04e9af837f8cfab086aad703afe35b7499ff33e9e2bcba0d425db844a6"
  },
  "kernelspec": {
   "display_name": "Python 3.8.10 ('venv': venv)",
   "language": "python",
   "name": "python3"
  },
  "language_info": {
   "codemirror_mode": {
    "name": "ipython",
    "version": 3
   },
   "file_extension": ".py",
   "mimetype": "text/x-python",
   "name": "python",
   "nbconvert_exporter": "python",
   "pygments_lexer": "ipython3",
   "version": "3.8.10"
  },
  "orig_nbformat": 4
 },
 "nbformat": 4,
 "nbformat_minor": 2
}

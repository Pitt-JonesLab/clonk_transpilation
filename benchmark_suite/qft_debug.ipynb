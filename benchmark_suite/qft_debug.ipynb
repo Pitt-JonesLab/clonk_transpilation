{
 "cells": [
  {
   "cell_type": "code",
   "execution_count": null,
   "metadata": {},
   "outputs": [],
   "source": []
  },
  {
   "cell_type": "code",
   "execution_count": 41,
   "metadata": {},
   "outputs": [
    {
     "data": {
      "image/png": "[encoded data removed]",
      "text/plain": [
       "<Figure size 688.597x204.68 with 1 Axes>"
      ]
     },
     "execution_count": 41,
     "metadata": {},
     "output_type": "execute_result"
    }
   ],
   "source": [
    "from qiskit import transpile\n",
    "from qiskit.converters import circuit_to_dag, dag_to_circuit\n",
    "from circuit_suite import circuits\n",
    "circuit_label=\"QFT\"\n",
    "qsize =3\n",
    "qc = transpile(circuits[circuit_label].circuit_lambda(qsize)).decompose()\n",
    "qc.draw(output='mpl')"
   ]
  },
  {
   "cell_type": "code",
   "execution_count": 42,
   "metadata": {},
   "outputs": [],
   "source": [
    "# from qiskit import transpile\n",
    "# from qiskit.converters import circuit_to_dag, dag_to_circuit\n",
    "# from circuit_suite import circuits\n",
    "# circuit_label=\"QFT\"\n",
    "# c = transpile(circuits[circuit_label].circuit_lambda(qsize), basis_gates=['u', 'cx'])\n",
    "# c.draw(output='mpl')"
   ]
  },
  {
   "cell_type": "code",
   "execution_count": 43,
   "metadata": {},
   "outputs": [
    {
     "data": {
      "image/png": "[encoded data removed]",
      "text/plain": [
       "<Figure size 568.197x204.68 with 1 Axes>"
      ]
     },
     "execution_count": 43,
     "metadata": {},
     "output_type": "execute_result"
    }
   ],
   "source": [
    "dag = circuit_to_dag(qc)\n",
    "def weight_fn(source_node, target_node, weight):\n",
    "    if dag._multi_graph[source_node].name is None:\n",
    "        return 0\n",
    "    else:\n",
    "        return 1\n",
    "import retworkx\n",
    "longest_path = retworkx.dag_longest_path(dag._multi_graph, weight_fn=weight_fn)\n",
    "dlp = [\n",
    "    dag._multi_graph[index] for index in longest_path\n",
    "]\n",
    "for node in dag.op_nodes():\n",
    "    if not node in dlp:\n",
    "        dag.remove_op_node(node)\n",
    "qc_t = dag_to_circuit(dag)\n",
    "qc_t.draw(output='mpl')"
   ]
  },
  {
   "cell_type": "code",
   "execution_count": 44,
   "metadata": {},
   "outputs": [
    {
     "name": "stdout",
     "output_type": "stream",
     "text": [
      "[9] [9]\n"
     ]
    }
   ],
   "source": [
    "x = [qsize]\n",
    "y = [circuit_to_dag(transpile(circuits[circuit_label].circuit_lambda(xi), basis_gates=['u', 'cx'])).count_ops_longest_path()['cx'] for xi in x]\n",
    "z = [circuit_to_dag(transpile(circuits[circuit_label].circuit_lambda(xi), basis_gates=['u', 'cx'])).count_ops()['cx'] for xi in x]\n",
    "print(y, z)"
   ]
  },
  {
   "cell_type": "code",
   "execution_count": 45,
   "metadata": {},
   "outputs": [],
   "source": [
    "import numpy as np\n",
    "from numpy import pi\n",
    "# importing Qiskit\n",
    "from qiskit import QuantumCircuit, transpile, assemble, Aer, IBMQ\n",
    "from qiskit.providers.ibmq import least_busy\n",
    "from qiskit.tools.monitor import job_monitor\n",
    "from qiskit.visualization import plot_histogram, plot_bloch_multivector"
   ]
  },
  {
   "cell_type": "code",
   "execution_count": 46,
   "metadata": {},
   "outputs": [
    {
     "data": {
      "image/png": "[encoded data removed]",
      "text/plain": [
       "<Figure size 688.597x204.68 with 1 Axes>"
      ]
     },
     "execution_count": 46,
     "metadata": {},
     "output_type": "execute_result"
    }
   ],
   "source": [
    "from qiskit.circuit.library.basis_change import QFT\n",
    "inverse_qft_lambda = lambda q: QFT(q, inverse=True)\n",
    "qc = inverse_qft_lambda(qsize)\n",
    "qc.decompose().draw(output='mpl')"
   ]
  },
  {
   "cell_type": "code",
   "execution_count": null,
   "metadata": {},
   "outputs": [],
   "source": [
    "#replace every R_z with a Riswap?\n"
   ]
  },
  {
   "cell_type": "code",
   "execution_count": 47,
   "metadata": {},
   "outputs": [
    {
     "data": {
      "text/html": [
       "<pre style=\"word-wrap: normal;white-space: pre;background: #fff0;line-height: 1.1;font-family: &quot;Courier New&quot;,Courier,monospace\">     ┌───┐┌─────────┐\n",
       "q_0: ┤ H ├┤ P(5π/4) ├\n",
       "     ├───┤├─────────┤\n",
       "q_1: ┤ H ├┤ P(5π/2) ├\n",
       "     ├───┤└┬───────┬┘\n",
       "q_2: ┤ H ├─┤ P(5π) ├─\n",
       "     └───┘ └───────┘ </pre>"
      ],
      "text/plain": [
       "     ┌───┐┌─────────┐\n",
       "q_0: ┤ H ├┤ P(5π/4) ├\n",
       "     ├───┤├─────────┤\n",
       "q_1: ┤ H ├┤ P(5π/2) ├\n",
       "     ├───┤└┬───────┬┘\n",
       "q_2: ┤ H ├─┤ P(5π) ├─\n",
       "     └───┘ └───────┘ "
      ]
     },
     "execution_count": 47,
     "metadata": {},
     "output_type": "execute_result"
    }
   ],
   "source": [
    "nqubits = 3\n",
    "number = 5\n",
    "prep = QuantumCircuit(qsize)\n",
    "for qubit in range(qsize):\n",
    "    prep.h(qubit)\n",
    "prep.p(number*pi/4,0)\n",
    "prep.p(number*pi/2,1)\n",
    "prep.p(number*pi,2)\n",
    "\n",
    "prep.draw()"
   ]
  },
  {
   "cell_type": "code",
   "execution_count": 48,
   "metadata": {},
   "outputs": [
    {
     "name": "stderr",
     "output_type": "stream",
     "text": [
      "/tmp/ipykernel_577873/1404636177.py:1: DeprecationWarning: The QuantumCircuit.__add__() method is being deprecated.Use the compose() method which is more flexible w.r.t circuit register compatibility.\n",
      "  qc = prep + qc\n"
     ]
    },
    {
     "data": {
      "image/png": "[encoded data removed]",
      "text/plain": [
       "<Figure size 267.197x204.68 with 1 Axes>"
      ]
     },
     "execution_count": 48,
     "metadata": {},
     "output_type": "execute_result"
    }
   ],
   "source": [
    "qc = prep + qc\n",
    "qc.draw(output='mpl')"
   ]
  },
  {
   "cell_type": "code",
   "execution_count": 49,
   "metadata": {},
   "outputs": [
    {
     "name": "stdout",
     "output_type": "stream",
     "text": [
      "Job Status: job has successfully run\n"
     ]
    }
   ],
   "source": [
    "#now simulate the qft to get a histogram\n",
    "backend = sim = Aer.get_backend(\"aer_simulator\")\n",
    "qc.measure_all()\n",
    "transpiled_qc = transpile(qc, backend, optimization_level=3)\n",
    "job = backend.run(transpiled_qc)\n",
    "job_monitor(job)"
   ]
  },
  {
   "cell_type": "code",
   "execution_count": 50,
   "metadata": {},
   "outputs": [
    {
     "data": {
      "image/png": "[encoded data removed]",
      "text/plain": [
       "<Figure size 504x360 with 1 Axes>"
      ]
     },
     "execution_count": 50,
     "metadata": {},
     "output_type": "execute_result"
    }
   ],
   "source": [
    "counts = job.result().get_counts()\n",
    "plot_histogram(counts)"
   ]
  }
 ],
 "metadata": {
  "kernelspec": {
   "display_name": "Python 3.8.10 ('venv': venv)",
   "language": "python",
   "name": "python3"
  },
  "language_info": {
   "codemirror_mode": {
    "name": "ipython",
    "version": 3
   },
   "file_extension": ".py",
   "mimetype": "text/x-python",
   "name": "python",
   "nbconvert_exporter": "python",
   "pygments_lexer": "ipython3",
   "version": "3.8.10"
  },
  "orig_nbformat": 4,
  "vscode": {
   "interpreter": {
    "hash": "3c923d04e9af837f8cfab086aad703afe35b7499ff33e9e2bcba0d425db844a6"
   }
  }
 },
 "nbformat": 4,
 "nbformat_minor": 2
}

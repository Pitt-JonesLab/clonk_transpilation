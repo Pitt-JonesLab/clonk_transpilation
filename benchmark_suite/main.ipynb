{
 "cells": [
  {
   "cell_type": "code",
   "execution_count": 1,
   "metadata": {},
   "outputs": [],
   "source": [
    "from circuit_suite import circuits\n",
    "# from backend_suite import backends, large_backends, shuffle_test, routing_test\n",
    "#from backend_suite import placement_test"
   ]
  },
  {
   "cell_type": "code",
   "execution_count": 4,
   "metadata": {},
   "outputs": [
    {
     "name": "stderr",
     "output_type": "stream",
     "text": [
      "/home/evm9/transpilation_EM/benchmark_suite/../utils/transpiler_passes/weyl_decompose.py:196: UserWarning: Only know how to decompose properly for supercontrolled basis gate. This gate is ~Ud(0.3926990816987239, 0.3926990816987239, 0.0)\n",
      "  self.decomposer = TwoQubitBasisDecomposer(self.basis_gate)\n"
     ]
    },
    {
     "ename": "AttributeError",
     "evalue": "'DAGCircuit' object has no attribute 'two_qubits_ops'",
     "output_type": "error",
     "traceback": [
      "\u001b[0;31m---------------------------------------------------------------------------\u001b[0m",
      "\u001b[0;31mAttributeError\u001b[0m                            Traceback (most recent call last)",
      "\u001b[1;32m/home/evm9/transpilation_EM/benchmark_suite/main.ipynb Cell 2'\u001b[0m in \u001b[0;36m<module>\u001b[0;34m\u001b[0m\n\u001b[1;32m      <a href='vscode-notebook-cell://ssh-remote%2B7b22686f73744e616d65223a224f707469706c6578227d/home/evm9/transpilation_EM/benchmark_suite/main.ipynb#ch0000001vscode-remote?line=0'>1</a>\u001b[0m \u001b[39mfrom\u001b[39;00m \u001b[39mbackend_suite\u001b[39;00m \u001b[39mimport\u001b[39;00m backends\n\u001b[0;32m----> <a href='vscode-notebook-cell://ssh-remote%2B7b22686f73744e616d65223a224f707469706c6578227d/home/evm9/transpilation_EM/benchmark_suite/main.ipynb#ch0000001vscode-remote?line=1'>2</a>\u001b[0m backends[\u001b[39m\"\u001b[39;49m\u001b[39mHatlab-Large-Riswap-Dense\u001b[39;49m\u001b[39m\"\u001b[39;49m]\u001b[39m.\u001b[39;49mpass_manager\u001b[39m.\u001b[39;49mrun(circuits[\u001b[39m\"\u001b[39;49m\u001b[39mQFT\u001b[39;49m\u001b[39m\"\u001b[39;49m]\u001b[39m.\u001b[39;49mcircuit_lambda(\u001b[39m4\u001b[39;49m))\n",
      "File \u001b[0;32m~/transpilation_EM/venv/lib/python3.8/site-packages/qiskit/transpiler/passmanager.py:218\u001b[0m, in \u001b[0;36mPassManager.run\u001b[0;34m(self, circuits, output_name, callback)\u001b[0m\n\u001b[1;32m    <a href='file:///home/evm9/transpilation_EM/venv/lib/python3.8/site-packages/qiskit/transpiler/passmanager.py?line=215'>216</a>\u001b[0m     \u001b[39mreturn\u001b[39;00m circuits\n\u001b[1;32m    <a href='file:///home/evm9/transpilation_EM/venv/lib/python3.8/site-packages/qiskit/transpiler/passmanager.py?line=216'>217</a>\u001b[0m \u001b[39mif\u001b[39;00m \u001b[39misinstance\u001b[39m(circuits, QuantumCircuit):\n\u001b[0;32m--> <a href='file:///home/evm9/transpilation_EM/venv/lib/python3.8/site-packages/qiskit/transpiler/passmanager.py?line=217'>218</a>\u001b[0m     \u001b[39mreturn\u001b[39;00m \u001b[39mself\u001b[39;49m\u001b[39m.\u001b[39;49m_run_single_circuit(circuits, output_name, callback)\n\u001b[1;32m    <a href='file:///home/evm9/transpilation_EM/venv/lib/python3.8/site-packages/qiskit/transpiler/passmanager.py?line=218'>219</a>\u001b[0m \u001b[39mif\u001b[39;00m \u001b[39mlen\u001b[39m(circuits) \u001b[39m==\u001b[39m \u001b[39m1\u001b[39m:\n\u001b[1;32m    <a href='file:///home/evm9/transpilation_EM/venv/lib/python3.8/site-packages/qiskit/transpiler/passmanager.py?line=219'>220</a>\u001b[0m     \u001b[39mreturn\u001b[39;00m \u001b[39mself\u001b[39m\u001b[39m.\u001b[39m_run_single_circuit(circuits[\u001b[39m0\u001b[39m], output_name, callback)\n",
      "File \u001b[0;32m~/transpilation_EM/venv/lib/python3.8/site-packages/qiskit/transpiler/passmanager.py:273\u001b[0m, in \u001b[0;36mPassManager._run_single_circuit\u001b[0;34m(self, circuit, output_name, callback)\u001b[0m\n\u001b[1;32m    <a href='file:///home/evm9/transpilation_EM/venv/lib/python3.8/site-packages/qiskit/transpiler/passmanager.py?line=260'>261</a>\u001b[0m \u001b[39m\"\"\"Run all the passes on a ``circuit``.\u001b[39;00m\n\u001b[1;32m    <a href='file:///home/evm9/transpilation_EM/venv/lib/python3.8/site-packages/qiskit/transpiler/passmanager.py?line=261'>262</a>\u001b[0m \n\u001b[1;32m    <a href='file:///home/evm9/transpilation_EM/venv/lib/python3.8/site-packages/qiskit/transpiler/passmanager.py?line=262'>263</a>\u001b[0m \u001b[39mArgs:\u001b[39;00m\n\u001b[0;32m   (...)\u001b[0m\n\u001b[1;32m    <a href='file:///home/evm9/transpilation_EM/venv/lib/python3.8/site-packages/qiskit/transpiler/passmanager.py?line=269'>270</a>\u001b[0m \u001b[39m    The transformed circuit.\u001b[39;00m\n\u001b[1;32m    <a href='file:///home/evm9/transpilation_EM/venv/lib/python3.8/site-packages/qiskit/transpiler/passmanager.py?line=270'>271</a>\u001b[0m \u001b[39m\"\"\"\u001b[39;00m\n\u001b[1;32m    <a href='file:///home/evm9/transpilation_EM/venv/lib/python3.8/site-packages/qiskit/transpiler/passmanager.py?line=271'>272</a>\u001b[0m running_passmanager \u001b[39m=\u001b[39m \u001b[39mself\u001b[39m\u001b[39m.\u001b[39m_create_running_passmanager()\n\u001b[0;32m--> <a href='file:///home/evm9/transpilation_EM/venv/lib/python3.8/site-packages/qiskit/transpiler/passmanager.py?line=272'>273</a>\u001b[0m result \u001b[39m=\u001b[39m running_passmanager\u001b[39m.\u001b[39;49mrun(circuit, output_name\u001b[39m=\u001b[39;49moutput_name, callback\u001b[39m=\u001b[39;49mcallback)\n\u001b[1;32m    <a href='file:///home/evm9/transpilation_EM/venv/lib/python3.8/site-packages/qiskit/transpiler/passmanager.py?line=273'>274</a>\u001b[0m \u001b[39mself\u001b[39m\u001b[39m.\u001b[39mproperty_set \u001b[39m=\u001b[39m running_passmanager\u001b[39m.\u001b[39mproperty_set\n\u001b[1;32m    <a href='file:///home/evm9/transpilation_EM/venv/lib/python3.8/site-packages/qiskit/transpiler/passmanager.py?line=274'>275</a>\u001b[0m \u001b[39mreturn\u001b[39;00m result\n",
      "File \u001b[0;32m~/transpilation_EM/venv/lib/python3.8/site-packages/qiskit/transpiler/runningpassmanager.py:123\u001b[0m, in \u001b[0;36mRunningPassManager.run\u001b[0;34m(***failed resolving arguments***)\u001b[0m\n\u001b[1;32m    <a href='file:///home/evm9/transpilation_EM/venv/lib/python3.8/site-packages/qiskit/transpiler/runningpassmanager.py?line=120'>121</a>\u001b[0m \u001b[39mfor\u001b[39;00m passset \u001b[39min\u001b[39;00m \u001b[39mself\u001b[39m\u001b[39m.\u001b[39mworking_list:\n\u001b[1;32m    <a href='file:///home/evm9/transpilation_EM/venv/lib/python3.8/site-packages/qiskit/transpiler/runningpassmanager.py?line=121'>122</a>\u001b[0m     \u001b[39mfor\u001b[39;00m pass_ \u001b[39min\u001b[39;00m passset:\n\u001b[0;32m--> <a href='file:///home/evm9/transpilation_EM/venv/lib/python3.8/site-packages/qiskit/transpiler/runningpassmanager.py?line=122'>123</a>\u001b[0m         dag \u001b[39m=\u001b[39m \u001b[39mself\u001b[39;49m\u001b[39m.\u001b[39;49m_do_pass(pass_, dag, passset\u001b[39m.\u001b[39;49moptions)\n\u001b[1;32m    <a href='file:///home/evm9/transpilation_EM/venv/lib/python3.8/site-packages/qiskit/transpiler/runningpassmanager.py?line=124'>125</a>\u001b[0m circuit \u001b[39m=\u001b[39m dag_to_circuit(dag)\n\u001b[1;32m    <a href='file:///home/evm9/transpilation_EM/venv/lib/python3.8/site-packages/qiskit/transpiler/runningpassmanager.py?line=125'>126</a>\u001b[0m \u001b[39mif\u001b[39;00m output_name:\n",
      "File \u001b[0;32m~/transpilation_EM/venv/lib/python3.8/site-packages/qiskit/transpiler/runningpassmanager.py:154\u001b[0m, in \u001b[0;36mRunningPassManager._do_pass\u001b[0;34m(self, pass_, dag, options)\u001b[0m\n\u001b[1;32m    <a href='file:///home/evm9/transpilation_EM/venv/lib/python3.8/site-packages/qiskit/transpiler/runningpassmanager.py?line=151'>152</a>\u001b[0m \u001b[39m# Run the pass itself, if not already run\u001b[39;00m\n\u001b[1;32m    <a href='file:///home/evm9/transpilation_EM/venv/lib/python3.8/site-packages/qiskit/transpiler/runningpassmanager.py?line=152'>153</a>\u001b[0m \u001b[39mif\u001b[39;00m pass_ \u001b[39mnot\u001b[39;00m \u001b[39min\u001b[39;00m \u001b[39mself\u001b[39m\u001b[39m.\u001b[39mvalid_passes:\n\u001b[0;32m--> <a href='file:///home/evm9/transpilation_EM/venv/lib/python3.8/site-packages/qiskit/transpiler/runningpassmanager.py?line=153'>154</a>\u001b[0m     dag \u001b[39m=\u001b[39m \u001b[39mself\u001b[39;49m\u001b[39m.\u001b[39;49m_run_this_pass(pass_, dag)\n\u001b[1;32m    <a href='file:///home/evm9/transpilation_EM/venv/lib/python3.8/site-packages/qiskit/transpiler/runningpassmanager.py?line=155'>156</a>\u001b[0m     \u001b[39m# update the valid_passes property\u001b[39;00m\n\u001b[1;32m    <a href='file:///home/evm9/transpilation_EM/venv/lib/python3.8/site-packages/qiskit/transpiler/runningpassmanager.py?line=156'>157</a>\u001b[0m     \u001b[39mself\u001b[39m\u001b[39m.\u001b[39m_update_valid_passes(pass_)\n",
      "File \u001b[0;32m~/transpilation_EM/venv/lib/python3.8/site-packages/qiskit/transpiler/runningpassmanager.py:191\u001b[0m, in \u001b[0;36mRunningPassManager._run_this_pass\u001b[0;34m(self, pass_, dag)\u001b[0m\n\u001b[1;32m    <a href='file:///home/evm9/transpilation_EM/venv/lib/python3.8/site-packages/qiskit/transpiler/runningpassmanager.py?line=187'>188</a>\u001b[0m \u001b[39melif\u001b[39;00m pass_\u001b[39m.\u001b[39mis_analysis_pass:\n\u001b[1;32m    <a href='file:///home/evm9/transpilation_EM/venv/lib/python3.8/site-packages/qiskit/transpiler/runningpassmanager.py?line=188'>189</a>\u001b[0m     \u001b[39m# Measure time if we have a callback or logging set\u001b[39;00m\n\u001b[1;32m    <a href='file:///home/evm9/transpilation_EM/venv/lib/python3.8/site-packages/qiskit/transpiler/runningpassmanager.py?line=189'>190</a>\u001b[0m     start_time \u001b[39m=\u001b[39m time()\n\u001b[0;32m--> <a href='file:///home/evm9/transpilation_EM/venv/lib/python3.8/site-packages/qiskit/transpiler/runningpassmanager.py?line=190'>191</a>\u001b[0m     pass_\u001b[39m.\u001b[39;49mrun(FencedDAGCircuit(dag))\n\u001b[1;32m    <a href='file:///home/evm9/transpilation_EM/venv/lib/python3.8/site-packages/qiskit/transpiler/runningpassmanager.py?line=191'>192</a>\u001b[0m     end_time \u001b[39m=\u001b[39m time()\n\u001b[1;32m    <a href='file:///home/evm9/transpilation_EM/venv/lib/python3.8/site-packages/qiskit/transpiler/runningpassmanager.py?line=192'>193</a>\u001b[0m     run_time \u001b[39m=\u001b[39m end_time \u001b[39m-\u001b[39m start_time\n",
      "File \u001b[0;32m~/transpilation_EM/benchmark_suite/../utils/qiskit_patch/dense_layout.py:70\u001b[0m, in \u001b[0;36mDenseLayout.run\u001b[0;34m(self, dag)\u001b[0m\n\u001b[1;32m     <a href='file:///home/evm9/transpilation_EM/benchmark_suite/../utils/qiskit_patch/dense_layout.py?line=67'>68</a>\u001b[0m \u001b[39m# Get avg number of cx and meas per qubit\u001b[39;00m\n\u001b[1;32m     <a href='file:///home/evm9/transpilation_EM/benchmark_suite/../utils/qiskit_patch/dense_layout.py?line=68'>69</a>\u001b[0m ops \u001b[39m=\u001b[39m dag\u001b[39m.\u001b[39mcount_ops()\n\u001b[0;32m---> <a href='file:///home/evm9/transpilation_EM/benchmark_suite/../utils/qiskit_patch/dense_layout.py?line=69'>70</a>\u001b[0m \u001b[39mself\u001b[39m\u001b[39m.\u001b[39mnum_twoqops \u001b[39m=\u001b[39m \u001b[39mlen\u001b[39m(dag\u001b[39m.\u001b[39;49mtwo_qubits_ops())\n\u001b[1;32m     <a href='file:///home/evm9/transpilation_EM/benchmark_suite/../utils/qiskit_patch/dense_layout.py?line=70'>71</a>\u001b[0m \u001b[39m# FIXME\u001b[39;00m\n\u001b[1;32m     <a href='file:///home/evm9/transpilation_EM/benchmark_suite/../utils/qiskit_patch/dense_layout.py?line=71'>72</a>\u001b[0m \u001b[39mif\u001b[39;00m \u001b[39m\"\u001b[39m\u001b[39mcx\u001b[39m\u001b[39m\"\u001b[39m \u001b[39min\u001b[39;00m \u001b[39mself\u001b[39m\u001b[39m.\u001b[39mbackend\u001b[39m.\u001b[39moperation_names:\n",
      "File \u001b[0;32m~/transpilation_EM/venv/lib/python3.8/site-packages/qiskit/transpiler/fencedobjs.py:28\u001b[0m, in \u001b[0;36mFencedObject.__getattribute__\u001b[0;34m(self, name)\u001b[0m\n\u001b[1;32m     <a href='file:///home/evm9/transpilation_EM/venv/lib/python3.8/site-packages/qiskit/transpiler/fencedobjs.py?line=25'>26</a>\u001b[0m \u001b[39mdef\u001b[39;00m \u001b[39m__getattribute__\u001b[39m(\u001b[39mself\u001b[39m, name):\n\u001b[1;32m     <a href='file:///home/evm9/transpilation_EM/venv/lib/python3.8/site-packages/qiskit/transpiler/fencedobjs.py?line=26'>27</a>\u001b[0m     \u001b[39mobject\u001b[39m\u001b[39m.\u001b[39m\u001b[39m__getattribute__\u001b[39m(\u001b[39mself\u001b[39m, \u001b[39m\"\u001b[39m\u001b[39m_check_if_fenced\u001b[39m\u001b[39m\"\u001b[39m)(name)\n\u001b[0;32m---> <a href='file:///home/evm9/transpilation_EM/venv/lib/python3.8/site-packages/qiskit/transpiler/fencedobjs.py?line=27'>28</a>\u001b[0m     \u001b[39mreturn\u001b[39;00m \u001b[39mgetattr\u001b[39;49m(\u001b[39mobject\u001b[39;49m\u001b[39m.\u001b[39;49m\u001b[39m__getattribute__\u001b[39;49m(\u001b[39mself\u001b[39;49m, \u001b[39m\"\u001b[39;49m\u001b[39m_wrapped\u001b[39;49m\u001b[39m\"\u001b[39;49m), name)\n",
      "\u001b[0;31mAttributeError\u001b[0m: 'DAGCircuit' object has no attribute 'two_qubits_ops'"
     ]
    }
   ],
   "source": [
    "from backend_suite import backends\n",
    "backends[\"Hatlab-Large-Riswap-Dense\"].pass_manager.run(circuits[\"QFT\"].circuit_lambda(4))"
   ]
  },
  {
   "cell_type": "markdown",
   "metadata": {},
   "source": [
    "## Circuit Transpile Benchmark"
   ]
  },
  {
   "cell_type": "code",
   "execution_count": null,
   "metadata": {},
   "outputs": [],
   "source": [
    "#make a plot :)\n",
    "import matplotlib.pyplot as plt\n",
    "\n",
    "def benchmark(backends, circuit_generator, q_range=None, continuously_save=False, overwrite=False):\n",
    "    #override qrange if provided\n",
    "    if q_range is None:\n",
    "        q_range = circuit_generator.q_range\n",
    "    \n",
    "    #check if data dicts are empty\n",
    "    for backend in backends:\n",
    "        if not circuit_generator.label in backend.data.keys():\n",
    "            backend.data[circuit_generator.label] = {}\n",
    "            backend.data[circuit_generator.label][\"duration\"] = {}\n",
    "            backend.data[circuit_generator.label][\"gate_count\"] = {}\n",
    "            backend.data[circuit_generator.label][\"gate_count_crit\"] = {}\n",
    "            backend.data[circuit_generator.label][\"layout_score\"] = {}\n",
    "\n",
    "    #outer loop over circuit since this may take long time to generate\n",
    "    for q in q_range:\n",
    "        #create new variable sized lambda circuit\n",
    "        qc = circuit_generator.circuit_lambda(q)\n",
    "\n",
    "        for backend in backends:\n",
    "            \n",
    "            #condition to skip\n",
    "            if not overwrite:\n",
    "                #convert to int because if loaded from json key will be a string\n",
    "                if q in [int(k) for k in backend.data[circuit_generator.label][\"duration\"].keys()]:\n",
    "                    continue\n",
    "\n",
    "            #logging.info(f\"Transpiler qc{q} for {backend.label}\")\n",
    "            print(f\"Transpiler qc{q} for {backend.label}\")\n",
    "            backend.pass_manager.run(qc)\n",
    "\n",
    "            #save data to dict\n",
    "            duration = backend.pass_manager.property_set[\"duration_longest_path_length\"]\n",
    "            backend.data[circuit_generator.label][\"duration\"][q] = float(duration)\n",
    "            \n",
    "            gate_count = backend.pass_manager.property_set[\"count_ops\"]\n",
    "            backend.data[circuit_generator.label][\"gate_count\"][q] = gate_count\n",
    "\n",
    "            #FIXME\n",
    "            # gate_count_critical_path = backend.pass_manager.property_set[\"count_ops_longest_path\"]\n",
    "            # backend.data[circuit_generator.label][\"gate_count_crit\"][q] = gate_count_critical_path\n",
    "\n",
    "            layout_score = backend.pass_manager.property_set[\"layout_score\"]\n",
    "            backend.data[circuit_generator.label][\"layout_score\"][q] = float(layout_score)\n",
    "\n",
    "            #for long tests, may want to save more regularly in case exit early\n",
    "            if continuously_save:\n",
    "                backend.save_json()\n",
    "                \n",
    "    for backend in backends:\n",
    "        #save dict to json\n",
    "        backend.save_json()"
   ]
  },
  {
   "cell_type": "code",
   "execution_count": null,
   "metadata": {},
   "outputs": [],
   "source": [
    "#FIXME, use figure to handle subplots\n",
    "def plot(backends, circuit_label, parameter=\"duration\"):\n",
    "    for backend in backends:\n",
    "        if circuit_label in backend.data.keys():\n",
    "            x = backend.data[circuit_label][parameter].keys()\n",
    "            x = [int(el) for el in list(x)]\n",
    "            y = backend.data[circuit_label][parameter].values()\n",
    "            x, y = zip(*sorted(zip(x, y)))\n",
    "            plt.plot(x, y, '-o', label=backend.label)\n",
    "\n",
    "    plt.xlabel(circuit_label)\n",
    "    plt.ylabel(\"circuit duration\")\n",
    "    plt.legend()\n",
    "\n",
    "    #savefig\n",
    "    filename = f\"images/large_{circuit_label}_{parameter}\"\n",
    "    import os\n",
    "    i = 0\n",
    "    while os.path.exists('{}{:d}.png'.format(filename, i)):\n",
    "        i += 1\n",
    "    plt.savefig('{}{:d}.png'.format(filename, i), facecolor='white')\n",
    "\n",
    "#plot(placement_test, circuit_gen.label, parameter=\"duration\")\n",
    "#plot(routing_test, circuit_gen.label, parameter=\"layout_score\")"
   ]
  },
  {
   "cell_type": "code",
   "execution_count": null,
   "metadata": {},
   "outputs": [],
   "source": [
    "from circuit_suite import circuits\n",
    "circuit_gen = circuits[\"QAOA_Vanilla\"]\n",
    "from backend_suite import routing_test\n",
    "#with critical path turned off\n",
    "benchmark(backends=routing_test, circuit_generator=circuit_gen, continuously_save=True)\n",
    "#plot(placement_test, circuit_gen.label, parameter=\"duration\")\n",
    "plot(routing_test, circuit_gen.label, parameter=\"duration\")"
   ]
  },
  {
   "cell_type": "markdown",
   "metadata": {},
   "source": [
    "Important data- note that the hypercube inserts more swaps than hatlab (172 vs 119), therefore decomposes to more riswaps (1094 vs 935); however, in the critical path hypercube now has less riswaps than hatlab (402 vs 435). This means that more of the swaps that are happening the in the hypercube are parallizable? Suggests better placement and routing algorithms are still needed - problem is that they become very slow. Except, Hatlab has a better layout score? That must mean that BasicSwapPass is just really bad?"
   ]
  },
  {
   "cell_type": "code",
   "execution_count": null,
   "metadata": {},
   "outputs": [],
   "source": [
    "#with critical path turned on\n",
    "circuit_gen = circuits[\"TIM_Hamiltonian\"]\n",
    "benchmark(backends=[backends[\"Hypercube-Large-Riswap\"], backends[\"Hatlab-Large-Riswap\"]], circuit_generator=circuit_gen, q_range=[30])"
   ]
  },
  {
   "cell_type": "code",
   "execution_count": null,
   "metadata": {},
   "outputs": [],
   "source": [
    "circuit_gen = circuits[\"QAOA_Vanilla\"]\n",
    "backends = shuffle_test\n",
    "benchmark(backends=backends, circuit_generator=circuit_gen)"
   ]
  },
  {
   "cell_type": "code",
   "execution_count": null,
   "metadata": {},
   "outputs": [],
   "source": [
    "circuit_gen = circuits[\"QFT\"]\n",
    "benchmark(backends=large_backends, circuit_generator=circuit_gen)"
   ]
  },
  {
   "cell_type": "code",
   "execution_count": null,
   "metadata": {},
   "outputs": [],
   "source": [
    "circuit_gen = circuits[\"Randomized_QC\"]\n",
    "benchmark(backends=large_backends, circuit_generator=circuit_gen)"
   ]
  },
  {
   "cell_type": "code",
   "execution_count": null,
   "metadata": {},
   "outputs": [],
   "source": [
    "circuit_gen = circuits[\"GHZ\"]\n",
    "benchmark(backends=large_backends, circuit_generator=circuit_gen)"
   ]
  },
  {
   "cell_type": "code",
   "execution_count": null,
   "metadata": {},
   "outputs": [],
   "source": [
    "circuit_gen = circuits[\"VQE\"]\n",
    "benchmark(backends=large_backends, circuit_generator=circuit_gen, q_range=[8, 16, 32])"
   ]
  }
 ],
 "metadata": {
  "interpreter": {
   "hash": "3c923d04e9af837f8cfab086aad703afe35b7499ff33e9e2bcba0d425db844a6"
  },
  "kernelspec": {
   "display_name": "Python 3.8.10 ('venv': venv)",
   "language": "python",
   "name": "python3"
  },
  "language_info": {
   "codemirror_mode": {
    "name": "ipython",
    "version": 3
   },
   "file_extension": ".py",
   "mimetype": "text/x-python",
   "name": "python",
   "nbconvert_exporter": "python",
   "pygments_lexer": "ipython3",
   "version": "3.8.10"
  },
  "orig_nbformat": 4
 },
 "nbformat": 4,
 "nbformat_minor": 2
}

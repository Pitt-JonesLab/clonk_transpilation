{
 "cells": [
  {
   "cell_type": "code",
   "execution_count": 1,
   "metadata": {},
   "outputs": [],
   "source": [
    "from circuit_suite import circuits\n",
    "# from backend_suite import backends, large_backends, shuffle_test, routing_test\n",
    "#from backend_suite import placement_test"
   ]
  },
  {
   "cell_type": "code",
   "execution_count": null,
   "metadata": {},
   "outputs": [],
   "source": []
  },
  {
   "cell_type": "code",
   "execution_count": 2,
   "metadata": {},
   "outputs": [
    {
     "name": "stderr",
     "output_type": "stream",
     "text": [
      "/home/evm9/transpilation_EM/venv/lib/python3.8/site-packages/qiskit/transpiler/passes/optimization/consolidate_blocks.py:55: UserWarning: Only know how to decompose properly for supercontrolled basis gate. This gate is ~Ud(0.3926990816987239, 0.3926990816987239, 0.0)\n",
      "  self.decomposer = TwoQubitBasisDecomposer(kak_basis_gate)\n",
      "/home/evm9/transpilation_EM/benchmark_suite/../utils/transpiler_passes/weyl_decompose.py:196: UserWarning: Only know how to decompose properly for supercontrolled basis gate. This gate is ~Ud(0.3926990816987239, 0.3926990816987239, 0.0)\n",
      "  self.decomposer = TwoQubitBasisDecomposer(self.basis_gate)\n",
      "/home/evm9/transpilation_EM/benchmark_suite/../utils/transpiler_passes/weyl_decompose.py:196: UserWarning: Only know how to decompose properly for supercontrolled basis gate. This gate is ~Ud(0.3926990816987239, 0.3926990816987239, 0.0)\n",
      "  self.decomposer = TwoQubitBasisDecomposer(self.basis_gate)\n"
     ]
    },
    {
     "data": {
      "text/plain": [
       "<qiskit.circuit.quantumcircuit.QuantumCircuit at 0x7f81268a4a00>"
      ]
     },
     "execution_count": 2,
     "metadata": {},
     "output_type": "execute_result"
    }
   ],
   "source": [
    "from backend_suite import backends\n",
    "backends[\"Hatlab-Large-Riswap-Dense\"].pass_manager.run(circuits[\"QFT\"].circuit_lambda(4))"
   ]
  },
  {
   "cell_type": "markdown",
   "metadata": {},
   "source": [
    "## Circuit Transpile Benchmark"
   ]
  },
  {
   "cell_type": "code",
   "execution_count": 2,
   "metadata": {},
   "outputs": [],
   "source": [
    "#make a plot :)\n",
    "import matplotlib.pyplot as plt\n",
    "\n",
    "def benchmark(backends, circuit_generator, q_range=None, continuously_save=False, overwrite=False):\n",
    "    #override qrange if provided\n",
    "    if q_range is None:\n",
    "        q_range = circuit_generator.q_range\n",
    "    \n",
    "    #check if data dicts are empty\n",
    "    for backend in backends:\n",
    "        if not circuit_generator.label in backend.data.keys():\n",
    "            backend.data[circuit_generator.label] = {}\n",
    "            backend.data[circuit_generator.label][\"duration\"] = {}\n",
    "            backend.data[circuit_generator.label][\"gate_count\"] = {}\n",
    "            backend.data[circuit_generator.label][\"gate_count_crit\"] = {}\n",
    "            backend.data[circuit_generator.label][\"layout_score\"] = {}\n",
    "\n",
    "    #outer loop over circuit since this may take long time to generate\n",
    "    for q in q_range:\n",
    "        #create new variable sized lambda circuit\n",
    "        qc = circuit_generator.circuit_lambda(q)\n",
    "\n",
    "        for backend in backends:\n",
    "            \n",
    "            #condition to skip\n",
    "            if not overwrite:\n",
    "                #convert to int because if loaded from json key will be a string\n",
    "                if q in [int(k) for k in backend.data[circuit_generator.label][\"duration\"].keys()]:\n",
    "                    continue\n",
    "\n",
    "            #logging.info(f\"Transpiler qc{q} for {backend.label}\")\n",
    "            print(f\"Transpiler qc{q} for {backend.label}\")\n",
    "            backend.pass_manager.run(qc)\n",
    "\n",
    "            #save data to dict\n",
    "            duration = backend.pass_manager.property_set[\"duration_longest_path_length\"]\n",
    "            backend.data[circuit_generator.label][\"duration\"][q] = float(duration)\n",
    "            \n",
    "            gate_count = backend.pass_manager.property_set[\"count_ops\"]\n",
    "            backend.data[circuit_generator.label][\"gate_count\"][q] = gate_count\n",
    "\n",
    "            #FIXME\n",
    "            # gate_count_critical_path = backend.pass_manager.property_set[\"count_ops_longest_path\"]\n",
    "            # backend.data[circuit_generator.label][\"gate_count_crit\"][q] = gate_count_critical_path\n",
    "\n",
    "            layout_score = backend.pass_manager.property_set[\"layout_score\"]\n",
    "            backend.data[circuit_generator.label][\"layout_score\"][q] = float(layout_score)\n",
    "\n",
    "            #for long tests, may want to save more regularly in case exit early\n",
    "            if continuously_save:\n",
    "                backend.save_json()\n",
    "                \n",
    "    for backend in backends:\n",
    "        #save dict to json\n",
    "        backend.save_json()"
   ]
  },
  {
   "cell_type": "code",
   "execution_count": 3,
   "metadata": {},
   "outputs": [],
   "source": [
    "#FIXME, use figure to handle subplots\n",
    "def plot(backends, circuit_label, parameter=\"duration\"):\n",
    "    for backend in backends:\n",
    "        if circuit_label in backend.data.keys():\n",
    "            x = backend.data[circuit_label][parameter].keys()\n",
    "            x = [int(el) for el in list(x)]\n",
    "            y = backend.data[circuit_label][parameter].values()\n",
    "            x, y = zip(*sorted(zip(x, y)))\n",
    "            plt.plot(x, y, '-o', label=backend.label)\n",
    "\n",
    "    plt.xlabel(circuit_label)\n",
    "    plt.ylabel(\"circuit duration\")\n",
    "    plt.legend()\n",
    "\n",
    "    #savefig\n",
    "    filename = f\"images/large_{circuit_label}_{parameter}\"\n",
    "    import os\n",
    "    i = 0\n",
    "    while os.path.exists('{}{:d}.png'.format(filename, i)):\n",
    "        i += 1\n",
    "    plt.savefig('{}{:d}.png'.format(filename, i), facecolor='white')\n",
    "\n",
    "#plot(placement_test, circuit_gen.label, parameter=\"duration\")\n",
    "#plot(routing_test, circuit_gen.label, parameter=\"layout_score\")"
   ]
  },
  {
   "cell_type": "code",
   "execution_count": 4,
   "metadata": {},
   "outputs": [
    {
     "name": "stdout",
     "output_type": "stream",
     "text": [
      "Transpiler qc8 for Hatlab-Large-Riswap-Upgrade\n"
     ]
    },
    {
     "name": "stderr",
     "output_type": "stream",
     "text": [
      "/home/evm9/transpilation_EM/benchmark_suite/../utils/transpiler_passes/weyl_decompose.py:196: UserWarning: Only know how to decompose properly for supercontrolled basis gate. This gate is ~Ud(0.3926990816987239, 0.3926990816987239, 0.0)\n",
      "  self.decomposer = TwoQubitBasisDecomposer(self.basis_gate)\n"
     ]
    },
    {
     "name": "stdout",
     "output_type": "stream",
     "text": [
      "Transpiler qc8 for Heavy-Hex\n",
      "Transpiler qc16 for Hatlab-Large-Riswap-Upgrade\n",
      "Transpiler qc16 for Heavy-Hex\n",
      "Transpiler qc24 for Hatlab-Large-Riswap-Upgrade\n",
      "Transpiler qc24 for Heavy-Hex\n",
      "Transpiler qc32 for Hatlab-Large-Riswap-Upgrade\n",
      "Transpiler qc32 for Heavy-Hex\n",
      "Transpiler qc48 for Hatlab-Large-Riswap-Upgrade\n",
      "Transpiler qc48 for Heavy-Hex\n",
      "Transpiler qc64 for Hatlab-Large-Riswap-Upgrade\n",
      "Transpiler qc64 for Heavy-Hex\n",
      "Transpiler qc80 for Hatlab-Large-Riswap-Upgrade\n"
     ]
    }
   ],
   "source": [
    "from circuit_suite import circuits\n",
    "circuit_gen = circuits[\"Randomized_QC\"]\n",
    "from backend_suite import new_test\n",
    "#with critical path turned off\n",
    "benchmark(backends=new_test, circuit_generator=circuit_gen, continuously_save=True)\n",
    "#plot(placement_test, circuit_gen.label, parameter=\"duration\")\n",
    "plot(new_test, circuit_gen.label, parameter=\"duration\")"
   ]
  },
  {
   "cell_type": "markdown",
   "metadata": {},
   "source": [
    "Important data- note that the hypercube inserts more swaps than hatlab (172 vs 119), therefore decomposes to more riswaps (1094 vs 935); however, in the critical path hypercube now has less riswaps than hatlab (402 vs 435). This means that more of the swaps that are happening the in the hypercube are parallizable? Suggests better placement and routing algorithms are still needed - problem is that they become very slow. Except, Hatlab has a better layout score? That must mean that BasicSwapPass is just really bad?"
   ]
  },
  {
   "cell_type": "code",
   "execution_count": null,
   "metadata": {},
   "outputs": [],
   "source": [
    "#with critical path turned on\n",
    "circuit_gen = circuits[\"TIM_Hamiltonian\"]\n",
    "benchmark(backends=[backends[\"Hypercube-Large-Riswap\"], backends[\"Hatlab-Large-Riswap\"]], circuit_generator=circuit_gen, q_range=[30])"
   ]
  },
  {
   "cell_type": "code",
   "execution_count": null,
   "metadata": {},
   "outputs": [],
   "source": [
    "circuit_gen = circuits[\"QAOA_Vanilla\"]\n",
    "backends = shuffle_test\n",
    "benchmark(backends=backends, circuit_generator=circuit_gen)"
   ]
  },
  {
   "cell_type": "code",
   "execution_count": null,
   "metadata": {},
   "outputs": [],
   "source": [
    "circuit_gen = circuits[\"QFT\"]\n",
    "benchmark(backends=large_backends, circuit_generator=circuit_gen)"
   ]
  },
  {
   "cell_type": "code",
   "execution_count": null,
   "metadata": {},
   "outputs": [],
   "source": [
    "circuit_gen = circuits[\"Randomized_QC\"]\n",
    "benchmark(backends=large_backends, circuit_generator=circuit_gen)"
   ]
  },
  {
   "cell_type": "code",
   "execution_count": null,
   "metadata": {},
   "outputs": [],
   "source": [
    "circuit_gen = circuits[\"GHZ\"]\n",
    "benchmark(backends=large_backends, circuit_generator=circuit_gen)"
   ]
  },
  {
   "cell_type": "code",
   "execution_count": null,
   "metadata": {},
   "outputs": [],
   "source": [
    "circuit_gen = circuits[\"VQE\"]\n",
    "benchmark(backends=large_backends, circuit_generator=circuit_gen, q_range=[8, 16, 32])"
   ]
  }
 ],
 "metadata": {
  "interpreter": {
   "hash": "3c923d04e9af837f8cfab086aad703afe35b7499ff33e9e2bcba0d425db844a6"
  },
  "kernelspec": {
   "display_name": "Python 3.8.10 ('venv': venv)",
   "language": "python",
   "name": "python3"
  },
  "language_info": {
   "codemirror_mode": {
    "name": "ipython",
    "version": 3
   },
   "file_extension": ".py",
   "mimetype": "text/x-python",
   "name": "python",
   "nbconvert_exporter": "python",
   "pygments_lexer": "ipython3",
   "version": "3.8.10"
  },
  "orig_nbformat": 4
 },
 "nbformat": 4,
 "nbformat_minor": 2
}

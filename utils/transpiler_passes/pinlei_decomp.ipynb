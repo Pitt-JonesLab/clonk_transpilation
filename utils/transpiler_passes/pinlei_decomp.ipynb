{
 "cells": [
  {
   "cell_type": "code",
   "execution_count": 8,
   "metadata": {},
   "outputs": [],
   "source": [
    "from typing import Optional\n",
    "from qiskit.circuit.gate import Gate\n",
    "from qiskit.circuit.parameterexpression import ParameterValueType\n",
    "import numpy as np\n",
    "\n",
    "class RiSwapGate(Gate):\n",
    "    r\"\"\"RiSWAP gate.\n",
    "\n",
    "    **Circuit Symbol:**\n",
    "\n",
    "    .. parsed-literal::\n",
    "\n",
    "        q_0: ─⨂─\n",
    "           R(alpha)\n",
    "        q_1: ─⨂─\n",
    "\n",
    "    \"\"\"\n",
    "\n",
    "    def __init__(self, alpha: ParameterValueType, label: Optional[str] = None):\n",
    "        \"\"\"Create new iSwap gate.\"\"\"\n",
    "        super().__init__(\"riswap\", 2, [alpha], label=label)\n",
    "\n",
    "    def __array__(self, dtype=None):\n",
    "        \"\"\"Return a numpy.array for the RiSWAP gate.\"\"\"\n",
    "        alpha = self.params[0]\n",
    "        return np.array(\n",
    "            [\n",
    "                [1, 0, 0, 0],\n",
    "                [0, np.cos(np.pi * alpha / 2), 1j * np.sin(np.pi * alpha / 2), 0],\n",
    "                [0, 1j * np.sin(np.pi * alpha / 2), np.cos(np.pi * alpha / 2), 0],\n",
    "                [0, 0, 0, 1],\n",
    "            ],\n",
    "            dtype=dtype,\n",
    "        )"
   ]
  },
  {
   "cell_type": "code",
   "execution_count": 10,
   "metadata": {},
   "outputs": [],
   "source": [
    "#from Qiskits two_qubit_decomp #FIXME moving functions around still this won't need to be copied once SQiSwap inside of that same pass\n",
    "import cmath\n",
    "from qiskit.quantum_info.synthesis.two_qubit_decompose import *\n",
    "import scipy.linalg as la\n",
    "\n",
    "_ipx = np.array([[0, 1j], [1j, 0]], dtype=complex)\n",
    "_ipy = np.array([[0, 1], [-1, 0]], dtype=complex)\n",
    "_ipz = np.array([[1j, 0], [0, -1j]], dtype=complex)\n",
    "_id = np.array([[1, 0], [0, 1]], dtype=complex)\n",
    "\n",
    "\n",
    "def KAKDecomp(unitary_matrix, *, fidelity=(1.0 - 1.0e-9)):\n",
    "    \"\"\"Perform the Weyl chamber decomposition, and optionally choose a specialized subclass.\n",
    "\n",
    "    The flip into the Weyl Chamber is described in B. Kraus and J. I. Cirac, Phys. Rev. A 63,\n",
    "    062309 (2001).\n",
    "\n",
    "    FIXME: There's a cleaner-seeming method based on choosing branch cuts carefully, in Andrew\n",
    "    M. Childs, Henry L. Haselgrove, and Michael A. Nielsen, Phys. Rev. A 68, 052311, but I\n",
    "    wasn't able to get that to work.\n",
    "\n",
    "    The overall decomposition scheme is taken from Drury and Love, arXiv:0806.4015 [quant-ph].\n",
    "    \"\"\"\n",
    "    pi = np.pi\n",
    "    pi2 = np.pi / 2\n",
    "    pi4 = np.pi / 4\n",
    "\n",
    "    # Make U be in SU(4)\n",
    "    U = np.array(unitary_matrix, dtype=complex, copy=True)\n",
    "    detU = la.det(U)\n",
    "    U *= detU ** (-0.25)\n",
    "    global_phase = cmath.phase(detU) / 4\n",
    "\n",
    "    Up = transform_to_magic_basis(U, reverse=True)\n",
    "    M2 = Up.T.dot(Up)\n",
    "\n",
    "    # M2 is a symmetric complex matrix. We need to decompose it as M2 = P D P^T where\n",
    "    # P ∈ SO(4), D is diagonal with unit-magnitude elements.\n",
    "    #\n",
    "    # We can't use raw `eig` directly because it isn't guaranteed to give us real or othogonal\n",
    "    # eigenvectors.  Instead, since `M2` is complex-symmetric,\n",
    "    #   M2 = A + iB\n",
    "    # for real-symmetric `A` and `B`, and as\n",
    "    #   M2^+ @ M2 = A^2 + B^2 + i [A, B] = 1\n",
    "    # we must have `A` and `B` commute, and consequently they are simultaneously diagonalizable.\n",
    "    # Mixing them together _should_ account for any degeneracy problems, but it's not\n",
    "    # guaranteed, so we repeat it a little bit.  The fixed seed is to make failures\n",
    "    # deterministic; the value is not important.\n",
    "    state = np.random.default_rng(2020)\n",
    "    for _ in range(100):  # FIXME: this randomized algorithm is horrendous\n",
    "        M2real = state.normal() * M2.real + state.normal() * M2.imag\n",
    "        _, P = np.linalg.eigh(M2real)\n",
    "        D = P.T.dot(M2).dot(P).diagonal()\n",
    "        if np.allclose(P.dot(np.diag(D)).dot(P.T), M2, rtol=0, atol=1.0e-13):\n",
    "            break\n",
    "    else:\n",
    "        raise ValueError\n",
    "\n",
    "    d = -np.angle(D) / 2\n",
    "    d[3] = -d[0] - d[1] - d[2]\n",
    "    cs = np.mod((d[:3] + d[3]) / 2, 2 * np.pi)\n",
    "\n",
    "    # Reorder the eigenvalues to get in the Weyl chamber\n",
    "    cstemp = np.mod(cs, pi2)\n",
    "    np.minimum(cstemp, pi2 - cstemp, cstemp)\n",
    "    order = np.argsort(cstemp)[[1, 2, 0]]\n",
    "    cs = cs[order]\n",
    "    d[:3] = d[order]\n",
    "    P[:, :3] = P[:, order]\n",
    "\n",
    "    # Fix the sign of P to be in SO(4)\n",
    "    if np.real(la.det(P)) < 0:\n",
    "        P[:, -1] = -P[:, -1]\n",
    "\n",
    "    # Find K1, K2 so that U = K1.A.K2, with K being product of single-qubit unitaries\n",
    "    K1 = transform_to_magic_basis(Up @ P @ np.diag(np.exp(1j * d)))\n",
    "    K2 = transform_to_magic_basis(P.T)\n",
    "\n",
    "    K1l, K1r, phase_l = decompose_two_qubit_product_gate(K1)\n",
    "    K2l, K2r, phase_r = decompose_two_qubit_product_gate(K2)\n",
    "    global_phase += phase_l + phase_r\n",
    "\n",
    "    K1l = K1l.copy()\n",
    "\n",
    "    # Flip into Weyl chamber\n",
    "    if cs[0] > pi2:\n",
    "        cs[0] -= 3 * pi2\n",
    "        K1l = K1l.dot(_ipy)\n",
    "        K1r = K1r.dot(_ipy)\n",
    "        global_phase += pi2\n",
    "    if cs[1] > pi2:\n",
    "        cs[1] -= 3 * pi2\n",
    "        K1l = K1l.dot(_ipx)\n",
    "        K1r = K1r.dot(_ipx)\n",
    "        global_phase += pi2\n",
    "    conjs = 0\n",
    "    if cs[0] > pi4:\n",
    "        cs[0] = pi2 - cs[0]\n",
    "        K1l = K1l.dot(_ipy)\n",
    "        K2r = _ipy.dot(K2r)\n",
    "        conjs += 1\n",
    "        global_phase -= pi2\n",
    "    if cs[1] > pi4:\n",
    "        cs[1] = pi2 - cs[1]\n",
    "        K1l = K1l.dot(_ipx)\n",
    "        K2r = _ipx.dot(K2r)\n",
    "        conjs += 1\n",
    "        global_phase += pi2\n",
    "        if conjs == 1:\n",
    "            global_phase -= pi\n",
    "    if cs[2] > pi2:\n",
    "        cs[2] -= 3 * pi2\n",
    "        K1l = K1l.dot(_ipz)\n",
    "        K1r = K1r.dot(_ipz)\n",
    "        global_phase += pi2\n",
    "        if conjs == 1:\n",
    "            global_phase -= pi\n",
    "    if conjs == 1:\n",
    "        cs[2] = pi2 - cs[2]\n",
    "        K1l = K1l.dot(_ipz)\n",
    "        K2r = _ipz.dot(K2r)\n",
    "        global_phase += pi2\n",
    "    if cs[2] > pi4:\n",
    "        cs[2] -= pi2\n",
    "        K1l = K1l.dot(_ipz)\n",
    "        K1r = K1r.dot(_ipz)\n",
    "        global_phase -= pi2\n",
    "\n",
    "    a, b, c = cs[1], cs[0], cs[2]\n",
    "    return global_phase, (a, b, c), K1l, K1r, K2l, K2r"
   ]
  },
  {
   "cell_type": "code",
   "execution_count": 54,
   "metadata": {},
   "outputs": [],
   "source": [
    "# Reference: https://arxiv.org/pdf/2105.06074.pdf\n",
    "from qiskit.circuit.library import RZGate, RXGate, RYGate, IGate\n",
    "from qiskit.extensions.unitary import UnitaryGate\n",
    "from qiskit import QuantumCircuit\n",
    "from qiskit.quantum_info import Operator\n",
    "# from utils.riswap_gates.riswap import RiSwapGate\n",
    "\n",
    "def decomp(U):\n",
    "    \"\"\"Decompose U into single qubit gates and the SQiSW gates\"\"\"\n",
    "    qc = QuantumCircuit(2)\n",
    "\n",
    "    _, (x, y, z), A1, A2, B1, B2 = KAKDecomp(U)\n",
    "    if np.abs(z) <= x - y:\n",
    "        C1, C2 = interleavingSingleQubitRotations(x, y, z)\n",
    "        V = RiSwapGate(0.5).to_matrix() @ np.kron(C1, C2) @ RiSwapGate(0.5).to_matrix()\n",
    "        _, (x, y, z), D1, D2, E1, E2 = KAKDecomp(V)\n",
    "\n",
    "        qc.append(UnitaryGate(np.matrix(E1).H @ B1), [1])\n",
    "        qc.append(UnitaryGate(np.matrix(E2).H @ B2), [0])\n",
    "        qc.append(RiSwapGate(0.5), [0, 1])\n",
    "        qc.append(UnitaryGate(C1), [1])\n",
    "        qc.append(UnitaryGate(C2), [0])\n",
    "        qc.append(RiSwapGate(0.5), [0, 1])\n",
    "        qc.append(UnitaryGate(A1 @ np.matrix(D1).H), [1])\n",
    "        qc.append(UnitaryGate(A2 @ np.matrix(D2).H), [0])\n",
    "    else:\n",
    "        (x, y, z), F1, F2, G1, G2, H1, H2 = canonicalize(x, y, z)\n",
    "        C1, C2 = interleavingSingleQubitRotations(x, y, z)\n",
    "        V = RiSwapGate(0.5).to_matrix() @ np.kron(C1, C2) @ RiSwapGate(0.5).to_matrix()\n",
    "        _, (x, y, z), D1, D2, E1, E2 = KAKDecomp(V)\n",
    "\n",
    "        qc.append(UnitaryGate(H1 @ B1), [1])\n",
    "        qc.append(UnitaryGate(H2 @ B2), [0])\n",
    "        qc.append(RiSwapGate(0.5), [0, 1])\n",
    "        qc.append(UnitaryGate(np.matrix(E1).H @ G1), [1])\n",
    "        qc.append(UnitaryGate(np.matrix(E2).H @ G2), [0])\n",
    "        qc.append(RiSwapGate(0.5), [0, 1])\n",
    "        qc.append(UnitaryGate(C1), [1])\n",
    "        qc.append(UnitaryGate(C2), [0])\n",
    "        qc.append(RiSwapGate(0.5), [0, 1])\n",
    "        qc.append(UnitaryGate(A1 @ F1 @ np.matrix(D1).H), [1])\n",
    "        qc.append(UnitaryGate(A2 @ F2 @ np.matrix(D2).H), [0])\n",
    "\n",
    "    return qc\n",
    "\n",
    "\n",
    "def interleavingSingleQubitRotations(x, y, z):\n",
    "    \"\"\"Output the single qubit rotations given the interaction coefficients (x,y,z) \\in W' when sandiwched by two SQiSW gates\"\"\"\n",
    "    C = np.sin(x + y - z) * np.sin(x - y + z) * np.sin(-x - y - z) * np.sin(-x + y + z)\n",
    "    alpha = np.arccos(np.cos(2 * x) - np.cos(2 * y) + np.cos(2 * z) + 2 * np.sqrt(C))\n",
    "    beta = np.arccos(np.cos(2 * x) - np.cos(2 * y) + np.cos(2 * z) - 2 * np.sqrt(C))\n",
    "    _num = 4 * (np.cos(x) ** 2) * (np.cos(z) ** 2) * (np.cos(y) ** 2)\n",
    "    _den = _num + np.cos(2 * x) + np.cos(2 * y) * np.cos(2 * z)\n",
    "    gamma = np.arccos(np.sign(z) * np.sqrt(_num / _den))\n",
    "    return (\n",
    "        RZGate(gamma).to_matrix()\n",
    "        @ RXGate(alpha).to_matrix()\n",
    "        @ RZGate(gamma).to_matrix(),\n",
    "        RXGate(beta).to_matrix(),\n",
    "    )\n",
    "\n",
    "\n",
    "def canonicalize(x, y, z):\n",
    "    \"\"\"Decompose an arbitrary gate into one SQISW and one L(x,y',z) where (x',y',z') \\in W' and output the coefficients (x',y',z') and the interleaving single qubit rotations\"\"\"\n",
    "    A1 = IGate().to_matrix()\n",
    "    A2 = IGate().to_matrix()\n",
    "    B1 = RYGate(-np.pi / 2).to_matrix()\n",
    "    B2 = RYGate(np.pi / 2).to_matrix()\n",
    "    C1 = RYGate(np.pi / 2).to_matrix()\n",
    "    C2 = RYGate(-np.pi / 2).to_matrix()\n",
    "    s = np.sign(z)\n",
    "    z = np.abs(z)\n",
    "    if x > np.pi / 8:\n",
    "        y = y - np.pi / 8\n",
    "        z = z - np.pi / 8\n",
    "        B1 = RZGate(np.pi / 2).to_matrix() @ B1\n",
    "        B2 = RZGate(-np.pi / 2).to_matrix() @ B2\n",
    "        C1 = C1 @ RZGate(-np.pi / 2).to_matrix()\n",
    "        C2 = C2 @ RZGate(np.pi / 2).to_matrix()\n",
    "\n",
    "    else:\n",
    "        x = x + np.pi / 8\n",
    "        z = z - np.pi / 8\n",
    "\n",
    "    if np.abs(y) < np.abs(z):\n",
    "        # XXX typo in alibaba here (?)\n",
    "        z = -z\n",
    "        A1 = RXGate(np.pi / 2).to_matrix()\n",
    "        A2 = RXGate(-np.pi / 2).to_matrix()\n",
    "        B1 = RXGate(-np.pi / 2).to_matrix() @ B1\n",
    "        B2 = RXGate(np.pi / 2).to_matrix() @ B2\n",
    "    if s < 0:\n",
    "        z = -z\n",
    "        A1 = RZGate(np.pi).to_matrix() @ A1 @ RZGate(np.pi).to_matrix()\n",
    "        B1 = RZGate(np.pi).to_matrix() @ B1 @ RZGate(np.pi).to_matrix()\n",
    "        C1 = RZGate(np.pi).to_matrix() @ C1 @ RZGate(np.pi).to_matrix()\n",
    "    \n",
    "    return (x,y,z), A1, A2, B1, B2, C1, C2"
   ]
  },
  {
   "cell_type": "markdown",
   "metadata": {},
   "source": [
    "## Verify"
   ]
  },
  {
   "cell_type": "code",
   "execution_count": 57,
   "metadata": {},
   "outputs": [],
   "source": [
    "qc = QuantumCircuit(2)\n",
    "qc.iswap(0,1)\n",
    "new_qc = decomp(Operator(qc).data)\n",
    "Operator(new_qc).equiv(qc)"
   ]
  },
  {
   "cell_type": "code",
   "execution_count": 56,
   "metadata": {},
   "outputs": [
    {
     "data": {
      "image/png": "[encoded data removed]",
      "text/plain": [
       "<Figure size 628.252x144.48 with 1 Axes>"
      ]
     },
     "execution_count": 56,
     "metadata": {},
     "output_type": "execute_result"
    }
   ],
   "source": [
    "new_qc.decompose().draw(output='mpl')"
   ]
  },
  {
   "cell_type": "markdown",
   "metadata": {},
   "source": [
    "## Basic pass manager"
   ]
  },
  {
   "cell_type": "code",
   "execution_count": 33,
   "metadata": {},
   "outputs": [
    {
     "data": {
      "image/png": "[encoded data removed]",
      "text/plain": [
       "<Figure size 688.452x144.48 with 1 Axes>"
      ]
     },
     "execution_count": 33,
     "metadata": {},
     "output_type": "execute_result"
    }
   ],
   "source": [
    "from qiskit.transpiler import PassManager\n",
    "pm = PassManager()\n",
    "from qiskit.transpiler.passes import (\n",
    "    BasisTranslator,\n",
    "    UnrollCustomDefinitions,\n",
    "    Optimize1qGates,\n",
    "    Optimize1qGatesDecomposition,\n",
    "    Optimize1qGatesSimpleCommutation\n",
    ")\n",
    "from qiskit.transpiler import PassManager\n",
    "from qiskit.circuit.equivalence_library import StandardEquivalenceLibrary as _sel\n",
    "\n",
    "pass_ = [UnrollCustomDefinitions(_sel, [\"u3\", \"riswap\"]), Optimize1qGatesDecomposition(basis=[\"u3, riswap\"])]\n",
    "pm = PassManager(pass_)\n",
    "new_circ = pm.run(new_qc)\n",
    "new_circ.draw(output=\"mpl\")"
   ]
  },
  {
   "cell_type": "markdown",
   "metadata": {},
   "source": [
    "## Verify again"
   ]
  },
  {
   "cell_type": "code",
   "execution_count": 35,
   "metadata": {},
   "outputs": [
    {
     "name": "stderr",
     "output_type": "stream",
     "text": [
      "/home/evm9/transpilation_EM/venv/lib/python3.8/site-packages/qiskit/quantum_info/synthesis/one_qubit_decompose.py:157: FutureWarning: The input object of type 'UnitaryGate' is an array-like implementing one of the corresponding protocols (`__array__`, `__array_interface__` or `__array_struct__`); but not a sequence (or 0-D). In the future, this object will be coerced as if it was first converted using `np.array(obj)`. To retain the old behaviour, you have to either modify the type 'UnitaryGate', or assign to an empty array created with `np.empty(correct_shape, dtype=object)`.\n",
      "  unitary = np.asarray(unitary, dtype=complex)\n"
     ]
    },
    {
     "ename": "ValueError",
     "evalue": "setting an array element with a sequence. The requested array has an inhomogeneous shape after 2 dimensions. The detected shape was (8, 3) + inhomogeneous part.",
     "output_type": "error",
     "traceback": [
      "\u001b[0;31m---------------------------------------------------------------------------\u001b[0m",
      "\u001b[0;31mValueError\u001b[0m                                Traceback (most recent call last)",
      "\u001b[1;32m/home/evm9/transpilation_EM/utils/transpiler_passes/pinlei_decomp.ipynb Cell 9'\u001b[0m in \u001b[0;36m<module>\u001b[0;34m\u001b[0m\n\u001b[1;32m      <a href='vscode-notebook-cell://ssh-remote%2B7b22686f73744e616d65223a224f707469706c6578227d/home/evm9/transpilation_EM/utils/transpiler_passes/pinlei_decomp.ipynb#ch0000013vscode-remote?line=0'>1</a>\u001b[0m decomposer \u001b[39m=\u001b[39m OneQubitEulerDecomposer(\u001b[39m\"\u001b[39m\u001b[39mZSXX\u001b[39m\u001b[39m\"\u001b[39m)\n\u001b[0;32m----> <a href='vscode-notebook-cell://ssh-remote%2B7b22686f73744e616d65223a224f707469706c6578227d/home/evm9/transpilation_EM/utils/transpiler_passes/pinlei_decomp.ipynb#ch0000013vscode-remote?line=1'>2</a>\u001b[0m decomposer(new_qc)\n",
      "File \u001b[0;32m~/transpilation_EM/venv/lib/python3.8/site-packages/qiskit/quantum_info/synthesis/one_qubit_decompose.py:157\u001b[0m, in \u001b[0;36mOneQubitEulerDecomposer.__call__\u001b[0;34m(self, unitary, simplify, atol)\u001b[0m\n\u001b[1;32m    <a href='file:///home/evm9/transpilation_EM/venv/lib/python3.8/site-packages/qiskit/quantum_info/synthesis/one_qubit_decompose.py?line=154'>155</a>\u001b[0m     unitary \u001b[39m=\u001b[39m unitary\u001b[39m.\u001b[39mto_matrix()\n\u001b[1;32m    <a href='file:///home/evm9/transpilation_EM/venv/lib/python3.8/site-packages/qiskit/quantum_info/synthesis/one_qubit_decompose.py?line=155'>156</a>\u001b[0m \u001b[39m# Convert to numpy array in case not already an array\u001b[39;00m\n\u001b[0;32m--> <a href='file:///home/evm9/transpilation_EM/venv/lib/python3.8/site-packages/qiskit/quantum_info/synthesis/one_qubit_decompose.py?line=156'>157</a>\u001b[0m unitary \u001b[39m=\u001b[39m np\u001b[39m.\u001b[39;49masarray(unitary, dtype\u001b[39m=\u001b[39;49m\u001b[39mcomplex\u001b[39;49m)\n\u001b[1;32m    <a href='file:///home/evm9/transpilation_EM/venv/lib/python3.8/site-packages/qiskit/quantum_info/synthesis/one_qubit_decompose.py?line=158'>159</a>\u001b[0m \u001b[39m# Check input is a 2-qubit unitary\u001b[39;00m\n\u001b[1;32m    <a href='file:///home/evm9/transpilation_EM/venv/lib/python3.8/site-packages/qiskit/quantum_info/synthesis/one_qubit_decompose.py?line=159'>160</a>\u001b[0m \u001b[39mif\u001b[39;00m unitary\u001b[39m.\u001b[39mshape \u001b[39m!=\u001b[39m (\u001b[39m2\u001b[39m, \u001b[39m2\u001b[39m):\n",
      "\u001b[0;31mValueError\u001b[0m: setting an array element with a sequence. The requested array has an inhomogeneous shape after 2 dimensions. The detected shape was (8, 3) + inhomogeneous part."
     ]
    }
   ],
   "source": [
    "decomposer = OneQubitEulerDecomposer(\"ZSXX\")\n",
    "decomposer(new_qc)\n"
   ]
  },
  {
   "cell_type": "code",
   "execution_count": 34,
   "metadata": {},
   "outputs": [
    {
     "data": {
      "text/plain": [
       "True"
      ]
     },
     "execution_count": 34,
     "metadata": {},
     "output_type": "execute_result"
    }
   ],
   "source": [
    "Operator(new_circ).equiv(CXGate())"
   ]
  }
 ],
 "metadata": {
  "interpreter": {
   "hash": "3c923d04e9af837f8cfab086aad703afe35b7499ff33e9e2bcba0d425db844a6"
  },
  "kernelspec": {
   "display_name": "Python 3.8.10 ('venv': venv)",
   "language": "python",
   "name": "python3"
  },
  "language_info": {
   "codemirror_mode": {
    "name": "ipython",
    "version": 3
   },
   "file_extension": ".py",
   "mimetype": "text/x-python",
   "name": "python",
   "nbconvert_exporter": "python",
   "pygments_lexer": "ipython3",
   "version": "3.8.10"
  },
  "orig_nbformat": 4
 },
 "nbformat": 4,
 "nbformat_minor": 2
}

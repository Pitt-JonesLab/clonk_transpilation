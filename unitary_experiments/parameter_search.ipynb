{
 "cells": [
  {
   "cell_type": "code",
   "execution_count": 9,
   "metadata": {},
   "outputs": [],
   "source": [
    "from qiskit import QuantumCircuit\n",
    "from qiskit.circuit import Parameter\n",
    "from qiskit.quantum_info.operators import Operator\n",
    "from qiskit.circuit.library.standard_gates import *\n",
    "import numpy as np\n",
    "from itertools import product"
   ]
  },
  {
   "cell_type": "code",
   "execution_count": 10,
   "metadata": {},
   "outputs": [],
   "source": [
    "import sympy\n",
    "from qiskit.circuit import ParameterExpression"
   ]
  },
  {
   "cell_type": "markdown",
   "metadata": {},
   "source": [
    "Start by building brute force search for CNOT. This is a bit silly because for a known target, you can just calculate these parameter values directly. Alternatively, you can just permute your available gates around these positions like down in cnot_axbxc.ipynb"
   ]
  },
  {
   "cell_type": "code",
   "execution_count": 11,
   "metadata": {},
   "outputs": [
    {
     "data": {
      "image/png": "[encoded data removed]",
      "text/plain": [
       "<Figure size 808.852x144.48 with 1 Axes>"
      ]
     },
     "execution_count": 11,
     "metadata": {},
     "output_type": "execute_result"
    }
   ],
   "source": [
    "alpha = Parameter('alpha')\n",
    "beta = Parameter('beta')\n",
    "delta = Parameter('delta')\n",
    "gamma = Parameter('gamma')\n",
    "\n",
    "c_sub = QuantumCircuit(1, name='C')\n",
    "c_sub.rz((delta-beta)/2, 0)\n",
    "c_gate = c_sub.to_gate()\n",
    "\n",
    "b_sub = QuantumCircuit(1, name=\"B\")\n",
    "b_sub.rz(-(delta+beta)/2, 0)\n",
    "b_sub.ry(-gamma/2, 0)\n",
    "b_gate = b_sub.to_gate()\n",
    "\n",
    "a_sub = QuantumCircuit(1,name=\"A\")\n",
    "a_sub.ry(gamma/2, 0)\n",
    "a_sub.rz(beta, 0)\n",
    "a_gate = a_sub.to_gate()\n",
    "\n",
    "qc = QuantumCircuit(2)\n",
    "qc.append(c_gate,[1])\n",
    "qc.append(CXGate(), [0,1])\n",
    "qc.append(b_gate,[1])\n",
    "qc.append(CXGate(),[0,1])\n",
    "qc.append(a_gate,[1])\n",
    "qc.append(PhaseGate(alpha), [0])\n",
    "qc.decompose().draw(output='mpl')"
   ]
  },
  {
   "cell_type": "code",
   "execution_count": 12,
   "metadata": {},
   "outputs": [],
   "source": [
    "alpha_range = beta_range = delta_range = gamma_range = np.arange(0, 2 * np.pi, np.pi/4)\n",
    "\n",
    "circuits = [qc.bind_parameters({alpha: alpha_val, beta:beta_val, delta:delta_val, gamma:gamma_val})\n",
    "            for alpha_val, beta_val, delta_val, gamma_val in product(alpha_range, beta_range, delta_range, gamma_range)]"
   ]
  },
  {
   "cell_type": "code",
   "execution_count": 13,
   "metadata": {},
   "outputs": [
    {
     "name": "stdout",
     "output_type": "stream",
     "text": [
      "                                                  ┌────────────┐           \n",
      "q_0: ─────────────■────────────────────────────■──┤ U(0,0,π/2) ├───────────\n",
      "     ┌─────────┐┌─┴─┐┌──────────┐┌──────────┐┌─┴─┐└┬─────────┬─┘┌─────────┐\n",
      "q_1: ┤ Rz(π/2) ├┤ X ├┤ Rz(-π/2) ├┤ Ry(-π/2) ├┤ X ├─┤ Ry(π/2) ├──┤ Rz(0.0) ├\n",
      "     └─────────┘└───┘└──────────┘└──────────┘└───┘ └─────────┘  └─────────┘\n",
      "                                                   ┌────────────┐           \n",
      "q_0: ─────────────■─────────────────────────────■──┤ U(0,0,π/2) ├───────────\n",
      "     ┌─────────┐┌─┴─┐┌───────────┐┌──────────┐┌─┴─┐└┬─────────┬─┘┌─────────┐\n",
      "q_1: ┤ Rz(π/2) ├┤ X ├┤ Rz(-3π/4) ├┤ Ry(-π/2) ├┤ X ├─┤ Ry(π/2) ├──┤ Rz(π/4) ├\n",
      "     └─────────┘└───┘└───────────┘└──────────┘└───┘ └─────────┘  └─────────┘\n",
      "                                                ┌────────────┐           \n",
      "q_0: ─────────────■──────────────────────────■──┤ U(0,0,π/2) ├───────────\n",
      "     ┌─────────┐┌─┴─┐┌────────┐┌──────────┐┌─┴─┐└┬─────────┬─┘┌─────────┐\n",
      "q_1: ┤ Rz(π/2) ├┤ X ├┤ Rz(-π) ├┤ Ry(-π/2) ├┤ X ├─┤ Ry(π/2) ├──┤ Rz(π/2) ├\n",
      "     └─────────┘└───┘└────────┘└──────────┘└───┘ └─────────┘  └─────────┘\n",
      "                                                   ┌────────────┐            \n",
      "q_0: ─────────────■─────────────────────────────■──┤ U(0,0,π/2) ├────────────\n",
      "     ┌─────────┐┌─┴─┐┌───────────┐┌──────────┐┌─┴─┐└┬─────────┬─┘┌──────────┐\n",
      "q_1: ┤ Rz(π/2) ├┤ X ├┤ Rz(-5π/4) ├┤ Ry(-π/2) ├┤ X ├─┤ Ry(π/2) ├──┤ Rz(3π/4) ├\n",
      "     └─────────┘└───┘└───────────┘└──────────┘└───┘ └─────────┘  └──────────┘\n",
      "                                                   ┌─────────────┐         \n",
      "q_0: ──────────────■────────────────────────────■──┤ U(0,0,3π/2) ├─────────\n",
      "     ┌──────────┐┌─┴─┐┌──────────┐┌──────────┐┌─┴─┐└─┬─────────┬─┘┌───────┐\n",
      "q_1: ┤ Rz(-π/2) ├┤ X ├┤ Rz(-π/2) ├┤ Ry(-π/2) ├┤ X ├──┤ Ry(π/2) ├──┤ Rz(π) ├\n",
      "     └──────────┘└───┘└──────────┘└──────────┘└───┘  └─────────┘  └───────┘\n",
      "                                                    ┌─────────────┐            \n",
      "q_0: ──────────────■─────────────────────────────■──┤ U(0,0,3π/2) ├────────────\n",
      "     ┌──────────┐┌─┴─┐┌───────────┐┌──────────┐┌─┴─┐└─┬─────────┬─┘┌──────────┐\n",
      "q_1: ┤ Rz(-π/2) ├┤ X ├┤ Rz(-3π/4) ├┤ Ry(-π/2) ├┤ X ├──┤ Ry(π/2) ├──┤ Rz(5π/4) ├\n",
      "     └──────────┘└───┘└───────────┘└──────────┘└───┘  └─────────┘  └──────────┘\n",
      "                                                 ┌─────────────┐            \n",
      "q_0: ──────────────■──────────────────────────■──┤ U(0,0,3π/2) ├────────────\n",
      "     ┌──────────┐┌─┴─┐┌────────┐┌──────────┐┌─┴─┐└─┬─────────┬─┘┌──────────┐\n",
      "q_1: ┤ Rz(-π/2) ├┤ X ├┤ Rz(-π) ├┤ Ry(-π/2) ├┤ X ├──┤ Ry(π/2) ├──┤ Rz(3π/2) ├\n",
      "     └──────────┘└───┘└────────┘└──────────┘└───┘  └─────────┘  └──────────┘\n",
      "                                                    ┌─────────────┐            \n",
      "q_0: ──────────────■─────────────────────────────■──┤ U(0,0,3π/2) ├────────────\n",
      "     ┌──────────┐┌─┴─┐┌───────────┐┌──────────┐┌─┴─┐└─┬─────────┬─┘┌──────────┐\n",
      "q_1: ┤ Rz(-π/2) ├┤ X ├┤ Rz(-5π/4) ├┤ Ry(-π/2) ├┤ X ├──┤ Ry(π/2) ├──┤ Rz(7π/4) ├\n",
      "     └──────────┘└───┘└───────────┘└──────────┘└───┘  └─────────┘  └──────────┘\n"
     ]
    }
   ],
   "source": [
    "target = CXGate()\n",
    "for circuit in circuits:\n",
    "    if Operator(circuit).equiv(target):\n",
    "        print(circuit.decompose().draw())"
   ]
  },
  {
   "cell_type": "code",
   "execution_count": 14,
   "metadata": {},
   "outputs": [],
   "source": [
    "import qiskit.extensions as qe\n",
    "class rootswap_gate(qe.UnitaryGate):\n",
    "    def __init__(self):\n",
    "        super().__init__(\n",
    "            data=np.array(\n",
    "                [\n",
    "                    [1, 0, 0, 0],\n",
    "                    [0, 0.5 * (1 + 1j), 0.5 * (1 - 1j), 0],\n",
    "                    [0, 0.5 * (1 - 1j), 0.5 * (1 + 1j), 0],\n",
    "                    [0, 0, 0, 1],\n",
    "                ]\n",
    "            ),\n",
    "            label=r\"$\\sqrt{SWAP}$\",\n",
    "        )"
   ]
  },
  {
   "cell_type": "code",
   "execution_count": 15,
   "metadata": {},
   "outputs": [],
   "source": [
    "class rootiswap_gate(qe.UnitaryGate):\n",
    "    def __init__(self):\n",
    "        super().__init__(\n",
    "            data=np.array(\n",
    "                [[1,0,0,0],[0,1/np.sqrt(2),1j/np.sqrt(2),0],[0,1j/np.sqrt(2),1/np.sqrt(2),0],[0,0,0,1]]\n",
    "            ),\n",
    "            label=r\"$i\\sqrt{SWAP}$\"\n",
    "        )"
   ]
  },
  {
   "cell_type": "markdown",
   "metadata": {},
   "source": [
    "Start with ASWAPBSWAPC = U"
   ]
  },
  {
   "cell_type": "code",
   "execution_count": 16,
   "metadata": {},
   "outputs": [
    {
     "data": {
      "image/png": "[encoded data removed]",
      "text/plain": [
       "<Figure size 688.452x144.48 with 1 Axes>"
      ]
     },
     "execution_count": 16,
     "metadata": {},
     "output_type": "execute_result"
    }
   ],
   "source": [
    "alpha = Parameter('alpha')\n",
    "beta = Parameter('beta')\n",
    "delta = Parameter('delta')\n",
    "gamma = Parameter('gamma')\n",
    "\n",
    "c_sub = QuantumCircuit(1, name='C')\n",
    "c_sub.rz((delta-beta)/2, 0)\n",
    "c_gate = c_sub.to_gate()\n",
    "\n",
    "b_sub = QuantumCircuit(1, name=\"B\")\n",
    "b_sub.rz(-(delta+beta)/2, 0)\n",
    "b_sub.ry(-gamma/2, 0)\n",
    "b_gate = b_sub.to_gate()\n",
    "\n",
    "a_sub = QuantumCircuit(1,name=\"A\")\n",
    "a_sub.ry(gamma/2, 0)\n",
    "a_sub.rz(beta, 0)\n",
    "a_gate = a_sub.to_gate()\n",
    "\n",
    "qc = QuantumCircuit(2)\n",
    "qc.append(c_gate,[1])\n",
    "qc.append(rootswap_gate(), [0,1])\n",
    "qc.append(b_gate,[1])\n",
    "qc.append(rootswap_gate(),[0,1])\n",
    "qc.append(a_gate,[1])\n",
    "qc.append(PhaseGate(alpha), [0])\n",
    "qc.draw(output='mpl')"
   ]
  },
  {
   "cell_type": "code",
   "execution_count": 17,
   "metadata": {},
   "outputs": [],
   "source": [
    "from itertools import product\n",
    "\n",
    "alpha_range = beta_range = delta_range = gamma_range = np.arange(0, 2 * np.pi, np.pi/4)\n",
    "\n",
    "circuits = [qc.bind_parameters({alpha: alpha_val, beta:beta_val, delta:delta_val, gamma:gamma_val})\n",
    "            for alpha_val, beta_val, delta_val, gamma_val in product(alpha_range, beta_range, delta_range, gamma_range)]"
   ]
  },
  {
   "cell_type": "code",
   "execution_count": 18,
   "metadata": {},
   "outputs": [],
   "source": [
    "target = CXGate()\n",
    "for circuit in circuits:\n",
    "    if Operator(circuit).equiv(Operator(target)):\n",
    "        print(circuit.decompose().draw())"
   ]
  },
  {
   "cell_type": "markdown",
   "metadata": {},
   "source": [
    "No results, not suprising. We need to adapt the building block - but this is hard to do without getting a better closed form first. Ideally, we can just solve for these values like we would for the normal CX case, but can we try brute forcing them. Problem is that even with a small search space, there are just too many free variables!"
   ]
  },
  {
   "cell_type": "code",
   "execution_count": 19,
   "metadata": {},
   "outputs": [
    {
     "data": {
      "image/png": "[encoded data removed]",
      "text/plain": [
       "<Figure size 1049.65x144.48 with 1 Axes>"
      ]
     },
     "execution_count": 19,
     "metadata": {},
     "output_type": "execute_result"
    }
   ],
   "source": [
    "def zy_unitary(m_label, u_label):\n",
    "    #use U = Z-Y decomposition to reduce U into a set of 4 parameters\n",
    "\n",
    "    alpha = Parameter(f'alpha_{m_label}_{u_label}')\n",
    "    beta = Parameter(f'beta_{m_label}_{u_label}')\n",
    "    delta = Parameter(f'delta_{m_label}_{u_label}')\n",
    "    gamma = Parameter(f'gamma_{m_label}_{u_label}')\n",
    "\n",
    "    module_sub = QuantumCircuit(1, name=\"ZYZ\")\n",
    "    module_sub.rz(beta, 0)\n",
    "    module_sub.ry(delta, 0)\n",
    "    module_sub.rz(gamma, 0)\n",
    "    module_gate = module_sub.to_gate()\n",
    "\n",
    "    return module_gate\n",
    "\n",
    "def zx_unitary(m_label, u_label):\n",
    "    #use U = Z-X decomposition to reduce U into a set of 4 parameters\n",
    "\n",
    "    alpha = Parameter(f'alpha_{m_label}_{u_label}')\n",
    "    beta = Parameter(f'beta_{m_label}_{u_label}')\n",
    "    delta = Parameter(f'delta_{m_label}_{u_label}')\n",
    "    gamma = Parameter(f'gamma_{m_label}_{u_label}')\n",
    "\n",
    "    module_sub = QuantumCircuit(1, name=\"ZXZ\")\n",
    "    module_sub.rz(beta, 0)\n",
    "    module_sub.rx(delta, 0)\n",
    "    module_sub.rz(gamma, 0)\n",
    "    module_gate = module_sub.to_gate()\n",
    "\n",
    "    return module_gate\n",
    "\n",
    "n_modules = 2\n",
    "qc = QuantumCircuit(2)\n",
    "qc.append(zy_unitary(-1,0), [0])\n",
    "qc.append(zy_unitary(-1,1), [1])\n",
    "for i in range(n_modules):\n",
    "    qc.append(rootswap_gate(), [0,1])\n",
    "    qc.append(zy_unitary(i,0), [0])\n",
    "    qc.append(zy_unitary(i,1),[1])\n",
    "qc.draw(output='mpl')"
   ]
  },
  {
   "cell_type": "markdown",
   "metadata": {},
   "source": [
    "A complete sweep of parameters is too massive right now"
   ]
  },
  {
   "cell_type": "code",
   "execution_count": 20,
   "metadata": {},
   "outputs": [
    {
     "data": {
      "text/html": [
       "<pre style=\"word-wrap: normal;white-space: pre;background: #fff0;line-height: 1.1;font-family: &quot;Courier New&quot;,Courier,monospace\">   ┌───┐┌────┐┌───┐┌────┐┌───┐\n",
       "q: ┤ Z ├┤ √X ├┤ Z ├┤ √X ├┤ Z ├\n",
       "   └───┘└────┘└───┘└────┘└───┘</pre>"
      ],
      "text/plain": [
       "   ┌───┐┌────┐┌───┐┌────┐┌───┐\n",
       "q: ┤ Z ├┤ √X ├┤ Z ├┤ √X ├┤ Z ├\n",
       "   └───┘└────┘└───┘└────┘└───┘"
      ]
     },
     "execution_count": 20,
     "metadata": {},
     "output_type": "execute_result"
    }
   ],
   "source": [
    "qc = QuantumCircuit(1)\n",
    "qc.z(0)\n",
    "qc.sx(0)\n",
    "qc.z(0)\n",
    "qc.sx(0)\n",
    "qc.z(0)\n",
    "qc.draw()"
   ]
  },
  {
   "cell_type": "code",
   "execution_count": 21,
   "metadata": {},
   "outputs": [],
   "source": [
    "# from itertools import product\n",
    "# alpha_range = beta_range = delta_range = gamma_range = np.arange(0, 2 * np.pi, np.pi/2)\n",
    "\n",
    "# #need some clever comphrension to bind all the parameters\n",
    "# c = 0 \n",
    "# for parameter_set in product(product(alpha_range, beta_range, delta_range, gamma_range), repeat=2+2*n_modules):\n",
    "#     c+=1\n",
    "# print(c)\n",
    "#TOO BIG"
   ]
  },
  {
   "cell_type": "markdown",
   "metadata": {},
   "source": [
    "Reduce parameter sweep for now to match a known solution\n",
    "\n",
    "\n",
    "![title](../image.png)"
   ]
  },
  {
   "cell_type": "code",
   "execution_count": 22,
   "metadata": {},
   "outputs": [
    {
     "data": {
      "image/png": "[encoded data removed]",
      "text/plain": [
       "<Figure size 869.052x144.48 with 1 Axes>"
      ]
     },
     "execution_count": 22,
     "metadata": {},
     "output_type": "execute_result"
    }
   ],
   "source": [
    "#first let's verify this solution\n",
    "qc = QuantumCircuit(2)\n",
    "qc.append(zx_unitary(0,0),[0])\n",
    "qc.append(zx_unitary(0,1),[1])\n",
    "#qc.append(rootiswap_gate(), [0,1])\n",
    "qc.append(iSwapGate(), [0,1])\n",
    "qc.append(zx_unitary(1,0),[0])\n",
    "#qc.append(rootiswap_gate(),[0,1])\n",
    "qc.append(iSwapGate(), [0,1])\n",
    "qc.append(zx_unitary(1,2),[1])\n",
    "\n",
    "#iterating parameters does in alphabetical order\n",
    "#maybe smarter to loop over gates and assign parameters\n",
    "#this is fine because just creating a loop skeleton for the brute force search\n",
    "p = [-np.pi/2, 0, 0, np.pi/2, 0, np.pi/2, np.pi/2, 0, 0, np.pi/2, 0, 0]\n",
    "for i, parameter in enumerate(qc.parameters):\n",
    "    qc.assign_parameters({parameter:p[i]}, inplace=True)\n",
    "\n",
    "qc.decompose('ZXZ').draw(output='mpl')"
   ]
  },
  {
   "cell_type": "markdown",
   "metadata": {},
   "source": [
    "Looks good"
   ]
  },
  {
   "cell_type": "code",
   "execution_count": 23,
   "metadata": {},
   "outputs": [
    {
     "data": {
      "text/plain": [
       "True"
      ]
     },
     "execution_count": 23,
     "metadata": {},
     "output_type": "execute_result"
    }
   ],
   "source": [
    "Operator(qc).equiv(Operator(CXGate()))"
   ]
  },
  {
   "cell_type": "code",
   "execution_count": 28,
   "metadata": {},
   "outputs": [
    {
     "data": {
      "image/png": "[encoded data removed]",
      "text/plain": [
       "<Figure size 1049.65x144.48 with 1 Axes>"
      ]
     },
     "execution_count": 28,
     "metadata": {},
     "output_type": "execute_result"
    }
   ],
   "source": [
    "#Next, build a version to sweep parameers on\n",
    "#After we show this works, see if for a similar building block we can make other C(U) gates\n",
    "qc = QuantumCircuit(2)\n",
    "qc.append(zx_unitary(0,0),[0])\n",
    "qc.append(zx_unitary(0,1),[1])\n",
    "#qc.append(rootiswap_gate(), [0,1])\n",
    "qc.append(iSwapGate(), [0,1])\n",
    "qc.append(zx_unitary(1,0),[0])\n",
    "#qc.append(rootiswap_gate(), [0,1])\n",
    "qc.append(iSwapGate(), [0,1])\n",
    "qc.append(zx_unitary(1,2),[1])\n",
    "qc.draw(output='mpl')"
   ]
  },
  {
   "cell_type": "code",
   "execution_count": 29,
   "metadata": {},
   "outputs": [],
   "source": [
    "# #Note on tuple unpacking syntax\n",
    "# a = [el for el in product(product(beta_range, delta_range, gamma_range), repeat=3)]\n",
    "# # ((0.0, 0.0, 0.0), (0.0, 0.0, 0.0), (0.0, 0.0, 0.0))\n",
    "# # ((0.0, 0.0, 0.0), (0.0, 0.0, 0.0), (0.0, 0.0, 1.5707963267948966))\n",
    "# # ((0.0, 0.0, 0.0), (0.0, 0.0, 0.0), (0.0, 0.0, 3.141592653589793))\n",
    "# # ...\n",
    "\n",
    "# # [0.0, 0.0, 0.0, 0.0, 0.0, 0.0, 0.0, 0.0, 0.0]"
   ]
  },
  {
   "cell_type": "code",
   "execution_count": null,
   "metadata": {},
   "outputs": [],
   "source": []
  },
  {
   "cell_type": "code",
   "execution_count": 33,
   "metadata": {},
   "outputs": [],
   "source": [
    "from itertools import product\n",
    "alpha_range = beta_range = delta_range = gamma_range = [0, np.pi/2, -np.pi/2] #np.arange(0, 2 * np.pi, np.pi/2)\n",
    "\n",
    "#need some clever comphrension to bind all the parameters\n",
    "circuits = []\n",
    "c = 0\n",
    "\n",
    "for parameter_set in product(product(beta_range, delta_range, gamma_range), repeat=4):\n",
    "    unpack_set = [el for sub in parameter_set for el in sub]\n",
    "    parameter_dict = {parameter:value for parameter,value in zip(qc.parameters, unpack_set)}\n",
    "    circuits.append(qc.bind_parameters(parameter_dict))"
   ]
  },
  {
   "cell_type": "code",
   "execution_count": 31,
   "metadata": {},
   "outputs": [
    {
     "ename": "AttributeError",
     "evalue": "'NoneType' object has no attribute 'decompose'",
     "output_type": "error",
     "traceback": [
      "\u001b[0;31m---------------------------------------------------------------------------\u001b[0m",
      "\u001b[0;31mAttributeError\u001b[0m                            Traceback (most recent call last)",
      "Input \u001b[0;32mIn [31]\u001b[0m, in \u001b[0;36m<module>\u001b[0;34m\u001b[0m\n\u001b[1;32m      6\u001b[0m         found \u001b[38;5;241m=\u001b[39m circuit\n\u001b[1;32m      7\u001b[0m         \u001b[38;5;28;01mbreak\u001b[39;00m\n\u001b[0;32m----> 8\u001b[0m \u001b[43mfound\u001b[49m\u001b[38;5;241;43m.\u001b[39;49m\u001b[43mdecompose\u001b[49m(\u001b[38;5;124m'\u001b[39m\u001b[38;5;124mZXZ\u001b[39m\u001b[38;5;124m'\u001b[39m)\u001b[38;5;241m.\u001b[39mdraw(output\u001b[38;5;241m=\u001b[39m\u001b[38;5;124m'\u001b[39m\u001b[38;5;124mmpl\u001b[39m\u001b[38;5;124m'\u001b[39m)\n",
      "\u001b[0;31mAttributeError\u001b[0m: 'NoneType' object has no attribute 'decompose'"
     ]
    }
   ],
   "source": [
    "target = CRZGate(np.pi/2)\n",
    "found = None\n",
    "for circuit in circuits:\n",
    "    if Operator(circuit).equiv(Operator(target)):\n",
    "        # print(circuit.decompose('ZXZ').draw())\n",
    "        found = circuit\n",
    "        break\n",
    "found.decompose('ZXZ').draw(output='mpl')"
   ]
  },
  {
   "cell_type": "markdown",
   "metadata": {},
   "source": [
    "TODO, adapt it so it can search by keep adding segments as needed,\n",
    "adapt so has gates above on q0,\n",
    "change from RY to RZ -> need to rederive equations?"
   ]
  }
 ],
 "metadata": {
  "interpreter": {
   "hash": "e7370f93d1d0cde622a1f8e1c04877d8463912d04d973331ad4851f04de6915a"
  },
  "kernelspec": {
   "display_name": "Python 3.8.10 64-bit",
   "language": "python",
   "name": "python3"
  },
  "language_info": {
   "codemirror_mode": {
    "name": "ipython",
    "version": 3
   },
   "file_extension": ".py",
   "mimetype": "text/x-python",
   "name": "python",
   "nbconvert_exporter": "python",
   "pygments_lexer": "ipython3",
   "version": "3.8.10"
  },
  "orig_nbformat": 4
 },
 "nbformat": 4,
 "nbformat_minor": 2
}

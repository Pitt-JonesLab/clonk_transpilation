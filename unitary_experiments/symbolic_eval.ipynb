{
 "cells": [
  {
   "cell_type": "code",
   "execution_count": 11,
   "metadata": {},
   "outputs": [],
   "source": [
    "from qiskit import QuantumCircuit\n",
    "from qiskit.circuit import Parameter, Gate\n",
    "from qiskit.quantum_info.operators import Operator\n",
    "from qiskit.circuit.library.standard_gates import *\n",
    "import numpy as np\n",
    "from itertools import product\n",
    "import sympy\n",
    "import qiskit.extensions as qe"
   ]
  },
  {
   "cell_type": "code",
   "execution_count": 12,
   "metadata": {},
   "outputs": [],
   "source": [
    "class rootSwap(qe.UnitaryGate):\n",
    "    def __init__(self):\n",
    "        super().__init__(data= np.array([[1,0,0,0], [0, .5*(1+1j), .5*(1-1j), 0], [0, .5*(1-1j), .5*(1+1j), 0], [0,0,0,1]]), label=r\"$\\sqrt{SWAP}$\")"
   ]
  },
  {
   "cell_type": "code",
   "execution_count": 5,
   "metadata": {},
   "outputs": [
    {
     "data": {
      "image/png": "[encoded data removed]",
      "text/plain": [
       "<Figure size 628.252x144.48 with 1 Axes>"
      ]
     },
     "execution_count": 5,
     "metadata": {},
     "output_type": "execute_result"
    }
   ],
   "source": [
    "qc = QuantumCircuit(2)\n",
    "qc.iswap(0,1)\n",
    "qc.sx(1)\n",
    "qc.iswap(0,1)\n",
    "qc.sx(0)\n",
    "qc.iswap(0,1)\n",
    "qc.sx(1)\n",
    "qc.draw(output='mpl')"
   ]
  },
  {
   "cell_type": "code",
   "execution_count": 8,
   "metadata": {},
   "outputs": [
    {
     "data": {
      "text/plain": [
       "True"
      ]
     },
     "execution_count": 8,
     "metadata": {},
     "output_type": "execute_result"
    }
   ],
   "source": [
    "Operator(qc).equiv(Operator(SwapGate()))"
   ]
  },
  {
   "cell_type": "code",
   "execution_count": 13,
   "metadata": {},
   "outputs": [
    {
     "data": {
      "image/png": "[encoded data removed]",
      "text/plain": [
       "<Figure size 568.052x144.48 with 1 Axes>"
      ]
     },
     "execution_count": 13,
     "metadata": {},
     "output_type": "execute_result"
    }
   ],
   "source": [
    "qc = QuantumCircuit(2)\n",
    "qc.swap(0,1)\n",
    "qc.x(1)\n",
    "qc.append(rootSwap(), [0,1])\n",
    "qc.z(0)\n",
    "qc.append(rootSwap(), [0,1])\n",
    "qc.z(0)\n",
    "qc.x(1)\n",
    "qc.draw(output='mpl')"
   ]
  },
  {
   "cell_type": "code",
   "execution_count": 15,
   "metadata": {},
   "outputs": [
    {
     "data": {
      "text/plain": [
       "False"
      ]
     },
     "execution_count": 15,
     "metadata": {},
     "output_type": "execute_result"
    }
   ],
   "source": [
    "Operator(qc).equiv(Operator(iSwapGate()))"
   ]
  },
  {
   "cell_type": "code",
   "execution_count": 2,
   "metadata": {},
   "outputs": [
    {
     "data": {
      "text/plain": [
       "qiskit.circuit.library.standard_gates.rx.RXGate"
      ]
     },
     "execution_count": 2,
     "metadata": {},
     "output_type": "execute_result"
    }
   ],
   "source": [
    "theta = sympy.Symbol(\"theta\")\n",
    "RXGate"
   ]
  },
  {
   "cell_type": "code",
   "execution_count": 60,
   "metadata": {},
   "outputs": [
    {
     "ename": "TypeError",
     "evalue": "can't convert expression to float",
     "output_type": "error",
     "traceback": [
      "\u001b[0;31m---------------------------------------------------------------------------\u001b[0m",
      "\u001b[0;31mTypeError\u001b[0m                                 Traceback (most recent call last)",
      "Input \u001b[0;32mIn [60]\u001b[0m, in \u001b[0;36m<module>\u001b[0;34m\u001b[0m\n\u001b[1;32m      3\u001b[0m         \u001b[38;5;28mself\u001b[39m\u001b[38;5;241m.\u001b[39mparams \u001b[38;5;241m=\u001b[39m [sympy\u001b[38;5;241m.\u001b[39mSymbol(\u001b[38;5;124m\"\u001b[39m\u001b[38;5;124mtheta\u001b[39m\u001b[38;5;124m\"\u001b[39m)]\n\u001b[1;32m      4\u001b[0m foo\u001b[38;5;241m.\u001b[39m__array__ \u001b[38;5;241m=\u001b[39m RXGate\u001b[38;5;241m.\u001b[39m__array__\u001b[38;5;241m.\u001b[39m\u001b[38;5;21m__get__\u001b[39m(foo())\n\u001b[0;32m----> 5\u001b[0m \u001b[43mfoo\u001b[49m\u001b[38;5;241;43m.\u001b[39;49m\u001b[43m__array__\u001b[49m\u001b[43m(\u001b[49m\u001b[43m)\u001b[49m\n",
      "File \u001b[0;32m~/transpilation_EM/venv/lib/python3.8/site-packages/qiskit/circuit/library/standard_gates/rx.py:102\u001b[0m, in \u001b[0;36mRXGate.__array__\u001b[0;34m(self, dtype)\u001b[0m\n\u001b[1;32m    100\u001b[0m \u001b[38;5;28;01mdef\u001b[39;00m \u001b[38;5;21m__array__\u001b[39m(\u001b[38;5;28mself\u001b[39m, dtype\u001b[38;5;241m=\u001b[39m\u001b[38;5;28;01mNone\u001b[39;00m):\n\u001b[1;32m    101\u001b[0m     \u001b[38;5;124;03m\"\"\"Return a numpy.array for the RX gate.\"\"\"\u001b[39;00m\n\u001b[0;32m--> 102\u001b[0m     cos \u001b[38;5;241m=\u001b[39m \u001b[43mmath\u001b[49m\u001b[38;5;241;43m.\u001b[39;49m\u001b[43mcos\u001b[49m\u001b[43m(\u001b[49m\u001b[38;5;28;43mself\u001b[39;49m\u001b[38;5;241;43m.\u001b[39;49m\u001b[43mparams\u001b[49m\u001b[43m[\u001b[49m\u001b[38;5;241;43m0\u001b[39;49m\u001b[43m]\u001b[49m\u001b[43m \u001b[49m\u001b[38;5;241;43m/\u001b[39;49m\u001b[43m \u001b[49m\u001b[38;5;241;43m2\u001b[39;49m\u001b[43m)\u001b[49m\n\u001b[1;32m    103\u001b[0m     sin \u001b[38;5;241m=\u001b[39m math\u001b[38;5;241m.\u001b[39msin(\u001b[38;5;28mself\u001b[39m\u001b[38;5;241m.\u001b[39mparams[\u001b[38;5;241m0\u001b[39m] \u001b[38;5;241m/\u001b[39m \u001b[38;5;241m2\u001b[39m)\n\u001b[1;32m    104\u001b[0m     \u001b[38;5;28;01mreturn\u001b[39;00m numpy\u001b[38;5;241m.\u001b[39marray([[cos, \u001b[38;5;241m-\u001b[39m\u001b[38;5;241m1\u001b[39mj \u001b[38;5;241m*\u001b[39m sin], [\u001b[38;5;241m-\u001b[39m\u001b[38;5;241m1\u001b[39mj \u001b[38;5;241m*\u001b[39m sin, cos]], dtype\u001b[38;5;241m=\u001b[39mdtype)\n",
      "File \u001b[0;32m~/transpilation_EM/venv/lib/python3.8/site-packages/sympy/core/expr.py:359\u001b[0m, in \u001b[0;36mExpr.__float__\u001b[0;34m(self)\u001b[0m\n\u001b[1;32m    357\u001b[0m \u001b[38;5;28;01mif\u001b[39;00m result\u001b[38;5;241m.\u001b[39mis_number \u001b[38;5;129;01mand\u001b[39;00m result\u001b[38;5;241m.\u001b[39mas_real_imag()[\u001b[38;5;241m1\u001b[39m]:\n\u001b[1;32m    358\u001b[0m     \u001b[38;5;28;01mraise\u001b[39;00m \u001b[38;5;167;01mTypeError\u001b[39;00m(\u001b[38;5;124m\"\u001b[39m\u001b[38;5;124mcan\u001b[39m\u001b[38;5;124m'\u001b[39m\u001b[38;5;124mt convert complex to float\u001b[39m\u001b[38;5;124m\"\u001b[39m)\n\u001b[0;32m--> 359\u001b[0m \u001b[38;5;28;01mraise\u001b[39;00m \u001b[38;5;167;01mTypeError\u001b[39;00m(\u001b[38;5;124m\"\u001b[39m\u001b[38;5;124mcan\u001b[39m\u001b[38;5;124m'\u001b[39m\u001b[38;5;124mt convert expression to float\u001b[39m\u001b[38;5;124m\"\u001b[39m)\n",
      "\u001b[0;31mTypeError\u001b[0m: can't convert expression to float"
     ]
    }
   ],
   "source": [
    "class foo():\n",
    "    def __init__(self):\n",
    "        self.params = [sympy.Symbol(\"theta\")]\n",
    "foo.__array__ = RXGate.__array__.__get__(foo())\n",
    "foo.__array__()"
   ]
  },
  {
   "cell_type": "code",
   "execution_count": 11,
   "metadata": {},
   "outputs": [
    {
     "name": "stdout",
     "output_type": "stream",
     "text": [
      "Matrix([[cos(theta/2), -1.0*I*sin(theta/2)], [-1.0*I*sin(theta/2), cos(theta/2)]])\n",
      "Matrix([[exp(-0.5*I*theta), 0], [0, exp(0.5*I*theta)]])\n"
     ]
    }
   ],
   "source": [
    "from inspect import getsource\n",
    "import re\n",
    "\n",
    "class SymbolicGate():\n",
    "    def __init__(self):\n",
    "        pass\n",
    "        \n",
    "    def eval(self, base, *symb):\n",
    "        self.params = list(symb)\n",
    "        function_string =  getsource(base.__array__)\n",
    "        function_string = function_string.replace(\"return\", \"self._temp=\")\n",
    "        function_string = function_string.replace(\"math\", \"sympy\")\n",
    "        function_string = function_string.replace(\", dtype=dtype\", \"\")\n",
    "        function_string = function_string.replace(\"dtype=dtype,\", \"\")\n",
    "        function_string = function_string.replace(\".array\", \".Matrix\")\n",
    "        function_string = function_string.replace(\"np.\", \"sympy.\")\n",
    "        function_string = function_string.replace(\"numpy\", \"sympy\")\n",
    "        function_formatted = \"\"\n",
    "        for line in function_string.splitlines():\n",
    "            if \"def\" in line:\n",
    "                continue\n",
    "            else:\n",
    "                if \"float\" in line:\n",
    "                    line = line.replace(\"float(\", \"\")\n",
    "                    line = line.replace(\")\", \"\")\n",
    "                #shift over from class indentation\n",
    "                function_formatted += line[8:]\n",
    "                function_formatted += \"\\n\"\n",
    "        \n",
    "        #function_formatted = \"import sympy\\n\" + function_formatted\n",
    "        exec(function_formatted, {\"sympy\":sympy, \"numpy\":np, \"self\":self})\n",
    "        return self._temp\n",
    "\n",
    "\n",
    "theta = sympy.Symbol(\"theta\")\n",
    "print(SymbolicGate().eval(RXGate, theta))\n",
    "print(SymbolicGate().eval(RZGate, theta))"
   ]
  },
  {
   "cell_type": "code",
   "execution_count": 8,
   "metadata": {},
   "outputs": [
    {
     "data": {
      "text/latex": [
       "$\\displaystyle \\left[\\begin{matrix}- 1.0 i e^{- 0.5 i t_{z}} \\sin{\\left(\\frac{t_{x}}{2} \\right)} \\sin{\\left(\\frac{t_{y}}{2} \\right)} + e^{- 0.5 i t_{z}} \\cos{\\left(\\frac{t_{x}}{2} \\right)} \\cos{\\left(\\frac{t_{y}}{2} \\right)} & - 1.0 i e^{0.5 i t_{z}} \\sin{\\left(\\frac{t_{x}}{2} \\right)} \\cos{\\left(\\frac{t_{y}}{2} \\right)} - e^{0.5 i t_{z}} \\sin{\\left(\\frac{t_{y}}{2} \\right)} \\cos{\\left(\\frac{t_{x}}{2} \\right)}\\\\- 1.0 i e^{- 0.5 i t_{z}} \\sin{\\left(\\frac{t_{x}}{2} \\right)} \\cos{\\left(\\frac{t_{y}}{2} \\right)} + e^{- 0.5 i t_{z}} \\sin{\\left(\\frac{t_{y}}{2} \\right)} \\cos{\\left(\\frac{t_{x}}{2} \\right)} & 1.0 i e^{0.5 i t_{z}} \\sin{\\left(\\frac{t_{x}}{2} \\right)} \\sin{\\left(\\frac{t_{y}}{2} \\right)} + e^{0.5 i t_{z}} \\cos{\\left(\\frac{t_{x}}{2} \\right)} \\cos{\\left(\\frac{t_{y}}{2} \\right)}\\end{matrix}\\right]$"
      ],
      "text/plain": [
       "Matrix([\n",
       "[-1.0*I*exp(-0.5*I*t_z)*sin(t_x/2)*sin(t_y/2) + exp(-0.5*I*t_z)*cos(t_x/2)*cos(t_y/2), -1.0*I*exp(0.5*I*t_z)*sin(t_x/2)*cos(t_y/2) - exp(0.5*I*t_z)*sin(t_y/2)*cos(t_x/2)],\n",
       "[-1.0*I*exp(-0.5*I*t_z)*sin(t_x/2)*cos(t_y/2) + exp(-0.5*I*t_z)*sin(t_y/2)*cos(t_x/2),  1.0*I*exp(0.5*I*t_z)*sin(t_x/2)*sin(t_y/2) + exp(0.5*I*t_z)*cos(t_x/2)*cos(t_y/2)]])"
      ]
     },
     "execution_count": 8,
     "metadata": {},
     "output_type": "execute_result"
    }
   ],
   "source": [
    "yz= SymbolicGate().eval(RYGate, sympy.Symbol(\"t_y\")) * SymbolicGate().eval(RZGate, sympy.Symbol(\"t_z\"))\n",
    "xyz = SymbolicGate().eval(RXGate, sympy.Symbol(\"t_x\")) * yz\n",
    "xyz"
   ]
  },
  {
   "cell_type": "code",
   "execution_count": 12,
   "metadata": {},
   "outputs": [
    {
     "name": "stdout",
     "output_type": "stream",
     "text": [
      "\"\"\"Return a Numpy.Matrix for the U3 gate.\"\"\"\n",
      "theta, phi, lam = self.params\n",
      "theta, phi, lam = theta, phi, lam\n",
      "cos = sympy.cos(theta / 2)\n",
      "sin = sympy.sin(theta / 2)\n",
      "self._temp= sympy.Matrix(\n",
      "    [\n",
      "        [cos, -sympy.exp(1j * lam) * sin],\n",
      "        [sympy.exp(1j * phi) * sin, sympy.exp(1j * (phi + lam)) * cos],\n",
      "    ],\n",
      "    dtype=dtype,\n",
      ")\n",
      "\n"
     ]
    }
   ],
   "source": [
    "SymbolicGate().eval(U3Gate, sympy.Symbol(\"f\"), sympy.Symbol(\"g\"), sympy.Symbol(\"h\"))"
   ]
  },
  {
   "cell_type": "code",
   "execution_count": 109,
   "metadata": {},
   "outputs": [],
   "source": [
    "class foo():\n",
    "    def __init__(self):\n",
    "        self.bar = 0\n",
    "        self.car = 1\n",
    "    \n",
    "    def foobar(self):\n",
    "        temp = 2+2\n",
    "        return self.bar + temp"
   ]
  },
  {
   "cell_type": "code",
   "execution_count": 140,
   "metadata": {},
   "outputs": [
    {
     "name": "stdout",
     "output_type": "stream",
     "text": [
      "4\n",
      "5\n"
     ]
    }
   ],
   "source": [
    "import inspect\n",
    "class wrap_foo(foo):\n",
    "    def __init__(self):\n",
    "        super().__init__()\n",
    "\n",
    "    def foobar(self):\n",
    "        a = inspect.getsource(foo.foobar)\n",
    "        a = a.replace(\"self.bar\", \"self.car\")\n",
    "        a = a.replace(\"return\", \"self.ret_2=\")\n",
    "        #string parsing lol\n",
    "        ret = \"\"\n",
    "        for line in a.splitlines():\n",
    "            if \"def\" in line:\n",
    "                continue\n",
    "            else:\n",
    "                #shift over from inside class indentation\n",
    "                ret += line[8:]\n",
    "                ret +=\"\\n\"\n",
    "\n",
    "        exec(ret, {\"self\": self})\n",
    "        return self.ret_2\n",
    "\n",
    "print(foo().foobar())\n",
    "print(wrap_foo().foobar())"
   ]
  },
  {
   "cell_type": "code",
   "execution_count": 64,
   "metadata": {},
   "outputs": [
    {
     "ename": "TypeError",
     "evalue": "ParameterExpression with unbound parameters ({Parameter(theta)}) cannot be cast to a float.",
     "output_type": "error",
     "traceback": [
      "\u001b[0;31m---------------------------------------------------------------------------\u001b[0m",
      "\u001b[0;31mRuntimeError\u001b[0m                              Traceback (most recent call last)",
      "File \u001b[0;32m~/transpilation_EM/venv/lib/python3.8/site-packages/qiskit/circuit/parameterexpression.py:444\u001b[0m, in \u001b[0;36mParameterExpression.__float__\u001b[0;34m(self)\u001b[0m\n\u001b[1;32m    443\u001b[0m \u001b[38;5;28;01mtry\u001b[39;00m:\n\u001b[0;32m--> 444\u001b[0m     \u001b[38;5;28;01mreturn\u001b[39;00m \u001b[38;5;28;43mfloat\u001b[39;49m\u001b[43m(\u001b[49m\u001b[38;5;28;43mself\u001b[39;49m\u001b[38;5;241;43m.\u001b[39;49m\u001b[43m_symbol_expr\u001b[49m\u001b[43m)\u001b[49m\n\u001b[1;32m    445\u001b[0m \u001b[38;5;66;03m# TypeError is for sympy, RuntimeError for symengine\u001b[39;00m\n",
      "File \u001b[0;32msymengine_wrapper.pyx:1143\u001b[0m, in \u001b[0;36msymengine.lib.symengine_wrapper.Basic.__float__\u001b[0;34m()\u001b[0m\n",
      "File \u001b[0;32msymengine_wrapper.pyx:968\u001b[0m, in \u001b[0;36msymengine.lib.symengine_wrapper.Basic.n\u001b[0;34m()\u001b[0m\n",
      "File \u001b[0;32msymengine_wrapper.pyx:4278\u001b[0m, in \u001b[0;36msymengine.lib.symengine_wrapper.evalf\u001b[0;34m()\u001b[0m\n",
      "\u001b[0;31mRuntimeError\u001b[0m: Symbol cannot be evaluated.",
      "\nThe above exception was the direct cause of the following exception:\n",
      "\u001b[0;31mTypeError\u001b[0m                                 Traceback (most recent call last)",
      "Input \u001b[0;32mIn [64]\u001b[0m, in \u001b[0;36m<module>\u001b[0;34m\u001b[0m\n\u001b[1;32m      3\u001b[0m theta \u001b[38;5;241m=\u001b[39m Parameter(\u001b[38;5;124m\"\u001b[39m\u001b[38;5;124mtheta\u001b[39m\u001b[38;5;124m\"\u001b[39m)\n\u001b[1;32m      4\u001b[0m circuit\u001b[38;5;241m.\u001b[39mrz(theta, \u001b[38;5;241m0\u001b[39m)\n\u001b[0;32m----> 5\u001b[0m \u001b[43mOperator\u001b[49m\u001b[43m(\u001b[49m\u001b[43mcircuit\u001b[49m\u001b[43m)\u001b[49m\u001b[38;5;241m.\u001b[39mdata\n",
      "File \u001b[0;32m~/transpilation_EM/venv/lib/python3.8/site-packages/qiskit/quantum_info/operators/operator.py:86\u001b[0m, in \u001b[0;36mOperator.__init__\u001b[0;34m(self, data, input_dims, output_dims)\u001b[0m\n\u001b[1;32m     77\u001b[0m     \u001b[38;5;28mself\u001b[39m\u001b[38;5;241m.\u001b[39m_data \u001b[38;5;241m=\u001b[39m np\u001b[38;5;241m.\u001b[39masarray(data, dtype\u001b[38;5;241m=\u001b[39m\u001b[38;5;28mcomplex\u001b[39m)\n\u001b[1;32m     78\u001b[0m \u001b[38;5;28;01melif\u001b[39;00m \u001b[38;5;28misinstance\u001b[39m(data, (QuantumCircuit, Instruction)):\n\u001b[1;32m     79\u001b[0m     \u001b[38;5;66;03m# If the input is a Terra QuantumCircuit or Instruction we\u001b[39;00m\n\u001b[1;32m     80\u001b[0m     \u001b[38;5;66;03m# perform a simulation to construct the unitary operator.\u001b[39;00m\n\u001b[0;32m   (...)\u001b[0m\n\u001b[1;32m     84\u001b[0m     \u001b[38;5;66;03m# conditional gates, measure, or reset will cause an\u001b[39;00m\n\u001b[1;32m     85\u001b[0m     \u001b[38;5;66;03m# exception to be raised.\u001b[39;00m\n\u001b[0;32m---> 86\u001b[0m     \u001b[38;5;28mself\u001b[39m\u001b[38;5;241m.\u001b[39m_data \u001b[38;5;241m=\u001b[39m \u001b[38;5;28;43mself\u001b[39;49m\u001b[38;5;241;43m.\u001b[39;49m\u001b[43m_init_instruction\u001b[49m\u001b[43m(\u001b[49m\u001b[43mdata\u001b[49m\u001b[43m)\u001b[49m\u001b[38;5;241m.\u001b[39mdata\n\u001b[1;32m     87\u001b[0m \u001b[38;5;28;01melif\u001b[39;00m \u001b[38;5;28mhasattr\u001b[39m(data, \u001b[38;5;124m\"\u001b[39m\u001b[38;5;124mto_operator\u001b[39m\u001b[38;5;124m\"\u001b[39m):\n\u001b[1;32m     88\u001b[0m     \u001b[38;5;66;03m# If the data object has a 'to_operator' attribute this is given\u001b[39;00m\n\u001b[1;32m     89\u001b[0m     \u001b[38;5;66;03m# higher preference than the 'to_matrix' method for initializing\u001b[39;00m\n\u001b[1;32m     90\u001b[0m     \u001b[38;5;66;03m# an Operator object.\u001b[39;00m\n\u001b[1;32m     91\u001b[0m     data \u001b[38;5;241m=\u001b[39m data\u001b[38;5;241m.\u001b[39mto_operator()\n",
      "File \u001b[0;32m~/transpilation_EM/venv/lib/python3.8/site-packages/qiskit/quantum_info/operators/operator.py:465\u001b[0m, in \u001b[0;36mOperator._init_instruction\u001b[0;34m(cls, instruction)\u001b[0m\n\u001b[1;32m    463\u001b[0m \u001b[38;5;28;01mif\u001b[39;00m \u001b[38;5;28misinstance\u001b[39m(instruction, QuantumCircuit):\n\u001b[1;32m    464\u001b[0m     instruction \u001b[38;5;241m=\u001b[39m instruction\u001b[38;5;241m.\u001b[39mto_instruction()\n\u001b[0;32m--> 465\u001b[0m \u001b[43mop\u001b[49m\u001b[38;5;241;43m.\u001b[39;49m\u001b[43m_append_instruction\u001b[49m\u001b[43m(\u001b[49m\u001b[43minstruction\u001b[49m\u001b[43m)\u001b[49m\n\u001b[1;32m    466\u001b[0m \u001b[38;5;28;01mreturn\u001b[39;00m op\n",
      "File \u001b[0;32m~/transpilation_EM/venv/lib/python3.8/site-packages/qiskit/quantum_info/operators/operator.py:533\u001b[0m, in \u001b[0;36mOperator._append_instruction\u001b[0;34m(self, obj, qargs)\u001b[0m\n\u001b[1;32m    531\u001b[0m \u001b[38;5;28;01melse\u001b[39;00m:\n\u001b[1;32m    532\u001b[0m     new_qargs \u001b[38;5;241m=\u001b[39m [qargs[bit_indices[tup]] \u001b[38;5;28;01mfor\u001b[39;00m tup \u001b[38;5;129;01min\u001b[39;00m qregs]\n\u001b[0;32m--> 533\u001b[0m \u001b[38;5;28;43mself\u001b[39;49m\u001b[38;5;241;43m.\u001b[39;49m\u001b[43m_append_instruction\u001b[49m\u001b[43m(\u001b[49m\u001b[43minstr\u001b[49m\u001b[43m,\u001b[49m\u001b[43m \u001b[49m\u001b[43mqargs\u001b[49m\u001b[38;5;241;43m=\u001b[39;49m\u001b[43mnew_qargs\u001b[49m\u001b[43m)\u001b[49m\n",
      "File \u001b[0;32m~/transpilation_EM/venv/lib/python3.8/site-packages/qiskit/quantum_info/operators/operator.py:488\u001b[0m, in \u001b[0;36mOperator._append_instruction\u001b[0;34m(self, obj, qargs)\u001b[0m\n\u001b[1;32m    485\u001b[0m \u001b[38;5;28;01mfrom\u001b[39;00m \u001b[38;5;21;01mqiskit\u001b[39;00m\u001b[38;5;21;01m.\u001b[39;00m\u001b[38;5;21;01mcircuit\u001b[39;00m\u001b[38;5;21;01m.\u001b[39;00m\u001b[38;5;21;01mbarrier\u001b[39;00m \u001b[38;5;28;01mimport\u001b[39;00m Barrier\n\u001b[1;32m    486\u001b[0m \u001b[38;5;28;01mfrom\u001b[39;00m \u001b[38;5;21;01m.\u001b[39;00m\u001b[38;5;21;01mscalar_op\u001b[39;00m \u001b[38;5;28;01mimport\u001b[39;00m ScalarOp\n\u001b[0;32m--> 488\u001b[0m mat \u001b[38;5;241m=\u001b[39m \u001b[38;5;28;43mself\u001b[39;49m\u001b[38;5;241;43m.\u001b[39;49m\u001b[43m_instruction_to_matrix\u001b[49m\u001b[43m(\u001b[49m\u001b[43mobj\u001b[49m\u001b[43m)\u001b[49m\n\u001b[1;32m    489\u001b[0m \u001b[38;5;28;01mif\u001b[39;00m mat \u001b[38;5;129;01mis\u001b[39;00m \u001b[38;5;129;01mnot\u001b[39;00m \u001b[38;5;28;01mNone\u001b[39;00m:\n\u001b[1;32m    490\u001b[0m     \u001b[38;5;66;03m# Perform the composition and inplace update the current state\u001b[39;00m\n\u001b[1;32m    491\u001b[0m     \u001b[38;5;66;03m# of the operator\u001b[39;00m\n\u001b[1;32m    492\u001b[0m     op \u001b[38;5;241m=\u001b[39m \u001b[38;5;28mself\u001b[39m\u001b[38;5;241m.\u001b[39mcompose(mat, qargs\u001b[38;5;241m=\u001b[39mqargs)\n",
      "File \u001b[0;32m~/transpilation_EM/venv/lib/python3.8/site-packages/qiskit/quantum_info/operators/operator.py:478\u001b[0m, in \u001b[0;36mOperator._instruction_to_matrix\u001b[0;34m(cls, obj)\u001b[0m\n\u001b[1;32m    474\u001b[0m \u001b[38;5;28;01mif\u001b[39;00m \u001b[38;5;28mhasattr\u001b[39m(obj, \u001b[38;5;124m\"\u001b[39m\u001b[38;5;124mto_matrix\u001b[39m\u001b[38;5;124m\"\u001b[39m):\n\u001b[1;32m    475\u001b[0m     \u001b[38;5;66;03m# If instruction is a gate first we see if it has a\u001b[39;00m\n\u001b[1;32m    476\u001b[0m     \u001b[38;5;66;03m# `to_matrix` definition and if so use that.\u001b[39;00m\n\u001b[1;32m    477\u001b[0m     \u001b[38;5;28;01mtry\u001b[39;00m:\n\u001b[0;32m--> 478\u001b[0m         mat \u001b[38;5;241m=\u001b[39m \u001b[43mobj\u001b[49m\u001b[38;5;241;43m.\u001b[39;49m\u001b[43mto_matrix\u001b[49m\u001b[43m(\u001b[49m\u001b[43m)\u001b[49m\n\u001b[1;32m    479\u001b[0m     \u001b[38;5;28;01mexcept\u001b[39;00m QiskitError:\n\u001b[1;32m    480\u001b[0m         \u001b[38;5;28;01mpass\u001b[39;00m\n",
      "File \u001b[0;32m~/transpilation_EM/venv/lib/python3.8/site-packages/qiskit/circuit/gate.py:58\u001b[0m, in \u001b[0;36mGate.to_matrix\u001b[0;34m(self)\u001b[0m\n\u001b[1;32m     47\u001b[0m \u001b[38;5;124;03m\"\"\"Return a Numpy.array for the gate unitary matrix.\u001b[39;00m\n\u001b[1;32m     48\u001b[0m \n\u001b[1;32m     49\u001b[0m \u001b[38;5;124;03mReturns:\u001b[39;00m\n\u001b[0;32m   (...)\u001b[0m\n\u001b[1;32m     54\u001b[0m \u001b[38;5;124;03m        exception will be raised when this base class method is called.\u001b[39;00m\n\u001b[1;32m     55\u001b[0m \u001b[38;5;124;03m\"\"\"\u001b[39;00m\n\u001b[1;32m     56\u001b[0m \u001b[38;5;28;01mif\u001b[39;00m \u001b[38;5;28mhasattr\u001b[39m(\u001b[38;5;28mself\u001b[39m, \u001b[38;5;124m\"\u001b[39m\u001b[38;5;124m__array__\u001b[39m\u001b[38;5;124m\"\u001b[39m):\n\u001b[1;32m     57\u001b[0m     \u001b[38;5;66;03m# pylint: disable=no-member\u001b[39;00m\n\u001b[0;32m---> 58\u001b[0m     \u001b[38;5;28;01mreturn\u001b[39;00m \u001b[38;5;28;43mself\u001b[39;49m\u001b[38;5;241;43m.\u001b[39;49m\u001b[43m__array__\u001b[49m\u001b[43m(\u001b[49m\u001b[43mdtype\u001b[49m\u001b[38;5;241;43m=\u001b[39;49m\u001b[38;5;28;43mcomplex\u001b[39;49m\u001b[43m)\u001b[49m\n\u001b[1;32m     59\u001b[0m \u001b[38;5;28;01mraise\u001b[39;00m CircuitError(\u001b[38;5;124mf\u001b[39m\u001b[38;5;124m\"\u001b[39m\u001b[38;5;124mto_matrix not defined for this \u001b[39m\u001b[38;5;132;01m{\u001b[39;00m\u001b[38;5;28mtype\u001b[39m(\u001b[38;5;28mself\u001b[39m)\u001b[38;5;132;01m}\u001b[39;00m\u001b[38;5;124m\"\u001b[39m)\n",
      "File \u001b[0;32m~/transpilation_EM/venv/lib/python3.8/site-packages/qiskit/circuit/library/standard_gates/rz.py:114\u001b[0m, in \u001b[0;36mRZGate.__array__\u001b[0;34m(self, dtype)\u001b[0m\n\u001b[1;32m    111\u001b[0m \u001b[38;5;124;03m\"\"\"Return a numpy.array for the RZ gate.\"\"\"\u001b[39;00m\n\u001b[1;32m    112\u001b[0m \u001b[38;5;28;01mimport\u001b[39;00m \u001b[38;5;21;01mnumpy\u001b[39;00m \u001b[38;5;28;01mas\u001b[39;00m \u001b[38;5;21;01mnp\u001b[39;00m\n\u001b[0;32m--> 114\u001b[0m ilam2 \u001b[38;5;241m=\u001b[39m \u001b[38;5;241m0.5\u001b[39mj \u001b[38;5;241m*\u001b[39m \u001b[38;5;28;43mfloat\u001b[39;49m\u001b[43m(\u001b[49m\u001b[38;5;28;43mself\u001b[39;49m\u001b[38;5;241;43m.\u001b[39;49m\u001b[43mparams\u001b[49m\u001b[43m[\u001b[49m\u001b[38;5;241;43m0\u001b[39;49m\u001b[43m]\u001b[49m\u001b[43m)\u001b[49m\n\u001b[1;32m    115\u001b[0m \u001b[38;5;28;01mreturn\u001b[39;00m np\u001b[38;5;241m.\u001b[39marray([[np\u001b[38;5;241m.\u001b[39mexp(\u001b[38;5;241m-\u001b[39milam2), \u001b[38;5;241m0\u001b[39m], [\u001b[38;5;241m0\u001b[39m, np\u001b[38;5;241m.\u001b[39mexp(ilam2)]], dtype\u001b[38;5;241m=\u001b[39mdtype)\n",
      "File \u001b[0;32m~/transpilation_EM/venv/lib/python3.8/site-packages/qiskit/circuit/parameterexpression.py:447\u001b[0m, in \u001b[0;36mParameterExpression.__float__\u001b[0;34m(self)\u001b[0m\n\u001b[1;32m    445\u001b[0m \u001b[38;5;66;03m# TypeError is for sympy, RuntimeError for symengine\u001b[39;00m\n\u001b[1;32m    446\u001b[0m \u001b[38;5;28;01mexcept\u001b[39;00m (\u001b[38;5;167;01mTypeError\u001b[39;00m, \u001b[38;5;167;01mRuntimeError\u001b[39;00m) \u001b[38;5;28;01mas\u001b[39;00m exc:\n\u001b[0;32m--> 447\u001b[0m     \u001b[38;5;28;01mraise\u001b[39;00m \u001b[38;5;167;01mTypeError\u001b[39;00m(\n\u001b[1;32m    448\u001b[0m         \u001b[38;5;124m\"\u001b[39m\u001b[38;5;124mParameterExpression with unbound parameters (\u001b[39m\u001b[38;5;132;01m{}\u001b[39;00m\u001b[38;5;124m) \u001b[39m\u001b[38;5;124m\"\u001b[39m\n\u001b[1;32m    449\u001b[0m         \u001b[38;5;124m\"\u001b[39m\u001b[38;5;124mcannot be cast to a float.\u001b[39m\u001b[38;5;124m\"\u001b[39m\u001b[38;5;241m.\u001b[39mformat(\u001b[38;5;28mself\u001b[39m\u001b[38;5;241m.\u001b[39mparameters)\n\u001b[1;32m    450\u001b[0m     ) \u001b[38;5;28;01mfrom\u001b[39;00m \u001b[38;5;21;01mexc\u001b[39;00m\n",
      "\u001b[0;31mTypeError\u001b[0m: ParameterExpression with unbound parameters ({Parameter(theta)}) cannot be cast to a float."
     ]
    }
   ],
   "source": [
    "circuit = QuantumCircuit(1)\n",
    "from qiskit.circuit import Parameter\n",
    "theta = Parameter(\"theta\")\n",
    "circuit.rz(theta, 0)\n",
    "Operator(circuit).data"
   ]
  }
 ],
 "metadata": {
  "interpreter": {
   "hash": "3c923d04e9af837f8cfab086aad703afe35b7499ff33e9e2bcba0d425db844a6"
  },
  "kernelspec": {
   "display_name": "Python 3.8.10 64-bit ('venv': venv)",
   "language": "python",
   "name": "python3"
  },
  "language_info": {
   "codemirror_mode": {
    "name": "ipython",
    "version": 3
   },
   "file_extension": ".py",
   "mimetype": "text/x-python",
   "name": "python",
   "nbconvert_exporter": "python",
   "pygments_lexer": "ipython3",
   "version": "3.8.10"
  },
  "orig_nbformat": 4
 },
 "nbformat": 4,
 "nbformat_minor": 2
}

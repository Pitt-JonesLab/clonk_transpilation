{
 "cells": [
  {
   "cell_type": "code",
   "execution_count": 1,
   "metadata": {},
   "outputs": [],
   "source": [
    "import qiskit\n",
    "import numpy as np"
   ]
  },
  {
   "cell_type": "markdown",
   "metadata": {},
   "source": [
    "An arbitrary unitary matrix on an n-qubit system may be written as a product of at most $2^{n-1}(2^n -1)$ two-level uinitary matrices"
   ]
  },
  {
   "cell_type": "code",
   "execution_count": 2,
   "metadata": {},
   "outputs": [],
   "source": [
    "def decomp(matrix):\n",
    "  \"\"\"Follows procedure in N&C 4.5.1\"\"\"\n",
    "  if len(matrix) <= 2:\n",
    "    return matrix\n",
    "\n",
    "  #the list of matrices whose product is the input matrix\n",
    "  #U3 U2 U1 U = I\n",
    "  # U = dag(U1) dag(U2) dag(U3)\n",
    "  unitary_list = []\n",
    "  offset = 0\n",
    "  temp = matrix\n",
    "\n",
    "  #(4.44) - (4.49)\n",
    "  while(offset <= len(matrix) - 2):\n",
    "  \n",
    "    unitary_list.append(np.eye(len(matrix), dtype=complex))\n",
    "    if offset != 0:\n",
    "      unitary_list[offset][0][0] = np.conj(temp[0][0])\n",
    "\n",
    "    if temp[1+offset][0] != 0:\n",
    "      unitary_list[offset][0][0] = np.conj(temp[0][0]) / np.sqrt(np.abs(temp[0][0])**2 + np.abs(temp[1+offset][0])**2)\n",
    "      unitary_list[offset][0][1+offset] = np.conj(temp[1+offset][0]) / np.sqrt(np.abs(temp[0][0])**2 + np.abs(temp[1+offset][0])**2)\n",
    "      unitary_list[offset][1+offset][0] = temp[1+offset][0] / np.sqrt(np.abs(temp[0][0])**2 + np.abs(temp[1+offset][0])**2)\n",
    "      unitary_list[offset][1+offset][1+offset] = -temp[0][0] / np.sqrt(np.abs(temp[0][0])**2 + np.abs(temp[1+offset][0])**2)\n",
    "\n",
    "    temp = np.matmul(unitary_list[offset], temp)\n",
    "    offset += 1\n",
    "  \n",
    "  #finally (4.50)\n",
    "  temp2 = np.eye(len(matrix), dtype=complex)\n",
    "  temp2[-2][-2] = np.conj(temp[-2][-2])\n",
    "  temp2[-1][-1] = np.conj(temp[-1][-1])\n",
    "  temp2[-2][-1] = np.conj(temp[-1][-2])\n",
    "  temp2[-1][-2] = np.conj(temp[-2][-1])\n",
    "  unitary_list.append(temp2)\n",
    "\n",
    "  return unitary_list\n",
    "    "
   ]
  },
  {
   "cell_type": "code",
   "execution_count": 3,
   "metadata": {},
   "outputs": [],
   "source": [
    "unitary_3 = .5 * np.array([[1,-1j, -1+1j], [1j, 1, 1+1j], [1+1j, -1+1j, 0]])\n",
    "d3_decomp = decomp(unitary_3)\n",
    "#use isclose because some values are of order 1e-16\n",
    "#U3 U2 U1 U = I\n",
    "assert np.isclose(np.matmul(d3_decomp[2], np.matmul(d3_decomp[1], np.matmul(d3_decomp[0], unitary_3))), np.eye(3)).all()"
   ]
  },
  {
   "cell_type": "code",
   "execution_count": 4,
   "metadata": {},
   "outputs": [],
   "source": [
    "ft_unitary  = .5 * np.array([[1,1,1,1], [1,1j,-1,-1j], [1,-1,1,-1], [1,-1j, -1, 1j]])\n",
    "ft_decomp = decomp(ft_unitary)\n",
    " # U = dag(U1) dag(U2) dag(U3)\n",
    " #TODO: debug\n",
    "from functools import reduce\n",
    "a = reduce(np.matmul, [np.matrix(ft_decomp[0]).getH(), np.matrix(ft_decomp[1]).getH(), np.matrix(ft_decomp[2]).getH(),np.matrix(ft_decomp[3]).getH()])"
   ]
  },
  {
   "cell_type": "code",
   "execution_count": 5,
   "metadata": {},
   "outputs": [],
   "source": [
    "def gray_code(bit_string, target_string):\n",
    "    \"\"\"\n",
    "    gray_code(\"000\", \"111\")\n",
    "    ['000', '001', '011', '111']\n",
    "    \"\"\"\n",
    "    temp = list(bit_string)\n",
    "    gray_code_list = [bit_string]\n",
    "    while temp != list(target_string):\n",
    "        for index, bit in reversed(list(enumerate(temp))):\n",
    "            if bit != target_string[index]:\n",
    "                temp[index] = '0' if bit=='1' else '1'\n",
    "                gray_code_list.append(\"\".join(temp))\n",
    "                break\n",
    "    return gray_code_list\n",
    "\n",
    "def dif(a, b):\n",
    "    return [i for i in range(len(a)) if a[i] != b[i]]\n"
   ]
  },
  {
   "cell_type": "code",
   "execution_count": 6,
   "metadata": {},
   "outputs": [],
   "source": [
    "from math import log2\n",
    "def controlled_2unitary(two_level_unitary):\n",
    "    \"\"\"Follows procedure from 4.5.2\"\"\"\n",
    "\n",
    "    #0. convert full unitary to a 2x2\n",
    "    unitary_reduced = np.eye(2, dtype=complex)\n",
    "    non_trivial_indices = np.flatnonzero(np.diagonal(two_level_unitary)-1)\n",
    "\n",
    "    #add default values in case does not act nontrivally in 2 places\n",
    "    #TODO: test this\n",
    "    if len(non_trivial_indices) == 0:\n",
    "        non_trivial_indices.append(0)\n",
    "    if len(non_trivial_indices) == 1:\n",
    "        non_trivial_indices.append(0)\n",
    "\n",
    "    unitary_reduced[0][0] = two_level_unitary[non_trivial_indices[0]][non_trivial_indices[0]]\n",
    "    unitary_reduced[0][1] = two_level_unitary[non_trivial_indices[0]][non_trivial_indices[1]]\n",
    "    unitary_reduced[1][0] = two_level_unitary[non_trivial_indices[1]][non_trivial_indices[0]]\n",
    "    unitary_reduced[1][1] = two_level_unitary[non_trivial_indices[1]][non_trivial_indices[1]]\n",
    "    \n",
    "    #1. find where unitary acts non-trivially\n",
    "    a = np.diagonal(two_level_unitary)\n",
    "    np.flatnonzero(a-1)\n",
    "    str_list = []\n",
    "    for el in np.flatnonzero(a-1):\n",
    "        str_list.append(format(el, f'0{int(log2(len(two_level_unitary)))}b'))\n",
    "\n",
    "    gray_code_list = gray_code(str_list[0], str_list[1])\n",
    "\n",
    "    #2.use gates to shuffle the states (Fig. 4.16)  \n",
    "    circuit = qiskit.QuantumCircuit(int(log2(len(two_level_unitary))))\n",
    "    #the entries in gray_code_list inform where to place MCNOTs\n",
    "    for code1, code2 in zip(gray_code_list[:-2], gray_code_list[1:-1]):\n",
    "\n",
    "        #target is the difference between code1, code2\n",
    "        target = dif(code1, code2)\n",
    "        assert len(target) == 1\n",
    "        target = target[0]\n",
    "\n",
    "        control_list = []\n",
    "        for index, bit in enumerate(code1):\n",
    "            if index != target:\n",
    "                if bit == '0':\n",
    "                    circuit.x(index)\n",
    "                control_list.append(index)\n",
    "        \n",
    "        circuit.mcx(control_qubits=control_list, target_qubit= target)\n",
    "    \n",
    "    #3. apply controlled unitary, then unshuffle states\n",
    "    #control bits come from last state in gray_code_list\n",
    "    target = dif(gray_code_list[-2], gray_code_list[-1])\n",
    "    assert len(target) == 1\n",
    "    target = target[0]\n",
    "\n",
    "    control_list = []\n",
    "    for index, bit in enumerate(gray_code_list[-1]):\n",
    "        if index != target:\n",
    "            if bit == '0':\n",
    "                circuit.x(index)\n",
    "            control_list.append(index)\n",
    "\n",
    "    \n",
    "    #create unitary using the 2x2 form of the matrix\n",
    "    unitary_gate = qiskit.extensions.UnitaryGate(unitary_reduced)\n",
    "    c_unitary_gate = unitary_gate.control(len(control_list))\n",
    "    # c_unitary_gate = unitary_gate.control(control_list)\n",
    "    circuit.append(c_unitary_gate, control_list +[target])\n",
    "\n",
    "    #4. unshuffle states (repeat step 2)\n",
    "    for code1, code2 in zip(gray_code_list[:-2], gray_code_list[1:-1]):\n",
    "\n",
    "        #target is the difference between code1, code2\n",
    "        target = dif(code1, code2)\n",
    "        assert len(target) == 1\n",
    "        target = target[0]\n",
    "\n",
    "        control_list = []\n",
    "        for index, bit in enumerate(code1):\n",
    "            if index != target:\n",
    "                if bit == '0':\n",
    "                    circuit.x(index)\n",
    "                control_list.append(index)\n",
    "        \n",
    "        circuit.mcx(control_qubits=control_list, target_qubit= target)\n",
    "\n",
    "    return circuit"
   ]
  },
  {
   "cell_type": "code",
   "execution_count": 7,
   "metadata": {},
   "outputs": [
    {
     "name": "stdout",
     "output_type": "stream",
     "text": [
      "     ┌───┐     ┌─────────┐┌───┐     \n",
      "q_0: ┤ X ├──■──┤ Unitary ├┤ X ├──■──\n",
      "     └───┘  │  └────┬────┘└───┘  │  \n",
      "q_1: ───────■───────■────────────■──\n",
      "          ┌─┴─┐     │          ┌─┴─┐\n",
      "q_2: ─────┤ X ├─────■──────────┤ X ├\n",
      "          └───┘                └───┘\n"
     ]
    }
   ],
   "source": [
    "example = np.eye(8, dtype=complex)\n",
    "example[2][2] = .5*(1+1j)\n",
    "example[2][7] = .5*(1-1j)\n",
    "example[7][2] = .5*(1-1j)\n",
    "example[7][7] = .5*(1+1j)\n",
    "c = controlled_2unitary(example)\n",
    "print(c)"
   ]
  },
  {
   "cell_type": "code",
   "execution_count": 8,
   "metadata": {},
   "outputs": [
    {
     "name": "stdout",
     "output_type": "stream",
     "text": [
      "     ┌───┐     ┌───┐     ┌─────────┐┌───┐     ┌───┐     \n",
      "q_0: ┤ X ├──■──┤ X ├──■──┤ Unitary ├┤ X ├──■──┤ X ├──■──\n",
      "     ├───┤  │  └───┘┌─┴─┐└────┬────┘├───┤  │  └───┘┌─┴─┐\n",
      "q_1: ┤ X ├──■───────┤ X ├─────■─────┤ X ├──■───────┤ X ├\n",
      "     └───┘┌─┴─┐     └─┬─┘     │     └───┘┌─┴─┐     └─┬─┘\n",
      "q_2: ─────┤ X ├───────■───────■──────────┤ X ├───────■──\n",
      "          └───┘                          └───┘          \n"
     ]
    }
   ],
   "source": [
    "example2 = np.eye(8, dtype=complex)\n",
    "example2[0][0] = .5*(1+1j)\n",
    "example2[0][7] = .5*(1-1j)\n",
    "example2[7][0] = .5*(1-1j)\n",
    "example2[7][7] = .5*(1+1j)\n",
    "c = controlled_2unitary(example2)\n",
    "print(c)"
   ]
  },
  {
   "cell_type": "code",
   "execution_count": null,
   "metadata": {},
   "outputs": [],
   "source": [
    "#TODO: debug\n",
    "for u in decomp(ft_unitary):\n",
    "    controlled_2unitary(u)"
   ]
  }
 ],
 "metadata": {
  "interpreter": {
   "hash": "76d0b080c7ce39997c125fe2b302271000d0f9f54160a8b6355d7ce6ee2262e4"
  },
  "kernelspec": {
   "display_name": "Python 3.8.10 64-bit ('venv': venv)",
   "language": "python",
   "name": "python3"
  },
  "language_info": {
   "codemirror_mode": {
    "name": "ipython",
    "version": 3
   },
   "file_extension": ".py",
   "mimetype": "text/x-python",
   "name": "python",
   "nbconvert_exporter": "python",
   "pygments_lexer": "ipython3",
   "version": "3.8.10"
  },
  "orig_nbformat": 4
 },
 "nbformat": 4,
 "nbformat_minor": 2
}

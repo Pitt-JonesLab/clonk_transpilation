{
 "cells": [
  {
   "cell_type": "code",
   "execution_count": 333,
   "metadata": {},
   "outputs": [],
   "source": [
    "import numpy as np\n",
    "from qiskit.quantum_info.operators import Operator\n",
    "from qiskit.circuit.library.standard_gates import (\n",
    "    IGate,\n",
    "    RXGate,\n",
    "    RYGate,\n",
    "    RZGate,\n",
    "    CZGate,\n",
    "    CXGate,\n",
    "    SwapGate,\n",
    "    SXGate,\n",
    "    CRZGate,\n",
    "    HGate,\n",
    "    RXXGate,\n",
    "    RYYGate,\n",
    "    RZZGate\n",
    ")\n",
    "from qiskit import QuantumCircuit"
   ]
  },
  {
   "cell_type": "code",
   "execution_count": 290,
   "metadata": {},
   "outputs": [
    {
     "name": "stdout",
     "output_type": "stream",
     "text": [
      "True\n",
      "[[False False]\n",
      " [False False]]\n"
     ]
    }
   ],
   "source": [
    "#use Operator.equiv since returns true if equivalent up to a global phase\n",
    "print(Operator(RXGate(np.pi/2).to_matrix()).equiv(Operator(SXGate().to_matrix())))\n",
    "print(SXGate().to_matrix() == RXGate(np.pi/2).to_matrix())"
   ]
  },
  {
   "cell_type": "code",
   "execution_count": 293,
   "metadata": {},
   "outputs": [
    {
     "name": "stdout",
     "output_type": "stream",
     "text": [
      "global phase: 15π/8\n",
      "   ┌─────────┐\n",
      "q: ┤ U1(π/4) ├\n",
      "   └─────────┘\n",
      "[[0.92387953-0.38268343j 0.        +0.j        ]\n",
      " [0.        +0.j         0.92387953+0.38268343j]]\n",
      "   ┌────┐┌──────────┐┌──────┐\n",
      "q: ┤ √X ├┤ Ry(-π/4) ├┤ √Xdg ├\n",
      "   └────┘└──────────┘└──────┘\n",
      "[[0.92387953-0.38268343j 0.        +0.j        ]\n",
      " [0.        +0.j         0.92387953+0.38268343j]]\n",
      "(Instruction(name='u1', num_qubits=1, num_clbits=0, params=[0.7853981633974483]), [Qubit(QuantumRegister(1, 'q'), 0)], [])\n"
     ]
    }
   ],
   "source": [
    "Utarget = RZGate(np.pi/4)\n",
    "Uk = RXGate(np.pi/2).to_matrix()\n",
    "Uy = RYGate(-np.pi/4).to_matrix()\n",
    "#Utarget = SwapGate()\n",
    "d = Utarget.decompositions\n",
    "for c in d:\n",
    "    print(c.draw())\n",
    "    print(Operator(c).data)\n",
    "\n",
    "d = Utarget.definition\n",
    "for c in d:\n",
    "    print(c)"
   ]
  },
  {
   "cell_type": "code",
   "execution_count": 294,
   "metadata": {},
   "outputs": [
    {
     "name": "stdout",
     "output_type": "stream",
     "text": [
      "[[0.92387953-0.38268343j 0.        +0.j        ]\n",
      " [0.        +0.j         0.92387953+0.38268343j]]\n",
      "True\n"
     ]
    }
   ],
   "source": [
    "Ufix  = SXGate().inverse().to_matrix() @ RYGate(-np.pi/4).to_matrix() @ SXGate().to_matrix()\n",
    "print(Ufix)\n",
    "print(Operator(Utarget).equiv(Operator(Ufix)))"
   ]
  },
  {
   "cell_type": "code",
   "execution_count": 296,
   "metadata": {},
   "outputs": [],
   "source": [
    "Ufixit = np.eye(4)\n",
    "\n",
    "qc = QuantumCircuit(2)\n",
    "qc.append(RZGate(np.pi/8), [1])\n",
    "Ufixit = Operator(qc).data @ Ufixit\n",
    "\n",
    "qc = QuantumCircuit(2)\n",
    "qc.append(HGate(), [1])\n",
    "Ufixit = Operator(qc).data @ Ufixit\n",
    "\n",
    "qc = QuantumCircuit(2)\n",
    "qc.append(CZGate(), [0,1])\n",
    "Ufixit = Operator(qc).data @ Ufixit\n",
    "\n",
    "qc = QuantumCircuit(2)\n",
    "qc.append(RXGate(-np.pi/8), [1])\n",
    "Ufixit = Operator(qc).data @ Ufixit\n",
    "\n",
    "qc = QuantumCircuit(2)\n",
    "qc.append(CZGate(), [0,1])\n",
    "Ufixit = Operator(qc).data @ Ufixit\n",
    "\n",
    "qc = QuantumCircuit(2)\n",
    "qc.append(HGate(), [1])\n",
    "Ufixit = Operator(qc).data @ Ufixit"
   ]
  },
  {
   "cell_type": "code",
   "execution_count": 298,
   "metadata": {},
   "outputs": [],
   "source": [
    "#TODO, initialize an extended version of basis with gates\n",
    "basis = [RZGate, HGate, RXGate, CZGate]\n",
    "extended_basis = [RZGate(np.pi/8), RZGate(-np.pi/8), RXGate(np.pi/8), RXGate(-np.pi/8), HGate(), CZGate()]"
   ]
  },
  {
   "cell_type": "code",
   "execution_count": 299,
   "metadata": {},
   "outputs": [],
   "source": [
    "def build_stack(target_basis):\n",
    "    gate_list = []\n",
    "    for gate in target_basis:\n",
    "        if gate.num_qubits == 1:\n",
    "            gate_list.append((gate, [0]))\n",
    "            gate_list.append((gate, [1]))\n",
    "        else:\n",
    "            gate_list.append((gate, [0,1]))\n",
    "            gate_list.append((gate, [1,0]))\n",
    "    return gate_list"
   ]
  },
  {
   "cell_type": "code",
   "execution_count": 300,
   "metadata": {},
   "outputs": [],
   "source": [
    "class Node():\n",
    "    def __init__(self, parent, gate):\n",
    "        self.gate = gate\n",
    "        self.parent = parent\n",
    "        self.children = []\n",
    "        self.depth = 0\n",
    "    \n",
    "    def build_children(self, target_basis):\n",
    "        for gate in build_stack(target_basis):\n",
    "            self.children.append(Node(self, gate))\n",
    "    \n",
    "    def set_value(self, value):\n",
    "        self.value = value\n",
    "    \n",
    "    def to_circuit(self):\n",
    "        gate_list = []\n",
    "        current_node = sol\n",
    "        while current_node.gate != None:\n",
    "            gate_list.append(current_node.gate)\n",
    "            current_node = current_node.parent\n",
    "        qc = QuantumCircuit(2)\n",
    "        for gate in reversed(gate_list):\n",
    "            qc.append(gate[0], gate[1])\n",
    "        return qc\n",
    "\n",
    "class SearchTree():\n",
    "    def __init__(self):\n",
    "        self.root = Node(None, None)\n",
    "        self.root.set_value(np.eye(4))"
   ]
  },
  {
   "cell_type": "code",
   "execution_count": 321,
   "metadata": {},
   "outputs": [],
   "source": [
    "def BFS(target, target_basis):\n",
    "    tree = SearchTree()\n",
    "    queue = [tree.root]\n",
    "    depth_search = []\n",
    "    while 1:\n",
    "\n",
    "        current_node = queue.pop(0)\n",
    "        current_node.build_children(target_basis)\n",
    "        queue.extend(current_node.children)\n",
    "\n",
    "        if current_node.depth not in depth_search:\n",
    "            print(f\"Now searching circuits of depth {current_node.depth}\")\n",
    "            depth_search.append(current_node.depth)\n",
    "\n",
    "        for child in current_node.children:\n",
    "\n",
    "            qc = QuantumCircuit(2)\n",
    "            qc.append(child.gate[0], child.gate[1])\n",
    "            child.set_value(Operator(qc).data @ current_node.value)\n",
    "            child.depth = current_node.depth + 1\n",
    "\n",
    "            if Operator(target).equiv(child.value):\n",
    "                return child"
   ]
  },
  {
   "cell_type": "code",
   "execution_count": 322,
   "metadata": {},
   "outputs": [
    {
     "name": "stdout",
     "output_type": "stream",
     "text": [
      "Now searching circuits of depth 0\n"
     ]
    },
    {
     "data": {
      "text/html": [
       "<pre style=\"word-wrap: normal;white-space: pre;background: #fff0;line-height: 1.1;font-family: &quot;Courier New&quot;,Courier,monospace\">                \n",
       "q_0: ─────■─────\n",
       "     ┌────┴────┐\n",
       "q_1: ┤ Rz(π/4) ├\n",
       "     └─────────┘</pre>"
      ],
      "text/plain": [
       "                \n",
       "q_0: ─────■─────\n",
       "     ┌────┴────┐\n",
       "q_1: ┤ Rz(π/4) ├\n",
       "     └─────────┘"
      ]
     },
     "execution_count": 322,
     "metadata": {},
     "output_type": "execute_result"
    }
   ],
   "source": [
    "sol = BFS(target = CRZGate(np.pi/4), target_basis = [CRZGate(np.pi/4)])\n",
    "sol.to_circuit().draw()"
   ]
  },
  {
   "cell_type": "code",
   "execution_count": 323,
   "metadata": {},
   "outputs": [
    {
     "name": "stdout",
     "output_type": "stream",
     "text": [
      "Now searching circuits of depth 0\n",
      "Now searching circuits of depth 1\n",
      "Now searching circuits of depth 2\n",
      "Now searching circuits of depth 3\n"
     ]
    },
    {
     "data": {
      "text/html": [
       "<pre style=\"word-wrap: normal;white-space: pre;background: #fff0;line-height: 1.1;font-family: &quot;Courier New&quot;,Courier,monospace\">                                      \n",
       "q_0: ─────────────■────────────────■──\n",
       "     ┌─────────┐┌─┴─┐┌──────────┐┌─┴─┐\n",
       "q_1: ┤ Rz(π/8) ├┤ X ├┤ Rz(-π/8) ├┤ X ├\n",
       "     └─────────┘└───┘└──────────┘└───┘</pre>"
      ],
      "text/plain": [
       "                                      \n",
       "q_0: ─────────────■────────────────■──\n",
       "     ┌─────────┐┌─┴─┐┌──────────┐┌─┴─┐\n",
       "q_1: ┤ Rz(π/8) ├┤ X ├┤ Rz(-π/8) ├┤ X ├\n",
       "     └─────────┘└───┘└──────────┘└───┘"
      ]
     },
     "execution_count": 323,
     "metadata": {},
     "output_type": "execute_result"
    }
   ],
   "source": [
    "sol = BFS(target = CRZGate(np.pi/4), target_basis = [RZGate(np.pi/8), CXGate(), RZGate(-np.pi/8)])\n",
    "sol.to_circuit().draw()"
   ]
  },
  {
   "cell_type": "code",
   "execution_count": 305,
   "metadata": {},
   "outputs": [
    {
     "name": "stdout",
     "output_type": "stream",
     "text": [
      "Now searching circuits of depth 0\n",
      "Now searching circuits of depth 1\n",
      "Now searching circuits of depth 2\n",
      "Now searching circuits of depth 3\n",
      "Now searching circuits of depth 4\n",
      "Now searching circuits of depth 5\n"
     ]
    },
    {
     "data": {
      "text/html": [
       "<pre style=\"word-wrap: normal;white-space: pre;background: #fff0;line-height: 1.1;font-family: &quot;Courier New&quot;,Courier,monospace\">        ┌───┐      ┌──────────┐   ┌───┐\n",
       "q_0: ───┤ H ├────■─┤ Rx(-π/8) ├─■─┤ H ├\n",
       "     ┌──┴───┴──┐ │ └──────────┘ │ └───┘\n",
       "q_1: ┤ Rz(π/8) ├─■──────────────■──────\n",
       "     └─────────┘                       </pre>"
      ],
      "text/plain": [
       "        ┌───┐      ┌──────────┐   ┌───┐\n",
       "q_0: ───┤ H ├────■─┤ Rx(-π/8) ├─■─┤ H ├\n",
       "     ┌──┴───┴──┐ │ └──────────┘ │ └───┘\n",
       "q_1: ┤ Rz(π/8) ├─■──────────────■──────\n",
       "     └─────────┘                       "
      ]
     },
     "execution_count": 305,
     "metadata": {},
     "output_type": "execute_result"
    }
   ],
   "source": [
    "sol = BFS(target = CRZGate(np.pi/4), target_basis = [RZGate(np.pi/8), RXGate(-np.pi/8), HGate(), CZGate()])\n",
    "sol.to_circuit().draw()"
   ]
  },
  {
   "cell_type": "markdown",
   "metadata": {},
   "source": [
    "Note that for this basis, Qiskit Transpiler finds a slightly different circuit"
   ]
  },
  {
   "cell_type": "code",
   "execution_count": 315,
   "metadata": {},
   "outputs": [
    {
     "name": "stdout",
     "output_type": "stream",
     "text": [
      "                                            \n",
      "q_0: ─────────────────■──────────────■──────\n",
      "     ┌─────────┐┌───┐ │ ┌──────────┐ │ ┌───┐\n",
      "q_1: ┤ Rz(π/8) ├┤ H ├─■─┤ Rx(-π/8) ├─■─┤ H ├\n",
      "     └─────────┘└───┘   └──────────┘   └───┘\n"
     ]
    }
   ],
   "source": [
    "qc = QuantumCircuit(2)\n",
    "qc.append(RZGate(np.pi/8), [1])\n",
    "qc.append(HGate(), [1])\n",
    "qc.append(CZGate(), [0,1])\n",
    "qc.append(RXGate(-np.pi/8), [1])\n",
    "qc.append(CZGate(), [0,1])\n",
    "qc.append(HGate(), [1])\n",
    "print(qc.draw())"
   ]
  },
  {
   "cell_type": "code",
   "execution_count": 317,
   "metadata": {},
   "outputs": [
    {
     "data": {
      "text/plain": [
       "True"
      ]
     },
     "execution_count": 317,
     "metadata": {},
     "output_type": "execute_result"
    }
   ],
   "source": [
    "from qiskit.quantum_info import Statevector\n",
    "Statevector.from_instruction(qc).equiv(Statevector.from_instruction(sol.to_circuit()))"
   ]
  },
  {
   "cell_type": "code",
   "execution_count": 331,
   "metadata": {},
   "outputs": [
    {
     "name": "stdout",
     "output_type": "stream",
     "text": [
      "Now searching circuits of depth 0\n",
      "Now searching circuits of depth 1\n",
      "Now searching circuits of depth 2\n",
      "Now searching circuits of depth 3\n",
      "Now searching circuits of depth 4\n",
      "Now searching circuits of depth 5\n",
      "Now searching circuits of depth 6\n"
     ]
    },
    {
     "ename": "KeyboardInterrupt",
     "evalue": "",
     "output_type": "error",
     "traceback": [
      "\u001b[0;31m---------------------------------------------------------------------------\u001b[0m",
      "\u001b[0;31mKeyboardInterrupt\u001b[0m                         Traceback (most recent call last)",
      "Input \u001b[0;32mIn [331]\u001b[0m, in \u001b[0;36m<module>\u001b[0;34m\u001b[0m\n\u001b[0;32m----> 1\u001b[0m sol \u001b[38;5;241m=\u001b[39m \u001b[43mBFS\u001b[49m\u001b[43m(\u001b[49m\u001b[43mtarget\u001b[49m\u001b[43m \u001b[49m\u001b[38;5;241;43m=\u001b[39;49m\u001b[43m \u001b[49m\u001b[43mCRZGate\u001b[49m\u001b[43m(\u001b[49m\u001b[43mnp\u001b[49m\u001b[38;5;241;43m.\u001b[39;49m\u001b[43mpi\u001b[49m\u001b[38;5;241;43m/\u001b[39;49m\u001b[38;5;241;43m4\u001b[39;49m\u001b[43m)\u001b[49m\u001b[43m,\u001b[49m\u001b[43m \u001b[49m\u001b[43mtarget_basis\u001b[49m\u001b[43m \u001b[49m\u001b[38;5;241;43m=\u001b[39;49m\u001b[43m \u001b[49m\u001b[43m[\u001b[49m\u001b[43mCZGate\u001b[49m\u001b[43m(\u001b[49m\u001b[43m)\u001b[49m\u001b[43m,\u001b[49m\u001b[43m \u001b[49m\u001b[43mRXGate\u001b[49m\u001b[43m(\u001b[49m\u001b[43mnp\u001b[49m\u001b[38;5;241;43m.\u001b[39;49m\u001b[43mpi\u001b[49m\u001b[38;5;241;43m/\u001b[39;49m\u001b[38;5;241;43m2\u001b[39;49m\u001b[43m)\u001b[49m\u001b[43m,\u001b[49m\u001b[43m \u001b[49m\u001b[43mRXGate\u001b[49m\u001b[43m(\u001b[49m\u001b[38;5;241;43m-\u001b[39;49m\u001b[43mnp\u001b[49m\u001b[38;5;241;43m.\u001b[39;49m\u001b[43mpi\u001b[49m\u001b[38;5;241;43m/\u001b[39;49m\u001b[38;5;241;43m2\u001b[39;49m\u001b[43m)\u001b[49m\u001b[43m,\u001b[49m\u001b[43m \u001b[49m\u001b[43mRXGate\u001b[49m\u001b[43m(\u001b[49m\u001b[43mnp\u001b[49m\u001b[38;5;241;43m.\u001b[39;49m\u001b[43mpi\u001b[49m\u001b[43m)\u001b[49m\u001b[43m,\u001b[49m\u001b[43m \u001b[49m\u001b[43mRYGate\u001b[49m\u001b[43m(\u001b[49m\u001b[38;5;241;43m-\u001b[39;49m\u001b[43mnp\u001b[49m\u001b[38;5;241;43m.\u001b[39;49m\u001b[43mpi\u001b[49m\u001b[38;5;241;43m/\u001b[39;49m\u001b[38;5;241;43m4\u001b[39;49m\u001b[43m)\u001b[49m\u001b[43m,\u001b[49m\u001b[43m \u001b[49m\u001b[43mRYGate\u001b[49m\u001b[43m(\u001b[49m\u001b[43mnp\u001b[49m\u001b[38;5;241;43m.\u001b[39;49m\u001b[43mpi\u001b[49m\u001b[38;5;241;43m/\u001b[39;49m\u001b[38;5;241;43m2\u001b[39;49m\u001b[43m)\u001b[49m\u001b[43m]\u001b[49m\u001b[43m)\u001b[49m\n\u001b[1;32m      2\u001b[0m sol\u001b[38;5;241m.\u001b[39mto_circuit()\u001b[38;5;241m.\u001b[39mdraw()\n",
      "Input \u001b[0;32mIn [321]\u001b[0m, in \u001b[0;36mBFS\u001b[0;34m(target, target_basis)\u001b[0m\n\u001b[1;32m      4\u001b[0m depth_search \u001b[38;5;241m=\u001b[39m []\n\u001b[1;32m      5\u001b[0m \u001b[38;5;28;01mwhile\u001b[39;00m \u001b[38;5;241m1\u001b[39m:\n\u001b[0;32m----> 7\u001b[0m     current_node \u001b[38;5;241m=\u001b[39m \u001b[43mqueue\u001b[49m\u001b[38;5;241;43m.\u001b[39;49m\u001b[43mpop\u001b[49m\u001b[43m(\u001b[49m\u001b[38;5;241;43m0\u001b[39;49m\u001b[43m)\u001b[49m\n\u001b[1;32m      8\u001b[0m     current_node\u001b[38;5;241m.\u001b[39mbuild_children(target_basis)\n\u001b[1;32m      9\u001b[0m     queue\u001b[38;5;241m.\u001b[39mextend(current_node\u001b[38;5;241m.\u001b[39mchildren)\n",
      "\u001b[0;31mKeyboardInterrupt\u001b[0m: "
     ]
    }
   ],
   "source": [
    "sol = BFS(target = CRZGate(np.pi/4), target_basis = [CZGate(), RXGate(np.pi/2), RXGate(-np.pi/2), RXGate(np.pi), RYGate(-np.pi/4), RYGate(np.pi/2)])\n",
    "sol.to_circuit().draw()"
   ]
  },
  {
   "cell_type": "code",
   "execution_count": 337,
   "metadata": {},
   "outputs": [
    {
     "name": "stdout",
     "output_type": "stream",
     "text": [
      "Now searching circuits of depth 0\n",
      "Now searching circuits of depth 1\n",
      "Now searching circuits of depth 2\n"
     ]
    },
    {
     "data": {
      "text/html": [
       "<pre style=\"word-wrap: normal;white-space: pre;background: #fff0;line-height: 1.1;font-family: &quot;Courier New&quot;,Courier,monospace\">     ┌───────────┐┌───────────┐          \n",
       "q_0: ┤0          ├┤0          ├─■────────\n",
       "     │  Rxx(π/2) ││  Ryy(π/2) │ │ZZ(π/2) \n",
       "q_1: ┤1          ├┤1          ├─■────────\n",
       "     └───────────┘└───────────┘          </pre>"
      ],
      "text/plain": [
       "     ┌───────────┐┌───────────┐          \n",
       "q_0: ┤0          ├┤0          ├─■────────\n",
       "     │  Rxx(π/2) ││  Ryy(π/2) │ │ZZ(π/2) \n",
       "q_1: ┤1          ├┤1          ├─■────────\n",
       "     └───────────┘└───────────┘          "
      ]
     },
     "execution_count": 337,
     "metadata": {},
     "output_type": "execute_result"
    }
   ],
   "source": [
    "theta = np.pi/2\n",
    "sol = BFS(target = SwapGate(), \n",
    "target_basis = [RXXGate(theta), RXXGate(-theta), RYYGate(theta), RYYGate(-theta), RZZGate(theta), RZZGate(theta)])\n",
    "sol.to_circuit().draw()"
   ]
  },
  {
   "cell_type": "code",
   "execution_count": 336,
   "metadata": {},
   "outputs": [
    {
     "ename": "TranspilerError",
     "evalue": "\"Unable to map source basis {('swap', 2)} to target basis {'delay', 'reset', 'barrier', 'snapshot', 'rxx', 'rzz', 'measure', 'ryy'} over library <qiskit.circuit.equivalence.EquivalenceLibrary object at 0x7f9cd244d460>.\"",
     "output_type": "error",
     "traceback": [
      "\u001b[0;31m---------------------------------------------------------------------------\u001b[0m",
      "\u001b[0;31mTranspilerError\u001b[0m                           Traceback (most recent call last)",
      "Input \u001b[0;32mIn [336]\u001b[0m, in \u001b[0;36m<module>\u001b[0;34m\u001b[0m\n\u001b[1;32m      2\u001b[0m qc \u001b[38;5;241m=\u001b[39m QuantumCircuit(\u001b[38;5;241m2\u001b[39m)\n\u001b[1;32m      3\u001b[0m qc\u001b[38;5;241m.\u001b[39mswap(\u001b[38;5;241m0\u001b[39m,\u001b[38;5;241m1\u001b[39m)\n\u001b[0;32m----> 4\u001b[0m \u001b[43mtranspile\u001b[49m\u001b[43m(\u001b[49m\u001b[43mqc\u001b[49m\u001b[43m,\u001b[49m\u001b[43m \u001b[49m\u001b[43mbasis_gates\u001b[49m\u001b[38;5;241;43m=\u001b[39;49m\u001b[43m \u001b[49m\u001b[43m[\u001b[49m\u001b[38;5;124;43m'\u001b[39;49m\u001b[38;5;124;43mrxx\u001b[39;49m\u001b[38;5;124;43m'\u001b[39;49m\u001b[43m,\u001b[49m\u001b[43m \u001b[49m\u001b[38;5;124;43m'\u001b[39;49m\u001b[38;5;124;43mryy\u001b[39;49m\u001b[38;5;124;43m'\u001b[39;49m\u001b[43m,\u001b[49m\u001b[43m \u001b[49m\u001b[38;5;124;43m'\u001b[39;49m\u001b[38;5;124;43mrzz\u001b[39;49m\u001b[38;5;124;43m'\u001b[39;49m\u001b[43m]\u001b[49m\u001b[43m)\u001b[49m\n",
      "File \u001b[0;32m~/transpilation_EM/venv/lib/python3.8/site-packages/qiskit/compiler/transpiler.py:335\u001b[0m, in \u001b[0;36mtranspile\u001b[0;34m(circuits, backend, basis_gates, inst_map, coupling_map, backend_properties, initial_layout, layout_method, routing_method, translation_method, scheduling_method, instruction_durations, dt, approximation_degree, timing_constraints, seed_transpiler, optimization_level, pass_manager, callback, output_name, unitary_synthesis_method, unitary_synthesis_plugin_config, target)\u001b[0m\n\u001b[1;32m    332\u001b[0m _check_circuits_coupling_map(circuits, transpile_args, backend)\n\u001b[1;32m    334\u001b[0m \u001b[38;5;66;03m# Transpile circuits in parallel\u001b[39;00m\n\u001b[0;32m--> 335\u001b[0m circuits \u001b[38;5;241m=\u001b[39m \u001b[43mparallel_map\u001b[49m\u001b[43m(\u001b[49m\u001b[43m_transpile_circuit\u001b[49m\u001b[43m,\u001b[49m\u001b[43m \u001b[49m\u001b[38;5;28;43mlist\u001b[39;49m\u001b[43m(\u001b[49m\u001b[38;5;28;43mzip\u001b[39;49m\u001b[43m(\u001b[49m\u001b[43mcircuits\u001b[49m\u001b[43m,\u001b[49m\u001b[43m \u001b[49m\u001b[43mtranspile_args\u001b[49m\u001b[43m)\u001b[49m\u001b[43m)\u001b[49m\u001b[43m)\u001b[49m\n\u001b[1;32m    337\u001b[0m end_time \u001b[38;5;241m=\u001b[39m time()\n\u001b[1;32m    338\u001b[0m _log_transpile_time(start_time, end_time)\n",
      "File \u001b[0;32m~/transpilation_EM/venv/lib/python3.8/site-packages/qiskit/tools/parallel.py:132\u001b[0m, in \u001b[0;36mparallel_map\u001b[0;34m(task, values, task_args, task_kwargs, num_processes)\u001b[0m\n\u001b[1;32m    130\u001b[0m     \u001b[38;5;28;01mreturn\u001b[39;00m []\n\u001b[1;32m    131\u001b[0m \u001b[38;5;28;01mif\u001b[39;00m \u001b[38;5;28mlen\u001b[39m(values) \u001b[38;5;241m==\u001b[39m \u001b[38;5;241m1\u001b[39m:\n\u001b[0;32m--> 132\u001b[0m     \u001b[38;5;28;01mreturn\u001b[39;00m [\u001b[43mtask\u001b[49m\u001b[43m(\u001b[49m\u001b[43mvalues\u001b[49m\u001b[43m[\u001b[49m\u001b[38;5;241;43m0\u001b[39;49m\u001b[43m]\u001b[49m\u001b[43m,\u001b[49m\u001b[43m \u001b[49m\u001b[38;5;241;43m*\u001b[39;49m\u001b[43mtask_args\u001b[49m\u001b[43m,\u001b[49m\u001b[43m \u001b[49m\u001b[38;5;241;43m*\u001b[39;49m\u001b[38;5;241;43m*\u001b[39;49m\u001b[43mtask_kwargs\u001b[49m\u001b[43m)\u001b[49m]\n\u001b[1;32m    134\u001b[0m Publisher()\u001b[38;5;241m.\u001b[39mpublish(\u001b[38;5;124m\"\u001b[39m\u001b[38;5;124mterra.parallel.start\u001b[39m\u001b[38;5;124m\"\u001b[39m, \u001b[38;5;28mlen\u001b[39m(values))\n\u001b[1;32m    135\u001b[0m nfinished \u001b[38;5;241m=\u001b[39m [\u001b[38;5;241m0\u001b[39m]\n",
      "File \u001b[0;32m~/transpilation_EM/venv/lib/python3.8/site-packages/qiskit/compiler/transpiler.py:429\u001b[0m, in \u001b[0;36m_transpile_circuit\u001b[0;34m(circuit_config_tuple)\u001b[0m\n\u001b[1;32m    426\u001b[0m \u001b[38;5;28;01melse\u001b[39;00m:\n\u001b[1;32m    427\u001b[0m     \u001b[38;5;28;01mraise\u001b[39;00m TranspilerError(\u001b[38;5;124m\"\u001b[39m\u001b[38;5;124moptimization_level can range from 0 to 3.\u001b[39m\u001b[38;5;124m\"\u001b[39m)\n\u001b[0;32m--> 429\u001b[0m result \u001b[38;5;241m=\u001b[39m \u001b[43mpass_manager\u001b[49m\u001b[38;5;241;43m.\u001b[39;49m\u001b[43mrun\u001b[49m\u001b[43m(\u001b[49m\n\u001b[1;32m    430\u001b[0m \u001b[43m    \u001b[49m\u001b[43mcircuit\u001b[49m\u001b[43m,\u001b[49m\u001b[43m \u001b[49m\u001b[43mcallback\u001b[49m\u001b[38;5;241;43m=\u001b[39;49m\u001b[43mtranspile_config\u001b[49m\u001b[43m[\u001b[49m\u001b[38;5;124;43m\"\u001b[39;49m\u001b[38;5;124;43mcallback\u001b[39;49m\u001b[38;5;124;43m\"\u001b[39;49m\u001b[43m]\u001b[49m\u001b[43m,\u001b[49m\u001b[43m \u001b[49m\u001b[43moutput_name\u001b[49m\u001b[38;5;241;43m=\u001b[39;49m\u001b[43mtranspile_config\u001b[49m\u001b[43m[\u001b[49m\u001b[38;5;124;43m\"\u001b[39;49m\u001b[38;5;124;43moutput_name\u001b[39;49m\u001b[38;5;124;43m\"\u001b[39;49m\u001b[43m]\u001b[49m\n\u001b[1;32m    431\u001b[0m \u001b[43m\u001b[49m\u001b[43m)\u001b[49m\n\u001b[1;32m    433\u001b[0m \u001b[38;5;28;01mif\u001b[39;00m transpile_config[\u001b[38;5;124m\"\u001b[39m\u001b[38;5;124mfaulty_qubits_map\u001b[39m\u001b[38;5;124m\"\u001b[39m]:\n\u001b[1;32m    434\u001b[0m     \u001b[38;5;28;01mreturn\u001b[39;00m _remap_circuit_faulty_backend(\n\u001b[1;32m    435\u001b[0m         result,\n\u001b[1;32m    436\u001b[0m         transpile_config[\u001b[38;5;124m\"\u001b[39m\u001b[38;5;124mbackend_num_qubits\u001b[39m\u001b[38;5;124m\"\u001b[39m],\n\u001b[1;32m    437\u001b[0m         pass_manager_config\u001b[38;5;241m.\u001b[39mbackend_properties,\n\u001b[1;32m    438\u001b[0m         transpile_config[\u001b[38;5;124m\"\u001b[39m\u001b[38;5;124mfaulty_qubits_map\u001b[39m\u001b[38;5;124m\"\u001b[39m],\n\u001b[1;32m    439\u001b[0m     )\n",
      "File \u001b[0;32m~/transpilation_EM/venv/lib/python3.8/site-packages/qiskit/transpiler/passmanager.py:223\u001b[0m, in \u001b[0;36mPassManager.run\u001b[0;34m(self, circuits, output_name, callback)\u001b[0m\n\u001b[1;32m    221\u001b[0m     \u001b[38;5;28;01mreturn\u001b[39;00m circuits\n\u001b[1;32m    222\u001b[0m \u001b[38;5;28;01mif\u001b[39;00m \u001b[38;5;28misinstance\u001b[39m(circuits, QuantumCircuit):\n\u001b[0;32m--> 223\u001b[0m     \u001b[38;5;28;01mreturn\u001b[39;00m \u001b[38;5;28;43mself\u001b[39;49m\u001b[38;5;241;43m.\u001b[39;49m\u001b[43m_run_single_circuit\u001b[49m\u001b[43m(\u001b[49m\u001b[43mcircuits\u001b[49m\u001b[43m,\u001b[49m\u001b[43m \u001b[49m\u001b[43moutput_name\u001b[49m\u001b[43m,\u001b[49m\u001b[43m \u001b[49m\u001b[43mcallback\u001b[49m\u001b[43m)\u001b[49m\n\u001b[1;32m    224\u001b[0m \u001b[38;5;28;01mif\u001b[39;00m \u001b[38;5;28mlen\u001b[39m(circuits) \u001b[38;5;241m==\u001b[39m \u001b[38;5;241m1\u001b[39m:\n\u001b[1;32m    225\u001b[0m     \u001b[38;5;28;01mreturn\u001b[39;00m \u001b[38;5;28mself\u001b[39m\u001b[38;5;241m.\u001b[39m_run_single_circuit(circuits[\u001b[38;5;241m0\u001b[39m], output_name, callback)\n",
      "File \u001b[0;32m~/transpilation_EM/venv/lib/python3.8/site-packages/qiskit/transpiler/passmanager.py:278\u001b[0m, in \u001b[0;36mPassManager._run_single_circuit\u001b[0;34m(self, circuit, output_name, callback)\u001b[0m\n\u001b[1;32m    266\u001b[0m \u001b[38;5;124;03m\"\"\"Run all the passes on a ``circuit``.\u001b[39;00m\n\u001b[1;32m    267\u001b[0m \n\u001b[1;32m    268\u001b[0m \u001b[38;5;124;03mArgs:\u001b[39;00m\n\u001b[0;32m   (...)\u001b[0m\n\u001b[1;32m    275\u001b[0m \u001b[38;5;124;03m    The transformed circuit.\u001b[39;00m\n\u001b[1;32m    276\u001b[0m \u001b[38;5;124;03m\"\"\"\u001b[39;00m\n\u001b[1;32m    277\u001b[0m running_passmanager \u001b[38;5;241m=\u001b[39m \u001b[38;5;28mself\u001b[39m\u001b[38;5;241m.\u001b[39m_create_running_passmanager()\n\u001b[0;32m--> 278\u001b[0m result \u001b[38;5;241m=\u001b[39m \u001b[43mrunning_passmanager\u001b[49m\u001b[38;5;241;43m.\u001b[39;49m\u001b[43mrun\u001b[49m\u001b[43m(\u001b[49m\u001b[43mcircuit\u001b[49m\u001b[43m,\u001b[49m\u001b[43m \u001b[49m\u001b[43moutput_name\u001b[49m\u001b[38;5;241;43m=\u001b[39;49m\u001b[43moutput_name\u001b[49m\u001b[43m,\u001b[49m\u001b[43m \u001b[49m\u001b[43mcallback\u001b[49m\u001b[38;5;241;43m=\u001b[39;49m\u001b[43mcallback\u001b[49m\u001b[43m)\u001b[49m\n\u001b[1;32m    279\u001b[0m \u001b[38;5;28mself\u001b[39m\u001b[38;5;241m.\u001b[39mproperty_set \u001b[38;5;241m=\u001b[39m running_passmanager\u001b[38;5;241m.\u001b[39mproperty_set\n\u001b[1;32m    280\u001b[0m \u001b[38;5;28;01mreturn\u001b[39;00m result\n",
      "File \u001b[0;32m~/transpilation_EM/venv/lib/python3.8/site-packages/qiskit/transpiler/runningpassmanager.py:124\u001b[0m, in \u001b[0;36mRunningPassManager.run\u001b[0;34m(***failed resolving arguments***)\u001b[0m\n\u001b[1;32m    122\u001b[0m \u001b[38;5;28;01mfor\u001b[39;00m passset \u001b[38;5;129;01min\u001b[39;00m \u001b[38;5;28mself\u001b[39m\u001b[38;5;241m.\u001b[39mworking_list:\n\u001b[1;32m    123\u001b[0m     \u001b[38;5;28;01mfor\u001b[39;00m pass_ \u001b[38;5;129;01min\u001b[39;00m passset:\n\u001b[0;32m--> 124\u001b[0m         dag \u001b[38;5;241m=\u001b[39m \u001b[38;5;28;43mself\u001b[39;49m\u001b[38;5;241;43m.\u001b[39;49m\u001b[43m_do_pass\u001b[49m\u001b[43m(\u001b[49m\u001b[43mpass_\u001b[49m\u001b[43m,\u001b[49m\u001b[43m \u001b[49m\u001b[43mdag\u001b[49m\u001b[43m,\u001b[49m\u001b[43m \u001b[49m\u001b[43mpassset\u001b[49m\u001b[38;5;241;43m.\u001b[39;49m\u001b[43moptions\u001b[49m\u001b[43m)\u001b[49m\n\u001b[1;32m    126\u001b[0m circuit \u001b[38;5;241m=\u001b[39m dag_to_circuit(dag)\n\u001b[1;32m    127\u001b[0m \u001b[38;5;28;01mif\u001b[39;00m output_name:\n",
      "File \u001b[0;32m~/transpilation_EM/venv/lib/python3.8/site-packages/qiskit/transpiler/runningpassmanager.py:155\u001b[0m, in \u001b[0;36mRunningPassManager._do_pass\u001b[0;34m(self, pass_, dag, options)\u001b[0m\n\u001b[1;32m    153\u001b[0m \u001b[38;5;66;03m# Run the pass itself, if not already run\u001b[39;00m\n\u001b[1;32m    154\u001b[0m \u001b[38;5;28;01mif\u001b[39;00m pass_ \u001b[38;5;129;01mnot\u001b[39;00m \u001b[38;5;129;01min\u001b[39;00m \u001b[38;5;28mself\u001b[39m\u001b[38;5;241m.\u001b[39mvalid_passes:\n\u001b[0;32m--> 155\u001b[0m     dag \u001b[38;5;241m=\u001b[39m \u001b[38;5;28;43mself\u001b[39;49m\u001b[38;5;241;43m.\u001b[39;49m\u001b[43m_run_this_pass\u001b[49m\u001b[43m(\u001b[49m\u001b[43mpass_\u001b[49m\u001b[43m,\u001b[49m\u001b[43m \u001b[49m\u001b[43mdag\u001b[49m\u001b[43m)\u001b[49m\n\u001b[1;32m    157\u001b[0m     \u001b[38;5;66;03m# update the valid_passes property\u001b[39;00m\n\u001b[1;32m    158\u001b[0m     \u001b[38;5;28mself\u001b[39m\u001b[38;5;241m.\u001b[39m_update_valid_passes(pass_)\n",
      "File \u001b[0;32m~/transpilation_EM/venv/lib/python3.8/site-packages/qiskit/transpiler/runningpassmanager.py:184\u001b[0m, in \u001b[0;36mRunningPassManager._run_this_pass\u001b[0;34m(self, pass_, dag)\u001b[0m\n\u001b[1;32m    181\u001b[0m \u001b[38;5;28;01mif\u001b[39;00m pass_\u001b[38;5;241m.\u001b[39mis_transformation_pass:\n\u001b[1;32m    182\u001b[0m     \u001b[38;5;66;03m# Measure time if we have a callback or logging set\u001b[39;00m\n\u001b[1;32m    183\u001b[0m     start_time \u001b[38;5;241m=\u001b[39m time()\n\u001b[0;32m--> 184\u001b[0m     new_dag \u001b[38;5;241m=\u001b[39m \u001b[43mpass_\u001b[49m\u001b[38;5;241;43m.\u001b[39;49m\u001b[43mrun\u001b[49m\u001b[43m(\u001b[49m\u001b[43mdag\u001b[49m\u001b[43m)\u001b[49m\n\u001b[1;32m    185\u001b[0m     end_time \u001b[38;5;241m=\u001b[39m time()\n\u001b[1;32m    186\u001b[0m     run_time \u001b[38;5;241m=\u001b[39m end_time \u001b[38;5;241m-\u001b[39m start_time\n",
      "File \u001b[0;32m~/transpilation_EM/venv/lib/python3.8/site-packages/qiskit/transpiler/passes/basis/basis_translator.py:198\u001b[0m, in \u001b[0;36mBasisTranslator.run\u001b[0;34m(self, dag)\u001b[0m\n\u001b[1;32m    193\u001b[0m logger\u001b[38;5;241m.\u001b[39minfo(\n\u001b[1;32m    194\u001b[0m     \u001b[38;5;124m\"\u001b[39m\u001b[38;5;124mBasis translation path search completed in \u001b[39m\u001b[38;5;132;01m%.3f\u001b[39;00m\u001b[38;5;124ms.\u001b[39m\u001b[38;5;124m\"\u001b[39m, search_end_time \u001b[38;5;241m-\u001b[39m search_start_time\n\u001b[1;32m    195\u001b[0m )\n\u001b[1;32m    197\u001b[0m \u001b[38;5;28;01mif\u001b[39;00m basis_transforms \u001b[38;5;129;01mis\u001b[39;00m \u001b[38;5;28;01mNone\u001b[39;00m:\n\u001b[0;32m--> 198\u001b[0m     \u001b[38;5;28;01mraise\u001b[39;00m TranspilerError(\n\u001b[1;32m    199\u001b[0m         \u001b[38;5;124m\"\u001b[39m\u001b[38;5;124mUnable to map source basis \u001b[39m\u001b[38;5;132;01m{}\u001b[39;00m\u001b[38;5;124m to target basis \u001b[39m\u001b[38;5;132;01m{}\u001b[39;00m\u001b[38;5;124m \u001b[39m\u001b[38;5;124m\"\u001b[39m\n\u001b[1;32m    200\u001b[0m         \u001b[38;5;124m\"\u001b[39m\u001b[38;5;124mover library \u001b[39m\u001b[38;5;132;01m{}\u001b[39;00m\u001b[38;5;124m.\u001b[39m\u001b[38;5;124m\"\u001b[39m\u001b[38;5;241m.\u001b[39mformat(source_basis, target_basis, \u001b[38;5;28mself\u001b[39m\u001b[38;5;241m.\u001b[39m_equiv_lib)\n\u001b[1;32m    201\u001b[0m     )\n\u001b[1;32m    203\u001b[0m \u001b[38;5;66;03m# Compose found path into a set of instruction substitution rules.\u001b[39;00m\n\u001b[1;32m    205\u001b[0m compose_start_time \u001b[38;5;241m=\u001b[39m time\u001b[38;5;241m.\u001b[39mtime()\n",
      "\u001b[0;31mTranspilerError\u001b[0m: \"Unable to map source basis {('swap', 2)} to target basis {'delay', 'reset', 'barrier', 'snapshot', 'rxx', 'rzz', 'measure', 'ryy'} over library <qiskit.circuit.equivalence.EquivalenceLibrary object at 0x7f9cd244d460>.\""
     ]
    }
   ],
   "source": [
    "from qiskit import transpile\n",
    "qc = QuantumCircuit(2)\n",
    "qc.swap(0,1)\n",
    "transpile(qc, basis_gates= ['rxx', 'ryy', 'rzz'])"
   ]
  }
 ],
 "metadata": {
  "interpreter": {
   "hash": "3c923d04e9af837f8cfab086aad703afe35b7499ff33e9e2bcba0d425db844a6"
  },
  "kernelspec": {
   "display_name": "Python 3.8.10 64-bit ('venv': venv)",
   "language": "python",
   "name": "python3"
  },
  "language_info": {
   "codemirror_mode": {
    "name": "ipython",
    "version": 3
   },
   "file_extension": ".py",
   "mimetype": "text/x-python",
   "name": "python",
   "nbconvert_exporter": "python",
   "pygments_lexer": "ipython3",
   "version": "3.8.10"
  },
  "orig_nbformat": 4
 },
 "nbformat": 4,
 "nbformat_minor": 2
}

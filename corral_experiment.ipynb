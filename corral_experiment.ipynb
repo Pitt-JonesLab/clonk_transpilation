{
 "cells": [
  {
   "cell_type": "code",
   "execution_count": 12,
   "metadata": {},
   "outputs": [
    {
     "ename": "ImportError",
     "evalue": "cannot import name 'np' from 'numpy' (/home/jones1/Source/clonk_transpilation/.venv/lib/python3.9/site-packages/numpy/__init__.py)",
     "output_type": "error",
     "traceback": [
      "\u001b[0;31m---------------------------------------------------------------------------\u001b[0m",
      "\u001b[0;31mImportError\u001b[0m                               Traceback (most recent call last)",
      "Cell \u001b[0;32mIn[12], line 2\u001b[0m\n\u001b[1;32m      1\u001b[0m \u001b[39mfrom\u001b[39;00m \u001b[39mqiskit\u001b[39;00m\u001b[39m.\u001b[39;00m\u001b[39mtranspiler\u001b[39;00m\u001b[39m.\u001b[39;00m\u001b[39mcoupling\u001b[39;00m \u001b[39mimport\u001b[39;00m CouplingMap\n\u001b[0;32m----> 2\u001b[0m \u001b[39mfrom\u001b[39;00m \u001b[39mnumpy\u001b[39;00m \u001b[39mimport\u001b[39;00m np\n\u001b[1;32m      4\u001b[0m \u001b[39mdef\u001b[39;00m \u001b[39mpretty_print\u001b[39m(edge_list, simple\u001b[39m=\u001b[39m\u001b[39mFalse\u001b[39;00m):\n\u001b[1;32m      5\u001b[0m     \u001b[39mif\u001b[39;00m simple:\n",
      "\u001b[0;31mImportError\u001b[0m: cannot import name 'np' from 'numpy' (/home/jones1/Source/clonk_transpilation/.venv/lib/python3.9/site-packages/numpy/__init__.py)"
     ]
    }
   ],
   "source": [
    "from qiskit.transpiler.coupling import CouplingMap\n",
    "#from numpy import np\n",
    "\n",
    "def pretty_print(edge_list, simple=False):\n",
    "    if simple:\n",
    "        temp = list(edge_list)\n",
    "        temp2 = []\n",
    "        for i, j in temp:\n",
    "            if not (j, i) in temp2:\n",
    "                temp2.append((i, j))\n",
    "        edge_list = temp2\n",
    "\n",
    "    x = CouplingMap(edge_list)\n",
    "\n",
    "    # black magic errors when I modify the draw function directly in the CouplingMap file so Im just copying the code here to make it work\n",
    "    import pydot\n",
    "    from PIL import Image\n",
    "    import io\n",
    "\n",
    "    formatter2 = lambda _: dict(dir=\"none\")\n",
    "    dot_str = x.graph.to_dot(edge_attr=formatter2, graph_attr={\"size\": \"0\"})\n",
    "    dot = pydot.graph_from_dot_data(dot_str)[0]\n",
    "    png = dot.create_png(prog=\"sfdp\")\n",
    "    pdf = dot.create_pdf(prog=\"sfdp\")\n",
    "    # png = dot.create_png(prog=\"neato\")\n",
    "    return Image.open(io.BytesIO(png))"
   ]
  },
  {
   "cell_type": "code",
   "execution_count": null,
   "metadata": {},
   "outputs": [],
   "source": [
    "# define corral\n",
    "def corral(num_snails = 32, num_levels = 2):\n",
    "    \"\"\"returns edge list of a corral of size specified\n",
    "    snails are nodes, edges are qubits\"\"\"\n",
    "\n",
    "    snail_edge_list = []\n",
    "    for snail0, snail1 in zip(range(num_snails), range(1, num_snails + 1)):\n",
    "        for i in range(num_levels):\n",
    "            snail_edge_list.append((snail0, snail1 % num_snails))\n",
    "    return snail_edge_list\n"
   ]
  },
  {
   "cell_type": "code",
   "execution_count": 7,
   "metadata": {},
   "outputs": [
    {
     "ename": "NameError",
     "evalue": "name 'np' is not defined",
     "output_type": "error",
     "traceback": [
      "\u001b[0;31m---------------------------------------------------------------------------\u001b[0m",
      "\u001b[0;31mNameError\u001b[0m                                 Traceback (most recent call last)",
      "Cell \u001b[0;32mIn[7], line 7\u001b[0m\n\u001b[1;32m      4\u001b[0m corral_32 \u001b[39m=\u001b[39m corral()\n\u001b[1;32m      6\u001b[0m new_edges\u001b[39m=\u001b[39m c\u001b[39m.\u001b[39mdivideCorralK_math(corral_32, \u001b[39m32\u001b[39m, \u001b[39m2\u001b[39m)\n\u001b[0;32m----> 7\u001b[0m corral_32 \u001b[39m=\u001b[39m np\u001b[39m.\u001b[39mappend(corral_32, new_edges, axis\u001b[39m=\u001b[39m\u001b[39m0\u001b[39m)\n\u001b[1;32m      9\u001b[0m display(pretty_print(corral_32))\n",
      "\u001b[0;31mNameError\u001b[0m: name 'np' is not defined"
     ]
    }
   ],
   "source": [
    "from src.clonk.backend_utils.mock_backends.Corral_backend_v1 import FakeCorral\n",
    "\n",
    "c = FakeCorral()\n",
    "corral_32 = corral()\n",
    "\n",
    "new_edges= c.divideCorralK_math(corral_32, 32, 2)\n",
    "corral_32.append(corral_32, new_edges, axis=0)\n",
    "\n",
    "#FIXME use np.append\n",
    "for e in new_edges:\n",
    "    corral_32.append(e)\n",
    "\n",
    "display(pretty_print(corral_32))"
   ]
  }
 ],
 "metadata": {
  "kernelspec": {
   "display_name": ".venv",
   "language": "python",
   "name": "python3"
  },
  "language_info": {
   "codemirror_mode": {
    "name": "ipython",
    "version": 3
   },
   "file_extension": ".py",
   "mimetype": "text/x-python",
   "name": "python",
   "nbconvert_exporter": "python",
   "pygments_lexer": "ipython3",
   "version": "3.9.16"
  },
  "orig_nbformat": 4
 },
 "nbformat": 4,
 "nbformat_minor": 2
}

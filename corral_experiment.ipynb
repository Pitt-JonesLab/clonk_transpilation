{
 "cells": [
  {
   "cell_type": "code",
   "execution_count": 93,
   "metadata": {},
   "outputs": [],
   "source": [
    "from qiskit.transpiler.coupling import CouplingMap\n",
    "import retworkx as rx\n",
    "import random\n",
    "\n",
    "from src.clonk.backend_utils.mock_backends.Corral_backend_v1 import FakeCorral\n",
    "import numpy as np\n",
    "\n",
    "\n",
    "def pretty_print(edge_list, simple=True):\n",
    "    if simple: #simple only shows one connection if reverse node connection is there too\n",
    "        temp = list(edge_list)\n",
    "        temp2 = []\n",
    "        for i, j in temp:\n",
    "            if not (j, i) in temp2:\n",
    "                temp2.append((i, j))\n",
    "        edge_list = temp2\n",
    "\n",
    "    x = CouplingMap(edge_list)\n",
    "\n",
    "    # black magic errors when I modify the draw function directly in the CouplingMap file so Im just copying the code here to make it work\n",
    "    import pydot\n",
    "    from PIL import Image\n",
    "    import io\n",
    "\n",
    "    formatter2 = lambda node: dict(dir=\"none\", color=\"blue\") if node is not None and node%2 == 0 else dict(dir=\"none\", color=\"gold\") \n",
    "    print(x.get_edges())\n",
    "    pgraph = rx.PyGraph()\n",
    "\n",
    "    graph_edges = x.get_edges()\n",
    "    new_edges = []\n",
    "    for e in graph_edges:\n",
    "        e = list(e)\n",
    "        e.append(1)\n",
    "        new_edges.append(tuple(e))\n",
    "    pgraph.add_nodes_from(list(range(32)))\n",
    "    pgraph.add_edges_from(new_edges)\n",
    "    #update edge colors?\n",
    "    graph_colors = rx.graph_greedy_color(pgraph)\n",
    "    print(f'graph colors greedy: {graph_colors}')\n",
    "    # for node in graph_colors:\n",
    "    #     print(node)\n",
    "    #     x.graph[node] = graph_colors[node] # z\n",
    "\n",
    "    \n",
    "    dot_str = x.graph.to_dot(edge_attr=formatter2, graph_attr={\"size\": \"0\", \"color\":\"blue\"})\n",
    "    dot = pydot.graph_from_dot_data(dot_str)[0]\n",
    "    png = dot.create_png(prog=\"sfdp\")\n",
    "    pdf = dot.create_pdf(prog=\"sfdp\")\n",
    "    # png = dot.create_png(prog=\"neato\")\n",
    "    return Image.open(io.BytesIO(png))"
   ]
  },
  {
   "cell_type": "code",
   "execution_count": 94,
   "metadata": {},
   "outputs": [
    {
     "name": "stdout",
     "output_type": "stream",
     "text": [
      "EdgeList[(0, 1), (0, 1), (1, 2), (1, 2), (2, 3), (2, 3), (3, 4), (3, 4), (4, 5), (4, 5), (5, 6), (5, 6), (6, 7), (6, 7), (7, 8), (7, 8), (8, 9), (8, 9), (9, 10), (9, 10), (10, 11), (10, 11), (11, 12), (11, 12), (12, 13), (12, 13), (13, 14), (13, 14), (14, 15), (14, 15), (15, 16), (15, 16), (16, 17), (16, 17), (17, 18), (17, 18), (18, 19), (18, 19), (19, 20), (19, 20), (20, 21), (20, 21), (21, 22), (21, 22), (22, 23), (22, 23), (23, 24), (23, 24), (24, 25), (24, 25), (25, 26), (25, 26), (26, 27), (26, 27), (27, 28), (27, 28), (28, 29), (28, 29), (29, 30), (29, 30), (30, 31), (30, 31), (31, 0), (31, 0)]\n",
      "graph colors greedy: {0: 0, 1: 1, 2: 0, 3: 1, 4: 0, 5: 1, 6: 0, 7: 1, 8: 0, 9: 1, 10: 0, 11: 1, 12: 0, 13: 1, 14: 0, 15: 1, 16: 0, 17: 1, 18: 0, 19: 1, 20: 0, 21: 1, 22: 0, 23: 1, 24: 0, 25: 1, 26: 0, 27: 1, 28: 0, 29: 1, 30: 0, 31: 1}\n"
     ]
    },
    {
     "ename": "TypeError",
     "evalue": "'dict' object is not callable",
     "output_type": "error",
     "traceback": [
      "\u001b[0;31m---------------------------------------------------------------------------\u001b[0m",
      "\u001b[0;31mTypeError\u001b[0m                                 Traceback (most recent call last)",
      "Cell \u001b[0;32mIn[94], line 2\u001b[0m\n\u001b[1;32m      1\u001b[0m test \u001b[39m=\u001b[39m corral()\n\u001b[0;32m----> 2\u001b[0m pretty_print(test)\n",
      "Cell \u001b[0;32mIn[93], line 45\u001b[0m, in \u001b[0;36mpretty_print\u001b[0;34m(edge_list, simple)\u001b[0m\n\u001b[1;32m     39\u001b[0m \u001b[39mprint\u001b[39m(\u001b[39mf\u001b[39m\u001b[39m'\u001b[39m\u001b[39mgraph colors greedy: \u001b[39m\u001b[39m{\u001b[39;00mgraph_colors\u001b[39m}\u001b[39;00m\u001b[39m'\u001b[39m)\n\u001b[1;32m     40\u001b[0m \u001b[39m# for node in graph_colors:\u001b[39;00m\n\u001b[1;32m     41\u001b[0m \u001b[39m#     print(node)\u001b[39;00m\n\u001b[1;32m     42\u001b[0m \u001b[39m#     x.graph[node] = graph_colors[node] # z\u001b[39;00m\n\u001b[0;32m---> 45\u001b[0m dot_str \u001b[39m=\u001b[39m x\u001b[39m.\u001b[39;49mgraph\u001b[39m.\u001b[39;49mto_dot(edge_attr\u001b[39m=\u001b[39;49mformatter2(\u001b[39m1\u001b[39;49m), graph_attr\u001b[39m=\u001b[39;49m{\u001b[39m\"\u001b[39;49m\u001b[39msize\u001b[39;49m\u001b[39m\"\u001b[39;49m: \u001b[39m\"\u001b[39;49m\u001b[39m0\u001b[39;49m\u001b[39m\"\u001b[39;49m, \u001b[39m\"\u001b[39;49m\u001b[39mcolor\u001b[39;49m\u001b[39m\"\u001b[39;49m:\u001b[39m\"\u001b[39;49m\u001b[39mblue\u001b[39;49m\u001b[39m\"\u001b[39;49m})\n\u001b[1;32m     46\u001b[0m dot \u001b[39m=\u001b[39m pydot\u001b[39m.\u001b[39mgraph_from_dot_data(dot_str)[\u001b[39m0\u001b[39m]\n\u001b[1;32m     47\u001b[0m png \u001b[39m=\u001b[39m dot\u001b[39m.\u001b[39mcreate_png(prog\u001b[39m=\u001b[39m\u001b[39m\"\u001b[39m\u001b[39msfdp\u001b[39m\u001b[39m\"\u001b[39m)\n",
      "\u001b[0;31mTypeError\u001b[0m: 'dict' object is not callable"
     ]
    }
   ],
   "source": [
    "test = corral()\n",
    "pretty_print(test)"
   ]
  },
  {
   "cell_type": "code",
   "execution_count": 8,
   "metadata": {},
   "outputs": [],
   "source": [
    "# define corral\n",
    "def corral(num_snails=32, num_levels=2):\n",
    "    \"\"\"returns edge list of a corral of size specified\n",
    "    snails are nodes, edges are qubits\"\"\"\n",
    "\n",
    "    snail_edge_list = []\n",
    "    for snail0, snail1 in zip(range(num_snails), range(1, num_snails + 1)):\n",
    "        for i in range(num_levels):\n",
    "            snail_edge_list.append((snail0, snail1 % num_snails))\n",
    "    return snail_edge_list"
   ]
  },
  {
   "cell_type": "code",
   "execution_count": 3,
   "metadata": {},
   "outputs": [],
   "source": [
    "def snail_to_connectivity(snail_edge_list):\n",
    "    # Convert snail edge list where nodes are snails and edges are qubits\n",
    "    # To connectivity edge list where nodes are qubits and edges are coupling\n",
    "    edge_list = []\n",
    "\n",
    "    # qubits are coupled to a snail edge if they are both adjacent to a snail node\n",
    "    for qubit, snail_edge in enumerate(snail_edge_list):\n",
    "        for temp_qubit, temp_snail_edge in enumerate(snail_edge_list):\n",
    "            if qubit != temp_qubit and (\n",
    "                snail_edge[0] in temp_snail_edge or snail_edge[1] in temp_snail_edge\n",
    "            ):\n",
    "                edge_list.append((qubit, temp_qubit))\n",
    "    return edge_list"
   ]
  },
  {
   "cell_type": "code",
   "execution_count": 4,
   "metadata": {},
   "outputs": [],
   "source": [
    "def get_max_from_tupleList(tuptup):\n",
    "    x = max(tuptup, key=lambda item:item[1])[1] #find max looking at second item\n",
    "    y = max(tuptup)[0] #find max looking at first item\n",
    "\n",
    "    return max(x,y) #return max item of all tuple pairs"
   ]
  },
  {
   "cell_type": "code",
   "execution_count": 5,
   "metadata": {},
   "outputs": [],
   "source": [
    "#check that corrals don't overlap with node names\n",
    "#assume corrals start at 0 increase sequentially\n",
    "def updateCorralNodeNames(c1,c2):\n",
    "    c1_offset = get_max_from_tupleList(c1) + 1 #increment by one to get offset\n",
    "    c2_offset = get_max_from_tupleList(c2) + 1\n",
    "    new1, new2 = [], []\n",
    "    if c2_offset < c1_offset: #offset c2 by c1_max\n",
    "        new1 = c1\n",
    "        for e in c2:\n",
    "            first = e[0] + c1_offset\n",
    "            second = e[1] + c1_offset\n",
    "            new2.append((first,second))\n",
    "    else:\n",
    "        new2 = c2\n",
    "        for e in c1:\n",
    "            first = e[0] + c2_offset\n",
    "            second = e[1] + c2_offset\n",
    "            new1.append((first,second))\n",
    "    return new1, new2"
   ]
  },
  {
   "cell_type": "code",
   "execution_count": 6,
   "metadata": {},
   "outputs": [],
   "source": [
    "#function to combine two corrals\n",
    "#take in two corrals\n",
    "#find two nodes on each that are directly connected\n",
    "#add edge to opposite and diagonal nodes in between corrals\n",
    "#remove edge connecting nodes in each corral\n",
    "#remove edge for each node -> connect the nodes that were connected to removed edge\n",
    "\n",
    "#TODO param to adjust how many nodes in between connected?\n",
    "def connect_corrals(cor_1, cor_2):\n",
    "    cor_1, cor_2 = updateCorralNodeNames(cor_1, cor_2) #update corral node numbers so no overlap between the two corrals with names\n",
    "    cor1_n1 = cor_1[0][0] #get first node of first tuple\n",
    "    cor1_n2 = cor_1[0][1] #get second node of tuple to connect with other corral\n",
    "    cor2_n1 = cor_2[0][0] \n",
    "    cor2_n2 = cor_2[0][1] \n",
    "\n",
    "    newEdges = []\n",
    "    newEdges.append((cor1_n1, cor2_n1))\n",
    "    newEdges.append((cor1_n1, cor2_n2))\n",
    "    newEdges.append((cor1_n2, cor2_n1))\n",
    "    newEdges.append((cor1_n2,cor2_n2))\n",
    "    \n",
    "    removeEdges = []\n",
    "    cor_1.remove((cor1_n1,cor1_n2)) #remove edges connecting nodes in same corral\n",
    "    cor_2.remove((cor2_n1,cor2_n2))\n",
    "    #remove another edge from each node\n",
    "    for e in cor_1:\n",
    "        if cor1_n1 == e[0]:\n",
    "            n1_temp = e[1]\n",
    "            remove1 = e\n",
    "        elif cor1_n1 == e[1]:\n",
    "            n1_temp = e[0]\n",
    "            remove1 = e\n",
    "        elif cor1_n2 == e[0]:\n",
    "            n2_temp = e[1]\n",
    "            remove2 = e\n",
    "        elif cor1_n2 == e[1]:\n",
    "            n2_temp = e[0]\n",
    "            remove2 = e\n",
    "    for e in cor_2:\n",
    "        if cor2_n1 == e[0]:\n",
    "            n3_temp = e[1]\n",
    "            remove3 = e\n",
    "        elif cor2_n1 == e[1]:\n",
    "            n3_temp = e[0]\n",
    "            remove3 = e\n",
    "        elif cor2_n2 == e[0]:\n",
    "            n4_temp = e[1]\n",
    "            remove4 = e\n",
    "        elif cor2_n2 == e[1]:\n",
    "            n4_temp = e[0]\n",
    "            remove4 = e\n",
    "\n",
    "    cor_1.remove(remove1)\n",
    "    cor_1.remove(remove2)\n",
    "    cor_2.remove(remove3)\n",
    "    cor_2.remove(remove4)\n",
    "    newEdges.append((n1_temp,n2_temp))\n",
    "    newEdges.append((n3_temp,n4_temp))\n",
    "    \n",
    "    combinedCorral = cor_1 + cor_2\n",
    "    combinedCorral = np.append(combinedCorral, newEdges, axis=0)\n",
    "    return combinedCorral\n"
   ]
  },
  {
   "cell_type": "code",
   "execution_count": null,
   "metadata": {},
   "outputs": [],
   "source": [
    "fc = FakeCorral()\n",
    "c1 = corral(16//2,2)\n",
    "c2 = corral(16//2,2)\n",
    "c = corral(16,2)\n",
    "\n",
    "c1 = list(fc.add_new_edges(c1, 4//2))\n",
    "c2 = list(fc.add_new_edges(c2, 4//2))\n",
    "n_16_0 = fc.connect_corrals(c1, c2)\n",
    "c = list(fc.add_new_edges(c, 4))\n",
    "# display(pretty_print(snail_to_connectivity( n_16_0)))\n",
    "# display(pretty_print(snail_to_connectivity( c)))\n",
    "display(pretty_print( n_16_0))\n",
    "display(pretty_print(c))\n",
    "\n",
    "# c1 = fc.add_new_edges(c1, 4)\n",
    "\n",
    "# display(pretty_print(c1))\n",
    "# display(pretty_print(c2))\n",
    "# display(pretty_print(c))\n",
    "\n"
   ]
  },
  {
   "cell_type": "code",
   "execution_count": null,
   "metadata": {},
   "outputs": [],
   "source": [
    "#diff connection type,  way 2, 3 nodes\n",
    "def connect_corrals_way2(cor_1, cor_2):\n",
    "    cor_1, cor_2 = updateCorralNodeNames(cor_1, cor_2) #update corral node numbers so no overlap between the two corrals with names\n",
    "    n0 = cor_1[0][0] #get first node of first tuple\n",
    "    n1 = cor_1[0][1] #get second node of tuple to connect with other corral\n",
    "    n2 = -1\n",
    "    n3 = cor_2[0][0] \n",
    "    n4 = cor_2[0][1]\n",
    "    n5 = -1\n",
    "    outerN1 =-1 #nodes connected together at end after having edge removed\n",
    "    outerN2 =-1 \n",
    "\n",
    "    newEdges = []\n",
    "    cor_1.remove((n0,n1)) #remove edges connecting nodes in same corral\n",
    "    cor_2.remove((n3,n4))\n",
    "    #find 3rd node, which is connected to either n1, or n2\n",
    "    for e in cor_1:\n",
    "        if n1 == e[0]:\n",
    "            n2 = e[1]\n",
    "            remove1 = e\n",
    "        elif n1 == e[1]:\n",
    "            n2 = e[0]\n",
    "            remove1 = e\n",
    "    for e in cor_2:\n",
    "        if n4 == e[0]:\n",
    "            n5 = e[1]\n",
    "            remove2 = e\n",
    "        elif n4 == e[1]:\n",
    "            n5 = e[0]\n",
    "            remove2 = e\n",
    "\n",
    "    for e in cor_1:\n",
    "        if n2 == e[0]:\n",
    "            outerN1 = e[1]\n",
    "            remove3 = e\n",
    "        elif n2 == e[1]:\n",
    "            outerN1 = e[0]\n",
    "            remove3 = e\n",
    "    for e in cor_2:\n",
    "        if n5 == e[0]:\n",
    "            outerN2 = e[1]\n",
    "            remove4 = e\n",
    "        elif n5 == e[1]:\n",
    "            outerN2 = e[0]\n",
    "            remove4 = e\n",
    "\n",
    "    cor_1.remove(remove1) #remove edges connecting nodes in same corral \n",
    "    cor_1.remove(remove3)\n",
    "    cor_2.remove(remove2)\n",
    "    cor_2.remove(remove4)\n",
    "\n",
    "    #connect 0-3,0-4 ; 1-4,1-5 ; 2-5, + nodes connected previously to n0 and n5 \n",
    "    newEdges.append((n0,n3))\n",
    "    newEdges.append((n0,n4))\n",
    "    newEdges.append((n1,n4))\n",
    "    newEdges.append((n1,n5))\n",
    "    newEdges.append((n2,n5))\n",
    "    newEdges.append((outerN1,outerN2))\n",
    "\n",
    "    \n",
    "    combinedCorral = cor_1 + cor_2\n",
    "    combinedCorral = np.append(combinedCorral, newEdges, axis=0)\n",
    "    return combinedCorral"
   ]
  },
  {
   "cell_type": "code",
   "execution_count": null,
   "metadata": {},
   "outputs": [],
   "source": [
    "fc = FakeCorral()\n",
    "c1 = corral(8,2)\n",
    "c2 = corral(8,2)\n",
    "\n",
    "display(pretty_print(c1))\n",
    "\n",
    "combined = connect_corrals_way2(c1,c2)\n",
    "display(pretty_print(combined))"
   ]
  },
  {
   "cell_type": "code",
   "execution_count": null,
   "metadata": {},
   "outputs": [],
   "source": [
    "pretty_print(snail_to_connectivity( c1))"
   ]
  },
  {
   "cell_type": "code",
   "execution_count": null,
   "metadata": {},
   "outputs": [],
   "source": [
    "c = FakeCorral()\n",
    "basic_corral_16_2 = corral(16, 2)\n",
    "basic_corral_16_2 = snail_to_connectivity(basic_corral_16_2)\n",
    "display(pretty_print(basic_corral_16_2))\n",
    "\n",
    "# check divideCorralK_math() w/ diff params\n",
    "new_edges_16_2 = c.divideCorralK_math(basic_corral_16_2, 16, 2)\n",
    "new_edges_32_2 = c.divideCorralK_math(basic_corral_16_2, 32, 2)\n",
    "new_edges_16_4 = c.divideCorralK_math(basic_corral_16_2, 16, 4)\n",
    "new_edges_32_4 = c.divideCorralK_math(basic_corral_16_2, 32, 4)\n",
    "\n",
    "corral_16_2 = np.append(basic_corral_16_2, new_edges_16_2, axis=0)\n",
    "corral_32_2 = np.append(basic_corral_16_2, new_edges_32_2, axis=0)\n",
    "corral_16_4 = np.append(basic_corral_16_2, new_edges_16_4, axis=0)\n",
    "corral_32_4 = np.append(basic_corral_16_2, new_edges_32_4, axis=0)\n",
    "\n",
    "display(pretty_print(corral_32_2))\n",
    "display(pretty_print(corral_16_2))\n",
    "display(pretty_print(corral_32_4))\n",
    "display(pretty_print(corral_16_4))"
   ]
  },
  {
   "cell_type": "code",
   "execution_count": null,
   "metadata": {},
   "outputs": [],
   "source": [
    "c = FakeCorral()\n",
    "basic_corral_32_2 = corral(32, 2)\n",
    "basic_corral_32_2 = snail_to_connectivity(basic_corral_32_2)\n",
    "display(pretty_print(basic_corral_32_2))\n",
    "print(len(basic_corral_32_2))\n",
    "new_edges_32_12 = c.divideCorralK_math(basic_corral_32_2, 32, 12)\n",
    "new_edges_80_50 = c.divideCorralK_math(basic_corral_32_2, 80, 50)\n",
    "\n",
    "\n",
    "corral_32_2 = np.append(basic_corral_32_2, new_edges_32_2, axis=0)\n",
    "corral_80_50 = np.append(basic_corral_32_2, new_edges_80_50, axis=0)\n",
    "print(basic_corral_32_2)\n",
    "print(new_edges_32_2)\n",
    "\n",
    "display(pretty_print(corral_32_2))\n",
    "display(pretty_print(corral_80_50))"
   ]
  },
  {
   "cell_type": "code",
   "execution_count": null,
   "metadata": {},
   "outputs": [],
   "source": [
    "c = FakeCorral()\n",
    "basic_corral_32_2 = corral(32, 2)\n",
    "basic_corral_32_2 = snail_to_connectivity(basic_corral_32_2)\n",
    "display(pretty_print(basic_corral_32_2))\n",
    "new_edges = c.divideCorralK_math(basic_corral_32_2, 80, 100)\n",
    "\n",
    "corral_new = np.append(basic_corral_32_2, new_edges, axis=0)\n",
    "\n",
    "display(pretty_print(corral_new))"
   ]
  },
  {
   "cell_type": "code",
   "execution_count": null,
   "metadata": {},
   "outputs": [],
   "source": [
    "basic_corral_16_2 = corral(16, 2)\n",
    "basic_corral_16_2 = snail_to_connectivity(basic_corral_16_2)\n",
    "display(pretty_print(basic_corral_16_2))\n",
    "\n",
    "# check divideCorralK_math() w/ diff params\n",
    "new_edges_32_2 = c.divideCorralK_complete(basic_corral_16_2, 32, 2)\n",
    "new_edges_32_32 = c.divideCorralK_complete(basic_corral_16_2, 32, 32)\n",
    "new_edges_32_16 = c.divideCorralK_complete(basic_corral_16_2, 32, 16)\n",
    "new_edges_32_8 = c.divideCorralK_complete(basic_corral_16_2, 32, 8)\n",
    "\n",
    "corral_32_2 = np.append(basic_corral_16_2, new_edges_32_2, axis=0)\n",
    "corral_32_32 = np.append(basic_corral_16_2, new_edges_32_32, axis=0)\n",
    "corral_32_16 = np.append(basic_corral_16_2, new_edges_32_16, axis=0)\n",
    "corral_32_8 = np.append(basic_corral_16_2, new_edges_32_8, axis=0)\n",
    "\n",
    "display(pretty_print(corral_32_2))\n",
    "display(pretty_print(corral_32_32))\n",
    "display(pretty_print(corral_32_16))\n",
    "display(pretty_print(corral_32_8))"
   ]
  },
  {
   "cell_type": "code",
   "execution_count": null,
   "metadata": {},
   "outputs": [],
   "source": [
    "basic_corral_16_2 = corral(16, 2)\n",
    "basic_corral_16_2 = snail_to_connectivity(basic_corral_16_2)\n",
    "display(pretty_print(basic_corral_16_2))\n",
    "\n",
    "# check divideCorralK_math() w/ diff params\n",
    "new_edges_32_2 = c.divideCorralK_complete(basic_corral_16_2, 32, 200)\n",
    "corral_32_2 = np.append(basic_corral_16_2, new_edges_32_2, axis=0)\n",
    "\n",
    "display(pretty_print(corral_32_2))"
   ]
  },
  {
   "cell_type": "code",
   "execution_count": 4,
   "metadata": {},
   "outputs": [
    {
     "name": "stdout",
     "output_type": "stream",
     "text": [
      "['Corral_N_16_(1,1)_K_0_Connect_False_v_1-smallv3', 'Corral_N_16_(1,4)_K_0_Connect_False_v_1-smallv3', 'Corral_N_16_(1,6)_K_0_Connect_False_v_1-smallv3', 'Corral_N_16_(1,8)_K_0_Connect_False_v_1-smallv3']\n"
     ]
    }
   ],
   "source": [
    "# test benchmarking for diff amounto of qubits and different connectivities\n",
    "from src.clonk.benchmark_suite.backend_suite_corral import simple_backends_v3\n",
    "\n",
    "print([backend.label for backend in simple_backends_v3])"
   ]
  },
  {
   "cell_type": "code",
   "execution_count": 5,
   "metadata": {},
   "outputs": [
    {
     "data": {
      "text/html": [
       "<pre style=\"word-wrap: normal;white-space: pre;background: #fff0;line-height: 1.1;font-family: &quot;Courier New&quot;,Courier,monospace\">global phase: 5.6678\n",
       "      ┌─────────┐                                                     »\n",
       " q_0: ┤ U2(0,π) ├──■──────────────────■────■──────────────────■───────»\n",
       "      ├─────────┤  │                  │  ┌─┴─┐┌────────────┐┌─┴─┐     »\n",
       " q_1: ┤ U2(0,π) ├──┼──────────────────┼──┤ X ├┤ U1(11.951) ├┤ X ├──■──»\n",
       "      ├─────────┤┌─┴─┐┌────────────┐┌─┴─┐└───┘└────────────┘└───┘  │  »\n",
       " q_2: ┤ U2(0,π) ├┤ X ├┤ U1(11.951) ├┤ X ├──────────────────────────┼──»\n",
       "      ├─────────┤└───┘└────────────┘└───┘                        ┌─┴─┐»\n",
       " q_3: ┤ U2(0,π) ├────────────────────────────────────────────────┤ X ├»\n",
       "      └─────────┘                                                └───┘»\n",
       "m0: 4/════════════════════════════════════════════════════════════════»\n",
       "                                                                      »\n",
       "«                                                                       »\n",
       "« q_0: ───────────────────────────────────────────────■─────────────────»\n",
       "«                                                     │                 »\n",
       "« q_1: ─────────────────■─────────────────────────────┼─────────■───────»\n",
       "«                       │                             │       ┌─┴─┐     »\n",
       "« q_2: ─────────────────┼────■───────────────────■────┼───────┤ X ├─────»\n",
       "«      ┌─────────────┐┌─┴─┐┌─┴─┐┌─────────────┐┌─┴─┐┌─┴─┐┌────┴───┴────┐»\n",
       "« q_3: ┤ U1(-11.951) ├┤ X ├┤ X ├┤ U1(-11.951) ├┤ X ├┤ X ├┤ U1(-11.951) ├»\n",
       "«      └─────────────┘└───┘└───┘└─────────────┘└───┘└───┘└─────────────┘»\n",
       "«m0: 4/═════════════════════════════════════════════════════════════════»\n",
       "«                                                                       »\n",
       "«                               ┌─────────────┐┌─┐         \n",
       "« q_0: ──────────────────────■──┤ R(13.352,0) ├┤M├─────────\n",
       "«                            │  ├─────────────┤└╥┘┌─┐      \n",
       "« q_1: ─────────────────■────┼──┤ R(13.352,0) ├─╫─┤M├──────\n",
       "«      ┌─────────────┐┌─┴─┐  │  ├─────────────┤ ║ └╥┘┌─┐   \n",
       "« q_2: ┤ U1(-11.951) ├┤ X ├──┼──┤ R(13.352,0) ├─╫──╫─┤M├───\n",
       "«      └─────────────┘└───┘┌─┴─┐├─────────────┤ ║  ║ └╥┘┌─┐\n",
       "« q_3: ────────────────────┤ X ├┤ R(13.352,0) ├─╫──╫──╫─┤M├\n",
       "«                          └───┘└─────────────┘ ║  ║  ║ └╥┘\n",
       "«m0: 4/═════════════════════════════════════════╩══╩══╩══╩═\n",
       "«                                               0  1  2  3 </pre>"
      ],
      "text/plain": [
       "global phase: 5.6678\n",
       "      ┌─────────┐                                                     »\n",
       " q_0: ┤ U2(0,π) ├──■──────────────────■────■──────────────────■───────»\n",
       "      ├─────────┤  │                  │  ┌─┴─┐┌────────────┐┌─┴─┐     »\n",
       " q_1: ┤ U2(0,π) ├──┼──────────────────┼──┤ X ├┤ U1(11.951) ├┤ X ├──■──»\n",
       "      ├─────────┤┌─┴─┐┌────────────┐┌─┴─┐└───┘└────────────┘└───┘  │  »\n",
       " q_2: ┤ U2(0,π) ├┤ X ├┤ U1(11.951) ├┤ X ├──────────────────────────┼──»\n",
       "      ├─────────┤└───┘└────────────┘└───┘                        ┌─┴─┐»\n",
       " q_3: ┤ U2(0,π) ├────────────────────────────────────────────────┤ X ├»\n",
       "      └─────────┘                                                └───┘»\n",
       "m0: 4/════════════════════════════════════════════════════════════════»\n",
       "                                                                      »\n",
       "«                                                                       »\n",
       "« q_0: ───────────────────────────────────────────────■─────────────────»\n",
       "«                                                     │                 »\n",
       "« q_1: ─────────────────■─────────────────────────────┼─────────■───────»\n",
       "«                       │                             │       ┌─┴─┐     »\n",
       "« q_2: ─────────────────┼────■───────────────────■────┼───────┤ X ├─────»\n",
       "«      ┌─────────────┐┌─┴─┐┌─┴─┐┌─────────────┐┌─┴─┐┌─┴─┐┌────┴───┴────┐»\n",
       "« q_3: ┤ U1(-11.951) ├┤ X ├┤ X ├┤ U1(-11.951) ├┤ X ├┤ X ├┤ U1(-11.951) ├»\n",
       "«      └─────────────┘└───┘└───┘└─────────────┘└───┘└───┘└─────────────┘»\n",
       "«m0: 4/═════════════════════════════════════════════════════════════════»\n",
       "«                                                                       »\n",
       "«                               ┌─────────────┐┌─┐         \n",
       "« q_0: ──────────────────────■──┤ R(13.352,0) ├┤M├─────────\n",
       "«                            │  ├─────────────┤└╥┘┌─┐      \n",
       "« q_1: ─────────────────■────┼──┤ R(13.352,0) ├─╫─┤M├──────\n",
       "«      ┌─────────────┐┌─┴─┐  │  ├─────────────┤ ║ └╥┘┌─┐   \n",
       "« q_2: ┤ U1(-11.951) ├┤ X ├──┼──┤ R(13.352,0) ├─╫──╫─┤M├───\n",
       "«      └─────────────┘└───┘┌─┴─┐├─────────────┤ ║  ║ └╥┘┌─┐\n",
       "« q_3: ────────────────────┤ X ├┤ R(13.352,0) ├─╫──╫──╫─┤M├\n",
       "«                          └───┘└─────────────┘ ║  ║  ║ └╥┘\n",
       "«m0: 4/═════════════════════════════════════════╩══╩══╩══╩═\n",
       "«                                               0  1  2  3 "
      ]
     },
     "execution_count": 5,
     "metadata": {},
     "output_type": "execute_result"
    }
   ],
   "source": [
    "from src.clonk.benchmark_suite.circuit_suite import circuits\n",
    "\n",
    "q_size = 4\n",
    "circuits[\"QAOA_Vanilla\"].circuit_lambda(q_size).decompose().draw()"
   ]
  },
  {
   "cell_type": "code",
   "execution_count": 7,
   "metadata": {},
   "outputs": [
    {
     "name": "stderr",
     "output_type": "stream",
     "text": [
      "This backend's operations: id,rx,ry,reset,measure only apply to a subset of qubits. Using this property to get 'basis_gates' for the transpiler may potentially create invalid output\n",
      "This backend's operations: id,rx,ry,reset,measure only apply to a subset of qubits. Using this property to get 'basis_gates' for the transpiler may potentially create invalid output\n"
     ]
    },
    {
     "name": "stdout",
     "output_type": "stream",
     "text": [
      "Starting benchmark for Quantum_Volume\n",
      "Starting benchmark for Quantum_Volume\n",
      "Transpiler qc4 for Corral_N_16_(1,1)_K_0_Connect_False_v_1-smallv3\n",
      "Transpiler qc4 for Corral_N_16_(1,4)_K_0_Connect_False_v_1-smallv3\n"
     ]
    },
    {
     "name": "stderr",
     "output_type": "stream",
     "text": [
      "This backend's operations: id,rx,ry,reset,measure only apply to a subset of qubits. Using this property to get 'basis_gates' for the transpiler may potentially create invalid output\n",
      "This backend's operations: id,rx,ry,reset,measure only apply to a subset of qubits. Using this property to get 'basis_gates' for the transpiler may potentially create invalid output\n"
     ]
    },
    {
     "name": "stdout",
     "output_type": "stream",
     "text": [
      "Transpiler qc4 for Corral_N_16_(1,6)_K_0_Connect_False_v_1-smallv3\n",
      "Transpiler qc4 for Corral_N_16_(1,8)_K_0_Connect_False_v_1-smallv3\n"
     ]
    },
    {
     "name": "stderr",
     "output_type": "stream",
     "text": [
      "This backend's operations: id,rx,ry,reset,measure only apply to a subset of qubits. Using this property to get 'basis_gates' for the transpiler may potentially create invalid output\n"
     ]
    },
    {
     "name": "stdout",
     "output_type": "stream",
     "text": [
      "Transpiler qc6 for Corral_N_16_(1,1)_K_0_Connect_False_v_1-smallv3\n"
     ]
    },
    {
     "name": "stderr",
     "output_type": "stream",
     "text": [
      "This backend's operations: id,rx,ry,reset,measure only apply to a subset of qubits. Using this property to get 'basis_gates' for the transpiler may potentially create invalid output\n"
     ]
    },
    {
     "name": "stdout",
     "output_type": "stream",
     "text": [
      "Transpiler qc6 for Corral_N_16_(1,4)_K_0_Connect_False_v_1-smallv3\n"
     ]
    },
    {
     "name": "stderr",
     "output_type": "stream",
     "text": [
      "This backend's operations: id,rx,ry,reset,measure only apply to a subset of qubits. Using this property to get 'basis_gates' for the transpiler may potentially create invalid output\n"
     ]
    },
    {
     "name": "stdout",
     "output_type": "stream",
     "text": [
      "Transpiler qc6 for Corral_N_16_(1,6)_K_0_Connect_False_v_1-smallv3\n"
     ]
    },
    {
     "name": "stderr",
     "output_type": "stream",
     "text": [
      "This backend's operations: id,rx,ry,reset,measure only apply to a subset of qubits. Using this property to get 'basis_gates' for the transpiler may potentially create invalid output\n"
     ]
    },
    {
     "name": "stdout",
     "output_type": "stream",
     "text": [
      "Transpiler qc6 for Corral_N_16_(1,8)_K_0_Connect_False_v_1-smallv3\n"
     ]
    },
    {
     "name": "stderr",
     "output_type": "stream",
     "text": [
      "This backend's operations: id,rx,ry,reset,measure only apply to a subset of qubits. Using this property to get 'basis_gates' for the transpiler may potentially create invalid output\n"
     ]
    },
    {
     "name": "stdout",
     "output_type": "stream",
     "text": [
      "Transpiler qc8 for Corral_N_16_(1,1)_K_0_Connect_False_v_1-smallv3\n"
     ]
    },
    {
     "name": "stderr",
     "output_type": "stream",
     "text": [
      "This backend's operations: id,rx,ry,reset,measure only apply to a subset of qubits. Using this property to get 'basis_gates' for the transpiler may potentially create invalid output\n"
     ]
    },
    {
     "name": "stdout",
     "output_type": "stream",
     "text": [
      "Transpiler qc8 for Corral_N_16_(1,4)_K_0_Connect_False_v_1-smallv3\n"
     ]
    },
    {
     "name": "stderr",
     "output_type": "stream",
     "text": [
      "This backend's operations: id,rx,ry,reset,measure only apply to a subset of qubits. Using this property to get 'basis_gates' for the transpiler may potentially create invalid output\n"
     ]
    },
    {
     "name": "stdout",
     "output_type": "stream",
     "text": [
      "Transpiler qc8 for Corral_N_16_(1,6)_K_0_Connect_False_v_1-smallv3\n"
     ]
    },
    {
     "name": "stderr",
     "output_type": "stream",
     "text": [
      "This backend's operations: id,rx,ry,reset,measure only apply to a subset of qubits. Using this property to get 'basis_gates' for the transpiler may potentially create invalid output\n"
     ]
    },
    {
     "name": "stdout",
     "output_type": "stream",
     "text": [
      "Transpiler qc8 for Corral_N_16_(1,8)_K_0_Connect_False_v_1-smallv3\n",
      "Transpiler qc12 for Corral_N_16_(1,1)_K_0_Connect_False_v_1-smallv3\n"
     ]
    },
    {
     "name": "stderr",
     "output_type": "stream",
     "text": [
      "This backend's operations: id,rx,ry,reset,measure only apply to a subset of qubits. Using this property to get 'basis_gates' for the transpiler may potentially create invalid output\n"
     ]
    },
    {
     "name": "stdout",
     "output_type": "stream",
     "text": [
      "Transpiler qc12 for Corral_N_16_(1,4)_K_0_Connect_False_v_1-smallv3\n"
     ]
    },
    {
     "name": "stderr",
     "output_type": "stream",
     "text": [
      "This backend's operations: id,rx,ry,reset,measure only apply to a subset of qubits. Using this property to get 'basis_gates' for the transpiler may potentially create invalid output\n"
     ]
    },
    {
     "name": "stdout",
     "output_type": "stream",
     "text": [
      "Transpiler qc12 for Corral_N_16_(1,6)_K_0_Connect_False_v_1-smallv3\n"
     ]
    },
    {
     "name": "stderr",
     "output_type": "stream",
     "text": [
      "This backend's operations: id,rx,ry,reset,measure only apply to a subset of qubits. Using this property to get 'basis_gates' for the transpiler may potentially create invalid output\n"
     ]
    },
    {
     "name": "stdout",
     "output_type": "stream",
     "text": [
      "Transpiler qc12 for Corral_N_16_(1,8)_K_0_Connect_False_v_1-smallv3\n"
     ]
    },
    {
     "name": "stderr",
     "output_type": "stream",
     "text": [
      "This backend's operations: id,rx,ry,reset,measure only apply to a subset of qubits. Using this property to get 'basis_gates' for the transpiler may potentially create invalid output\n"
     ]
    },
    {
     "name": "stdout",
     "output_type": "stream",
     "text": [
      "Transpiler qc14 for Corral_N_16_(1,1)_K_0_Connect_False_v_1-smallv3\n"
     ]
    },
    {
     "name": "stderr",
     "output_type": "stream",
     "text": [
      "This backend's operations: id,rx,ry,reset,measure only apply to a subset of qubits. Using this property to get 'basis_gates' for the transpiler may potentially create invalid output\n"
     ]
    },
    {
     "name": "stdout",
     "output_type": "stream",
     "text": [
      "Transpiler qc14 for Corral_N_16_(1,4)_K_0_Connect_False_v_1-smallv3\n"
     ]
    },
    {
     "name": "stderr",
     "output_type": "stream",
     "text": [
      "This backend's operations: id,rx,ry,reset,measure only apply to a subset of qubits. Using this property to get 'basis_gates' for the transpiler may potentially create invalid output\n"
     ]
    },
    {
     "name": "stdout",
     "output_type": "stream",
     "text": [
      "Transpiler qc14 for Corral_N_16_(1,6)_K_0_Connect_False_v_1-smallv3\n"
     ]
    },
    {
     "name": "stderr",
     "output_type": "stream",
     "text": [
      "This backend's operations: id,rx,ry,reset,measure only apply to a subset of qubits. Using this property to get 'basis_gates' for the transpiler may potentially create invalid output\n"
     ]
    },
    {
     "name": "stdout",
     "output_type": "stream",
     "text": [
      "Transpiler qc14 for Corral_N_16_(1,8)_K_0_Connect_False_v_1-smallv3\n"
     ]
    },
    {
     "name": "stderr",
     "output_type": "stream",
     "text": [
      "This backend's operations: id,rx,ry,reset,measure only apply to a subset of qubits. Using this property to get 'basis_gates' for the transpiler may potentially create invalid output\n"
     ]
    },
    {
     "name": "stdout",
     "output_type": "stream",
     "text": [
      "Transpiler qc16 for Corral_N_16_(1,1)_K_0_Connect_False_v_1-smallv3\n"
     ]
    },
    {
     "name": "stderr",
     "output_type": "stream",
     "text": [
      "This backend's operations: id,rx,ry,reset,measure only apply to a subset of qubits. Using this property to get 'basis_gates' for the transpiler may potentially create invalid output\n"
     ]
    },
    {
     "name": "stdout",
     "output_type": "stream",
     "text": [
      "Transpiler qc16 for Corral_N_16_(1,4)_K_0_Connect_False_v_1-smallv3\n"
     ]
    },
    {
     "name": "stderr",
     "output_type": "stream",
     "text": [
      "This backend's operations: id,rx,ry,reset,measure only apply to a subset of qubits. Using this property to get 'basis_gates' for the transpiler may potentially create invalid output\n"
     ]
    },
    {
     "name": "stdout",
     "output_type": "stream",
     "text": [
      "Transpiler qc16 for Corral_N_16_(1,6)_K_0_Connect_False_v_1-smallv3\n"
     ]
    },
    {
     "name": "stderr",
     "output_type": "stream",
     "text": [
      "This backend's operations: id,rx,ry,reset,measure only apply to a subset of qubits. Using this property to get 'basis_gates' for the transpiler may potentially create invalid output\n"
     ]
    },
    {
     "name": "stdout",
     "output_type": "stream",
     "text": [
      "Transpiler qc16 for Corral_N_16_(1,8)_K_0_Connect_False_v_1-smallv3\n"
     ]
    },
    {
     "name": "stderr",
     "output_type": "stream",
     "text": [
      "This backend's operations: id,rx,ry,reset,measure only apply to a subset of qubits. Using this property to get 'basis_gates' for the transpiler may potentially create invalid output\n",
      "This backend's operations: id,rx,ry,reset,measure only apply to a subset of qubits. Using this property to get 'basis_gates' for the transpiler may potentially create invalid output\n",
      "This backend's operations: id,rx,ry,reset,measure only apply to a subset of qubits. Using this property to get 'basis_gates' for the transpiler may potentially create invalid output\n"
     ]
    },
    {
     "name": "stdout",
     "output_type": "stream",
     "text": [
      "Starting benchmark for QFT\n",
      "Starting benchmark for QFT\n",
      "Transpiler qc4 for Corral_N_16_(1,1)_K_0_Connect_False_v_1-smallv3\n",
      "Transpiler qc4 for Corral_N_16_(1,4)_K_0_Connect_False_v_1-smallv3\n"
     ]
    },
    {
     "name": "stderr",
     "output_type": "stream",
     "text": [
      "This backend's operations: id,rx,ry,reset,measure only apply to a subset of qubits. Using this property to get 'basis_gates' for the transpiler may potentially create invalid output\n",
      "This backend's operations: id,rx,ry,reset,measure only apply to a subset of qubits. Using this property to get 'basis_gates' for the transpiler may potentially create invalid output\n"
     ]
    },
    {
     "name": "stdout",
     "output_type": "stream",
     "text": [
      "Transpiler qc4 for Corral_N_16_(1,6)_K_0_Connect_False_v_1-smallv3\n",
      "Transpiler qc4 for Corral_N_16_(1,8)_K_0_Connect_False_v_1-smallv3\n"
     ]
    },
    {
     "name": "stderr",
     "output_type": "stream",
     "text": [
      "This backend's operations: id,rx,ry,reset,measure only apply to a subset of qubits. Using this property to get 'basis_gates' for the transpiler may potentially create invalid output\n"
     ]
    },
    {
     "name": "stdout",
     "output_type": "stream",
     "text": [
      "Transpiler qc6 for Corral_N_16_(1,1)_K_0_Connect_False_v_1-smallv3\n"
     ]
    },
    {
     "name": "stderr",
     "output_type": "stream",
     "text": [
      "This backend's operations: id,rx,ry,reset,measure only apply to a subset of qubits. Using this property to get 'basis_gates' for the transpiler may potentially create invalid output\n"
     ]
    },
    {
     "name": "stdout",
     "output_type": "stream",
     "text": [
      "Transpiler qc6 for Corral_N_16_(1,4)_K_0_Connect_False_v_1-smallv3\n"
     ]
    },
    {
     "name": "stderr",
     "output_type": "stream",
     "text": [
      "This backend's operations: id,rx,ry,reset,measure only apply to a subset of qubits. Using this property to get 'basis_gates' for the transpiler may potentially create invalid output\n"
     ]
    },
    {
     "name": "stdout",
     "output_type": "stream",
     "text": [
      "Transpiler qc6 for Corral_N_16_(1,6)_K_0_Connect_False_v_1-smallv3\n"
     ]
    },
    {
     "name": "stderr",
     "output_type": "stream",
     "text": [
      "This backend's operations: id,rx,ry,reset,measure only apply to a subset of qubits. Using this property to get 'basis_gates' for the transpiler may potentially create invalid output\n"
     ]
    },
    {
     "name": "stdout",
     "output_type": "stream",
     "text": [
      "Transpiler qc6 for Corral_N_16_(1,8)_K_0_Connect_False_v_1-smallv3\n"
     ]
    },
    {
     "name": "stderr",
     "output_type": "stream",
     "text": [
      "This backend's operations: id,rx,ry,reset,measure only apply to a subset of qubits. Using this property to get 'basis_gates' for the transpiler may potentially create invalid output\n"
     ]
    },
    {
     "name": "stdout",
     "output_type": "stream",
     "text": [
      "Transpiler qc8 for Corral_N_16_(1,1)_K_0_Connect_False_v_1-smallv3\n"
     ]
    },
    {
     "name": "stderr",
     "output_type": "stream",
     "text": [
      "This backend's operations: id,rx,ry,reset,measure only apply to a subset of qubits. Using this property to get 'basis_gates' for the transpiler may potentially create invalid output\n"
     ]
    },
    {
     "name": "stdout",
     "output_type": "stream",
     "text": [
      "Transpiler qc8 for Corral_N_16_(1,4)_K_0_Connect_False_v_1-smallv3\n"
     ]
    },
    {
     "name": "stderr",
     "output_type": "stream",
     "text": [
      "This backend's operations: id,rx,ry,reset,measure only apply to a subset of qubits. Using this property to get 'basis_gates' for the transpiler may potentially create invalid output\n"
     ]
    },
    {
     "name": "stdout",
     "output_type": "stream",
     "text": [
      "Transpiler qc8 for Corral_N_16_(1,6)_K_0_Connect_False_v_1-smallv3\n"
     ]
    },
    {
     "name": "stderr",
     "output_type": "stream",
     "text": [
      "This backend's operations: id,rx,ry,reset,measure only apply to a subset of qubits. Using this property to get 'basis_gates' for the transpiler may potentially create invalid output\n"
     ]
    },
    {
     "name": "stdout",
     "output_type": "stream",
     "text": [
      "Transpiler qc8 for Corral_N_16_(1,8)_K_0_Connect_False_v_1-smallv3\n"
     ]
    },
    {
     "name": "stderr",
     "output_type": "stream",
     "text": [
      "This backend's operations: id,rx,ry,reset,measure only apply to a subset of qubits. Using this property to get 'basis_gates' for the transpiler may potentially create invalid output\n"
     ]
    },
    {
     "name": "stdout",
     "output_type": "stream",
     "text": [
      "Transpiler qc12 for Corral_N_16_(1,1)_K_0_Connect_False_v_1-smallv3\n"
     ]
    },
    {
     "name": "stderr",
     "output_type": "stream",
     "text": [
      "This backend's operations: id,rx,ry,reset,measure only apply to a subset of qubits. Using this property to get 'basis_gates' for the transpiler may potentially create invalid output\n"
     ]
    },
    {
     "name": "stdout",
     "output_type": "stream",
     "text": [
      "Transpiler qc12 for Corral_N_16_(1,4)_K_0_Connect_False_v_1-smallv3\n"
     ]
    },
    {
     "name": "stderr",
     "output_type": "stream",
     "text": [
      "This backend's operations: id,rx,ry,reset,measure only apply to a subset of qubits. Using this property to get 'basis_gates' for the transpiler may potentially create invalid output\n"
     ]
    },
    {
     "name": "stdout",
     "output_type": "stream",
     "text": [
      "Transpiler qc12 for Corral_N_16_(1,6)_K_0_Connect_False_v_1-smallv3\n"
     ]
    },
    {
     "name": "stderr",
     "output_type": "stream",
     "text": [
      "This backend's operations: id,rx,ry,reset,measure only apply to a subset of qubits. Using this property to get 'basis_gates' for the transpiler may potentially create invalid output\n"
     ]
    },
    {
     "name": "stdout",
     "output_type": "stream",
     "text": [
      "Transpiler qc12 for Corral_N_16_(1,8)_K_0_Connect_False_v_1-smallv3\n"
     ]
    },
    {
     "name": "stderr",
     "output_type": "stream",
     "text": [
      "This backend's operations: id,rx,ry,reset,measure only apply to a subset of qubits. Using this property to get 'basis_gates' for the transpiler may potentially create invalid output\n"
     ]
    },
    {
     "name": "stdout",
     "output_type": "stream",
     "text": [
      "Transpiler qc14 for Corral_N_16_(1,1)_K_0_Connect_False_v_1-smallv3\n"
     ]
    },
    {
     "name": "stderr",
     "output_type": "stream",
     "text": [
      "This backend's operations: id,rx,ry,reset,measure only apply to a subset of qubits. Using this property to get 'basis_gates' for the transpiler may potentially create invalid output\n"
     ]
    },
    {
     "name": "stdout",
     "output_type": "stream",
     "text": [
      "Transpiler qc14 for Corral_N_16_(1,4)_K_0_Connect_False_v_1-smallv3\n"
     ]
    },
    {
     "name": "stderr",
     "output_type": "stream",
     "text": [
      "This backend's operations: id,rx,ry,reset,measure only apply to a subset of qubits. Using this property to get 'basis_gates' for the transpiler may potentially create invalid output\n"
     ]
    },
    {
     "name": "stdout",
     "output_type": "stream",
     "text": [
      "Transpiler qc14 for Corral_N_16_(1,6)_K_0_Connect_False_v_1-smallv3\n"
     ]
    },
    {
     "name": "stderr",
     "output_type": "stream",
     "text": [
      "This backend's operations: id,rx,ry,reset,measure only apply to a subset of qubits. Using this property to get 'basis_gates' for the transpiler may potentially create invalid output\n"
     ]
    },
    {
     "name": "stdout",
     "output_type": "stream",
     "text": [
      "Transpiler qc14 for Corral_N_16_(1,8)_K_0_Connect_False_v_1-smallv3\n"
     ]
    },
    {
     "name": "stderr",
     "output_type": "stream",
     "text": [
      "This backend's operations: id,rx,ry,reset,measure only apply to a subset of qubits. Using this property to get 'basis_gates' for the transpiler may potentially create invalid output\n"
     ]
    },
    {
     "name": "stdout",
     "output_type": "stream",
     "text": [
      "Transpiler qc16 for Corral_N_16_(1,1)_K_0_Connect_False_v_1-smallv3\n"
     ]
    },
    {
     "name": "stderr",
     "output_type": "stream",
     "text": [
      "This backend's operations: id,rx,ry,reset,measure only apply to a subset of qubits. Using this property to get 'basis_gates' for the transpiler may potentially create invalid output\n"
     ]
    },
    {
     "name": "stdout",
     "output_type": "stream",
     "text": [
      "Transpiler qc16 for Corral_N_16_(1,4)_K_0_Connect_False_v_1-smallv3\n"
     ]
    },
    {
     "name": "stderr",
     "output_type": "stream",
     "text": [
      "This backend's operations: id,rx,ry,reset,measure only apply to a subset of qubits. Using this property to get 'basis_gates' for the transpiler may potentially create invalid output\n"
     ]
    },
    {
     "name": "stdout",
     "output_type": "stream",
     "text": [
      "Transpiler qc16 for Corral_N_16_(1,6)_K_0_Connect_False_v_1-smallv3\n"
     ]
    },
    {
     "name": "stderr",
     "output_type": "stream",
     "text": [
      "This backend's operations: id,rx,ry,reset,measure only apply to a subset of qubits. Using this property to get 'basis_gates' for the transpiler may potentially create invalid output\n"
     ]
    },
    {
     "name": "stdout",
     "output_type": "stream",
     "text": [
      "Transpiler qc16 for Corral_N_16_(1,8)_K_0_Connect_False_v_1-smallv3\n",
      "Starting benchmark for QAOA_Vanilla\n",
      "Starting benchmark for QAOA_Vanilla\n"
     ]
    },
    {
     "name": "stderr",
     "output_type": "stream",
     "text": [
      "This backend's operations: id,rx,ry,reset,measure only apply to a subset of qubits. Using this property to get 'basis_gates' for the transpiler may potentially create invalid output\n",
      "This backend's operations: id,rx,ry,reset,measure only apply to a subset of qubits. Using this property to get 'basis_gates' for the transpiler may potentially create invalid output\n"
     ]
    },
    {
     "name": "stdout",
     "output_type": "stream",
     "text": [
      "Transpiler qc4 for Corral_N_16_(1,1)_K_0_Connect_False_v_1-smallv3\n",
      "Transpiler qc4 for Corral_N_16_(1,4)_K_0_Connect_False_v_1-smallv3\n"
     ]
    },
    {
     "name": "stderr",
     "output_type": "stream",
     "text": [
      "This backend's operations: id,rx,ry,reset,measure only apply to a subset of qubits. Using this property to get 'basis_gates' for the transpiler may potentially create invalid output\n",
      "This backend's operations: id,rx,ry,reset,measure only apply to a subset of qubits. Using this property to get 'basis_gates' for the transpiler may potentially create invalid output\n"
     ]
    },
    {
     "name": "stdout",
     "output_type": "stream",
     "text": [
      "Transpiler qc4 for Corral_N_16_(1,6)_K_0_Connect_False_v_1-smallv3\n",
      "Transpiler qc4 for Corral_N_16_(1,8)_K_0_Connect_False_v_1-smallv3\n"
     ]
    },
    {
     "name": "stderr",
     "output_type": "stream",
     "text": [
      "This backend's operations: id,rx,ry,reset,measure only apply to a subset of qubits. Using this property to get 'basis_gates' for the transpiler may potentially create invalid output\n"
     ]
    },
    {
     "name": "stdout",
     "output_type": "stream",
     "text": [
      "Transpiler qc6 for Corral_N_16_(1,1)_K_0_Connect_False_v_1-smallv3\n"
     ]
    },
    {
     "name": "stderr",
     "output_type": "stream",
     "text": [
      "This backend's operations: id,rx,ry,reset,measure only apply to a subset of qubits. Using this property to get 'basis_gates' for the transpiler may potentially create invalid output\n"
     ]
    },
    {
     "name": "stdout",
     "output_type": "stream",
     "text": [
      "Transpiler qc6 for Corral_N_16_(1,4)_K_0_Connect_False_v_1-smallv3\n"
     ]
    },
    {
     "name": "stderr",
     "output_type": "stream",
     "text": [
      "This backend's operations: id,rx,ry,reset,measure only apply to a subset of qubits. Using this property to get 'basis_gates' for the transpiler may potentially create invalid output\n"
     ]
    },
    {
     "name": "stdout",
     "output_type": "stream",
     "text": [
      "Transpiler qc6 for Corral_N_16_(1,6)_K_0_Connect_False_v_1-smallv3\n"
     ]
    },
    {
     "name": "stderr",
     "output_type": "stream",
     "text": [
      "This backend's operations: id,rx,ry,reset,measure only apply to a subset of qubits. Using this property to get 'basis_gates' for the transpiler may potentially create invalid output\n"
     ]
    },
    {
     "name": "stdout",
     "output_type": "stream",
     "text": [
      "Transpiler qc6 for Corral_N_16_(1,8)_K_0_Connect_False_v_1-smallv3\n"
     ]
    },
    {
     "name": "stderr",
     "output_type": "stream",
     "text": [
      "This backend's operations: id,rx,ry,reset,measure only apply to a subset of qubits. Using this property to get 'basis_gates' for the transpiler may potentially create invalid output\n"
     ]
    },
    {
     "name": "stdout",
     "output_type": "stream",
     "text": [
      "Transpiler qc8 for Corral_N_16_(1,1)_K_0_Connect_False_v_1-smallv3\n"
     ]
    },
    {
     "name": "stderr",
     "output_type": "stream",
     "text": [
      "This backend's operations: id,rx,ry,reset,measure only apply to a subset of qubits. Using this property to get 'basis_gates' for the transpiler may potentially create invalid output\n"
     ]
    },
    {
     "name": "stdout",
     "output_type": "stream",
     "text": [
      "Transpiler qc8 for Corral_N_16_(1,4)_K_0_Connect_False_v_1-smallv3\n"
     ]
    },
    {
     "name": "stderr",
     "output_type": "stream",
     "text": [
      "This backend's operations: id,rx,ry,reset,measure only apply to a subset of qubits. Using this property to get 'basis_gates' for the transpiler may potentially create invalid output\n"
     ]
    },
    {
     "name": "stdout",
     "output_type": "stream",
     "text": [
      "Transpiler qc8 for Corral_N_16_(1,6)_K_0_Connect_False_v_1-smallv3\n"
     ]
    },
    {
     "name": "stderr",
     "output_type": "stream",
     "text": [
      "This backend's operations: id,rx,ry,reset,measure only apply to a subset of qubits. Using this property to get 'basis_gates' for the transpiler may potentially create invalid output\n"
     ]
    },
    {
     "name": "stdout",
     "output_type": "stream",
     "text": [
      "Transpiler qc8 for Corral_N_16_(1,8)_K_0_Connect_False_v_1-smallv3\n"
     ]
    },
    {
     "name": "stderr",
     "output_type": "stream",
     "text": [
      "This backend's operations: id,rx,ry,reset,measure only apply to a subset of qubits. Using this property to get 'basis_gates' for the transpiler may potentially create invalid output\n"
     ]
    },
    {
     "name": "stdout",
     "output_type": "stream",
     "text": [
      "Transpiler qc12 for Corral_N_16_(1,1)_K_0_Connect_False_v_1-smallv3\n"
     ]
    },
    {
     "name": "stderr",
     "output_type": "stream",
     "text": [
      "This backend's operations: id,rx,ry,reset,measure only apply to a subset of qubits. Using this property to get 'basis_gates' for the transpiler may potentially create invalid output\n"
     ]
    },
    {
     "name": "stdout",
     "output_type": "stream",
     "text": [
      "Transpiler qc12 for Corral_N_16_(1,4)_K_0_Connect_False_v_1-smallv3\n"
     ]
    },
    {
     "name": "stderr",
     "output_type": "stream",
     "text": [
      "This backend's operations: id,rx,ry,reset,measure only apply to a subset of qubits. Using this property to get 'basis_gates' for the transpiler may potentially create invalid output\n"
     ]
    },
    {
     "name": "stdout",
     "output_type": "stream",
     "text": [
      "Transpiler qc12 for Corral_N_16_(1,6)_K_0_Connect_False_v_1-smallv3\n"
     ]
    },
    {
     "name": "stderr",
     "output_type": "stream",
     "text": [
      "This backend's operations: id,rx,ry,reset,measure only apply to a subset of qubits. Using this property to get 'basis_gates' for the transpiler may potentially create invalid output\n"
     ]
    },
    {
     "name": "stdout",
     "output_type": "stream",
     "text": [
      "Transpiler qc12 for Corral_N_16_(1,8)_K_0_Connect_False_v_1-smallv3\n"
     ]
    },
    {
     "name": "stderr",
     "output_type": "stream",
     "text": [
      "This backend's operations: id,rx,ry,reset,measure only apply to a subset of qubits. Using this property to get 'basis_gates' for the transpiler may potentially create invalid output\n"
     ]
    },
    {
     "name": "stdout",
     "output_type": "stream",
     "text": [
      "Transpiler qc14 for Corral_N_16_(1,1)_K_0_Connect_False_v_1-smallv3\n"
     ]
    },
    {
     "name": "stderr",
     "output_type": "stream",
     "text": [
      "This backend's operations: id,rx,ry,reset,measure only apply to a subset of qubits. Using this property to get 'basis_gates' for the transpiler may potentially create invalid output\n"
     ]
    },
    {
     "name": "stdout",
     "output_type": "stream",
     "text": [
      "Transpiler qc14 for Corral_N_16_(1,4)_K_0_Connect_False_v_1-smallv3\n"
     ]
    },
    {
     "name": "stderr",
     "output_type": "stream",
     "text": [
      "This backend's operations: id,rx,ry,reset,measure only apply to a subset of qubits. Using this property to get 'basis_gates' for the transpiler may potentially create invalid output\n"
     ]
    },
    {
     "name": "stdout",
     "output_type": "stream",
     "text": [
      "Transpiler qc14 for Corral_N_16_(1,6)_K_0_Connect_False_v_1-smallv3\n"
     ]
    },
    {
     "name": "stderr",
     "output_type": "stream",
     "text": [
      "This backend's operations: id,rx,ry,reset,measure only apply to a subset of qubits. Using this property to get 'basis_gates' for the transpiler may potentially create invalid output\n"
     ]
    },
    {
     "name": "stdout",
     "output_type": "stream",
     "text": [
      "Transpiler qc14 for Corral_N_16_(1,8)_K_0_Connect_False_v_1-smallv3\n"
     ]
    },
    {
     "name": "stderr",
     "output_type": "stream",
     "text": [
      "This backend's operations: id,rx,ry,reset,measure only apply to a subset of qubits. Using this property to get 'basis_gates' for the transpiler may potentially create invalid output\n"
     ]
    },
    {
     "name": "stdout",
     "output_type": "stream",
     "text": [
      "Transpiler qc16 for Corral_N_16_(1,1)_K_0_Connect_False_v_1-smallv3\n"
     ]
    },
    {
     "name": "stderr",
     "output_type": "stream",
     "text": [
      "This backend's operations: id,rx,ry,reset,measure only apply to a subset of qubits. Using this property to get 'basis_gates' for the transpiler may potentially create invalid output\n"
     ]
    },
    {
     "name": "stdout",
     "output_type": "stream",
     "text": [
      "Transpiler qc16 for Corral_N_16_(1,4)_K_0_Connect_False_v_1-smallv3\n"
     ]
    },
    {
     "name": "stderr",
     "output_type": "stream",
     "text": [
      "This backend's operations: id,rx,ry,reset,measure only apply to a subset of qubits. Using this property to get 'basis_gates' for the transpiler may potentially create invalid output\n"
     ]
    },
    {
     "name": "stdout",
     "output_type": "stream",
     "text": [
      "Transpiler qc16 for Corral_N_16_(1,6)_K_0_Connect_False_v_1-smallv3\n"
     ]
    },
    {
     "name": "stderr",
     "output_type": "stream",
     "text": [
      "This backend's operations: id,rx,ry,reset,measure only apply to a subset of qubits. Using this property to get 'basis_gates' for the transpiler may potentially create invalid output\n"
     ]
    },
    {
     "name": "stdout",
     "output_type": "stream",
     "text": [
      "Transpiler qc16 for Corral_N_16_(1,8)_K_0_Connect_False_v_1-smallv3\n"
     ]
    },
    {
     "name": "stderr",
     "output_type": "stream",
     "text": [
      "This backend's operations: id,rx,ry,reset,measure only apply to a subset of qubits. Using this property to get 'basis_gates' for the transpiler may potentially create invalid output\n"
     ]
    },
    {
     "name": "stdout",
     "output_type": "stream",
     "text": [
      "Starting benchmark for TIM_Hamiltonian\n",
      "Starting benchmark for TIM_Hamiltonian\n",
      "Transpiler qc4 for Corral_N_16_(1,1)_K_0_Connect_False_v_1-smallv3\n"
     ]
    },
    {
     "name": "stderr",
     "output_type": "stream",
     "text": [
      "This backend's operations: id,rx,ry,reset,measure only apply to a subset of qubits. Using this property to get 'basis_gates' for the transpiler may potentially create invalid output\n"
     ]
    },
    {
     "name": "stdout",
     "output_type": "stream",
     "text": [
      "Transpiler qc4 for Corral_N_16_(1,4)_K_0_Connect_False_v_1-smallv3\n"
     ]
    },
    {
     "name": "stderr",
     "output_type": "stream",
     "text": [
      "This backend's operations: id,rx,ry,reset,measure only apply to a subset of qubits. Using this property to get 'basis_gates' for the transpiler may potentially create invalid output\n"
     ]
    },
    {
     "name": "stdout",
     "output_type": "stream",
     "text": [
      "Transpiler qc4 for Corral_N_16_(1,6)_K_0_Connect_False_v_1-smallv3\n"
     ]
    },
    {
     "name": "stderr",
     "output_type": "stream",
     "text": [
      "This backend's operations: id,rx,ry,reset,measure only apply to a subset of qubits. Using this property to get 'basis_gates' for the transpiler may potentially create invalid output\n"
     ]
    },
    {
     "name": "stdout",
     "output_type": "stream",
     "text": [
      "Transpiler qc4 for Corral_N_16_(1,8)_K_0_Connect_False_v_1-smallv3\n"
     ]
    },
    {
     "name": "stderr",
     "output_type": "stream",
     "text": [
      "This backend's operations: id,rx,ry,reset,measure only apply to a subset of qubits. Using this property to get 'basis_gates' for the transpiler may potentially create invalid output\n"
     ]
    },
    {
     "name": "stdout",
     "output_type": "stream",
     "text": [
      "Transpiler qc6 for Corral_N_16_(1,1)_K_0_Connect_False_v_1-smallv3\n"
     ]
    },
    {
     "name": "stderr",
     "output_type": "stream",
     "text": [
      "This backend's operations: id,rx,ry,reset,measure only apply to a subset of qubits. Using this property to get 'basis_gates' for the transpiler may potentially create invalid output\n"
     ]
    },
    {
     "name": "stdout",
     "output_type": "stream",
     "text": [
      "Transpiler qc6 for Corral_N_16_(1,4)_K_0_Connect_False_v_1-smallv3\n"
     ]
    },
    {
     "name": "stderr",
     "output_type": "stream",
     "text": [
      "This backend's operations: id,rx,ry,reset,measure only apply to a subset of qubits. Using this property to get 'basis_gates' for the transpiler may potentially create invalid output\n"
     ]
    },
    {
     "name": "stdout",
     "output_type": "stream",
     "text": [
      "Transpiler qc6 for Corral_N_16_(1,6)_K_0_Connect_False_v_1-smallv3\n"
     ]
    },
    {
     "name": "stderr",
     "output_type": "stream",
     "text": [
      "This backend's operations: id,rx,ry,reset,measure only apply to a subset of qubits. Using this property to get 'basis_gates' for the transpiler may potentially create invalid output\n"
     ]
    },
    {
     "name": "stdout",
     "output_type": "stream",
     "text": [
      "Transpiler qc6 for Corral_N_16_(1,8)_K_0_Connect_False_v_1-smallv3\n"
     ]
    },
    {
     "name": "stderr",
     "output_type": "stream",
     "text": [
      "This backend's operations: id,rx,ry,reset,measure only apply to a subset of qubits. Using this property to get 'basis_gates' for the transpiler may potentially create invalid output\n"
     ]
    },
    {
     "name": "stdout",
     "output_type": "stream",
     "text": [
      "Transpiler qc8 for Corral_N_16_(1,1)_K_0_Connect_False_v_1-smallv3\n"
     ]
    },
    {
     "name": "stderr",
     "output_type": "stream",
     "text": [
      "This backend's operations: id,rx,ry,reset,measure only apply to a subset of qubits. Using this property to get 'basis_gates' for the transpiler may potentially create invalid output\n"
     ]
    },
    {
     "name": "stdout",
     "output_type": "stream",
     "text": [
      "Transpiler qc8 for Corral_N_16_(1,4)_K_0_Connect_False_v_1-smallv3\n"
     ]
    },
    {
     "name": "stderr",
     "output_type": "stream",
     "text": [
      "This backend's operations: id,rx,ry,reset,measure only apply to a subset of qubits. Using this property to get 'basis_gates' for the transpiler may potentially create invalid output\n"
     ]
    },
    {
     "name": "stdout",
     "output_type": "stream",
     "text": [
      "Transpiler qc8 for Corral_N_16_(1,6)_K_0_Connect_False_v_1-smallv3\n"
     ]
    },
    {
     "name": "stderr",
     "output_type": "stream",
     "text": [
      "This backend's operations: id,rx,ry,reset,measure only apply to a subset of qubits. Using this property to get 'basis_gates' for the transpiler may potentially create invalid output\n"
     ]
    },
    {
     "name": "stdout",
     "output_type": "stream",
     "text": [
      "Transpiler qc8 for Corral_N_16_(1,8)_K_0_Connect_False_v_1-smallv3\n"
     ]
    },
    {
     "name": "stderr",
     "output_type": "stream",
     "text": [
      "This backend's operations: id,rx,ry,reset,measure only apply to a subset of qubits. Using this property to get 'basis_gates' for the transpiler may potentially create invalid output\n"
     ]
    },
    {
     "name": "stdout",
     "output_type": "stream",
     "text": [
      "Transpiler qc12 for Corral_N_16_(1,1)_K_0_Connect_False_v_1-smallv3\n"
     ]
    },
    {
     "name": "stderr",
     "output_type": "stream",
     "text": [
      "This backend's operations: id,rx,ry,reset,measure only apply to a subset of qubits. Using this property to get 'basis_gates' for the transpiler may potentially create invalid output\n"
     ]
    },
    {
     "name": "stdout",
     "output_type": "stream",
     "text": [
      "Transpiler qc12 for Corral_N_16_(1,4)_K_0_Connect_False_v_1-smallv3\n"
     ]
    },
    {
     "name": "stderr",
     "output_type": "stream",
     "text": [
      "This backend's operations: id,rx,ry,reset,measure only apply to a subset of qubits. Using this property to get 'basis_gates' for the transpiler may potentially create invalid output\n"
     ]
    },
    {
     "name": "stdout",
     "output_type": "stream",
     "text": [
      "Transpiler qc12 for Corral_N_16_(1,6)_K_0_Connect_False_v_1-smallv3\n"
     ]
    },
    {
     "name": "stderr",
     "output_type": "stream",
     "text": [
      "This backend's operations: id,rx,ry,reset,measure only apply to a subset of qubits. Using this property to get 'basis_gates' for the transpiler may potentially create invalid output\n"
     ]
    },
    {
     "name": "stdout",
     "output_type": "stream",
     "text": [
      "Transpiler qc12 for Corral_N_16_(1,8)_K_0_Connect_False_v_1-smallv3\n"
     ]
    },
    {
     "name": "stderr",
     "output_type": "stream",
     "text": [
      "This backend's operations: id,rx,ry,reset,measure only apply to a subset of qubits. Using this property to get 'basis_gates' for the transpiler may potentially create invalid output\n"
     ]
    },
    {
     "name": "stdout",
     "output_type": "stream",
     "text": [
      "Transpiler qc14 for Corral_N_16_(1,1)_K_0_Connect_False_v_1-smallv3\n"
     ]
    },
    {
     "name": "stderr",
     "output_type": "stream",
     "text": [
      "This backend's operations: id,rx,ry,reset,measure only apply to a subset of qubits. Using this property to get 'basis_gates' for the transpiler may potentially create invalid output\n"
     ]
    },
    {
     "name": "stdout",
     "output_type": "stream",
     "text": [
      "Transpiler qc14 for Corral_N_16_(1,4)_K_0_Connect_False_v_1-smallv3\n"
     ]
    },
    {
     "name": "stderr",
     "output_type": "stream",
     "text": [
      "This backend's operations: id,rx,ry,reset,measure only apply to a subset of qubits. Using this property to get 'basis_gates' for the transpiler may potentially create invalid output\n"
     ]
    },
    {
     "name": "stdout",
     "output_type": "stream",
     "text": [
      "Transpiler qc14 for Corral_N_16_(1,6)_K_0_Connect_False_v_1-smallv3\n"
     ]
    },
    {
     "name": "stderr",
     "output_type": "stream",
     "text": [
      "This backend's operations: id,rx,ry,reset,measure only apply to a subset of qubits. Using this property to get 'basis_gates' for the transpiler may potentially create invalid output\n"
     ]
    },
    {
     "name": "stdout",
     "output_type": "stream",
     "text": [
      "Transpiler qc14 for Corral_N_16_(1,8)_K_0_Connect_False_v_1-smallv3\n"
     ]
    },
    {
     "name": "stderr",
     "output_type": "stream",
     "text": [
      "This backend's operations: id,rx,ry,reset,measure only apply to a subset of qubits. Using this property to get 'basis_gates' for the transpiler may potentially create invalid output\n"
     ]
    },
    {
     "name": "stdout",
     "output_type": "stream",
     "text": [
      "Transpiler qc16 for Corral_N_16_(1,1)_K_0_Connect_False_v_1-smallv3\n"
     ]
    },
    {
     "name": "stderr",
     "output_type": "stream",
     "text": [
      "This backend's operations: id,rx,ry,reset,measure only apply to a subset of qubits. Using this property to get 'basis_gates' for the transpiler may potentially create invalid output\n"
     ]
    },
    {
     "name": "stdout",
     "output_type": "stream",
     "text": [
      "Transpiler qc16 for Corral_N_16_(1,4)_K_0_Connect_False_v_1-smallv3\n"
     ]
    },
    {
     "name": "stderr",
     "output_type": "stream",
     "text": [
      "This backend's operations: id,rx,ry,reset,measure only apply to a subset of qubits. Using this property to get 'basis_gates' for the transpiler may potentially create invalid output\n"
     ]
    },
    {
     "name": "stdout",
     "output_type": "stream",
     "text": [
      "Transpiler qc16 for Corral_N_16_(1,6)_K_0_Connect_False_v_1-smallv3\n"
     ]
    },
    {
     "name": "stderr",
     "output_type": "stream",
     "text": [
      "This backend's operations: id,rx,ry,reset,measure only apply to a subset of qubits. Using this property to get 'basis_gates' for the transpiler may potentially create invalid output\n"
     ]
    },
    {
     "name": "stdout",
     "output_type": "stream",
     "text": [
      "Transpiler qc16 for Corral_N_16_(1,8)_K_0_Connect_False_v_1-smallv3\n"
     ]
    },
    {
     "name": "stderr",
     "output_type": "stream",
     "text": [
      "This backend's operations: id,rx,ry,reset,measure only apply to a subset of qubits. Using this property to get 'basis_gates' for the transpiler may potentially create invalid output\n",
      "This backend's operations: id,rx,ry,reset,measure only apply to a subset of qubits. Using this property to get 'basis_gates' for the transpiler may potentially create invalid output\n"
     ]
    },
    {
     "name": "stdout",
     "output_type": "stream",
     "text": [
      "Starting benchmark for Adder\n",
      "Starting benchmark for Adder\n",
      "Transpiler qc4 for Corral_N_16_(1,1)_K_0_Connect_False_v_1-smallv3\n",
      "Transpiler qc4 for Corral_N_16_(1,4)_K_0_Connect_False_v_1-smallv3\n"
     ]
    },
    {
     "name": "stderr",
     "output_type": "stream",
     "text": [
      "This backend's operations: id,rx,ry,reset,measure only apply to a subset of qubits. Using this property to get 'basis_gates' for the transpiler may potentially create invalid output\n",
      "This backend's operations: id,rx,ry,reset,measure only apply to a subset of qubits. Using this property to get 'basis_gates' for the transpiler may potentially create invalid output\n"
     ]
    },
    {
     "name": "stdout",
     "output_type": "stream",
     "text": [
      "Transpiler qc4 for Corral_N_16_(1,6)_K_0_Connect_False_v_1-smallv3\n",
      "Transpiler qc4 for Corral_N_16_(1,8)_K_0_Connect_False_v_1-smallv3\n"
     ]
    },
    {
     "name": "stderr",
     "output_type": "stream",
     "text": [
      "This backend's operations: id,rx,ry,reset,measure only apply to a subset of qubits. Using this property to get 'basis_gates' for the transpiler may potentially create invalid output\n"
     ]
    },
    {
     "name": "stdout",
     "output_type": "stream",
     "text": [
      "Transpiler qc6 for Corral_N_16_(1,1)_K_0_Connect_False_v_1-smallv3\n"
     ]
    },
    {
     "name": "stderr",
     "output_type": "stream",
     "text": [
      "This backend's operations: id,rx,ry,reset,measure only apply to a subset of qubits. Using this property to get 'basis_gates' for the transpiler may potentially create invalid output\n"
     ]
    },
    {
     "name": "stdout",
     "output_type": "stream",
     "text": [
      "Transpiler qc6 for Corral_N_16_(1,4)_K_0_Connect_False_v_1-smallv3\n"
     ]
    },
    {
     "name": "stderr",
     "output_type": "stream",
     "text": [
      "This backend's operations: id,rx,ry,reset,measure only apply to a subset of qubits. Using this property to get 'basis_gates' for the transpiler may potentially create invalid output\n"
     ]
    },
    {
     "name": "stdout",
     "output_type": "stream",
     "text": [
      "Transpiler qc6 for Corral_N_16_(1,6)_K_0_Connect_False_v_1-smallv3\n"
     ]
    },
    {
     "name": "stderr",
     "output_type": "stream",
     "text": [
      "This backend's operations: id,rx,ry,reset,measure only apply to a subset of qubits. Using this property to get 'basis_gates' for the transpiler may potentially create invalid output\n"
     ]
    },
    {
     "name": "stdout",
     "output_type": "stream",
     "text": [
      "Transpiler qc6 for Corral_N_16_(1,8)_K_0_Connect_False_v_1-smallv3\n"
     ]
    },
    {
     "name": "stderr",
     "output_type": "stream",
     "text": [
      "This backend's operations: id,rx,ry,reset,measure only apply to a subset of qubits. Using this property to get 'basis_gates' for the transpiler may potentially create invalid output\n"
     ]
    },
    {
     "name": "stdout",
     "output_type": "stream",
     "text": [
      "Transpiler qc8 for Corral_N_16_(1,1)_K_0_Connect_False_v_1-smallv3\n"
     ]
    },
    {
     "name": "stderr",
     "output_type": "stream",
     "text": [
      "This backend's operations: id,rx,ry,reset,measure only apply to a subset of qubits. Using this property to get 'basis_gates' for the transpiler may potentially create invalid output\n"
     ]
    },
    {
     "name": "stdout",
     "output_type": "stream",
     "text": [
      "Transpiler qc8 for Corral_N_16_(1,4)_K_0_Connect_False_v_1-smallv3\n"
     ]
    },
    {
     "name": "stderr",
     "output_type": "stream",
     "text": [
      "This backend's operations: id,rx,ry,reset,measure only apply to a subset of qubits. Using this property to get 'basis_gates' for the transpiler may potentially create invalid output\n"
     ]
    },
    {
     "name": "stdout",
     "output_type": "stream",
     "text": [
      "Transpiler qc8 for Corral_N_16_(1,6)_K_0_Connect_False_v_1-smallv3\n"
     ]
    },
    {
     "name": "stderr",
     "output_type": "stream",
     "text": [
      "This backend's operations: id,rx,ry,reset,measure only apply to a subset of qubits. Using this property to get 'basis_gates' for the transpiler may potentially create invalid output\n"
     ]
    },
    {
     "name": "stdout",
     "output_type": "stream",
     "text": [
      "Transpiler qc8 for Corral_N_16_(1,8)_K_0_Connect_False_v_1-smallv3\n"
     ]
    },
    {
     "name": "stderr",
     "output_type": "stream",
     "text": [
      "This backend's operations: id,rx,ry,reset,measure only apply to a subset of qubits. Using this property to get 'basis_gates' for the transpiler may potentially create invalid output\n"
     ]
    },
    {
     "name": "stdout",
     "output_type": "stream",
     "text": [
      "Transpiler qc12 for Corral_N_16_(1,1)_K_0_Connect_False_v_1-smallv3\n"
     ]
    },
    {
     "name": "stderr",
     "output_type": "stream",
     "text": [
      "This backend's operations: id,rx,ry,reset,measure only apply to a subset of qubits. Using this property to get 'basis_gates' for the transpiler may potentially create invalid output\n"
     ]
    },
    {
     "name": "stdout",
     "output_type": "stream",
     "text": [
      "Transpiler qc12 for Corral_N_16_(1,4)_K_0_Connect_False_v_1-smallv3\n"
     ]
    },
    {
     "name": "stderr",
     "output_type": "stream",
     "text": [
      "This backend's operations: id,rx,ry,reset,measure only apply to a subset of qubits. Using this property to get 'basis_gates' for the transpiler may potentially create invalid output\n"
     ]
    },
    {
     "name": "stdout",
     "output_type": "stream",
     "text": [
      "Transpiler qc12 for Corral_N_16_(1,6)_K_0_Connect_False_v_1-smallv3\n"
     ]
    },
    {
     "name": "stderr",
     "output_type": "stream",
     "text": [
      "This backend's operations: id,rx,ry,reset,measure only apply to a subset of qubits. Using this property to get 'basis_gates' for the transpiler may potentially create invalid output\n"
     ]
    },
    {
     "name": "stdout",
     "output_type": "stream",
     "text": [
      "Transpiler qc12 for Corral_N_16_(1,8)_K_0_Connect_False_v_1-smallv3\n"
     ]
    },
    {
     "name": "stderr",
     "output_type": "stream",
     "text": [
      "This backend's operations: id,rx,ry,reset,measure only apply to a subset of qubits. Using this property to get 'basis_gates' for the transpiler may potentially create invalid output\n"
     ]
    },
    {
     "name": "stdout",
     "output_type": "stream",
     "text": [
      "Transpiler qc14 for Corral_N_16_(1,1)_K_0_Connect_False_v_1-smallv3\n"
     ]
    },
    {
     "name": "stderr",
     "output_type": "stream",
     "text": [
      "This backend's operations: id,rx,ry,reset,measure only apply to a subset of qubits. Using this property to get 'basis_gates' for the transpiler may potentially create invalid output\n"
     ]
    },
    {
     "name": "stdout",
     "output_type": "stream",
     "text": [
      "Transpiler qc14 for Corral_N_16_(1,4)_K_0_Connect_False_v_1-smallv3\n"
     ]
    },
    {
     "name": "stderr",
     "output_type": "stream",
     "text": [
      "This backend's operations: id,rx,ry,reset,measure only apply to a subset of qubits. Using this property to get 'basis_gates' for the transpiler may potentially create invalid output\n"
     ]
    },
    {
     "name": "stdout",
     "output_type": "stream",
     "text": [
      "Transpiler qc14 for Corral_N_16_(1,6)_K_0_Connect_False_v_1-smallv3\n"
     ]
    },
    {
     "name": "stderr",
     "output_type": "stream",
     "text": [
      "This backend's operations: id,rx,ry,reset,measure only apply to a subset of qubits. Using this property to get 'basis_gates' for the transpiler may potentially create invalid output\n"
     ]
    },
    {
     "name": "stdout",
     "output_type": "stream",
     "text": [
      "Transpiler qc14 for Corral_N_16_(1,8)_K_0_Connect_False_v_1-smallv3\n"
     ]
    },
    {
     "name": "stderr",
     "output_type": "stream",
     "text": [
      "This backend's operations: id,rx,ry,reset,measure only apply to a subset of qubits. Using this property to get 'basis_gates' for the transpiler may potentially create invalid output\n"
     ]
    },
    {
     "name": "stdout",
     "output_type": "stream",
     "text": [
      "Transpiler qc16 for Corral_N_16_(1,1)_K_0_Connect_False_v_1-smallv3\n"
     ]
    },
    {
     "name": "stderr",
     "output_type": "stream",
     "text": [
      "This backend's operations: id,rx,ry,reset,measure only apply to a subset of qubits. Using this property to get 'basis_gates' for the transpiler may potentially create invalid output\n"
     ]
    },
    {
     "name": "stdout",
     "output_type": "stream",
     "text": [
      "Transpiler qc16 for Corral_N_16_(1,4)_K_0_Connect_False_v_1-smallv3\n"
     ]
    },
    {
     "name": "stderr",
     "output_type": "stream",
     "text": [
      "This backend's operations: id,rx,ry,reset,measure only apply to a subset of qubits. Using this property to get 'basis_gates' for the transpiler may potentially create invalid output\n"
     ]
    },
    {
     "name": "stdout",
     "output_type": "stream",
     "text": [
      "Transpiler qc16 for Corral_N_16_(1,6)_K_0_Connect_False_v_1-smallv3\n"
     ]
    },
    {
     "name": "stderr",
     "output_type": "stream",
     "text": [
      "This backend's operations: id,rx,ry,reset,measure only apply to a subset of qubits. Using this property to get 'basis_gates' for the transpiler may potentially create invalid output\n"
     ]
    },
    {
     "name": "stdout",
     "output_type": "stream",
     "text": [
      "Transpiler qc16 for Corral_N_16_(1,8)_K_0_Connect_False_v_1-smallv3\n"
     ]
    },
    {
     "name": "stderr",
     "output_type": "stream",
     "text": [
      "This backend's operations: id,rx,ry,reset,measure only apply to a subset of qubits. Using this property to get 'basis_gates' for the transpiler may potentially create invalid output\n",
      "This backend's operations: id,rx,ry,reset,measure only apply to a subset of qubits. Using this property to get 'basis_gates' for the transpiler may potentially create invalid output\n",
      "This backend's operations: id,rx,ry,reset,measure only apply to a subset of qubits. Using this property to get 'basis_gates' for the transpiler may potentially create invalid output\n"
     ]
    },
    {
     "name": "stdout",
     "output_type": "stream",
     "text": [
      "Starting benchmark for GHZ\n",
      "Starting benchmark for GHZ\n",
      "Transpiler qc4 for Corral_N_16_(1,1)_K_0_Connect_False_v_1-smallv3\n",
      "Transpiler qc4 for Corral_N_16_(1,4)_K_0_Connect_False_v_1-smallv3\n",
      "Transpiler qc4 for Corral_N_16_(1,6)_K_0_Connect_False_v_1-smallv3\n"
     ]
    },
    {
     "name": "stderr",
     "output_type": "stream",
     "text": [
      "This backend's operations: id,rx,ry,reset,measure only apply to a subset of qubits. Using this property to get 'basis_gates' for the transpiler may potentially create invalid output\n",
      "This backend's operations: id,rx,ry,reset,measure only apply to a subset of qubits. Using this property to get 'basis_gates' for the transpiler may potentially create invalid output\n"
     ]
    },
    {
     "name": "stdout",
     "output_type": "stream",
     "text": [
      "Transpiler qc4 for Corral_N_16_(1,8)_K_0_Connect_False_v_1-smallv3\n",
      "Transpiler qc6 for Corral_N_16_(1,1)_K_0_Connect_False_v_1-smallv3\n",
      "Transpiler qc6 for Corral_N_16_(1,4)_K_0_Connect_False_v_1-smallv3\n"
     ]
    },
    {
     "name": "stderr",
     "output_type": "stream",
     "text": [
      "This backend's operations: id,rx,ry,reset,measure only apply to a subset of qubits. Using this property to get 'basis_gates' for the transpiler may potentially create invalid output\n",
      "This backend's operations: id,rx,ry,reset,measure only apply to a subset of qubits. Using this property to get 'basis_gates' for the transpiler may potentially create invalid output\n",
      "This backend's operations: id,rx,ry,reset,measure only apply to a subset of qubits. Using this property to get 'basis_gates' for the transpiler may potentially create invalid output\n"
     ]
    },
    {
     "name": "stdout",
     "output_type": "stream",
     "text": [
      "Transpiler qc6 for Corral_N_16_(1,6)_K_0_Connect_False_v_1-smallv3\n",
      "Transpiler qc6 for Corral_N_16_(1,8)_K_0_Connect_False_v_1-smallv3\n"
     ]
    },
    {
     "name": "stderr",
     "output_type": "stream",
     "text": [
      "This backend's operations: id,rx,ry,reset,measure only apply to a subset of qubits. Using this property to get 'basis_gates' for the transpiler may potentially create invalid output\n",
      "This backend's operations: id,rx,ry,reset,measure only apply to a subset of qubits. Using this property to get 'basis_gates' for the transpiler may potentially create invalid output\n",
      "This backend's operations: id,rx,ry,reset,measure only apply to a subset of qubits. Using this property to get 'basis_gates' for the transpiler may potentially create invalid output\n"
     ]
    },
    {
     "name": "stdout",
     "output_type": "stream",
     "text": [
      "Transpiler qc8 for Corral_N_16_(1,1)_K_0_Connect_False_v_1-smallv3\n",
      "Transpiler qc8 for Corral_N_16_(1,4)_K_0_Connect_False_v_1-smallv3\n",
      "Transpiler qc8 for Corral_N_16_(1,6)_K_0_Connect_False_v_1-smallv3\n"
     ]
    },
    {
     "name": "stderr",
     "output_type": "stream",
     "text": [
      "This backend's operations: id,rx,ry,reset,measure only apply to a subset of qubits. Using this property to get 'basis_gates' for the transpiler may potentially create invalid output\n",
      "This backend's operations: id,rx,ry,reset,measure only apply to a subset of qubits. Using this property to get 'basis_gates' for the transpiler may potentially create invalid output\n"
     ]
    },
    {
     "name": "stdout",
     "output_type": "stream",
     "text": [
      "Transpiler qc8 for Corral_N_16_(1,8)_K_0_Connect_False_v_1-smallv3\n",
      "Transpiler qc12 for Corral_N_16_(1,1)_K_0_Connect_False_v_1-smallv3\n"
     ]
    },
    {
     "name": "stderr",
     "output_type": "stream",
     "text": [
      "This backend's operations: id,rx,ry,reset,measure only apply to a subset of qubits. Using this property to get 'basis_gates' for the transpiler may potentially create invalid output\n"
     ]
    },
    {
     "name": "stdout",
     "output_type": "stream",
     "text": [
      "Transpiler qc12 for Corral_N_16_(1,4)_K_0_Connect_False_v_1-smallv3\n"
     ]
    },
    {
     "name": "stderr",
     "output_type": "stream",
     "text": [
      "This backend's operations: id,rx,ry,reset,measure only apply to a subset of qubits. Using this property to get 'basis_gates' for the transpiler may potentially create invalid output\n"
     ]
    },
    {
     "name": "stdout",
     "output_type": "stream",
     "text": [
      "Transpiler qc12 for Corral_N_16_(1,6)_K_0_Connect_False_v_1-smallv3\n"
     ]
    },
    {
     "name": "stderr",
     "output_type": "stream",
     "text": [
      "This backend's operations: id,rx,ry,reset,measure only apply to a subset of qubits. Using this property to get 'basis_gates' for the transpiler may potentially create invalid output\n"
     ]
    },
    {
     "name": "stdout",
     "output_type": "stream",
     "text": [
      "Transpiler qc12 for Corral_N_16_(1,8)_K_0_Connect_False_v_1-smallv3\n"
     ]
    },
    {
     "name": "stderr",
     "output_type": "stream",
     "text": [
      "This backend's operations: id,rx,ry,reset,measure only apply to a subset of qubits. Using this property to get 'basis_gates' for the transpiler may potentially create invalid output\n",
      "This backend's operations: id,rx,ry,reset,measure only apply to a subset of qubits. Using this property to get 'basis_gates' for the transpiler may potentially create invalid output\n"
     ]
    },
    {
     "name": "stdout",
     "output_type": "stream",
     "text": [
      "Transpiler qc14 for Corral_N_16_(1,1)_K_0_Connect_False_v_1-smallv3\n",
      "Transpiler qc14 for Corral_N_16_(1,4)_K_0_Connect_False_v_1-smallv3\n"
     ]
    },
    {
     "name": "stderr",
     "output_type": "stream",
     "text": [
      "This backend's operations: id,rx,ry,reset,measure only apply to a subset of qubits. Using this property to get 'basis_gates' for the transpiler may potentially create invalid output\n"
     ]
    },
    {
     "name": "stdout",
     "output_type": "stream",
     "text": [
      "Transpiler qc14 for Corral_N_16_(1,6)_K_0_Connect_False_v_1-smallv3\n"
     ]
    },
    {
     "name": "stderr",
     "output_type": "stream",
     "text": [
      "This backend's operations: id,rx,ry,reset,measure only apply to a subset of qubits. Using this property to get 'basis_gates' for the transpiler may potentially create invalid output\n"
     ]
    },
    {
     "name": "stdout",
     "output_type": "stream",
     "text": [
      "Transpiler qc14 for Corral_N_16_(1,8)_K_0_Connect_False_v_1-smallv3\n"
     ]
    },
    {
     "name": "stderr",
     "output_type": "stream",
     "text": [
      "This backend's operations: id,rx,ry,reset,measure only apply to a subset of qubits. Using this property to get 'basis_gates' for the transpiler may potentially create invalid output\n",
      "This backend's operations: id,rx,ry,reset,measure only apply to a subset of qubits. Using this property to get 'basis_gates' for the transpiler may potentially create invalid output\n"
     ]
    },
    {
     "name": "stdout",
     "output_type": "stream",
     "text": [
      "Transpiler qc16 for Corral_N_16_(1,1)_K_0_Connect_False_v_1-smallv3\n",
      "Transpiler qc16 for Corral_N_16_(1,4)_K_0_Connect_False_v_1-smallv3\n"
     ]
    },
    {
     "name": "stderr",
     "output_type": "stream",
     "text": [
      "This backend's operations: id,rx,ry,reset,measure only apply to a subset of qubits. Using this property to get 'basis_gates' for the transpiler may potentially create invalid output\n"
     ]
    },
    {
     "name": "stdout",
     "output_type": "stream",
     "text": [
      "Transpiler qc16 for Corral_N_16_(1,6)_K_0_Connect_False_v_1-smallv3\n"
     ]
    },
    {
     "name": "stderr",
     "output_type": "stream",
     "text": [
      "This backend's operations: id,rx,ry,reset,measure only apply to a subset of qubits. Using this property to get 'basis_gates' for the transpiler may potentially create invalid output\n"
     ]
    },
    {
     "name": "stdout",
     "output_type": "stream",
     "text": [
      "Transpiler qc16 for Corral_N_16_(1,8)_K_0_Connect_False_v_1-smallv3\n"
     ]
    },
    {
     "data": {
      "image/png": "[encoded data removed]",
      "text/plain": [
       "<Figure size 716x250 with 12 Axes>"
      ]
     },
     "metadata": {},
     "output_type": "display_data"
    }
   ],
   "source": [
    "from src.clonk.benchmark_suite.circuit_suite import circuits\n",
    "from src.clonk.benchmark_suite.main_plotting import benchmark, plot_wrap\n",
    "\n",
    "#NOTE if run w/ diff params, check main_plotting function to check if different colors will be set\n",
    "\n",
    "for circuit_gen in circuits.values():\n",
    "    benchmark(\n",
    "        backends=simple_backends_v3,\n",
    "        circuit_generator=circuit_gen,\n",
    "        q_range=[4, 6, 8, 12, 14, 16],\n",
    "        continuously_save=1,\n",
    "        overwrite=0,  # NOTE: turn this to 1 if you want to scrap the saved data and recollect a new batch\n",
    "        repeat=2,\n",
    "    )\n",
    "\n",
    "# NOTE when plotting use motivation = 1 to plot SWAP counts, and motivation = 0 to plot gate durations\n",
    "plot_wrap(simple_backends_v3, circuits.keys(), motivation=True, plot_average=True)"
   ]
  },
  {
   "cell_type": "code",
   "execution_count": 11,
   "metadata": {},
   "outputs": [
    {
     "name": "stdout",
     "output_type": "stream",
     "text": [
      "Starting benchmark for Quantum_Volume\n",
      "Starting benchmark for Quantum_Volume\n",
      "Starting benchmark for Quantum_Volume\n",
      "Starting benchmark for Quantum_Volume\n",
      "Starting benchmark for Quantum_Volume\n",
      "Starting benchmark for QFT\n",
      "Starting benchmark for QFT\n",
      "Starting benchmark for QFT\n",
      "Starting benchmark for QFT\n",
      "Starting benchmark for QFT\n",
      "Starting benchmark for QAOA_Vanilla\n"
     ]
    },
    {
     "name": "stderr",
     "output_type": "stream",
     "text": [
      "capi_return is NULL\n",
      "Call-back cb_calcfc_in__cobyla__user__routines failed.\n"
     ]
    },
    {
     "ename": "KeyboardInterrupt",
     "evalue": "",
     "output_type": "error",
     "traceback": [
      "\u001b[0;31m---------------------------------------------------------------------------\u001b[0m",
      "\u001b[0;31mKeyboardInterrupt\u001b[0m                         Traceback (most recent call last)",
      "Cell \u001b[0;32mIn[11], line 9\u001b[0m\n\u001b[1;32m      6\u001b[0m \u001b[39m#NOTE if run w/ diff params, check main_plotting function to check if different colors will be set\u001b[39;00m\n\u001b[1;32m      8\u001b[0m \u001b[39mfor\u001b[39;00m circuit_gen \u001b[39min\u001b[39;00m circuits\u001b[39m.\u001b[39mvalues():\n\u001b[0;32m----> 9\u001b[0m     benchmark(\n\u001b[1;32m     10\u001b[0m         backends\u001b[39m=\u001b[39;49msimple_backends_v3,\n\u001b[1;32m     11\u001b[0m         circuit_generator\u001b[39m=\u001b[39;49mcircuit_gen,\n\u001b[1;32m     12\u001b[0m         q_range\u001b[39m=\u001b[39;49m[\u001b[39m16\u001b[39;49m, \u001b[39m28\u001b[39;49m, \u001b[39m32\u001b[39;49m, \u001b[39m48\u001b[39;49m, \u001b[39m60\u001b[39;49m, \u001b[39m72\u001b[39;49m],\n\u001b[1;32m     13\u001b[0m         \u001b[39m# q_range = [8, 16, 24, 32, 40, 48, 56, 64, 72, 80], #updated for larger tests\u001b[39;49;00m\n\u001b[1;32m     14\u001b[0m         continuously_save\u001b[39m=\u001b[39;49m\u001b[39m1\u001b[39;49m,\n\u001b[1;32m     15\u001b[0m         overwrite\u001b[39m=\u001b[39;49m\u001b[39m0\u001b[39;49m,  \u001b[39m# NOTE: turn this to 1 if you want to scrap the saved data and recollect a new batch\u001b[39;49;00m\n\u001b[1;32m     16\u001b[0m         repeat\u001b[39m=\u001b[39;49m\u001b[39m5\u001b[39;49m,\n\u001b[1;32m     17\u001b[0m     )\n\u001b[1;32m     19\u001b[0m \u001b[39m# NOTE when plotting use motivation = 1 to plot SWAP counts, and motivation = 0 to plot gate durations\u001b[39;00m\n\u001b[1;32m     20\u001b[0m plot_wrap(simple_backends_v3, circuits\u001b[39m.\u001b[39mkeys(), motivation\u001b[39m=\u001b[39m\u001b[39mTrue\u001b[39;00m, plot_average\u001b[39m=\u001b[39m\u001b[39mTrue\u001b[39;00m)\n",
      "File \u001b[0;32m~/Source/clonk_transpilation/src/clonk/benchmark_suite/main_plotting.py:21\u001b[0m, in \u001b[0;36mbenchmark\u001b[0;34m(backends, circuit_generator, q_range, continuously_save, overwrite, repeat)\u001b[0m\n\u001b[1;32m     12\u001b[0m \u001b[39mdef\u001b[39;00m \u001b[39mbenchmark\u001b[39m(\n\u001b[1;32m     13\u001b[0m     backends,\n\u001b[1;32m     14\u001b[0m     circuit_generator,\n\u001b[0;32m   (...)\u001b[0m\n\u001b[1;32m     18\u001b[0m     repeat\u001b[39m=\u001b[39m\u001b[39m3\u001b[39m,\n\u001b[1;32m     19\u001b[0m ):\n\u001b[1;32m     20\u001b[0m     \u001b[39mfor\u001b[39;00m iteration \u001b[39min\u001b[39;00m \u001b[39mrange\u001b[39m(repeat):\n\u001b[0;32m---> 21\u001b[0m         benchmark_foo(\n\u001b[1;32m     22\u001b[0m             iteration,\n\u001b[1;32m     23\u001b[0m             backends,\n\u001b[1;32m     24\u001b[0m             circuit_generator,\n\u001b[1;32m     25\u001b[0m             q_range,\n\u001b[1;32m     26\u001b[0m             continuously_save,\n\u001b[1;32m     27\u001b[0m             overwrite,\n\u001b[1;32m     28\u001b[0m         )\n",
      "File \u001b[0;32m~/Source/clonk_transpilation/src/clonk/benchmark_suite/main_plotting.py:86\u001b[0m, in \u001b[0;36mbenchmark_foo\u001b[0;34m(i, backends, circuit_generator, q_range, continuously_save, overwrite)\u001b[0m\n\u001b[1;32m     84\u001b[0m \u001b[39m# resolve wait\u001b[39;00m\n\u001b[1;32m     85\u001b[0m \u001b[39mif\u001b[39;00m qc \u001b[39mis\u001b[39;00m \u001b[39mNone\u001b[39;00m:\n\u001b[0;32m---> 86\u001b[0m     qc \u001b[39m=\u001b[39m circuit_generator\u001b[39m.\u001b[39;49mcircuit_lambda(q)\n\u001b[1;32m     88\u001b[0m \u001b[39m# logging.info(f\"Transpiler qc{q} for {backend.label}\")\u001b[39;00m\n\u001b[1;32m     89\u001b[0m \u001b[39mprint\u001b[39m(\u001b[39mf\u001b[39m\u001b[39m\"\u001b[39m\u001b[39mTranspiler qc\u001b[39m\u001b[39m{\u001b[39;00mq\u001b[39m}\u001b[39;00m\u001b[39m for \u001b[39m\u001b[39m{\u001b[39;00mbackend\u001b[39m.\u001b[39mlabel\u001b[39m}\u001b[39;00m\u001b[39m\"\u001b[39m)\n",
      "File \u001b[0;32m~/Source/clonk_transpilation/src/clonk/benchmark_suite/circuit_suite.py:63\u001b[0m, in \u001b[0;36mqaoa_vanilla_lambda\u001b[0;34m(q)\u001b[0m\n\u001b[1;32m     62\u001b[0m \u001b[39mdef\u001b[39;00m \u001b[39mqaoa_vanilla_lambda\u001b[39m(q):\n\u001b[0;32m---> 63\u001b[0m     \u001b[39mreturn\u001b[39;00m cirq_to_qiskit(QAOAVanillaProxy(q)\u001b[39m.\u001b[39mcircuit())\n",
      "File \u001b[0;32m~/Source/clonk_transpilation/.venv/lib/python3.9/site-packages/supermarq/benchmarks/qaoa_vanilla_proxy.py:40\u001b[0m, in \u001b[0;36mQAOAVanillaProxy.__init__\u001b[0;34m(self, num_qubits)\u001b[0m\n\u001b[1;32m     38\u001b[0m \u001b[39mself\u001b[39m\u001b[39m.\u001b[39mnum_qubits \u001b[39m=\u001b[39m num_qubits\n\u001b[1;32m     39\u001b[0m \u001b[39mself\u001b[39m\u001b[39m.\u001b[39mhamiltonian \u001b[39m=\u001b[39m \u001b[39mself\u001b[39m\u001b[39m.\u001b[39m_gen_sk_hamiltonian()\n\u001b[0;32m---> 40\u001b[0m \u001b[39mself\u001b[39m\u001b[39m.\u001b[39mparams \u001b[39m=\u001b[39m \u001b[39mself\u001b[39;49m\u001b[39m.\u001b[39;49m_gen_angles()\n",
      "File \u001b[0;32m~/Source/clonk_transpilation/.venv/lib/python3.9/site-packages/supermarq/benchmarks/qaoa_vanilla_proxy.py:114\u001b[0m, in \u001b[0;36mQAOAVanillaProxy._gen_angles\u001b[0;34m(self)\u001b[0m\n\u001b[1;32m    112\u001b[0m best_params, best_cost \u001b[39m=\u001b[39m [], \u001b[39m0.0\u001b[39m\n\u001b[1;32m    113\u001b[0m \u001b[39mfor\u001b[39;00m _ \u001b[39min\u001b[39;00m \u001b[39mrange\u001b[39m(\u001b[39m5\u001b[39m):\n\u001b[0;32m--> 114\u001b[0m     params, cost \u001b[39m=\u001b[39m \u001b[39mself\u001b[39;49m\u001b[39m.\u001b[39;49m_get_opt_angles()\n\u001b[1;32m    115\u001b[0m     \u001b[39mif\u001b[39;00m cost \u001b[39m<\u001b[39m best_cost:\n\u001b[1;32m    116\u001b[0m         best_params \u001b[39m=\u001b[39m params\n",
      "File \u001b[0;32m~/Source/clonk_transpilation/.venv/lib/python3.9/site-packages/supermarq/benchmarks/qaoa_vanilla_proxy.py:105\u001b[0m, in \u001b[0;36mQAOAVanillaProxy._get_opt_angles\u001b[0;34m(self)\u001b[0m\n\u001b[1;32m    102\u001b[0m     \u001b[39mreturn\u001b[39;00m \u001b[39m-\u001b[39mobjective_value  \u001b[39m# because we are minimizing instead of maximizing\u001b[39;00m\n\u001b[1;32m    104\u001b[0m init_params \u001b[39m=\u001b[39m [np\u001b[39m.\u001b[39mrandom\u001b[39m.\u001b[39muniform() \u001b[39m*\u001b[39m \u001b[39m2\u001b[39m \u001b[39m*\u001b[39m np\u001b[39m.\u001b[39mpi, np\u001b[39m.\u001b[39mrandom\u001b[39m.\u001b[39muniform() \u001b[39m*\u001b[39m \u001b[39m2\u001b[39m \u001b[39m*\u001b[39m np\u001b[39m.\u001b[39mpi]\n\u001b[0;32m--> 105\u001b[0m out \u001b[39m=\u001b[39m scipy\u001b[39m.\u001b[39;49moptimize\u001b[39m.\u001b[39;49mminimize(f, init_params, method\u001b[39m=\u001b[39;49m\u001b[39m\"\u001b[39;49m\u001b[39mCOBYLA\u001b[39;49m\u001b[39m\"\u001b[39;49m)\n\u001b[1;32m    107\u001b[0m \u001b[39mreturn\u001b[39;00m out[\u001b[39m\"\u001b[39m\u001b[39mx\u001b[39m\u001b[39m\"\u001b[39m], out[\u001b[39m\"\u001b[39m\u001b[39mfun\u001b[39m\u001b[39m\"\u001b[39m]\n",
      "File \u001b[0;32m~/Source/clonk_transpilation/.venv/lib/python3.9/site-packages/scipy/optimize/_minimize.py:702\u001b[0m, in \u001b[0;36mminimize\u001b[0;34m(fun, x0, args, method, jac, hess, hessp, bounds, constraints, tol, callback, options)\u001b[0m\n\u001b[1;32m    699\u001b[0m     res \u001b[39m=\u001b[39m _minimize_tnc(fun, x0, args, jac, bounds, callback\u001b[39m=\u001b[39mcallback,\n\u001b[1;32m    700\u001b[0m                         \u001b[39m*\u001b[39m\u001b[39m*\u001b[39moptions)\n\u001b[1;32m    701\u001b[0m \u001b[39melif\u001b[39;00m meth \u001b[39m==\u001b[39m \u001b[39m'\u001b[39m\u001b[39mcobyla\u001b[39m\u001b[39m'\u001b[39m:\n\u001b[0;32m--> 702\u001b[0m     res \u001b[39m=\u001b[39m _minimize_cobyla(fun, x0, args, constraints, callback\u001b[39m=\u001b[39;49mcallback,\n\u001b[1;32m    703\u001b[0m                             \u001b[39m*\u001b[39;49m\u001b[39m*\u001b[39;49moptions)\n\u001b[1;32m    704\u001b[0m \u001b[39melif\u001b[39;00m meth \u001b[39m==\u001b[39m \u001b[39m'\u001b[39m\u001b[39mslsqp\u001b[39m\u001b[39m'\u001b[39m:\n\u001b[1;32m    705\u001b[0m     res \u001b[39m=\u001b[39m _minimize_slsqp(fun, x0, args, jac, bounds,\n\u001b[1;32m    706\u001b[0m                           constraints, callback\u001b[39m=\u001b[39mcallback, \u001b[39m*\u001b[39m\u001b[39m*\u001b[39moptions)\n",
      "File \u001b[0;32m~/Source/clonk_transpilation/.venv/lib/python3.9/site-packages/scipy/optimize/_cobyla_py.py:34\u001b[0m, in \u001b[0;36msynchronized.<locals>.wrapper\u001b[0;34m(*args, **kwargs)\u001b[0m\n\u001b[1;32m     31\u001b[0m \u001b[39m@functools\u001b[39m\u001b[39m.\u001b[39mwraps(func)\n\u001b[1;32m     32\u001b[0m \u001b[39mdef\u001b[39;00m \u001b[39mwrapper\u001b[39m(\u001b[39m*\u001b[39margs, \u001b[39m*\u001b[39m\u001b[39m*\u001b[39mkwargs):\n\u001b[1;32m     33\u001b[0m     \u001b[39mwith\u001b[39;00m _module_lock:\n\u001b[0;32m---> 34\u001b[0m         \u001b[39mreturn\u001b[39;00m func(\u001b[39m*\u001b[39;49margs, \u001b[39m*\u001b[39;49m\u001b[39m*\u001b[39;49mkwargs)\n",
      "File \u001b[0;32m~/Source/clonk_transpilation/.venv/lib/python3.9/site-packages/scipy/optimize/_cobyla_py.py:270\u001b[0m, in \u001b[0;36m_minimize_cobyla\u001b[0;34m(fun, x0, args, constraints, rhobeg, tol, maxiter, disp, catol, callback, **unknown_options)\u001b[0m\n\u001b[1;32m    267\u001b[0m         callback(np\u001b[39m.\u001b[39mcopy(x))\n\u001b[1;32m    269\u001b[0m info \u001b[39m=\u001b[39m np\u001b[39m.\u001b[39mzeros(\u001b[39m4\u001b[39m, np\u001b[39m.\u001b[39mfloat64)\n\u001b[0;32m--> 270\u001b[0m xopt, info \u001b[39m=\u001b[39m cobyla\u001b[39m.\u001b[39;49mminimize(calcfc, m\u001b[39m=\u001b[39;49mm, x\u001b[39m=\u001b[39;49mnp\u001b[39m.\u001b[39;49mcopy(x0), rhobeg\u001b[39m=\u001b[39;49mrhobeg,\n\u001b[1;32m    271\u001b[0m                               rhoend\u001b[39m=\u001b[39;49mrhoend, iprint\u001b[39m=\u001b[39;49miprint, maxfun\u001b[39m=\u001b[39;49mmaxfun,\n\u001b[1;32m    272\u001b[0m                               dinfo\u001b[39m=\u001b[39;49minfo, callback\u001b[39m=\u001b[39;49mwrapped_callback)\n\u001b[1;32m    274\u001b[0m \u001b[39mif\u001b[39;00m info[\u001b[39m3\u001b[39m] \u001b[39m>\u001b[39m catol:\n\u001b[1;32m    275\u001b[0m     \u001b[39m# Check constraint violation\u001b[39;00m\n\u001b[1;32m    276\u001b[0m     info[\u001b[39m0\u001b[39m] \u001b[39m=\u001b[39m \u001b[39m4\u001b[39m\n",
      "File \u001b[0;32m~/Source/clonk_transpilation/.venv/lib/python3.9/site-packages/scipy/optimize/_cobyla_py.py:258\u001b[0m, in \u001b[0;36m_minimize_cobyla.<locals>.calcfc\u001b[0;34m(x, con)\u001b[0m\n\u001b[1;32m    257\u001b[0m \u001b[39mdef\u001b[39;00m \u001b[39mcalcfc\u001b[39m(x, con):\n\u001b[0;32m--> 258\u001b[0m     f \u001b[39m=\u001b[39m fun(np\u001b[39m.\u001b[39;49mcopy(x), \u001b[39m*\u001b[39;49margs)\n\u001b[1;32m    259\u001b[0m     i \u001b[39m=\u001b[39m \u001b[39m0\u001b[39m\n\u001b[1;32m    260\u001b[0m     \u001b[39mfor\u001b[39;00m size, c \u001b[39min\u001b[39;00m izip(cons_lengths, constraints):\n",
      "File \u001b[0;32m~/Source/clonk_transpilation/.venv/lib/python3.9/site-packages/supermarq/benchmarks/qaoa_vanilla_proxy.py:99\u001b[0m, in \u001b[0;36mQAOAVanillaProxy._get_opt_angles.<locals>.f\u001b[0;34m(params)\u001b[0m\n\u001b[1;32m     97\u001b[0m gamma, beta \u001b[39m=\u001b[39m params\n\u001b[1;32m     98\u001b[0m circ \u001b[39m=\u001b[39m \u001b[39mself\u001b[39m\u001b[39m.\u001b[39m_gen_ansatz(gamma, beta)\n\u001b[0;32m---> 99\u001b[0m probs \u001b[39m=\u001b[39m supermarq\u001b[39m.\u001b[39;49msimulation\u001b[39m.\u001b[39;49mget_ideal_counts(circ)\n\u001b[1;32m    100\u001b[0m objective_value \u001b[39m=\u001b[39m \u001b[39mself\u001b[39m\u001b[39m.\u001b[39m_get_expectation_value_from_probs(probs)\n\u001b[1;32m    102\u001b[0m \u001b[39mreturn\u001b[39;00m \u001b[39m-\u001b[39mobjective_value\n",
      "File \u001b[0;32m~/Source/clonk_transpilation/.venv/lib/python3.9/site-packages/supermarq/simulation.py:11\u001b[0m, in \u001b[0;36mget_ideal_counts\u001b[0;34m(circuit)\u001b[0m\n\u001b[1;32m      9\u001b[0m \u001b[39mfor\u001b[39;00m i, amplitude \u001b[39min\u001b[39;00m \u001b[39menumerate\u001b[39m(circuit\u001b[39m.\u001b[39mfinal_state_vector(ignore_terminal_measurements\u001b[39m=\u001b[39m\u001b[39mTrue\u001b[39;00m)):\n\u001b[1;32m     10\u001b[0m     bitstring \u001b[39m=\u001b[39m \u001b[39mf\u001b[39m\u001b[39m\"\u001b[39m\u001b[39m{\u001b[39;00mi\u001b[39m:\u001b[39;00m\u001b[39m>0\u001b[39m\u001b[39m{\u001b[39;00m\u001b[39mlen\u001b[39m(circuit\u001b[39m.\u001b[39mall_qubits())\u001b[39m}\u001b[39;00m\u001b[39mb\u001b[39m\u001b[39m}\u001b[39;00m\u001b[39m\"\u001b[39m\n\u001b[0;32m---> 11\u001b[0m     probability \u001b[39m=\u001b[39m np\u001b[39m.\u001b[39;49mabs(amplitude) \u001b[39m*\u001b[39m\u001b[39m*\u001b[39m \u001b[39m2\u001b[39m\n\u001b[1;32m     12\u001b[0m     ideal_counts[bitstring] \u001b[39m=\u001b[39m probability\n\u001b[1;32m     13\u001b[0m \u001b[39mreturn\u001b[39;00m collections\u001b[39m.\u001b[39mCounter(ideal_counts)\n",
      "\u001b[0;31mKeyboardInterrupt\u001b[0m: "
     ]
    }
   ],
   "source": [
    "#add more qubits testing\n",
    "\n",
    "from src.clonk.benchmark_suite.circuit_suite import circuits\n",
    "from src.clonk.benchmark_suite.main_plotting import benchmark, plot_wrap\n",
    "\n",
    "#NOTE if run w/ diff params, check main_plotting function to check if different colors will be set\n",
    "\n",
    "for circuit_gen in circuits.values():\n",
    "    benchmark(\n",
    "        backends=simple_backends_v3,\n",
    "        circuit_generator=circuit_gen,\n",
    "        q_range=[16, 28, 32, 48, 60, 72],\n",
    "        # q_range = [8, 16, 24, 32, 40, 48, 56, 64, 72, 80], #updated for larger tests\n",
    "        continuously_save=1,\n",
    "        overwrite=0,  # NOTE: turn this to 1 if you want to scrap the saved data and recollect a new batch\n",
    "        repeat=1,\n",
    "    )\n",
    "\n",
    "# NOTE when plotting use motivation = 1 to plot SWAP counts, and motivation = 0 to plot gate durations\n",
    "plot_wrap(simple_backends_v3, circuits.keys(), motivation=True, plot_average=True)"
   ]
  },
  {
   "cell_type": "code",
   "execution_count": null,
   "metadata": {},
   "outputs": [],
   "source": [
    "fc = FakeCorral()\n",
    "n = 8\n",
    "k = 0\n",
    "\n",
    "c1 = corral(n//2,2)\n",
    "c2 = corral(n//2,2)\n",
    "c = corral(n,2)\n",
    "\n",
    "c1 = list(fc.add_new_edges(c1, k//2))\n",
    "c2 = list(fc.add_new_edges(c2, k//2))\n",
    "c = list(fc.add_new_edges(c, k))\n",
    "\n",
    "# display(pretty_print(snail_to_connectivity( c )))\n",
    "display(pretty_print(c ))\n",
    "combined = connect_corrals_way2(c1,c2)\n",
    "# display(pretty_print(snail_to_connectivity( combined )))\n",
    "display(pretty_print( combined ))\n",
    "n = 8\n",
    "k = 4\n",
    "\n",
    "c1 = corral(n//2,2)\n",
    "c2 = corral(n//2,2)\n",
    "c = corral(n,2)\n",
    "\n",
    "c1 = list(fc.add_new_edges(c1, k//2))\n",
    "c2 = list(fc.add_new_edges(c2, k//2))\n",
    "c = list(fc.add_new_edges(c, k))\n",
    "\n",
    "# display(pretty_print(snail_to_connectivity( c )))\n",
    "display(pretty_print(c ))\n",
    "\n",
    "combined = connect_corrals_way2(c1,c2)\n",
    "# display(pretty_print(snail_to_connectivity( combined )))\n",
    "display(pretty_print( combined ))"
   ]
  },
  {
   "cell_type": "code",
   "execution_count": null,
   "metadata": {},
   "outputs": [],
   "source": [
    "from src.clonk.backend_utils.mock_backends.Corral_backend_v1 import FakeCorral\n",
    "\n",
    "fc = FakeCorral()\n",
    "n = 40\n",
    "k = 4 \n",
    "\n",
    "c1 = corral(n//2,2)\n",
    "c2 = corral(n//2,2)\n",
    "c = corral(n,2)\n",
    "\n",
    "c1 = list(fc.add_new_edges(c1, k//2))\n",
    "c2 = list(fc.add_new_edges(c2, k//2))\n",
    "c = list(fc.add_new_edges(c, k))\n",
    "\n",
    "display(pretty_print(c1))\n",
    "display(pretty_print(c2))\n",
    "\n",
    "\n",
    "combined = fc.connect_corrals_way2(c1,c2)\n",
    "combined2 = combined.copy()\n",
    "\n",
    "# combinedSqr = fc.connect_corrals_way2(combined,combined2)\n",
    "\n",
    "# display(pretty_print(snail_to_connectivity( c )))\n",
    "# display(pretty_print(snail_to_connectivity( combined )))\n",
    "print(len(c))\n",
    "display(pretty_print(c ))\n",
    "# display(pretty_print( combinedSqr ))"
   ]
  },
  {
   "cell_type": "code",
   "execution_count": null,
   "metadata": {},
   "outputs": [],
   "source": [
    "# define corral\n",
    "def corral_skip(num_snails=32, num_levels=2, level_1_skip = 1, level_2_skip = 1):\n",
    "    \"\"\"returns edge list of a corral of size specified\n",
    "    snails are nodes, edges are qubits\"\"\"\n",
    "\n",
    "    snail_edge_list = []\n",
    "    for snail0, snail1 in zip(range(num_snails), range(1, num_snails + 1)):\n",
    "        for i in range(1,num_levels+1): \n",
    "            if i == 1: #TODO fix level_1 skip calculation\n",
    "                snail_edge_list.append(((snail0 +level_1_skip)% num_snails, snail0))\n",
    "            elif i == 2:\n",
    "                snail_edge_list.append((snail0, (snail0 +level_2_skip)% num_snails))\n",
    "    return snail_edge_list"
   ]
  },
  {
   "cell_type": "code",
   "execution_count": null,
   "metadata": {},
   "outputs": [],
   "source": [
    "basic = corral_skip(num_snails = 16)\n",
    "display(pretty_print(basic, simple=False)) #turn off simple so can see all connections\n",
    "test_1_2 = corral_skip(num_snails=16, level_1_skip=2)\n",
    "display(pretty_print(test_1_2))\n",
    "print(test_1_2)"
   ]
  },
  {
   "cell_type": "code",
   "execution_count": null,
   "metadata": {},
   "outputs": [],
   "source": [
    "basic = corral_skip(num_snails = 16)\n",
    "display(pretty_print(basic, simple = False))\n",
    "\n",
    "test_1_2 = corral_skip(num_snails=16, level_2_skip=2)\n",
    "display(pretty_print(test_1_2))\n",
    "\n",
    "test_1_4 = corral_skip(num_snails=16, level_2_skip=4)\n",
    "display(pretty_print(test_1_4))\n",
    "\n",
    "test_1_6 = corral_skip(num_snails=16, level_2_skip=6)\n",
    "display(pretty_print(test_1_6))\n",
    "\n",
    "test_1_8 = corral_skip(num_snails=16, level_2_skip=8)\n",
    "display(pretty_print(test_1_8, simple=False))\n",
    "\n",
    "test_1_8 = corral_skip(num_snails=16, level_2_skip=12)\n",
    "display(pretty_print(test_1_8, simple=False))"
   ]
  }
 ],
 "metadata": {
  "kernelspec": {
   "display_name": ".venv",
   "language": "python",
   "name": "python3"
  },
  "language_info": {
   "codemirror_mode": {
    "name": "ipython",
    "version": 3
   },
   "file_extension": ".py",
   "mimetype": "text/x-python",
   "name": "python",
   "nbconvert_exporter": "python",
   "pygments_lexer": "ipython3",
   "version": "3.9.16"
  },
  "orig_nbformat": 4
 },
 "nbformat": 4,
 "nbformat_minor": 2
}

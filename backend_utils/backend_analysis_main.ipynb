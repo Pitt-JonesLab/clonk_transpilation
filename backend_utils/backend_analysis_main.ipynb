{
 "cells": [
  {
   "cell_type": "code",
   "execution_count": 1,
   "metadata": {},
   "outputs": [],
   "source": [
    "import sys\n",
    "sys.path.append(\"..\")\n",
    "# from benchmark_suite.backend_suite import backends"
   ]
  },
  {
   "cell_type": "code",
   "execution_count": 2,
   "metadata": {},
   "outputs": [
    {
     "name": "stdout",
     "output_type": "stream",
     "text": [
      "Hatlab-Riswap\n",
      "Lattice-Riswap\n",
      "Lattice-CX\n",
      "Lattice-Large-CX\n",
      "Lattice-Large-Riswap\n",
      "Hypercube-Large-CX\n",
      "Hypercube-Large-Riswap\n",
      "Hatlab-Large-Riswap-Shuffle\n",
      "Hatlab-Large-Riswap-Basic\n",
      "Hatlab-Large-Riswap-Upgrade\n",
      "Hypercube-Large-Riswap-Basic\n",
      "Hypercube-Large-Riswap-Stochastic\n",
      "Hatlab-Large-Riswap-Trivial\n",
      "Hatlab-Large-Riswap-Dense\n",
      "Heavy-Hex\n"
     ]
    }
   ],
   "source": [
    "# from backend_utils.backend_analysis_pass import TopologyAnalysis\n",
    "# from qiskit.transpiler.passmanager import PassManager\n",
    "# from qiskit import QuantumCircuit\n",
    "# qc = QuantumCircuit(1)\n",
    "# for backend_label, backend_obj in backends.items():\n",
    "#     print(backend_label)\n",
    "#     pm1 = PassManager(TopologyAnalysis(backend_obj.backend))\n",
    "#     pm1.run(qc)\n",
    "#     #FIXME, just save the property_set dictionary directly\n",
    "#     for key, value in pm1.property_set.items():\n",
    "#         backend_obj.save_data(parameter=key, data=value)\n",
    "#     backend_obj.save_json()"
   ]
  },
  {
   "cell_type": "code",
   "execution_count": 5,
   "metadata": {},
   "outputs": [
    {
     "name": "stdout",
     "output_type": "stream",
     "text": [
      "Heavy-Hex\n",
      "Num qubits 193\n",
      "Diameter 32.0\n",
      "Avg_Distance 13.4\n",
      "Degree 3.0\n",
      "Avg_Connectivity 2.32\n",
      "\n",
      "Square-Lattice\n",
      "Num qubits 84\n",
      "Diameter 17.0\n",
      "Avg_Distance 6.26\n",
      "Degree 4.0\n",
      "Avg_Connectivity 3.55\n",
      "\n",
      "Hex-Lattice\n",
      "Num qubits 206\n",
      "Diameter 27.0\n",
      "Avg_Distance 11.01\n",
      "Degree 3.0\n",
      "Avg_Connectivity 2.81\n",
      "\n",
      "Lattice+AltDiagonals\n",
      "Num qubits 132\n",
      "Diameter 11.0\n",
      "Avg_Distance 5.39\n",
      "Degree 6.0\n",
      "Avg_Connectivity 5.32\n",
      "\n",
      "Modular\n",
      "Num qubits 84\n",
      "Diameter 5.0\n",
      "Avg_Distance 3.91\n",
      "Degree 7.0\n",
      "Avg_Connectivity 4.71\n",
      "\n",
      "Hypercube\n",
      "Num qubits 128\n",
      "Diameter 7.0\n",
      "Avg_Distance 3.5\n",
      "Degree 7.0\n",
      "Avg_Connectivity 7.0\n",
      "\n"
     ]
    }
   ],
   "source": [
    "from qiskit import QuantumCircuit\n",
    "from qiskit.transpiler import PassManager\n",
    "import sys\n",
    "sys.path.append(\"..\")\n",
    "from backend_utils.backend_analysis_pass import TopologyAnalysis\n",
    "qc = QuantumCircuit(1)\n",
    "# from mock_backends.ibm import *\n",
    "# from mock_backends import *\n",
    "# backend_list = [PenguinV1(), PenguinV2(), PenguinV3(), PenguinV4(), FakeHeavyHex()] #FalconR4()]\n",
    "from benchmark_suite.backend_suite_v2 import topology_backends\n",
    "backend_list = topology_backends\n",
    "for backend in backend_list:\n",
    "    print(backend.label)\n",
    "    pm1 = PassManager(TopologyAnalysis(backend.backend))\n",
    "    pm1.run(qc)\n",
    "    print(f\"Num qubits {backend.backend.num_qubits}\")\n",
    "    #just save the property_set dictionary directly\n",
    "    backend.data.update(dict(pm1.property_set))\n",
    "    backend.save_json()\n",
    "    #then print it\n",
    "    for key, value in pm1.property_set.items():\n",
    "        print(key, str(round(value,2)))\n",
    "    print()"
   ]
  }
 ],
 "metadata": {
  "interpreter": {
   "hash": "3c923d04e9af837f8cfab086aad703afe35b7499ff33e9e2bcba0d425db844a6"
  },
  "kernelspec": {
   "display_name": "Python 3.8.10 ('venv': venv)",
   "language": "python",
   "name": "python3"
  },
  "language_info": {
   "codemirror_mode": {
    "name": "ipython",
    "version": 3
   },
   "file_extension": ".py",
   "mimetype": "text/x-python",
   "name": "python",
   "nbconvert_exporter": "python",
   "pygments_lexer": "ipython3",
   "version": "3.8.10"
  },
  "orig_nbformat": 4
 },
 "nbformat": 4,
 "nbformat_minor": 2
}

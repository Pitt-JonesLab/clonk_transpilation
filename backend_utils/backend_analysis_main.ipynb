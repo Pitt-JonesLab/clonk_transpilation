{
 "cells": [
  {
   "cell_type": "code",
   "execution_count": 1,
   "metadata": {},
   "outputs": [
    {
     "name": "stderr",
     "output_type": "stream",
     "text": [
      "This backend's operations: cz only apply to a subset of qubits. Using this property to get 'basis_gates' for the transpiler may potentially create invalid output\n",
      "/home/evm9/transpilation_EM/venv/lib/python3.8/site-packages/qiskit/transpiler/passes/optimization/consolidate_blocks.py:55: UserWarning: Only know how to decompose properly for supercontrolled basis gate. This gate is ~Ud(0.3926990816987239, 0.3926990816987239, 0.0)\n",
      "  self.decomposer = TwoQubitBasisDecomposer(kak_basis_gate)\n",
      "This backend's operations: cz only apply to a subset of qubits. Using this property to get 'basis_gates' for the transpiler may potentially create invalid output\n",
      "This backend's operations: cz only apply to a subset of qubits. Using this property to get 'basis_gates' for the transpiler may potentially create invalid output\n",
      "This backend's operations: cz only apply to a subset of qubits. Using this property to get 'basis_gates' for the transpiler may potentially create invalid output\n",
      "This backend's operations: cz only apply to a subset of qubits. Using this property to get 'basis_gates' for the transpiler may potentially create invalid output\n",
      "This backend's operations: cz only apply to a subset of qubits. Using this property to get 'basis_gates' for the transpiler may potentially create invalid output\n",
      "This backend's operations: cz only apply to a subset of qubits. Using this property to get 'basis_gates' for the transpiler may potentially create invalid output\n",
      "This backend's operations: cz only apply to a subset of qubits. Using this property to get 'basis_gates' for the transpiler may potentially create invalid output\n",
      "This backend's operations: cz only apply to a subset of qubits. Using this property to get 'basis_gates' for the transpiler may potentially create invalid output\n",
      "This backend's operations: cz only apply to a subset of qubits. Using this property to get 'basis_gates' for the transpiler may potentially create invalid output\n",
      "This backend's operations: cz only apply to a subset of qubits. Using this property to get 'basis_gates' for the transpiler may potentially create invalid output\n",
      "This backend's operations: cz only apply to a subset of qubits. Using this property to get 'basis_gates' for the transpiler may potentially create invalid output\n",
      "This backend's operations: cz only apply to a subset of qubits. Using this property to get 'basis_gates' for the transpiler may potentially create invalid output\n",
      "This backend's operations: cz only apply to a subset of qubits. Using this property to get 'basis_gates' for the transpiler may potentially create invalid output\n",
      "This backend's operations: cz only apply to a subset of qubits. Using this property to get 'basis_gates' for the transpiler may potentially create invalid output\n",
      "This backend's operations: cz only apply to a subset of qubits. Using this property to get 'basis_gates' for the transpiler may potentially create invalid output\n",
      "This backend's operations: cz only apply to a subset of qubits. Using this property to get 'basis_gates' for the transpiler may potentially create invalid output\n",
      "This backend's operations: cz only apply to a subset of qubits. Using this property to get 'basis_gates' for the transpiler may potentially create invalid output\n",
      "This backend's operations: cz only apply to a subset of qubits. Using this property to get 'basis_gates' for the transpiler may potentially create invalid output\n",
      "This backend's operations: cz only apply to a subset of qubits. Using this property to get 'basis_gates' for the transpiler may potentially create invalid output\n",
      "This backend's operations: cz only apply to a subset of qubits. Using this property to get 'basis_gates' for the transpiler may potentially create invalid output\n"
     ]
    }
   ],
   "source": [
    "import sys\n",
    "sys.path.append(\"..\")\n",
    "from benchmark_suite.backend_suite import backends"
   ]
  },
  {
   "cell_type": "code",
   "execution_count": 2,
   "metadata": {},
   "outputs": [
    {
     "name": "stdout",
     "output_type": "stream",
     "text": [
      "Hatlab-Riswap\n",
      "Lattice-Riswap\n",
      "Lattice-CX\n",
      "Lattice-Large-CX\n",
      "Lattice-Large-Riswap\n",
      "Hypercube-Large-CX\n",
      "Hypercube-Large-Riswap\n",
      "Hatlab-Large-Riswap-Shuffle\n",
      "Hatlab-Large-Riswap-Basic\n",
      "Hatlab-Large-Riswap-Stochastic\n",
      "Hypercube-Large-Riswap-Basic\n",
      "Hypercube-Large-Riswap-Stochastic\n",
      "Hatlab-Large-Riswap-Trivial\n",
      "Hatlab-Large-Riswap-Dense\n"
     ]
    }
   ],
   "source": [
    "from backend_utils.backend_analysis_pass import TopologyAnalysis\n",
    "from qiskit.transpiler.passmanager import PassManager\n",
    "from qiskit import QuantumCircuit\n",
    "qc = QuantumCircuit(1)\n",
    "for backend_label, backend_obj in backends.items():\n",
    "    print(backend_label)\n",
    "    pm1 = PassManager(TopologyAnalysis(backend_obj.backend))\n",
    "    pm1.run(qc)\n",
    "    #FIXME, just save the property_set dictionary directly\n",
    "    for key, value in pm1.property_set.items():\n",
    "        backend_obj.save_data(parameter=key, data=value)\n",
    "    backend_obj.save_json()"
   ]
  }
 ],
 "metadata": {
  "interpreter": {
   "hash": "3c923d04e9af837f8cfab086aad703afe35b7499ff33e9e2bcba0d425db844a6"
  },
  "kernelspec": {
   "display_name": "Python 3.8.10 ('venv': venv)",
   "language": "python",
   "name": "python3"
  },
  "language_info": {
   "name": "python",
   "version": "3.8.10"
  },
  "orig_nbformat": 4
 },
 "nbformat": 4,
 "nbformat_minor": 2
}

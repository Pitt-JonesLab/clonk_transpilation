{
 "cells": [
  {
   "cell_type": "code",
   "execution_count": 45,
   "metadata": {},
   "outputs": [],
   "source": [
    "import sys\n",
    "sys.path.append(\"..\")"
   ]
  },
  {
   "cell_type": "code",
   "execution_count": 46,
   "metadata": {},
   "outputs": [
    {
     "data": {
      "image/png": "[encoded data removed]",
      "text/plain": [
       "<Figure size 360x360 with 1 Axes>"
      ]
     },
     "execution_count": 46,
     "metadata": {},
     "output_type": "execute_result"
    }
   ],
   "source": [
    "from mock_backends.ibm import *\n",
    "pb = FalconR4()\n",
    "from utils.qiskit_patch.gate_map import plot_gate_map\n",
    "plot_gate_map(pb)#, qubit_coordinates=pb.qubit_coordinates)"
   ]
  },
  {
   "cell_type": "code",
   "execution_count": 47,
   "metadata": {},
   "outputs": [
    {
     "ename": "NameError",
     "evalue": "name 'ConfigurableFakeBackendV2' is not defined",
     "output_type": "error",
     "traceback": [
      "\u001b[0;31m---------------------------------------------------------------------------\u001b[0m",
      "\u001b[0;31mNameError\u001b[0m                                 Traceback (most recent call last)",
      "\u001b[1;32m/home/evm9/transpilation_EM/backend_utils/test.ipynb Cell 3'\u001b[0m in \u001b[0;36m<module>\u001b[0;34m\u001b[0m\n\u001b[1;32m      <a href='vscode-notebook-cell://ssh-remote%2B7b22686f73744e616d65223a224f707469706c6578227d/home/evm9/transpilation_EM/backend_utils/test.ipynb#ch0000002vscode-remote?line=4'>5</a>\u001b[0m \u001b[39mfrom\u001b[39;00m \u001b[39mqiskit\u001b[39;00m\u001b[39m.\u001b[39;00m\u001b[39mexceptions\u001b[39;00m \u001b[39mimport\u001b[39;00m QiskitError\n\u001b[1;32m      <a href='vscode-notebook-cell://ssh-remote%2B7b22686f73744e616d65223a224f707469706c6578227d/home/evm9/transpilation_EM/backend_utils/test.ipynb#ch0000002vscode-remote?line=5'>6</a>\u001b[0m \u001b[39mfrom\u001b[39;00m \u001b[39mqiskit\u001b[39;00m\u001b[39m.\u001b[39;00m\u001b[39mcircuit\u001b[39;00m\u001b[39m.\u001b[39;00m\u001b[39mlibrary\u001b[39;00m\u001b[39m.\u001b[39;00m\u001b[39mstandard_gates\u001b[39;00m \u001b[39mimport\u001b[39;00m (\n\u001b[1;32m      <a href='vscode-notebook-cell://ssh-remote%2B7b22686f73744e616d65223a224f707469706c6578227d/home/evm9/transpilation_EM/backend_utils/test.ipynb#ch0000002vscode-remote?line=6'>7</a>\u001b[0m     IGate,\n\u001b[1;32m      <a href='vscode-notebook-cell://ssh-remote%2B7b22686f73744e616d65223a224f707469706c6578227d/home/evm9/transpilation_EM/backend_utils/test.ipynb#ch0000002vscode-remote?line=7'>8</a>\u001b[0m     RXGate,\n\u001b[0;32m   (...)\u001b[0m\n\u001b[1;32m     <a href='vscode-notebook-cell://ssh-remote%2B7b22686f73744e616d65223a224f707469706c6578227d/home/evm9/transpilation_EM/backend_utils/test.ipynb#ch0000002vscode-remote?line=11'>12</a>\u001b[0m     U3Gate\n\u001b[1;32m     <a href='vscode-notebook-cell://ssh-remote%2B7b22686f73744e616d65223a224f707469706c6578227d/home/evm9/transpilation_EM/backend_utils/test.ipynb#ch0000002vscode-remote?line=12'>13</a>\u001b[0m )\n\u001b[0;32m---> <a href='vscode-notebook-cell://ssh-remote%2B7b22686f73744e616d65223a224f707469706c6578227d/home/evm9/transpilation_EM/backend_utils/test.ipynb#ch0000002vscode-remote?line=15'>16</a>\u001b[0m \u001b[39mclass\u001b[39;00m \u001b[39mFakeExampleV2\u001b[39;00m(ConfigurableFakeBackendV2):\n\u001b[1;32m     <a href='vscode-notebook-cell://ssh-remote%2B7b22686f73744e616d65223a224f707469706c6578227d/home/evm9/transpilation_EM/backend_utils/test.ipynb#ch0000002vscode-remote?line=16'>17</a>\u001b[0m     \u001b[39m\"\"\"A mock backendv2\"\"\"\u001b[39;00m\n\u001b[1;32m     <a href='vscode-notebook-cell://ssh-remote%2B7b22686f73744e616d65223a224f707469706c6578227d/home/evm9/transpilation_EM/backend_utils/test.ipynb#ch0000002vscode-remote?line=18'>19</a>\u001b[0m     \u001b[39mdef\u001b[39;00m \u001b[39m__init__\u001b[39m(\u001b[39mself\u001b[39m):\n",
      "\u001b[0;31mNameError\u001b[0m: name 'ConfigurableFakeBackendV2' is not defined"
     ]
    }
   ],
   "source": [
    "import itertools\n",
    "from qiskit.test.mock.utils.configurable_backend import ConfigurableFakeBackend\n",
    "from qiskit.providers.models import BackendProperties\n",
    "from qiskit.providers.models.backendproperties import Nduv, Gate\n",
    "from qiskit.exceptions import QiskitError\n",
    "from qiskit.circuit.library.standard_gates import (\n",
    "    IGate,\n",
    "    RXGate,\n",
    "    RYGate,\n",
    "    CZGate,\n",
    "    SwapGate,\n",
    "    U3Gate\n",
    ")\n",
    "\n",
    "\n",
    "class FakeExampleV2(ConfigurableFakeBackendV2):\n",
    "    \"\"\"A mock backendv2\"\"\"\n",
    "\n",
    "    def __init__(self):\n",
    "        qubits = list(range(4))\n",
    "        coupling_map = [[0, 1], [0, 2], [0, 3], [1, 2]]\n",
    "        qubit_coordinates = [[0, 1], [1, 0], [1, 1], [1, 2]]\n",
    "\n",
    "        gate_configuration = {}\n",
    "        gate_configuration[IGate] = [(i,) for i in qubits]\n",
    "\n",
    "        # only can do RXGates on qubits 0 and 4\n",
    "        gate_configuration[U3Gate] = [\n",
    "            (i,) for i in list(set(qubits).difference([1, 2]))\n",
    "        ]\n",
    "        # can do RY on all qubits\n",
    "        gate_configuration[RYGate] = [(i,) for i in qubits]\n",
    "\n",
    "        # can do CZ on all pairs in coupling map\n",
    "        gate_configuration[CZGate] = [(i, j) for i, j in coupling_map]\n",
    "\n",
    "        # can only measure qubits 2,3\n",
    "        measurable_qubits = [2, 3]\n",
    "\n",
    "        super().__init__(\n",
    "            name=\"mock_example\",\n",
    "            description=\"a mock backend\",\n",
    "            n_qubits=len(qubits),\n",
    "            gate_configuration=gate_configuration,\n",
    "            parameterized_gates={U3Gate: [\"theta\", \"phi\", \"lam\"], RYGate: [\"theta\"]},\n",
    "            measurable_qubits=measurable_qubits,\n",
    "            qubit_coordinates=qubit_coordinates,\n",
    "        )\n"
   ]
  },
  {
   "cell_type": "code",
   "execution_count": null,
   "metadata": {},
   "outputs": [],
   "source": [
    "from fake_hypercube import FakeHypberCubeV2\n",
    "FakeHypberCubeV2(n_dimension=3)"
   ]
  }
 ],
 "metadata": {
  "interpreter": {
   "hash": "3c923d04e9af837f8cfab086aad703afe35b7499ff33e9e2bcba0d425db844a6"
  },
  "kernelspec": {
   "display_name": "Python 3.8.10 64-bit ('venv': venv)",
   "language": "python",
   "name": "python3"
  },
  "language_info": {
   "codemirror_mode": {
    "name": "ipython",
    "version": 3
   },
   "file_extension": ".py",
   "mimetype": "text/x-python",
   "name": "python",
   "nbconvert_exporter": "python",
   "pygments_lexer": "ipython3",
   "version": "3.8.10"
  },
  "orig_nbformat": 4
 },
 "nbformat": 4,
 "nbformat_minor": 2
}

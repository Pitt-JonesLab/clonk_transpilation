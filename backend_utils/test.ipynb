{
 "cells": [
  {
   "cell_type": "code",
   "execution_count": 1,
   "metadata": {},
   "outputs": [],
   "source": [
    "import sys\n",
    "sys.path.append(\"..\")\n",
    "import fakeutils, mock_backend\n",
    "from fakeutils.configurable_backend_v2 import ConfigurableFakeBackendV2"
   ]
  },
  {
   "cell_type": "code",
   "execution_count": 3,
   "metadata": {},
   "outputs": [],
   "source": [
    "import itertools\n",
    "from qiskit.test.mock.utils.configurable_backend import ConfigurableFakeBackend\n",
    "from qiskit.providers.models import BackendProperties\n",
    "from qiskit.providers.models.backendproperties import Nduv, Gate\n",
    "from qiskit.exceptions import QiskitError\n",
    "from qiskit.circuit.library.standard_gates import (\n",
    "    IGate,\n",
    "    RXGate,\n",
    "    RYGate,\n",
    "    CZGate,\n",
    "    SwapGate,\n",
    "    U3Gate\n",
    ")\n",
    "\n",
    "\n",
    "class FakeExampleV2(ConfigurableFakeBackendV2):\n",
    "    \"\"\"A mock backendv2\"\"\"\n",
    "\n",
    "    def __init__(self):\n",
    "        qubits = list(range(4))\n",
    "        coupling_map = [[0, 1], [0, 2], [0, 3], [1, 2]]\n",
    "        qubit_coordinates = [[0, 1], [1, 0], [1, 1], [1, 2]]\n",
    "\n",
    "        gate_configuration = {}\n",
    "        gate_configuration[IGate] = [(i,) for i in qubits]\n",
    "\n",
    "        # only can do RXGates on qubits 0 and 4\n",
    "        gate_configuration[U3Gate] = [\n",
    "            (i,) for i in list(set(qubits).difference([1, 2]))\n",
    "        ]\n",
    "        # can do RY on all qubits\n",
    "        gate_configuration[RYGate] = [(i,) for i in qubits]\n",
    "\n",
    "        # can do CZ on all pairs in coupling map\n",
    "        gate_configuration[CZGate] = [(i, j) for i, j in coupling_map]\n",
    "\n",
    "        # can only measure qubits 2,3\n",
    "        measurable_qubits = [2, 3]\n",
    "\n",
    "        super().__init__(\n",
    "            name=\"mock_example\",\n",
    "            description=\"a mock backend\",\n",
    "            n_qubits=len(qubits),\n",
    "            gate_configuration=gate_configuration,\n",
    "            parameterized_gates={U3Gate: [\"theta\", \"phi\", \"lam\"], RYGate: [\"theta\"]},\n",
    "            measurable_qubits=measurable_qubits,\n",
    "            qubit_coordinates=qubit_coordinates,\n",
    "        )\n"
   ]
  },
  {
   "cell_type": "code",
   "execution_count": 3,
   "metadata": {},
   "outputs": [
    {
     "ename": "AttributeError",
     "evalue": "'NoneType' object has no attribute 'keys'",
     "output_type": "error",
     "traceback": [
      "\u001b[0;31m---------------------------------------------------------------------------\u001b[0m",
      "\u001b[0;31mAttributeError\u001b[0m                            Traceback (most recent call last)",
      "\u001b[1;32m/home/evm9/transpilation_EM/mock_backend/test.ipynb Cell 3'\u001b[0m in \u001b[0;36m<module>\u001b[0;34m\u001b[0m\n\u001b[0;32m----> <a href='vscode-notebook-cell://ssh-remote%2B7b22686f73744e616d65223a224f707469706c6578227d/home/evm9/transpilation_EM/mock_backend/test.ipynb#ch0000002vscode-remote?line=0'>1</a>\u001b[0m \u001b[39mfrom\u001b[39;00m \u001b[39mfake_hypercube\u001b[39;00m \u001b[39mimport\u001b[39;00m FakeHypberCubeV2\n\u001b[1;32m      <a href='vscode-notebook-cell://ssh-remote%2B7b22686f73744e616d65223a224f707469706c6578227d/home/evm9/transpilation_EM/mock_backend/test.ipynb#ch0000002vscode-remote?line=1'>2</a>\u001b[0m FakeHypberCubeV2(n_dimension\u001b[39m=\u001b[39m\u001b[39m1\u001b[39m)\n",
      "File \u001b[0;32m~/transpilation_EM/mock_backend/fake_hypercube.py:61\u001b[0m, in \u001b[0;36m<module>\u001b[0;34m\u001b[0m\n\u001b[1;32m     <a href='file:///~/transpilation_EM/mock_backend/fake_hypercube.py?line=47'>48</a>\u001b[0m         measurable_qubits \u001b[39m=\u001b[39m [\u001b[39m2\u001b[39m, \u001b[39m3\u001b[39m]\n\u001b[1;32m     <a href='file:///~/transpilation_EM/mock_backend/fake_hypercube.py?line=49'>50</a>\u001b[0m         \u001b[39msuper\u001b[39m()\u001b[39m.\u001b[39m\u001b[39m__init__\u001b[39m(\n\u001b[1;32m     <a href='file:///~/transpilation_EM/mock_backend/fake_hypercube.py?line=50'>51</a>\u001b[0m             name\u001b[39m=\u001b[39m\u001b[39m\"\u001b[39m\u001b[39mmock_example\u001b[39m\u001b[39m\"\u001b[39m,\n\u001b[1;32m     <a href='file:///~/transpilation_EM/mock_backend/fake_hypercube.py?line=51'>52</a>\u001b[0m             description\u001b[39m=\u001b[39m\u001b[39m\"\u001b[39m\u001b[39ma mock backend\u001b[39m\u001b[39m\"\u001b[39m,\n\u001b[0;32m   (...)\u001b[0m\n\u001b[1;32m     <a href='file:///~/transpilation_EM/mock_backend/fake_hypercube.py?line=56'>57</a>\u001b[0m             qubit_coordinates\u001b[39m=\u001b[39mqubit_coordinates,\n\u001b[1;32m     <a href='file:///~/transpilation_EM/mock_backend/fake_hypercube.py?line=57'>58</a>\u001b[0m         )\n\u001b[0;32m---> <a href='file:///~/transpilation_EM/mock_backend/fake_hypercube.py?line=60'>61</a>\u001b[0m FakeHypberCubeV2(\u001b[39m1\u001b[39;49m)\n",
      "File \u001b[0;32m~/transpilation_EM/mock_backend/fake_hypercube.py:50\u001b[0m, in \u001b[0;36mFakeHypberCubeV2.__init__\u001b[0;34m(self, n_dimension)\u001b[0m\n\u001b[1;32m     <a href='file:///~/transpilation_EM/mock_backend/fake_hypercube.py?line=46'>47</a>\u001b[0m \u001b[39m# can only measure qubits 2,3\u001b[39;00m\n\u001b[1;32m     <a href='file:///~/transpilation_EM/mock_backend/fake_hypercube.py?line=47'>48</a>\u001b[0m measurable_qubits \u001b[39m=\u001b[39m [\u001b[39m2\u001b[39m, \u001b[39m3\u001b[39m]\n\u001b[0;32m---> <a href='file:///~/transpilation_EM/mock_backend/fake_hypercube.py?line=49'>50</a>\u001b[0m \u001b[39msuper\u001b[39;49m()\u001b[39m.\u001b[39;49m\u001b[39m__init__\u001b[39;49m(\n\u001b[1;32m     <a href='file:///~/transpilation_EM/mock_backend/fake_hypercube.py?line=50'>51</a>\u001b[0m     name\u001b[39m=\u001b[39;49m\u001b[39m\"\u001b[39;49m\u001b[39mmock_example\u001b[39;49m\u001b[39m\"\u001b[39;49m,\n\u001b[1;32m     <a href='file:///~/transpilation_EM/mock_backend/fake_hypercube.py?line=51'>52</a>\u001b[0m     description\u001b[39m=\u001b[39;49m\u001b[39m\"\u001b[39;49m\u001b[39ma mock backend\u001b[39;49m\u001b[39m\"\u001b[39;49m,\n\u001b[1;32m     <a href='file:///~/transpilation_EM/mock_backend/fake_hypercube.py?line=52'>53</a>\u001b[0m     n_qubits\u001b[39m=\u001b[39;49m\u001b[39mlen\u001b[39;49m(qubits),\n\u001b[1;32m     <a href='file:///~/transpilation_EM/mock_backend/fake_hypercube.py?line=53'>54</a>\u001b[0m     gate_configuration\u001b[39m=\u001b[39;49mgate_configuration,\n\u001b[1;32m     <a href='file:///~/transpilation_EM/mock_backend/fake_hypercube.py?line=54'>55</a>\u001b[0m     parameterized_gates\u001b[39m=\u001b[39;49m{RXGate: \u001b[39m\"\u001b[39;49m\u001b[39mtheta\u001b[39;49m\u001b[39m\"\u001b[39;49m, RYGate: \u001b[39m\"\u001b[39;49m\u001b[39mtheta\u001b[39;49m\u001b[39m\"\u001b[39;49m},\n\u001b[1;32m     <a href='file:///~/transpilation_EM/mock_backend/fake_hypercube.py?line=55'>56</a>\u001b[0m     measurable_qubits\u001b[39m=\u001b[39;49mmeasurable_qubits,\n\u001b[1;32m     <a href='file:///~/transpilation_EM/mock_backend/fake_hypercube.py?line=56'>57</a>\u001b[0m     qubit_coordinates\u001b[39m=\u001b[39;49mqubit_coordinates,\n\u001b[1;32m     <a href='file:///~/transpilation_EM/mock_backend/fake_hypercube.py?line=57'>58</a>\u001b[0m )\n",
      "File \u001b[0;32m~/transpilation_EM/mock_backend/../fakeutils/configurable_backend_v2.py:132\u001b[0m, in \u001b[0;36mConfigurableFakeBackendV2.__init__\u001b[0;34m(self, name, description, n_qubits, gate_configuration, measurable_qubits, parameterized_gates, qubit_coordinates, gate_durations, qubit_t1, qubit_t2, qubit_frequency, qubit_readout_error, single_qubit_gates, dt, std, seed)\u001b[0m\n\u001b[1;32m    <a href='file:///~/transpilation_EM/mock_backend/../fakeutils/configurable_backend_v2.py?line=128'>129</a>\u001b[0m \u001b[39m# Add gates to target\u001b[39;00m\n\u001b[1;32m    <a href='file:///~/transpilation_EM/mock_backend/../fakeutils/configurable_backend_v2.py?line=129'>130</a>\u001b[0m \u001b[39m# TODO: dynamic instruction properties\u001b[39;00m\n\u001b[1;32m    <a href='file:///~/transpilation_EM/mock_backend/../fakeutils/configurable_backend_v2.py?line=130'>131</a>\u001b[0m \u001b[39mfor\u001b[39;00m gate, qubit_tuple_list \u001b[39min\u001b[39;00m \u001b[39mself\u001b[39m\u001b[39m.\u001b[39mgate_configuration\u001b[39m.\u001b[39mitems():\n\u001b[0;32m--> <a href='file:///~/transpilation_EM/mock_backend/../fakeutils/configurable_backend_v2.py?line=131'>132</a>\u001b[0m     temp_gate_props \u001b[39m=\u001b[39m {\n\u001b[1;32m    <a href='file:///~/transpilation_EM/mock_backend/../fakeutils/configurable_backend_v2.py?line=132'>133</a>\u001b[0m         qubit_tuple: InstructionProperties(\n\u001b[1;32m    <a href='file:///~/transpilation_EM/mock_backend/../fakeutils/configurable_backend_v2.py?line=133'>134</a>\u001b[0m             duration\u001b[39m=\u001b[39m\u001b[39mself\u001b[39m\u001b[39m.\u001b[39mgate_durations[gate], error\u001b[39m=\u001b[39m\u001b[39m0\u001b[39m\n\u001b[1;32m    <a href='file:///~/transpilation_EM/mock_backend/../fakeutils/configurable_backend_v2.py?line=134'>135</a>\u001b[0m         )\n\u001b[1;32m    <a href='file:///~/transpilation_EM/mock_backend/../fakeutils/configurable_backend_v2.py?line=135'>136</a>\u001b[0m         \u001b[39mif\u001b[39;00m gate \u001b[39min\u001b[39;00m \u001b[39mself\u001b[39m\u001b[39m.\u001b[39mgate_durations\u001b[39m.\u001b[39mkeys()\n\u001b[1;32m    <a href='file:///~/transpilation_EM/mock_backend/../fakeutils/configurable_backend_v2.py?line=136'>137</a>\u001b[0m         \u001b[39melse\u001b[39;00m InstructionProperties(duration\u001b[39m=\u001b[39m\u001b[39m0.0\u001b[39m, error\u001b[39m=\u001b[39m\u001b[39m0\u001b[39m)\n\u001b[1;32m    <a href='file:///~/transpilation_EM/mock_backend/../fakeutils/configurable_backend_v2.py?line=137'>138</a>\u001b[0m         \u001b[39mfor\u001b[39;00m qubit_tuple \u001b[39min\u001b[39;00m qubit_tuple_list\n\u001b[1;32m    <a href='file:///~/transpilation_EM/mock_backend/../fakeutils/configurable_backend_v2.py?line=138'>139</a>\u001b[0m     }\n\u001b[1;32m    <a href='file:///~/transpilation_EM/mock_backend/../fakeutils/configurable_backend_v2.py?line=139'>140</a>\u001b[0m     \u001b[39mif\u001b[39;00m gate \u001b[39min\u001b[39;00m parameterized_gates\u001b[39m.\u001b[39mkeys():\n\u001b[1;32m    <a href='file:///~/transpilation_EM/mock_backend/../fakeutils/configurable_backend_v2.py?line=140'>141</a>\u001b[0m         \u001b[39mself\u001b[39m\u001b[39m.\u001b[39m_target\u001b[39m.\u001b[39madd_instruction(\n\u001b[1;32m    <a href='file:///~/transpilation_EM/mock_backend/../fakeutils/configurable_backend_v2.py?line=141'>142</a>\u001b[0m             gate(\u001b[39m*\u001b[39m[Parameter(p) \u001b[39mfor\u001b[39;00m p \u001b[39min\u001b[39;00m parameterized_gates[gate]]),\n\u001b[1;32m    <a href='file:///~/transpilation_EM/mock_backend/../fakeutils/configurable_backend_v2.py?line=142'>143</a>\u001b[0m             temp_gate_props,\n\u001b[1;32m    <a href='file:///~/transpilation_EM/mock_backend/../fakeutils/configurable_backend_v2.py?line=143'>144</a>\u001b[0m         )\n",
      "File \u001b[0;32m~/transpilation_EM/mock_backend/../fakeutils/configurable_backend_v2.py:136\u001b[0m, in \u001b[0;36m<dictcomp>\u001b[0;34m(.0)\u001b[0m\n\u001b[1;32m    <a href='file:///~/transpilation_EM/mock_backend/../fakeutils/configurable_backend_v2.py?line=128'>129</a>\u001b[0m \u001b[39m# Add gates to target\u001b[39;00m\n\u001b[1;32m    <a href='file:///~/transpilation_EM/mock_backend/../fakeutils/configurable_backend_v2.py?line=129'>130</a>\u001b[0m \u001b[39m# TODO: dynamic instruction properties\u001b[39;00m\n\u001b[1;32m    <a href='file:///~/transpilation_EM/mock_backend/../fakeutils/configurable_backend_v2.py?line=130'>131</a>\u001b[0m \u001b[39mfor\u001b[39;00m gate, qubit_tuple_list \u001b[39min\u001b[39;00m \u001b[39mself\u001b[39m\u001b[39m.\u001b[39mgate_configuration\u001b[39m.\u001b[39mitems():\n\u001b[1;32m    <a href='file:///~/transpilation_EM/mock_backend/../fakeutils/configurable_backend_v2.py?line=131'>132</a>\u001b[0m     temp_gate_props \u001b[39m=\u001b[39m {\n\u001b[1;32m    <a href='file:///~/transpilation_EM/mock_backend/../fakeutils/configurable_backend_v2.py?line=132'>133</a>\u001b[0m         qubit_tuple: InstructionProperties(\n\u001b[1;32m    <a href='file:///~/transpilation_EM/mock_backend/../fakeutils/configurable_backend_v2.py?line=133'>134</a>\u001b[0m             duration\u001b[39m=\u001b[39m\u001b[39mself\u001b[39m\u001b[39m.\u001b[39mgate_durations[gate], error\u001b[39m=\u001b[39m\u001b[39m0\u001b[39m\n\u001b[1;32m    <a href='file:///~/transpilation_EM/mock_backend/../fakeutils/configurable_backend_v2.py?line=134'>135</a>\u001b[0m         )\n\u001b[0;32m--> <a href='file:///~/transpilation_EM/mock_backend/../fakeutils/configurable_backend_v2.py?line=135'>136</a>\u001b[0m         \u001b[39mif\u001b[39;00m gate \u001b[39min\u001b[39;00m \u001b[39mself\u001b[39;49m\u001b[39m.\u001b[39;49mgate_durations\u001b[39m.\u001b[39;49mkeys()\n\u001b[1;32m    <a href='file:///~/transpilation_EM/mock_backend/../fakeutils/configurable_backend_v2.py?line=136'>137</a>\u001b[0m         \u001b[39melse\u001b[39;00m InstructionProperties(duration\u001b[39m=\u001b[39m\u001b[39m0.0\u001b[39m, error\u001b[39m=\u001b[39m\u001b[39m0\u001b[39m)\n\u001b[1;32m    <a href='file:///~/transpilation_EM/mock_backend/../fakeutils/configurable_backend_v2.py?line=137'>138</a>\u001b[0m         \u001b[39mfor\u001b[39;00m qubit_tuple \u001b[39min\u001b[39;00m qubit_tuple_list\n\u001b[1;32m    <a href='file:///~/transpilation_EM/mock_backend/../fakeutils/configurable_backend_v2.py?line=138'>139</a>\u001b[0m     }\n\u001b[1;32m    <a href='file:///~/transpilation_EM/mock_backend/../fakeutils/configurable_backend_v2.py?line=139'>140</a>\u001b[0m     \u001b[39mif\u001b[39;00m gate \u001b[39min\u001b[39;00m parameterized_gates\u001b[39m.\u001b[39mkeys():\n\u001b[1;32m    <a href='file:///~/transpilation_EM/mock_backend/../fakeutils/configurable_backend_v2.py?line=140'>141</a>\u001b[0m         \u001b[39mself\u001b[39m\u001b[39m.\u001b[39m_target\u001b[39m.\u001b[39madd_instruction(\n\u001b[1;32m    <a href='file:///~/transpilation_EM/mock_backend/../fakeutils/configurable_backend_v2.py?line=141'>142</a>\u001b[0m             gate(\u001b[39m*\u001b[39m[Parameter(p) \u001b[39mfor\u001b[39;00m p \u001b[39min\u001b[39;00m parameterized_gates[gate]]),\n\u001b[1;32m    <a href='file:///~/transpilation_EM/mock_backend/../fakeutils/configurable_backend_v2.py?line=142'>143</a>\u001b[0m             temp_gate_props,\n\u001b[1;32m    <a href='file:///~/transpilation_EM/mock_backend/../fakeutils/configurable_backend_v2.py?line=143'>144</a>\u001b[0m         )\n",
      "\u001b[0;31mAttributeError\u001b[0m: 'NoneType' object has no attribute 'keys'"
     ]
    }
   ],
   "source": [
    "from fake_hypercube import FakeHypberCubeV2\n",
    "FakeHypberCubeV2(n_dimension=3)"
   ]
  }
 ],
 "metadata": {
  "interpreter": {
   "hash": "3c923d04e9af837f8cfab086aad703afe35b7499ff33e9e2bcba0d425db844a6"
  },
  "kernelspec": {
   "display_name": "Python 3.8.10 64-bit ('venv': venv)",
   "language": "python",
   "name": "python3"
  },
  "language_info": {
   "codemirror_mode": {
    "name": "ipython",
    "version": 3
   },
   "file_extension": ".py",
   "mimetype": "text/x-python",
   "name": "python",
   "nbconvert_exporter": "python",
   "pygments_lexer": "ipython3",
   "version": "3.8.10"
  },
  "orig_nbformat": 4
 },
 "nbformat": 4,
 "nbformat_minor": 2
}

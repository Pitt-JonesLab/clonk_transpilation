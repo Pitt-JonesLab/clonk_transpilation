{
 "cells": [
  {
   "cell_type": "code",
   "execution_count": 2,
   "metadata": {},
   "outputs": [],
   "source": [
    "import numpy as np\n",
    "from scipy.linalg import expm\n",
    "from qiskit.circuit.library import *\n",
    "\n",
    "S = expm(\n",
    "    -1j\n",
    "    * np.pi\n",
    "    * (XGate().to_matrix() + YGate().to_matrix() + ZGate().to_matrix())\n",
    "    / np.sqrt(33)\n",
    ")"
   ]
  },
  {
   "cell_type": "code",
   "execution_count": 3,
   "metadata": {},
   "outputs": [
    {
     "data": {
      "image/png": "[encoded data removed]",
      "text/plain": [
       "<Figure size 193.726x84.28 with 1 Axes>"
      ]
     },
     "execution_count": 3,
     "metadata": {},
     "output_type": "execute_result"
    }
   ],
   "source": [
    "from qiskit.extensions.unitary import UnitaryGate\n",
    "from qiskit import QuantumCircuit\n",
    "\n",
    "S_gate = UnitaryGate(S)\n",
    "qc = QuantumCircuit(1)\n",
    "qc.append(S_gate, [0])\n",
    "qc.draw(output=\"mpl\")"
   ]
  },
  {
   "cell_type": "code",
   "execution_count": 4,
   "metadata": {},
   "outputs": [
    {
     "data": {
      "image/png": "[encoded data removed]",
      "text/plain": [
       "<Figure size 554.926x84.28 with 1 Axes>"
      ]
     },
     "execution_count": 4,
     "metadata": {},
     "output_type": "execute_result"
    }
   ],
   "source": [
    "from qiskit.transpiler.passes import (\n",
    "    BasisTranslator,\n",
    "    UnrollCustomDefinitions,\n",
    "    Optimize1qGates,\n",
    ")\n",
    "from qiskit.transpiler import PassManager\n",
    "from qiskit.circuit.equivalence_library import StandardEquivalenceLibrary as _sel\n",
    "\n",
    "pass_ = [UnrollCustomDefinitions(_sel, [\"u3\"]), BasisTranslator(_sel, [\"rz\", \"sx\"])]\n",
    "pm = PassManager(pass_)\n",
    "new_circ = pm.run(qc)\n",
    "new_circ.draw(output=\"mpl\")"
   ]
  },
  {
   "cell_type": "code",
   "execution_count": 5,
   "metadata": {},
   "outputs": [
    {
     "data": {
      "text/plain": [
       "True"
      ]
     },
     "execution_count": 5,
     "metadata": {},
     "output_type": "execute_result"
    }
   ],
   "source": [
    "# verify correctness\n",
    "from qiskit.quantum_info.operators import Operator\n",
    "\n",
    "Operator(new_circ).equiv(qc)"
   ]
  },
  {
   "cell_type": "markdown",
   "metadata": {},
   "source": [
    "Easier method"
   ]
  },
  {
   "cell_type": "code",
   "execution_count": 7,
   "metadata": {},
   "outputs": [
    {
     "data": {
      "image/png": "[encoded data removed]",
      "text/plain": [
       "<Figure size 382.98x84.28 with 1 Axes>"
      ]
     },
     "execution_count": 7,
     "metadata": {},
     "output_type": "execute_result"
    }
   ],
   "source": [
    "from qiskit.quantum_info.synthesis.one_qubit_decompose import OneQubitEulerDecomposer\n",
    "\n",
    "decomposer = OneQubitEulerDecomposer(\"ZSXX\")\n",
    "euler_circ = decomposer(S)\n",
    "euler_circ.draw(output=\"mpl\")"
   ]
  },
  {
   "cell_type": "code",
   "execution_count": 8,
   "metadata": {},
   "outputs": [
    {
     "data": {
      "text/plain": [
       "True"
      ]
     },
     "execution_count": 8,
     "metadata": {},
     "output_type": "execute_result"
    }
   ],
   "source": [
    "# verify correctness\n",
    "Operator(new_circ).equiv(qc)"
   ]
  },
  {
   "cell_type": "markdown",
   "metadata": {},
   "source": [
    "Repeat more explicitly"
   ]
  },
  {
   "cell_type": "code",
   "execution_count": 37,
   "metadata": {},
   "outputs": [
    {
     "data": {
      "image/png": "[encoded data removed]",
      "text/plain": [
       "<Figure size 262.58x84.28 with 1 Axes>"
      ]
     },
     "execution_count": 37,
     "metadata": {},
     "output_type": "execute_result"
    }
   ],
   "source": [
    "from qiskit.quantum_info.synthesis.one_qubit_decompose import OneQubitEulerDecomposer\n",
    "\n",
    "decomposer = OneQubitEulerDecomposer(\"ZXZ\")\n",
    "euler_decomp = decomposer(S)\n",
    "euler_decomp.draw(output=\"mpl\")"
   ]
  },
  {
   "cell_type": "code",
   "execution_count": 38,
   "metadata": {},
   "outputs": [
    {
     "data": {
      "image/png": "[encoded data removed]",
      "text/plain": [
       "<Figure size 374.326x84.28 with 1 Axes>"
      ]
     },
     "execution_count": 38,
     "metadata": {},
     "output_type": "execute_result"
    }
   ],
   "source": [
    "alpha, gamma, delta = [gate[0].params[0] for gate in euler_decomp]\n",
    "new_circ2 = QuantumCircuit(1)\n",
    "new_circ2.rz(alpha - np.pi / 2, 0)\n",
    "new_circ2.sx(0)\n",
    "new_circ2.rz(np.pi - gamma, 0)\n",
    "new_circ2.sx(0)\n",
    "new_circ2.rz(delta - np.pi / 2, 0)\n",
    "new_circ2.draw(output=\"mpl\")"
   ]
  },
  {
   "cell_type": "code",
   "execution_count": 39,
   "metadata": {},
   "outputs": [
    {
     "data": {
      "text/plain": [
       "True"
      ]
     },
     "execution_count": 39,
     "metadata": {},
     "output_type": "execute_result"
    }
   ],
   "source": [
    "# verify correctness\n",
    "Operator(new_circ).equiv(qc)"
   ]
  }
 ],
 "metadata": {
  "interpreter": {
   "hash": "3c923d04e9af837f8cfab086aad703afe35b7499ff33e9e2bcba0d425db844a6"
  },
  "kernelspec": {
   "display_name": "Python 3.8.10 ('venv': venv)",
   "language": "python",
   "name": "python3"
  },
  "language_info": {
   "codemirror_mode": {
    "name": "ipython",
    "version": 3
   },
   "file_extension": ".py",
   "mimetype": "text/x-python",
   "name": "python",
   "nbconvert_exporter": "python",
   "pygments_lexer": "ipython3",
   "version": "3.8.10"
  },
  "orig_nbformat": 4
 },
 "nbformat": 4,
 "nbformat_minor": 2
}

{
 "cells": [
  {
   "cell_type": "code",
   "execution_count": 1,
   "metadata": {},
   "outputs": [],
   "source": [
    "import sys\n",
    "\n",
    "sys.path.append(\"../..\")"
   ]
  },
  {
   "cell_type": "code",
   "execution_count": 2,
   "metadata": {},
   "outputs": [],
   "source": [
    "from qiskit.quantum_info.random import random_unitary, random_clifford\n",
    "from qiskit import QuantumCircuit\n",
    "from clonk.utils.transpiler_passes.pass_manager_v2 import level_0_pass_manager\n",
    "from clonk.backend_utils import FakeAllToAll\n",
    "from clonk.utils.riswap_gates.riswap import RiSwapGate\n",
    "from clonk.utils.transpiler_passes.weyl_decompose import RootiSwapWeylDecomposition\n",
    "from qiskit.transpiler.passes import CountOps\n",
    "from qiskit.transpiler import PassManager\n",
    "from qiskit.circuit.library import CXGate"
   ]
  },
  {
   "cell_type": "code",
   "execution_count": 3,
   "metadata": {},
   "outputs": [
    {
     "name": "stdout",
     "output_type": "stream",
     "text": [
      "2.0605\n"
     ]
    }
   ],
   "source": [
    "N = 2000\n",
    "basis_gate = RiSwapGate(0.5)\n",
    "\n",
    "pm0 = PassManager()\n",
    "pm0.append(RootiSwapWeylDecomposition(basis_gate=basis_gate))\n",
    "pm0.append(CountOps())\n",
    "\n",
    "res = 0\n",
    "for _ in range(N):\n",
    "    qc = QuantumCircuit(2)\n",
    "    qc.append(random_clifford(2), [0, 1])\n",
    "    # random_unitary(dim=4)\n",
    "    pm0.run(qc)\n",
    "    res += pm0.property_set[\"count_ops\"][\"riswap\"]\n",
    "print(res / N)"
   ]
  },
  {
   "cell_type": "code",
   "execution_count": 29,
   "metadata": {},
   "outputs": [
    {
     "name": "stdout",
     "output_type": "stream",
     "text": [
      "1.491\n"
     ]
    }
   ],
   "source": [
    "N = 2000\n",
    "basis_gate = CXGate()\n",
    "\n",
    "pm0 = PassManager()\n",
    "pm0.append(RootiSwapWeylDecomposition(basis_gate=basis_gate))\n",
    "pm0.append(CountOps())\n",
    "\n",
    "res = 0\n",
    "for _ in range(N):\n",
    "    qc = QuantumCircuit(2)\n",
    "    qc.append(random_clifford(2), [0, 1])\n",
    "    # random_unitary(dim=4)\n",
    "    pm0.run(qc)\n",
    "    res += (\n",
    "        pm0.property_set[\"count_ops\"][\"cx\"]\n",
    "        if \"cx\" in pm0.property_set[\"count_ops\"].keys()\n",
    "        else 0\n",
    "    )\n",
    "print(res / N)"
   ]
  },
  {
   "cell_type": "code",
   "execution_count": 7,
   "metadata": {},
   "outputs": [
    {
     "data": {
      "image/png": "[encoded data removed]",
      "text/plain": [
       "<Figure size 568.052x144.48 with 1 Axes>"
      ]
     },
     "execution_count": 7,
     "metadata": {},
     "output_type": "execute_result"
    }
   ],
   "source": [
    "from qiskit.circuit.library import CPhaseGate\n",
    "import numpy as np\n",
    "\n",
    "basis_gate = CXGate()\n",
    "\n",
    "pm0 = PassManager()\n",
    "pm0.append(RootiSwapWeylDecomposition(basis_gate=basis_gate))\n",
    "pm0.append(CountOps())\n",
    "\n",
    "qc = QuantumCircuit(2)\n",
    "qc.append(CPhaseGate(np.pi / 2), [0, 1])\n",
    "# random_unitary(dim=4)\n",
    "transp = pm0.run(qc)\n",
    "\n",
    "transp.draw(output=\"mpl\")"
   ]
  },
  {
   "cell_type": "code",
   "execution_count": 17,
   "metadata": {},
   "outputs": [
    {
     "name": "stdout",
     "output_type": "stream",
     "text": [
      "\\documentclass[border=2px]{standalone}\n",
      "\n",
      "\\usepackage[braket, qm]{qcircuit}\n",
      "\\usepackage{graphicx}\n",
      "\n",
      "\\begin{document}\n",
      "\\scalebox{1.0}{{$\\mathrm{global\\,phase:\\,} \\mathrm{\\frac{\\pi}{8}}$}\n",
      "\\Qcircuit @C=1.0em @R=0.2em @!R { \\\\\n",
      "\t \t\\nghost{{q}_{0} :  } & \\lstick{{q}_{0} :  } & \\gate{\\mathrm{R_Z}\\,(\\mathrm{\\frac{\\pi}{4}})} & \\ctrl{1} & \\qw & \\ctrl{1} & \\qw & \\qw & \\qw\\\\\n",
      "\t \t\\nghost{{q}_{1} :  } & \\lstick{{q}_{1} :  } & \\qw & \\targ & \\gate{\\mathrm{R_Z}\\,(\\mathrm{-\\frac{\\pi}{4}})} & \\targ & \\gate{\\mathrm{R_Z}\\,(\\mathrm{\\frac{\\pi}{4}})} & \\qw & \\qw\\\\\n",
      "\\\\ }}\n",
      "\\end{document}\n"
     ]
    }
   ],
   "source": [
    "from qiskit import transpile\n",
    "\n",
    "transp = transpile(qc, basis_gates=[\"rz\", \"sx\", \"cx\"], optimization_level=3)\n",
    "print(transp.draw(output=\"latex_source\"))"
   ]
  },
  {
   "cell_type": "code",
   "execution_count": 19,
   "metadata": {},
   "outputs": [
    {
     "name": "stderr",
     "output_type": "stream",
     "text": [
      "Unable to compile LaTeX. Perhaps you are missing the `qcircuit` package. The output from the `pdflatex` command is in `latex_error.log`.\n"
     ]
    },
    {
     "ename": "VisualizationError",
     "evalue": "'`pdflatex` call did not succeed: see `latex_error.log`.'",
     "output_type": "error",
     "traceback": [
      "\u001b[0;31m---------------------------------------------------------------------------\u001b[0m",
      "\u001b[0;31mCalledProcessError\u001b[0m                        Traceback (most recent call last)",
      "File \u001b[0;32m~/transpilation_EM/venv/lib/python3.8/site-packages/qiskit/visualization/circuit_visualization.py:475\u001b[0m, in \u001b[0;36m_latex_circuit_drawer\u001b[0;34m(circuit, scale, style, filename, plot_barriers, reverse_bits, justify, idle_wires, with_layout, initial_state, cregbundle)\u001b[0m\n\u001b[1;32m    <a href='file:///home/evm9/transpilation_EM/venv/lib/python3.8/site-packages/qiskit/visualization/circuit_visualization.py?line=473'>474</a>\u001b[0m \u001b[39mtry\u001b[39;00m:\n\u001b[0;32m--> <a href='file:///home/evm9/transpilation_EM/venv/lib/python3.8/site-packages/qiskit/visualization/circuit_visualization.py?line=474'>475</a>\u001b[0m     subprocess\u001b[39m.\u001b[39;49mrun(\n\u001b[1;32m    <a href='file:///home/evm9/transpilation_EM/venv/lib/python3.8/site-packages/qiskit/visualization/circuit_visualization.py?line=475'>476</a>\u001b[0m         [\n\u001b[1;32m    <a href='file:///home/evm9/transpilation_EM/venv/lib/python3.8/site-packages/qiskit/visualization/circuit_visualization.py?line=476'>477</a>\u001b[0m             \u001b[39m\"\u001b[39;49m\u001b[39mpdflatex\u001b[39;49m\u001b[39m\"\u001b[39;49m,\n\u001b[1;32m    <a href='file:///home/evm9/transpilation_EM/venv/lib/python3.8/site-packages/qiskit/visualization/circuit_visualization.py?line=477'>478</a>\u001b[0m             \u001b[39m\"\u001b[39;49m\u001b[39m-halt-on-error\u001b[39;49m\u001b[39m\"\u001b[39;49m,\n\u001b[1;32m    <a href='file:///home/evm9/transpilation_EM/venv/lib/python3.8/site-packages/qiskit/visualization/circuit_visualization.py?line=478'>479</a>\u001b[0m             \u001b[39mf\u001b[39;49m\u001b[39m\"\u001b[39;49m\u001b[39m-output-directory=\u001b[39;49m\u001b[39m{\u001b[39;49;00mtmpdirname\u001b[39m}\u001b[39;49;00m\u001b[39m\"\u001b[39;49m,\n\u001b[1;32m    <a href='file:///home/evm9/transpilation_EM/venv/lib/python3.8/site-packages/qiskit/visualization/circuit_visualization.py?line=479'>480</a>\u001b[0m             \u001b[39mf\u001b[39;49m\u001b[39m\"\u001b[39;49m\u001b[39m{\u001b[39;49;00mtmpfilename \u001b[39m+\u001b[39;49m \u001b[39m'\u001b[39;49m\u001b[39m.tex\u001b[39;49m\u001b[39m'\u001b[39;49m\u001b[39m}\u001b[39;49;00m\u001b[39m\"\u001b[39;49m,\n\u001b[1;32m    <a href='file:///home/evm9/transpilation_EM/venv/lib/python3.8/site-packages/qiskit/visualization/circuit_visualization.py?line=480'>481</a>\u001b[0m         ],\n\u001b[1;32m    <a href='file:///home/evm9/transpilation_EM/venv/lib/python3.8/site-packages/qiskit/visualization/circuit_visualization.py?line=481'>482</a>\u001b[0m         stdout\u001b[39m=\u001b[39;49msubprocess\u001b[39m.\u001b[39;49mPIPE,\n\u001b[1;32m    <a href='file:///home/evm9/transpilation_EM/venv/lib/python3.8/site-packages/qiskit/visualization/circuit_visualization.py?line=482'>483</a>\u001b[0m         stderr\u001b[39m=\u001b[39;49msubprocess\u001b[39m.\u001b[39;49mDEVNULL,\n\u001b[1;32m    <a href='file:///home/evm9/transpilation_EM/venv/lib/python3.8/site-packages/qiskit/visualization/circuit_visualization.py?line=483'>484</a>\u001b[0m         check\u001b[39m=\u001b[39;49m\u001b[39mTrue\u001b[39;49;00m,\n\u001b[1;32m    <a href='file:///home/evm9/transpilation_EM/venv/lib/python3.8/site-packages/qiskit/visualization/circuit_visualization.py?line=484'>485</a>\u001b[0m     )\n\u001b[1;32m    <a href='file:///home/evm9/transpilation_EM/venv/lib/python3.8/site-packages/qiskit/visualization/circuit_visualization.py?line=485'>486</a>\u001b[0m \u001b[39mexcept\u001b[39;00m \u001b[39mOSError\u001b[39;00m \u001b[39mas\u001b[39;00m exc:\n\u001b[1;32m    <a href='file:///home/evm9/transpilation_EM/venv/lib/python3.8/site-packages/qiskit/visualization/circuit_visualization.py?line=486'>487</a>\u001b[0m     \u001b[39m# OSError should generally not occur, because it's usually only triggered if `pdflatex`\u001b[39;00m\n\u001b[1;32m    <a href='file:///home/evm9/transpilation_EM/venv/lib/python3.8/site-packages/qiskit/visualization/circuit_visualization.py?line=487'>488</a>\u001b[0m     \u001b[39m# doesn't exist as a command, but we've already checked that.\u001b[39;00m\n",
      "File \u001b[0;32m/usr/lib/python3.8/subprocess.py:516\u001b[0m, in \u001b[0;36mrun\u001b[0;34m(input, capture_output, timeout, check, *popenargs, **kwargs)\u001b[0m\n\u001b[1;32m    <a href='file:///usr/lib/python3.8/subprocess.py?line=514'>515</a>\u001b[0m     \u001b[39mif\u001b[39;00m check \u001b[39mand\u001b[39;00m retcode:\n\u001b[0;32m--> <a href='file:///usr/lib/python3.8/subprocess.py?line=515'>516</a>\u001b[0m         \u001b[39mraise\u001b[39;00m CalledProcessError(retcode, process\u001b[39m.\u001b[39margs,\n\u001b[1;32m    <a href='file:///usr/lib/python3.8/subprocess.py?line=516'>517</a>\u001b[0m                                  output\u001b[39m=\u001b[39mstdout, stderr\u001b[39m=\u001b[39mstderr)\n\u001b[1;32m    <a href='file:///usr/lib/python3.8/subprocess.py?line=517'>518</a>\u001b[0m \u001b[39mreturn\u001b[39;00m CompletedProcess(process\u001b[39m.\u001b[39margs, retcode, stdout, stderr)\n",
      "\u001b[0;31mCalledProcessError\u001b[0m: Command '['pdflatex', '-halt-on-error', '-output-directory=/tmp/tmpwempen8p', 'circuit.tex']' returned non-zero exit status 1.",
      "\nThe above exception was the direct cause of the following exception:\n",
      "\u001b[0;31mVisualizationError\u001b[0m                        Traceback (most recent call last)",
      "\u001b[1;32m/home/evm9/transpilation_EM/utils/transpiler_passes/exp.ipynb Cell 7'\u001b[0m in \u001b[0;36m<module>\u001b[0;34m\u001b[0m\n\u001b[1;32m     <a href='vscode-notebook-cell://ssh-remote%2B7b22686f73744e616d65223a224f707469706c6578227d/home/evm9/transpilation_EM/utils/transpiler_passes/exp.ipynb#ch0000004vscode-remote?line=10'>11</a>\u001b[0m \u001b[39m#random_unitary(dim=4)\u001b[39;00m\n\u001b[1;32m     <a href='vscode-notebook-cell://ssh-remote%2B7b22686f73744e616d65223a224f707469706c6578227d/home/evm9/transpilation_EM/utils/transpiler_passes/exp.ipynb#ch0000004vscode-remote?line=11'>12</a>\u001b[0m transp \u001b[39m=\u001b[39m pm0\u001b[39m.\u001b[39mrun(qc)\n\u001b[0;32m---> <a href='vscode-notebook-cell://ssh-remote%2B7b22686f73744e616d65223a224f707469706c6578227d/home/evm9/transpilation_EM/utils/transpiler_passes/exp.ipynb#ch0000004vscode-remote?line=13'>14</a>\u001b[0m \u001b[39mprint\u001b[39m(transp\u001b[39m.\u001b[39;49mdraw(output\u001b[39m=\u001b[39;49m\u001b[39m'\u001b[39;49m\u001b[39mlatex\u001b[39;49m\u001b[39m'\u001b[39;49m))\n",
      "File \u001b[0;32m~/transpilation_EM/venv/lib/python3.8/site-packages/qiskit/circuit/quantumcircuit.py:1867\u001b[0m, in \u001b[0;36mQuantumCircuit.draw\u001b[0;34m(self, output, scale, filename, style, interactive, plot_barriers, reverse_bits, justify, vertical_compression, idle_wires, with_layout, fold, ax, initial_state, cregbundle)\u001b[0m\n\u001b[1;32m   <a href='file:///home/evm9/transpilation_EM/venv/lib/python3.8/site-packages/qiskit/circuit/quantumcircuit.py?line=1863'>1864</a>\u001b[0m \u001b[39m# pylint: disable=cyclic-import\u001b[39;00m\n\u001b[1;32m   <a href='file:///home/evm9/transpilation_EM/venv/lib/python3.8/site-packages/qiskit/circuit/quantumcircuit.py?line=1864'>1865</a>\u001b[0m \u001b[39mfrom\u001b[39;00m \u001b[39mqiskit\u001b[39;00m\u001b[39m.\u001b[39;00m\u001b[39mvisualization\u001b[39;00m \u001b[39mimport\u001b[39;00m circuit_drawer\n\u001b[0;32m-> <a href='file:///home/evm9/transpilation_EM/venv/lib/python3.8/site-packages/qiskit/circuit/quantumcircuit.py?line=1866'>1867</a>\u001b[0m \u001b[39mreturn\u001b[39;00m circuit_drawer(\n\u001b[1;32m   <a href='file:///home/evm9/transpilation_EM/venv/lib/python3.8/site-packages/qiskit/circuit/quantumcircuit.py?line=1867'>1868</a>\u001b[0m     \u001b[39mself\u001b[39;49m,\n\u001b[1;32m   <a href='file:///home/evm9/transpilation_EM/venv/lib/python3.8/site-packages/qiskit/circuit/quantumcircuit.py?line=1868'>1869</a>\u001b[0m     scale\u001b[39m=\u001b[39;49mscale,\n\u001b[1;32m   <a href='file:///home/evm9/transpilation_EM/venv/lib/python3.8/site-packages/qiskit/circuit/quantumcircuit.py?line=1869'>1870</a>\u001b[0m     filename\u001b[39m=\u001b[39;49mfilename,\n\u001b[1;32m   <a href='file:///home/evm9/transpilation_EM/venv/lib/python3.8/site-packages/qiskit/circuit/quantumcircuit.py?line=1870'>1871</a>\u001b[0m     style\u001b[39m=\u001b[39;49mstyle,\n\u001b[1;32m   <a href='file:///home/evm9/transpilation_EM/venv/lib/python3.8/site-packages/qiskit/circuit/quantumcircuit.py?line=1871'>1872</a>\u001b[0m     output\u001b[39m=\u001b[39;49moutput,\n\u001b[1;32m   <a href='file:///home/evm9/transpilation_EM/venv/lib/python3.8/site-packages/qiskit/circuit/quantumcircuit.py?line=1872'>1873</a>\u001b[0m     interactive\u001b[39m=\u001b[39;49minteractive,\n\u001b[1;32m   <a href='file:///home/evm9/transpilation_EM/venv/lib/python3.8/site-packages/qiskit/circuit/quantumcircuit.py?line=1873'>1874</a>\u001b[0m     plot_barriers\u001b[39m=\u001b[39;49mplot_barriers,\n\u001b[1;32m   <a href='file:///home/evm9/transpilation_EM/venv/lib/python3.8/site-packages/qiskit/circuit/quantumcircuit.py?line=1874'>1875</a>\u001b[0m     reverse_bits\u001b[39m=\u001b[39;49mreverse_bits,\n\u001b[1;32m   <a href='file:///home/evm9/transpilation_EM/venv/lib/python3.8/site-packages/qiskit/circuit/quantumcircuit.py?line=1875'>1876</a>\u001b[0m     justify\u001b[39m=\u001b[39;49mjustify,\n\u001b[1;32m   <a href='file:///home/evm9/transpilation_EM/venv/lib/python3.8/site-packages/qiskit/circuit/quantumcircuit.py?line=1876'>1877</a>\u001b[0m     vertical_compression\u001b[39m=\u001b[39;49mvertical_compression,\n\u001b[1;32m   <a href='file:///home/evm9/transpilation_EM/venv/lib/python3.8/site-packages/qiskit/circuit/quantumcircuit.py?line=1877'>1878</a>\u001b[0m     idle_wires\u001b[39m=\u001b[39;49midle_wires,\n\u001b[1;32m   <a href='file:///home/evm9/transpilation_EM/venv/lib/python3.8/site-packages/qiskit/circuit/quantumcircuit.py?line=1878'>1879</a>\u001b[0m     with_layout\u001b[39m=\u001b[39;49mwith_layout,\n\u001b[1;32m   <a href='file:///home/evm9/transpilation_EM/venv/lib/python3.8/site-packages/qiskit/circuit/quantumcircuit.py?line=1879'>1880</a>\u001b[0m     fold\u001b[39m=\u001b[39;49mfold,\n\u001b[1;32m   <a href='file:///home/evm9/transpilation_EM/venv/lib/python3.8/site-packages/qiskit/circuit/quantumcircuit.py?line=1880'>1881</a>\u001b[0m     ax\u001b[39m=\u001b[39;49max,\n\u001b[1;32m   <a href='file:///home/evm9/transpilation_EM/venv/lib/python3.8/site-packages/qiskit/circuit/quantumcircuit.py?line=1881'>1882</a>\u001b[0m     initial_state\u001b[39m=\u001b[39;49minitial_state,\n\u001b[1;32m   <a href='file:///home/evm9/transpilation_EM/venv/lib/python3.8/site-packages/qiskit/circuit/quantumcircuit.py?line=1882'>1883</a>\u001b[0m     cregbundle\u001b[39m=\u001b[39;49mcregbundle,\n\u001b[1;32m   <a href='file:///home/evm9/transpilation_EM/venv/lib/python3.8/site-packages/qiskit/circuit/quantumcircuit.py?line=1883'>1884</a>\u001b[0m )\n",
      "File \u001b[0;32m~/transpilation_EM/venv/lib/python3.8/site-packages/qiskit/visualization/circuit_visualization.py:256\u001b[0m, in \u001b[0;36mcircuit_drawer\u001b[0;34m(circuit, scale, filename, style, output, interactive, plot_barriers, reverse_bits, justify, vertical_compression, idle_wires, with_layout, fold, ax, initial_state, cregbundle)\u001b[0m\n\u001b[1;32m    <a href='file:///home/evm9/transpilation_EM/venv/lib/python3.8/site-packages/qiskit/visualization/circuit_visualization.py?line=241'>242</a>\u001b[0m     \u001b[39mreturn\u001b[39;00m _text_circuit_drawer(\n\u001b[1;32m    <a href='file:///home/evm9/transpilation_EM/venv/lib/python3.8/site-packages/qiskit/visualization/circuit_visualization.py?line=242'>243</a>\u001b[0m         circuit,\n\u001b[1;32m    <a href='file:///home/evm9/transpilation_EM/venv/lib/python3.8/site-packages/qiskit/visualization/circuit_visualization.py?line=243'>244</a>\u001b[0m         filename\u001b[39m=\u001b[39mfilename,\n\u001b[0;32m   (...)\u001b[0m\n\u001b[1;32m    <a href='file:///home/evm9/transpilation_EM/venv/lib/python3.8/site-packages/qiskit/visualization/circuit_visualization.py?line=252'>253</a>\u001b[0m         cregbundle\u001b[39m=\u001b[39mcregbundle,\n\u001b[1;32m    <a href='file:///home/evm9/transpilation_EM/venv/lib/python3.8/site-packages/qiskit/visualization/circuit_visualization.py?line=253'>254</a>\u001b[0m     )\n\u001b[1;32m    <a href='file:///home/evm9/transpilation_EM/venv/lib/python3.8/site-packages/qiskit/visualization/circuit_visualization.py?line=254'>255</a>\u001b[0m \u001b[39melif\u001b[39;00m output \u001b[39m==\u001b[39m \u001b[39m\"\u001b[39m\u001b[39mlatex\u001b[39m\u001b[39m\"\u001b[39m:\n\u001b[0;32m--> <a href='file:///home/evm9/transpilation_EM/venv/lib/python3.8/site-packages/qiskit/visualization/circuit_visualization.py?line=255'>256</a>\u001b[0m     image \u001b[39m=\u001b[39m _latex_circuit_drawer(\n\u001b[1;32m    <a href='file:///home/evm9/transpilation_EM/venv/lib/python3.8/site-packages/qiskit/visualization/circuit_visualization.py?line=256'>257</a>\u001b[0m         circuit,\n\u001b[1;32m    <a href='file:///home/evm9/transpilation_EM/venv/lib/python3.8/site-packages/qiskit/visualization/circuit_visualization.py?line=257'>258</a>\u001b[0m         filename\u001b[39m=\u001b[39;49mfilename,\n\u001b[1;32m    <a href='file:///home/evm9/transpilation_EM/venv/lib/python3.8/site-packages/qiskit/visualization/circuit_visualization.py?line=258'>259</a>\u001b[0m         scale\u001b[39m=\u001b[39;49mscale,\n\u001b[1;32m    <a href='file:///home/evm9/transpilation_EM/venv/lib/python3.8/site-packages/qiskit/visualization/circuit_visualization.py?line=259'>260</a>\u001b[0m         style\u001b[39m=\u001b[39;49mstyle,\n\u001b[1;32m    <a href='file:///home/evm9/transpilation_EM/venv/lib/python3.8/site-packages/qiskit/visualization/circuit_visualization.py?line=260'>261</a>\u001b[0m         plot_barriers\u001b[39m=\u001b[39;49mplot_barriers,\n\u001b[1;32m    <a href='file:///home/evm9/transpilation_EM/venv/lib/python3.8/site-packages/qiskit/visualization/circuit_visualization.py?line=261'>262</a>\u001b[0m         reverse_bits\u001b[39m=\u001b[39;49mreverse_bits,\n\u001b[1;32m    <a href='file:///home/evm9/transpilation_EM/venv/lib/python3.8/site-packages/qiskit/visualization/circuit_visualization.py?line=262'>263</a>\u001b[0m         justify\u001b[39m=\u001b[39;49mjustify,\n\u001b[1;32m    <a href='file:///home/evm9/transpilation_EM/venv/lib/python3.8/site-packages/qiskit/visualization/circuit_visualization.py?line=263'>264</a>\u001b[0m         idle_wires\u001b[39m=\u001b[39;49midle_wires,\n\u001b[1;32m    <a href='file:///home/evm9/transpilation_EM/venv/lib/python3.8/site-packages/qiskit/visualization/circuit_visualization.py?line=264'>265</a>\u001b[0m         with_layout\u001b[39m=\u001b[39;49mwith_layout,\n\u001b[1;32m    <a href='file:///home/evm9/transpilation_EM/venv/lib/python3.8/site-packages/qiskit/visualization/circuit_visualization.py?line=265'>266</a>\u001b[0m         initial_state\u001b[39m=\u001b[39;49minitial_state,\n\u001b[1;32m    <a href='file:///home/evm9/transpilation_EM/venv/lib/python3.8/site-packages/qiskit/visualization/circuit_visualization.py?line=266'>267</a>\u001b[0m         cregbundle\u001b[39m=\u001b[39;49mcregbundle,\n\u001b[1;32m    <a href='file:///home/evm9/transpilation_EM/venv/lib/python3.8/site-packages/qiskit/visualization/circuit_visualization.py?line=267'>268</a>\u001b[0m     )\n\u001b[1;32m    <a href='file:///home/evm9/transpilation_EM/venv/lib/python3.8/site-packages/qiskit/visualization/circuit_visualization.py?line=268'>269</a>\u001b[0m \u001b[39melif\u001b[39;00m output \u001b[39m==\u001b[39m \u001b[39m\"\u001b[39m\u001b[39mlatex_source\u001b[39m\u001b[39m\"\u001b[39m:\n\u001b[1;32m    <a href='file:///home/evm9/transpilation_EM/venv/lib/python3.8/site-packages/qiskit/visualization/circuit_visualization.py?line=269'>270</a>\u001b[0m     \u001b[39mreturn\u001b[39;00m _generate_latex_source(\n\u001b[1;32m    <a href='file:///home/evm9/transpilation_EM/venv/lib/python3.8/site-packages/qiskit/visualization/circuit_visualization.py?line=270'>271</a>\u001b[0m         circuit,\n\u001b[1;32m    <a href='file:///home/evm9/transpilation_EM/venv/lib/python3.8/site-packages/qiskit/visualization/circuit_visualization.py?line=271'>272</a>\u001b[0m         filename\u001b[39m=\u001b[39mfilename,\n\u001b[0;32m   (...)\u001b[0m\n\u001b[1;32m    <a href='file:///home/evm9/transpilation_EM/venv/lib/python3.8/site-packages/qiskit/visualization/circuit_visualization.py?line=280'>281</a>\u001b[0m         cregbundle\u001b[39m=\u001b[39mcregbundle,\n\u001b[1;32m    <a href='file:///home/evm9/transpilation_EM/venv/lib/python3.8/site-packages/qiskit/visualization/circuit_visualization.py?line=281'>282</a>\u001b[0m     )\n",
      "File \u001b[0;32m~/transpilation_EM/venv/lib/python3.8/site-packages/qiskit/visualization/circuit_visualization.py:497\u001b[0m, in \u001b[0;36m_latex_circuit_drawer\u001b[0;34m(circuit, scale, style, filename, plot_barriers, reverse_bits, justify, idle_wires, with_layout, initial_state, cregbundle)\u001b[0m\n\u001b[1;32m    <a href='file:///home/evm9/transpilation_EM/venv/lib/python3.8/site-packages/qiskit/visualization/circuit_visualization.py?line=491'>492</a>\u001b[0m         error_file\u001b[39m.\u001b[39mwrite(exc\u001b[39m.\u001b[39mstdout)\n\u001b[1;32m    <a href='file:///home/evm9/transpilation_EM/venv/lib/python3.8/site-packages/qiskit/visualization/circuit_visualization.py?line=492'>493</a>\u001b[0m     logger\u001b[39m.\u001b[39mwarning(\n\u001b[1;32m    <a href='file:///home/evm9/transpilation_EM/venv/lib/python3.8/site-packages/qiskit/visualization/circuit_visualization.py?line=493'>494</a>\u001b[0m         \u001b[39m\"\u001b[39m\u001b[39mUnable to compile LaTeX. Perhaps you are missing the `qcircuit` package.\u001b[39m\u001b[39m\"\u001b[39m\n\u001b[1;32m    <a href='file:///home/evm9/transpilation_EM/venv/lib/python3.8/site-packages/qiskit/visualization/circuit_visualization.py?line=494'>495</a>\u001b[0m         \u001b[39m\"\u001b[39m\u001b[39m The output from the `pdflatex` command is in `latex_error.log`.\u001b[39m\u001b[39m\"\u001b[39m\n\u001b[1;32m    <a href='file:///home/evm9/transpilation_EM/venv/lib/python3.8/site-packages/qiskit/visualization/circuit_visualization.py?line=495'>496</a>\u001b[0m     )\n\u001b[0;32m--> <a href='file:///home/evm9/transpilation_EM/venv/lib/python3.8/site-packages/qiskit/visualization/circuit_visualization.py?line=496'>497</a>\u001b[0m     \u001b[39mraise\u001b[39;00m VisualizationError(\n\u001b[1;32m    <a href='file:///home/evm9/transpilation_EM/venv/lib/python3.8/site-packages/qiskit/visualization/circuit_visualization.py?line=497'>498</a>\u001b[0m         \u001b[39m\"\u001b[39m\u001b[39m`pdflatex` call did not succeed: see `latex_error.log`.\u001b[39m\u001b[39m\"\u001b[39m\n\u001b[1;32m    <a href='file:///home/evm9/transpilation_EM/venv/lib/python3.8/site-packages/qiskit/visualization/circuit_visualization.py?line=498'>499</a>\u001b[0m     ) \u001b[39mfrom\u001b[39;00m \u001b[39mexc\u001b[39;00m\n\u001b[1;32m    <a href='file:///home/evm9/transpilation_EM/venv/lib/python3.8/site-packages/qiskit/visualization/circuit_visualization.py?line=499'>500</a>\u001b[0m base \u001b[39m=\u001b[39m os\u001b[39m.\u001b[39mpath\u001b[39m.\u001b[39mjoin(tmpdirname, tmpfilename)\n\u001b[1;32m    <a href='file:///home/evm9/transpilation_EM/venv/lib/python3.8/site-packages/qiskit/visualization/circuit_visualization.py?line=500'>501</a>\u001b[0m \u001b[39mtry\u001b[39;00m:\n",
      "\u001b[0;31mVisualizationError\u001b[0m: '`pdflatex` call did not succeed: see `latex_error.log`.'"
     ]
    }
   ],
   "source": [
    "from qiskit.circuit.library import CPhaseGate\n",
    "import numpy as np\n",
    "\n",
    "basis_gate = RiSwapGate(0.5)\n",
    "\n",
    "pm0 = PassManager()\n",
    "pm0.append(RootiSwapWeylDecomposition(basis_gate=basis_gate))\n",
    "pm0.append(CountOps())\n",
    "\n",
    "qc = QuantumCircuit(2)\n",
    "qc.append(CPhaseGate(np.pi / 2), [0, 1])\n",
    "# random_unitary(dim=4)\n",
    "transp = pm0.run(qc)\n",
    "\n",
    "print(transp.draw(output=\"latex\"))"
   ]
  }
 ],
 "metadata": {
  "interpreter": {
   "hash": "3c923d04e9af837f8cfab086aad703afe35b7499ff33e9e2bcba0d425db844a6"
  },
  "kernelspec": {
   "display_name": "Python 3.8.10 ('venv': venv)",
   "language": "python",
   "name": "python3"
  },
  "language_info": {
   "codemirror_mode": {
    "name": "ipython",
    "version": 3
   },
   "file_extension": ".py",
   "mimetype": "text/x-python",
   "name": "python",
   "nbconvert_exporter": "python",
   "pygments_lexer": "ipython3",
   "version": "3.8.10"
  },
  "orig_nbformat": 4
 },
 "nbformat": 4,
 "nbformat_minor": 2
}

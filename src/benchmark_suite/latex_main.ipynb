{
    "cells": [
        {
            "cell_type": "code",
            "execution_count": 28,
            "metadata": {},
            "outputs": [
                {
                    "name": "stdout",
                    "output_type": "stream",
                    "text": [
                        "\\documentclass[border=2px]{standalone}\n",
                        "\n",
                        "\\usepackage[braket, qm]{qcircuit}\n",
                        "\\usepackage{graphicx}\n",
                        "\n",
                        "\\begin{document}\n",
                        "\\scalebox{1.0}{\n",
                        "\\Qcircuit @C=1.0em @R=0.2em @!R { \\\\\n",
                        "\t \t\\nghost{{q}_{0} :  } & \\lstick{{q}_{0} :  } & \\qswap & \\qswap & \\qswap & \\qswap & \\qw & \\qw\\\\\n",
                        "\t \t\\nghost{{q}_{1} :  } & \\lstick{{q}_{1} :  } & \\qswap \\qwx[-1] & \\ctrl{1} & \\qswap \\qwx[-1] & \\qw & \\qw & \\qw\\\\\n",
                        "\t \t\\nghost{{q}_{2} :  } & \\lstick{{q}_{2} :  } & \\ctrl{-1} & \\qswap \\qwx[-2] & \\qw & \\qswap \\qwx[-2] & \\qw & \\qw\\\\\n",
                        "\\\\ }}\n",
                        "\\end{document}\n"
                    ]
                }
            ],
            "source": [
                "from qiskit import QuantumCircuit\n",
                "import sys\n",
                "sys.path.append(\"..\")\n",
                "from src.utils.riswap_gates.riswap import RiSwapGate\n",
                "qc = QuantumCircuit(3)\n",
                "# qc.u(0, 0, 0,0)\n",
                "# qc.u(0, 0, 0,1)\n",
                "# qc.append(RiSwapGate(0.5), [0,1])\n",
                "# qc.u(0, 0, 0,0)\n",
                "# qc.u(0, 0, 0,1)\n",
                "# qc.append(RiSwapGate(0.5), [0,1])\n",
                "# qc.u(0, 0, 0,0)\n",
                "# qc.u(0, 0, 0,1)\n",
                "qc.cswap(2,0,1)\n",
                "\n",
                "qc.cswap(1,0,2)\n",
                "qc.swap(0,1)\n",
                "qc.swap(0,2)\n",
                "\n",
                "print(qc.draw(output='latex_source', with_layout=False))"
            ]
        },
        {
            "cell_type": "code",
            "execution_count": 25,
            "metadata": {},
            "outputs": [
                {
                    "data": {
                        "image/png": "[encoded data removed]",
                        "text/plain": [
                            "<Figure size 327.397x204.68 with 1 Axes>"
                        ]
                    },
                    "execution_count": 25,
                    "metadata": {},
                    "output_type": "execute_result"
                }
            ],
            "source": [
                "qc.draw(output='mpl')"
            ]
        },
        {
            "cell_type": "code",
            "execution_count": 26,
            "metadata": {},
            "outputs": [
                {
                    "data": {
                        "text/plain": [
                            "array([[1.+0.j, 0.+0.j, 0.+0.j, 0.+0.j, 0.+0.j, 0.+0.j, 0.+0.j, 0.+0.j],\n",
                            "       [0.+0.j, 0.+0.j, 0.+0.j, 0.+0.j, 1.+0.j, 0.+0.j, 0.+0.j, 0.+0.j],\n",
                            "       [0.+0.j, 1.+0.j, 0.+0.j, 0.+0.j, 0.+0.j, 0.+0.j, 0.+0.j, 0.+0.j],\n",
                            "       [0.+0.j, 0.+0.j, 0.+0.j, 0.+0.j, 0.+0.j, 0.+0.j, 1.+0.j, 0.+0.j],\n",
                            "       [0.+0.j, 0.+0.j, 1.+0.j, 0.+0.j, 0.+0.j, 0.+0.j, 0.+0.j, 0.+0.j],\n",
                            "       [0.+0.j, 0.+0.j, 0.+0.j, 1.+0.j, 0.+0.j, 0.+0.j, 0.+0.j, 0.+0.j],\n",
                            "       [0.+0.j, 0.+0.j, 0.+0.j, 0.+0.j, 0.+0.j, 1.+0.j, 0.+0.j, 0.+0.j],\n",
                            "       [0.+0.j, 0.+0.j, 0.+0.j, 0.+0.j, 0.+0.j, 0.+0.j, 0.+0.j, 1.+0.j]])"
                        ]
                    },
                    "execution_count": 26,
                    "metadata": {},
                    "output_type": "execute_result"
                }
            ],
            "source": [
                "from qiskit.quantum_info import Operator\n",
                "Operator(qc).data"
            ]
        },
        {
            "cell_type": "code",
            "execution_count": 3,
            "metadata": {},
            "outputs": [
                {
                    "name": "stdout",
                    "output_type": "stream",
                    "text": [
                        "\\documentclass[border=2px]{standalone}\n",
                        "\n",
                        "\\usepackage[braket, qm]{qcircuit}\n",
                        "\\usepackage{graphicx}\n",
                        "\n",
                        "\\begin{document}\n",
                        "\\scalebox{1.0}{{$\\mathrm{global\\,phase:\\,} \\mathrm{\\frac{\\pi}{4}}$}\n",
                        "\\Qcircuit @C=1.0em @R=0.2em @!R { \\\\\n",
                        "\t \t\\nghost{{q}_{0} :  } & \\lstick{{q}_{0} :  } & \\multigate{2}{\\mathrm{R_{ZX}}\\,(\\mathrm{\\frac{\\pi}{2}})}_<<<{0} & \\gate{\\mathrm{S^\\dagger}} & \\qw & \\qw\\\\\n",
                        "\t \t\\nghost{{q}_{1} :  } & \\lstick{{q}_{1} :  } & \\ghost{\\mathrm{R_{ZX}}\\,(\\mathrm{\\frac{\\pi}{2}})} & \\qw & \\qw & \\qw\\\\\n",
                        "\t \t\\nghost{{q}_{2} :  } & \\lstick{{q}_{2} :  } & \\ghost{\\mathrm{R_{ZX}}\\,(\\mathrm{\\frac{\\pi}{2}})}_<<<{1} & \\gate{\\mathrm{\\sqrt{X}^\\dagger}} & \\qw & \\qw\\\\\n",
                        "\\\\ }}\n",
                        "\\end{document}\n"
                    ]
                },
                {
                    "data": {
                        "image/png": "[encoded data removed]",
                        "text/plain": [
                            "<Figure size 206.997x204.68 with 1 Axes>"
                        ]
                    },
                    "execution_count": 3,
                    "metadata": {},
                    "output_type": "execute_result"
                }
            ],
            "source": [
                "from qiskit import QuantumCircuit, QuantumRegister\n",
                "from numpy import pi as pi\n",
                "from qiskit.circuit.library.standard_gates import *\n",
                "q = QuantumRegister(3, \"q\")\n",
                "cx_to_zx90 = QuantumCircuit(3, global_phase=pi / 4)\n",
                "for inst, qargs, cargs in [\n",
                "    (RZXGate(pi / 2), [q[0], q[2]], []),\n",
                "    (SdgGate(), [q[0]], []),\n",
                "    (SXdgGate(), [q[2]], []),\n",
                "]:\n",
                "    cx_to_zx90.append(inst, qargs, cargs)\n",
                "print(cx_to_zx90.draw(output='latex_source'))\n",
                "cx_to_zx90.draw(output='mpl')"
            ]
        },
        {
            "cell_type": "code",
            "execution_count": 12,
            "metadata": {},
            "outputs": [
                {
                    "data": {
                        "image/png": "[encoded data removed]",
                        "text/plain": [
                            "<Figure size 1110x264.88 with 1 Axes>"
                        ]
                    },
                    "execution_count": 12,
                    "metadata": {},
                    "output_type": "execute_result"
                }
            ],
            "source": [
                "from qiskit.circuit.library.basis_change import QFT\n",
                "qc = QFT(4)\n",
                "qc.decompose().draw(output='mpl')\n",
                "#print(qc.decompose().draw(output='latex_source'))"
            ]
        },
        {
            "cell_type": "code",
            "execution_count": 17,
            "metadata": {},
            "outputs": [
                {
                    "name": "stdout",
                    "output_type": "stream",
                    "text": [
                        "[[1.000000e+00+0.j 0.000000e+00+0.j 0.000000e+00+0.j 0.000000e+00+0.j]\n",
                        " [0.000000e+00+0.j 1.000000e+00+0.j 0.000000e+00+0.j 0.000000e+00+0.j]\n",
                        " [0.000000e+00+0.j 0.000000e+00+0.j 1.000000e+00+0.j 0.000000e+00+0.j]\n",
                        " [0.000000e+00+0.j 0.000000e+00+0.j 0.000000e+00+0.j 6.123234e-17+1.j]]\n"
                    ]
                }
            ],
            "source": [
                "import numpy as np\n",
                "print(np.array(CPhaseGate(pi/2, 0, 1)))"
            ]
        }
    ],
    "metadata": {
        "interpreter": {
            "hash": "3c923d04e9af837f8cfab086aad703afe35b7499ff33e9e2bcba0d425db844a6"
        },
        "kernelspec": {
            "display_name": "Python 3.8.10 ('venv': venv)",
            "language": "python",
            "name": "python3"
        },
        "language_info": {
            "codemirror_mode": {
                "name": "ipython",
                "version": 3
            },
            "file_extension": ".py",
            "mimetype": "text/x-python",
            "name": "python",
            "nbconvert_exporter": "python",
            "pygments_lexer": "ipython3",
            "version": "3.8.10"
        },
        "orig_nbformat": 4
    },
    "nbformat": 4,
    "nbformat_minor": 2
}
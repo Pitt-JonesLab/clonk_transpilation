{
 "cells": [
  {
   "cell_type": "code",
   "execution_count": 1,
   "metadata": {},
   "outputs": [],
   "source": [
    "# -*- coding: utf-8 -*-\n",
    "\n",
    "from __future__ import absolute_import, print_function, unicode_literals\n",
    "from wolframclient.evaluation import WolframCloudSession\n",
    "\n",
    "def call(x):\n",
    "    \"\"\" Call the API using function input parameter values.\n",
    "    If the API was deployed with an export formats set to JSON or WXF, the result is often a native Python type.\n",
    "    \"\"\"\n",
    "    with WolframCloudSession() as session:\n",
    "        api_response = session.call('https://www.wolframcloud.com/obj/66bf4c7e-6737-4fd8-b64a-5490e9707abb', {'x' : x})\n",
    "        return api_response.get()\n"
   ]
  }
 ],
 "metadata": {
  "interpreter": {
   "hash": "3c923d04e9af837f8cfab086aad703afe35b7499ff33e9e2bcba0d425db844a6"
  },
  "kernelspec": {
   "display_name": "Python 3.8.10 64-bit ('venv': venv)",
   "language": "python",
   "name": "python3"
  },
  "language_info": {
   "codemirror_mode": {
    "name": "ipython",
    "version": 3
   },
   "file_extension": ".py",
   "mimetype": "text/x-python",
   "name": "python",
   "nbconvert_exporter": "python",
   "pygments_lexer": "ipython3",
   "version": "3.8.10"
  },
  "orig_nbformat": 4
 },
 "nbformat": 4,
 "nbformat_minor": 2
}

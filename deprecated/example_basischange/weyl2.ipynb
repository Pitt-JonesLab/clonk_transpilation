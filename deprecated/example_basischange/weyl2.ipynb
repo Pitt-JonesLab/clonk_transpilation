{
 "cells": [
  {
   "cell_type": "code",
   "execution_count": 31,
   "metadata": {},
   "outputs": [
    {
     "data": {
      "text/plain": [
       "<qiskit.circuit.instructionset.InstructionSet at 0x7f4250fa2ac0>"
      ]
     },
     "execution_count": 31,
     "metadata": {},
     "output_type": "execute_result"
    }
   ],
   "source": [
    "from qiskit.quantum_info.operators import Operator\n",
    "from qiskit import QuantumCircuit\n",
    "import numpy as np\n",
    "import sys\n",
    "\n",
    "sys.path.append(\"../..\")\n",
    "from utils.riswap_gates.riswap import RiSwapGate\n",
    "\n",
    "qc = QuantumCircuit(2)\n",
    "qc.cp(np.pi / 4, 0, 1)\n"
   ]
  },
  {
   "cell_type": "code",
   "execution_count": 9,
   "metadata": {},
   "outputs": [
    {
     "name": "stderr",
     "output_type": "stream",
     "text": [
      "/tmp/ipykernel_122951/1656449980.py:2: UserWarning: Only know how to decompose properly for supercontrolled basis gate. This gate is ~Ud(0.3926990816987239, 0.3926990816987239, 0.0)\n",
      "  a = TwoQubitBasisDecomposer(RiSwapGate(0.5))\n"
     ]
    },
    {
     "data": {
      "image/png": "[encoded data removed]",
      "text/plain": [
       "<Figure size 701.578x144.48 with 1 Axes>"
      ]
     },
     "execution_count": 9,
     "metadata": {},
     "output_type": "execute_result"
    }
   ],
   "source": [
    "from utils.qiskit_patch.two_qubit_decompose import TwoQubitBasisDecomposer\n",
    "\n",
    "a = TwoQubitBasisDecomposer(RiSwapGate(0.5))\n",
    "transp = a(Operator(qc).data)\n",
    "transp.draw(output=\"mpl\")\n"
   ]
  },
  {
   "cell_type": "code",
   "execution_count": 10,
   "metadata": {},
   "outputs": [
    {
     "data": {
      "text/plain": [
       "False"
      ]
     },
     "execution_count": 10,
     "metadata": {},
     "output_type": "execute_result"
    }
   ],
   "source": [
    "Operator(transp).equiv(qc)\n"
   ]
  },
  {
   "cell_type": "code",
   "execution_count": 13,
   "metadata": {},
   "outputs": [
    {
     "data": {
      "text/plain": [
       "False"
      ]
     },
     "execution_count": 13,
     "metadata": {},
     "output_type": "execute_result"
    }
   ],
   "source": [
    "qc1 = QuantumCircuit(2)\n",
    "qc2 = QuantumCircuit(2)\n",
    "\n",
    "qc1.cp(np.pi, 0, 1)\n",
    "\n",
    "# qc2.u3(np.pi/2, 0, np.pi, 1)\n",
    "qc2.rz(np.pi / 2, 1)\n",
    "qc2.rx(-np.pi / 2, 1)\n",
    "qc2.append(RiSwapGate(0.5), [0, 1])\n",
    "qc2.z(1)\n",
    "qc2.ry(np.pi, 1)\n",
    "qc2.append(RiSwapGate(0.5).to_matrix().to_matrix(), [0, 1])\n",
    "qc2.rx(-np.pi / 2, 1)\n",
    "qc2.rz(-np.pi / 2, 1)\n",
    "# qc2.u3(np.pi/2, 0, np.pi, 1)\n",
    "\n",
    "Operator(qc1).equiv(Operator(qc2))\n"
   ]
  },
  {
   "cell_type": "code",
   "execution_count": 15,
   "metadata": {},
   "outputs": [
    {
     "data": {
      "image/png": "[encoded data removed]",
      "text/plain": [
       "<Figure size 688.452x144.48 with 1 Axes>"
      ]
     },
     "execution_count": 15,
     "metadata": {},
     "output_type": "execute_result"
    }
   ],
   "source": [
    "qc2.draw(output=\"mpl\")\n"
   ]
  },
  {
   "cell_type": "code",
   "execution_count": 98,
   "metadata": {},
   "outputs": [],
   "source": [
    "def _improper_orthogonal_decomp(x, y, z):\n",
    "    alpha = np.arccos(\n",
    "        np.cos(2 * z) - np.cos(2 * y) + np.sqrt((np.cos(4 * z) + np.cos(4 * y)) / 2)\n",
    "    )\n",
    "    beta = np.arccos(\n",
    "        np.cos(2 * z) - np.cos(2 * y) - np.sqrt((np.cos(4 * z) + np.cos(4 * y)) / 2)\n",
    "    )\n",
    "    gamma = 0\n",
    "\n",
    "    psi = -np.arccos(np.sqrt((1 + np.tan(y - z)) / 2))\n",
    "    phi = np.arccos(np.sqrt((1 + np.tan(y + z)) / 2))\n",
    "\n",
    "    def_Lxyz = QuantumCircuit(2)\n",
    "    # ISwap\n",
    "    if np.isclose(x, y) and np.isclose(z, 0):\n",
    "        def_Lxyz.append(RiSwapGate(0.5), [0, 1])\n",
    "        def_Lxyz.rz(2 * x, 0)\n",
    "        def_Lxyz.rz(-2 * x + np.pi, 1)\n",
    "        def_Lxyz.append(RiSwapGate(0.5), [0, 1])\n",
    "        def_Lxyz.rz(-np.pi, 1)\n",
    "        return def_Lxyz\n",
    "    # CPhase\n",
    "    if np.isclose(y, 0) and np.isclose(z, 0):\n",
    "        def_Lxyz.rz(np.arcsin(np.tan(x)), 1)\n",
    "        def_Lxyz.rx(-np.pi / 2, 1)\n",
    "\n",
    "        def_Lxyz.append(RiSwapGate(0.5), [0, 1])\n",
    "        def_Lxyz.z(1)\n",
    "        def_Lxyz.ry(2 * np.arcsin(np.sqrt(2) * np.sin(x)), 1)\n",
    "\n",
    "        def_Lxyz.append(RiSwapGate(0.5), [0, 1])\n",
    "        def_Lxyz.rx(-np.pi / 2, 1)\n",
    "        def_Lxyz.rz(np.arcsin(np.tan(x)) - np.pi, 1)\n",
    "\n",
    "        return def_Lxyz\n",
    "    # Canonicalized SWAP\n",
    "    elif np.isclose(x, np.pi / 4) and y + np.abs(z) <= np.pi / 4:\n",
    "        def_Lxyz.rx(phi + psi, 0)\n",
    "        def_Lxyz.rz(np.pi / 2, 1)\n",
    "        def_Lxyz.rx(phi - psi, 1)\n",
    "        def_Lxyz.append(RiSwapGate(0.5), [0, 1])\n",
    "        def_Lxyz.rx(alpha, 0)\n",
    "        def_Lxyz.rx(beta, 1)\n",
    "        def_Lxyz.append(RiSwapGate(0.5), [0, 1])\n",
    "        def_Lxyz.rx(phi + psi, 0)\n",
    "        def_Lxyz.rx(phi - psi, 1)\n",
    "        def_Lxyz.rz(-np.pi / 2, 1)\n",
    "        return def_Lxyz\n",
    "    else:\n",
    "        raise NotImplementedError\n"
   ]
  },
  {
   "cell_type": "code",
   "execution_count": 144,
   "metadata": {},
   "outputs": [],
   "source": [
    "import cmath\n",
    "from utils.qiskit_patch.two_qubit_decompose import (\n",
    "    transform_to_magic_basis,\n",
    "    decompose_two_qubit_product_gate,\n",
    ")\n",
    "import scipy.linalg as la\n",
    "\n",
    "_ipx = np.array([[0, 1j], [1j, 0]], dtype=complex)\n",
    "_ipy = np.array([[0, 1], [-1, 0]], dtype=complex)\n",
    "_ipz = np.array([[1j, 0], [0, -1j]], dtype=complex)\n",
    "_id = np.array([[1, 0], [0, 1]], dtype=complex)\n",
    "\n",
    "\n",
    "def foo(unitary_matrix, *, fidelity=(1.0 - 1.0e-9)):\n",
    "    \"\"\"Perform the Weyl chamber decomposition, and optionally choose a specialized subclass.\n",
    "\n",
    "    The flip into the Weyl Chamber is described in B. Kraus and J. I. Cirac, Phys. Rev. A 63,\n",
    "    062309 (2001).\n",
    "\n",
    "    FIXME: There's a cleaner-seeming method based on choosing branch cuts carefully, in Andrew\n",
    "    M. Childs, Henry L. Haselgrove, and Michael A. Nielsen, Phys. Rev. A 68, 052311, but I\n",
    "    wasn't able to get that to work.\n",
    "\n",
    "    The overall decomposition scheme is taken from Drury and Love, arXiv:0806.4015 [quant-ph].\n",
    "    \"\"\"\n",
    "    pi = np.pi\n",
    "    pi2 = np.pi / 2\n",
    "    pi4 = np.pi / 4\n",
    "\n",
    "    # Make U be in SU(4)\n",
    "    U = np.array(unitary_matrix, dtype=complex, copy=True)\n",
    "    detU = la.det(U)\n",
    "    U *= detU ** (-0.25)\n",
    "    global_phase = cmath.phase(detU) / 4\n",
    "\n",
    "    Up = transform_to_magic_basis(U, reverse=True)\n",
    "    M2 = Up.T.dot(Up)\n",
    "\n",
    "    # M2 is a symmetric complex matrix. We need to decompose it as M2 = P D P^T where\n",
    "    # P ∈ SO(4), D is diagonal with unit-magnitude elements.\n",
    "    #\n",
    "    # We can't use raw `eig` directly because it isn't guaranteed to give us real or othogonal\n",
    "    # eigenvectors.  Instead, since `M2` is complex-symmetric,\n",
    "    #   M2 = A + iB\n",
    "    # for real-symmetric `A` and `B`, and as\n",
    "    #   M2^+ @ M2 = A^2 + B^2 + i [A, B] = 1\n",
    "    # we must have `A` and `B` commute, and consequently they are simultaneously diagonalizable.\n",
    "    # Mixing them together _should_ account for any degeneracy problems, but it's not\n",
    "    # guaranteed, so we repeat it a little bit.  The fixed seed is to make failures\n",
    "    # deterministic; the value is not important.\n",
    "    state = np.random.default_rng(2020)\n",
    "    for _ in range(100):  # FIXME: this randomized algorithm is horrendous\n",
    "        M2real = state.normal() * M2.real + state.normal() * M2.imag\n",
    "        _, P = np.linalg.eigh(M2real)\n",
    "        D = P.T.dot(M2).dot(P).diagonal()\n",
    "        if np.allclose(P.dot(np.diag(D)).dot(P.T), M2, rtol=0, atol=1.0e-13):\n",
    "            break\n",
    "    else:\n",
    "        raise ValueError\n",
    "\n",
    "    d = -np.angle(D) / 2\n",
    "    d[3] = -d[0] - d[1] - d[2]\n",
    "    cs = np.mod((d[:3] + d[3]) / 2, 2 * np.pi)\n",
    "\n",
    "    # Reorder the eigenvalues to get in the Weyl chamber\n",
    "    cstemp = np.mod(cs, pi2)\n",
    "    np.minimum(cstemp, pi2 - cstemp, cstemp)\n",
    "    order = np.argsort(cstemp)[[1, 2, 0]]\n",
    "    cs = cs[order]\n",
    "    d[:3] = d[order]\n",
    "    P[:, :3] = P[:, order]\n",
    "\n",
    "    # Fix the sign of P to be in SO(4)\n",
    "    if np.real(la.det(P)) < 0:\n",
    "        P[:, -1] = -P[:, -1]\n",
    "\n",
    "    # Find K1, K2 so that U = K1.A.K2, with K being product of single-qubit unitaries\n",
    "    K1 = transform_to_magic_basis(Up @ P @ np.diag(np.exp(1j * d)))\n",
    "    K2 = transform_to_magic_basis(P.T)\n",
    "\n",
    "    K1l, K1r, phase_l = decompose_two_qubit_product_gate(K1)\n",
    "    K2l, K2r, phase_r = decompose_two_qubit_product_gate(K2)\n",
    "    global_phase += phase_l + phase_r\n",
    "\n",
    "    K1l = K1l.copy()\n",
    "\n",
    "    # Flip into Weyl chamber\n",
    "    if cs[0] > pi2:\n",
    "        cs[0] -= 3 * pi2\n",
    "        K1l = K1l.dot(_ipy)\n",
    "        K1r = K1r.dot(_ipy)\n",
    "        global_phase += pi2\n",
    "    if cs[1] > pi2:\n",
    "        cs[1] -= 3 * pi2\n",
    "        K1l = K1l.dot(_ipx)\n",
    "        K1r = K1r.dot(_ipx)\n",
    "        global_phase += pi2\n",
    "    conjs = 0\n",
    "    if cs[0] > pi4:\n",
    "        cs[0] = pi2 - cs[0]\n",
    "        K1l = K1l.dot(_ipy)\n",
    "        K2r = _ipy.dot(K2r)\n",
    "        conjs += 1\n",
    "        global_phase -= pi2\n",
    "    if cs[1] > pi4:\n",
    "        cs[1] = pi2 - cs[1]\n",
    "        K1l = K1l.dot(_ipx)\n",
    "        K2r = _ipx.dot(K2r)\n",
    "        conjs += 1\n",
    "        global_phase += pi2\n",
    "        if conjs == 1:\n",
    "            global_phase -= pi\n",
    "    if cs[2] > pi2:\n",
    "        cs[2] -= 3 * pi2\n",
    "        K1l = K1l.dot(_ipz)\n",
    "        K1r = K1r.dot(_ipz)\n",
    "        global_phase += pi2\n",
    "        if conjs == 1:\n",
    "            global_phase -= pi\n",
    "    if conjs == 1:\n",
    "        cs[2] = pi2 - cs[2]\n",
    "        K1l = K1l.dot(_ipz)\n",
    "        K2r = _ipz.dot(K2r)\n",
    "        global_phase += pi2\n",
    "    if cs[2] > pi4:\n",
    "        cs[2] -= pi2\n",
    "        K1l = K1l.dot(_ipz)\n",
    "        K1r = K1r.dot(_ipz)\n",
    "        global_phase -= pi2\n",
    "\n",
    "    a, b, c = cs[1], cs[0], cs[2]\n",
    "    return a, b, c, K1l, K2l, K1r, K2r, global_phase\n"
   ]
  },
  {
   "cell_type": "code",
   "execution_count": 188,
   "metadata": {},
   "outputs": [
    {
     "data": {
      "text/plain": [
       "<qiskit.circuit.instructionset.InstructionSet at 0x7f422736d700>"
      ]
     },
     "execution_count": 188,
     "metadata": {},
     "output_type": "execute_result"
    }
   ],
   "source": [
    "qc = QuantumCircuit(2)\n",
    "qc.cx(0, 1)\n"
   ]
  },
  {
   "cell_type": "code",
   "execution_count": 189,
   "metadata": {},
   "outputs": [
    {
     "name": "stdout",
     "output_type": "stream",
     "text": [
      "0.7853981633974483 0.0 0.0\n",
      "[[ 0.00000000e+00+1.00000000e+00j  7.85046229e-17+1.23259516e-32j]\n",
      " [-7.85046229e-17+1.36845553e-48j  0.00000000e+00-1.00000000e+00j]]\n",
      "0.7853981633974483\n"
     ]
    }
   ],
   "source": [
    "a, b, c, K1l, K2l, K1r, K2r, gp = foo(Operator(qc).data)\n",
    "print(a, b, c)\n",
    "print(K1l)\n",
    "print(gp)\n"
   ]
  },
  {
   "cell_type": "code",
   "execution_count": 190,
   "metadata": {},
   "outputs": [
    {
     "data": {
      "image/png": "[encoded data removed]",
      "text/plain": [
       "<Figure size 206.852x144.48 with 1 Axes>"
      ]
     },
     "execution_count": 190,
     "metadata": {},
     "output_type": "execute_result"
    }
   ],
   "source": [
    "from qiskit.extensions.unitary import UnitaryGate\n",
    "\n",
    "left = QuantumCircuit(2)\n",
    "left.append(UnitaryGate(K1l, label=\"k1\"), [0])\n",
    "left.append(UnitaryGate(K2l, label=\"k2\"), [1])\n",
    "left.decompose().draw(output=\"mpl\")\n",
    "\n",
    "right = QuantumCircuit(2)\n",
    "right.append(UnitaryGate(K1r, label=\"k3\"), [0])\n",
    "right.append(UnitaryGate(K2r, label=\"k4\"), [1])\n",
    "right.decompose().draw(output=\"mpl\")\n"
   ]
  },
  {
   "cell_type": "code",
   "execution_count": 191,
   "metadata": {},
   "outputs": [
    {
     "name": "stdout",
     "output_type": "stream",
     "text": [
      "0.7853981633974482 0.0 0.0\n"
     ]
    },
    {
     "data": {
      "text/plain": [
       "False"
      ]
     },
     "execution_count": 191,
     "metadata": {},
     "output_type": "execute_result"
    }
   ],
   "source": [
    "from qiskit.quantum_info.synthesis.weyl import weyl_coordinates\n",
    "\n",
    "x, y, z = weyl_coordinates(Operator(qc).data)\n",
    "transp = _improper_orthogonal_decomp(x, y, z)\n",
    "\n",
    "print(x, y, z)\n",
    "Operator(transp).equiv(Operator(qc))\n"
   ]
  },
  {
   "cell_type": "code",
   "execution_count": 247,
   "metadata": {},
   "outputs": [
    {
     "data": {
      "text/html": [
       "<pre style=\"word-wrap: normal;white-space: pre;background: #fff0;line-height: 1.1;font-family: &quot;Courier New&quot;,Courier,monospace\">     ┌────────────┐\n",
       "q_0: ┤0           ├\n",
       "     │  Rxx(-π/2) │\n",
       "q_1: ┤1           ├\n",
       "     └────────────┘</pre>"
      ],
      "text/plain": [
       "     ┌────────────┐\n",
       "q_0: ┤0           ├\n",
       "     │  Rxx(-π/2) │\n",
       "q_1: ┤1           ├\n",
       "     └────────────┘"
      ]
     },
     "execution_count": 247,
     "metadata": {},
     "output_type": "execute_result"
    }
   ],
   "source": [
    "def _weyl_gate(a, b, c, simplify, atol):\n",
    "    \"\"\"Appends Ud(a, b, c) to the circuit.\"\"\"\n",
    "    circ = QuantumCircuit(2)\n",
    "    if not simplify or abs(a) > atol:\n",
    "        circ.rxx(-a * 2, 0, 1)\n",
    "    if not simplify or abs(b) > atol:\n",
    "        circ.ryy(-b * 2, 0, 1)\n",
    "    if not simplify or abs(c) > atol:\n",
    "        circ.rzz(-c * 2, 0, 1)\n",
    "    return circ\n",
    "\n",
    "\n",
    "weyl = QuantumCircuit(2)\n",
    "weyl = _weyl_gate(x, y, z, True, 1e-7)\n",
    "weyl.draw()\n"
   ]
  },
  {
   "cell_type": "code",
   "execution_count": 251,
   "metadata": {},
   "outputs": [
    {
     "data": {
      "image/png": "[encoded data removed]",
      "text/plain": [
       "<Figure size 688.452x144.48 with 1 Axes>"
      ]
     },
     "execution_count": 251,
     "metadata": {},
     "output_type": "execute_result"
    }
   ],
   "source": [
    "_improper_orthogonal_decomp(x, y, z).draw(output=\"mpl\")\n"
   ]
  },
  {
   "cell_type": "code",
   "execution_count": 252,
   "metadata": {},
   "outputs": [
    {
     "data": {
      "text/plain": [
       "False"
      ]
     },
     "execution_count": 252,
     "metadata": {},
     "output_type": "execute_result"
    }
   ],
   "source": [
    "Operator(_improper_orthogonal_decomp(x, y, z)).equiv(weyl)\n"
   ]
  },
  {
   "cell_type": "code",
   "execution_count": 253,
   "metadata": {},
   "outputs": [
    {
     "data": {
      "text/plain": [
       "True"
      ]
     },
     "execution_count": 253,
     "metadata": {},
     "output_type": "execute_result"
    }
   ],
   "source": [
    "# K2r == k2\n",
    "# K2l == k1\n",
    "# K11 == k3\n",
    "# K1r == k4\n",
    "# import itertools\n",
    "# for k1, k2, k3, k4 in itertools.permutations([K2r, K2l, K1r, K1l]):\n",
    "#     if Operator(np.kron(k3, k4)@Operator(weyl).data@np.kron(k1, k2)).equiv(Operator(qc)):\n",
    "#         print(k4)\n",
    "\n",
    "Operator(np.kron(K1l, K1r) @ Operator(weyl).data @ np.kron(K2l, K2r)).equiv(\n",
    "    Operator(qc)\n",
    ")\n"
   ]
  },
  {
   "cell_type": "code",
   "execution_count": 238,
   "metadata": {},
   "outputs": [
    {
     "name": "stdout",
     "output_type": "stream",
     "text": [
      "wtf\n"
     ]
    }
   ],
   "source": [
    "import itertools\n",
    "\n",
    "for k1, k2, k3, k4 in itertools.permutations([K2r, K2l, K1r, K1l]):\n",
    "    transp3 = QuantumCircuit(2)\n",
    "    transp3.append(UnitaryGate(k1), [0])\n",
    "    transp3.append(UnitaryGate(k2), [1])\n",
    "    transp3.compose(weyl, [0, 1], inplace=True)\n",
    "    transp3.append(UnitaryGate(k3), [0])\n",
    "    transp3.append(UnitaryGate(k4), [1])\n",
    "    if Operator(transp3).equiv(Operator(qc)):\n",
    "        print(\"wtf\")\n"
   ]
  },
  {
   "cell_type": "code",
   "execution_count": 245,
   "metadata": {},
   "outputs": [
    {
     "data": {
      "text/html": [
       "<pre style=\"word-wrap: normal;white-space: pre;background: #fff0;line-height: 1.1;font-family: &quot;Courier New&quot;,Courier,monospace\">     ┌─────┐┌────────────┐┌─────┐\n",
       "q_0: ┤ k2r ├┤0           ├┤ k1r ├\n",
       "     ├─────┤│  Rxx(-π/2) │├─────┤\n",
       "q_1: ┤ k2l ├┤1           ├┤ k1l ├\n",
       "     └─────┘└────────────┘└─────┘</pre>"
      ],
      "text/plain": [
       "     ┌─────┐┌────────────┐┌─────┐\n",
       "q_0: ┤ k2r ├┤0           ├┤ k1r ├\n",
       "     ├─────┤│  Rxx(-π/2) │├─────┤\n",
       "q_1: ┤ k2l ├┤1           ├┤ k1l ├\n",
       "     └─────┘└────────────┘└─────┘"
      ]
     },
     "execution_count": 245,
     "metadata": {},
     "output_type": "execute_result"
    }
   ],
   "source": [
    "transp3 = QuantumCircuit(2)\n",
    "transp3.append(UnitaryGate(K2r, label=\"k2r\"), [0])\n",
    "transp3.append(UnitaryGate(K2l, label=\"k2l\"), [1])\n",
    "transp3.compose(weyl, [0, 1], inplace=True)\n",
    "transp3.append(UnitaryGate(K1r, label=\"k1r\"), [0])\n",
    "transp3.append(UnitaryGate(K1l, label=\"k1l\"), [1])\n",
    "transp3.draw()\n"
   ]
  },
  {
   "cell_type": "code",
   "execution_count": 246,
   "metadata": {},
   "outputs": [
    {
     "data": {
      "text/plain": [
       "True"
      ]
     },
     "execution_count": 246,
     "metadata": {},
     "output_type": "execute_result"
    }
   ],
   "source": [
    "Operator(transp3).equiv(Operator(qc))\n"
   ]
  },
  {
   "cell_type": "code",
   "execution_count": 260,
   "metadata": {},
   "outputs": [],
   "source": [
    "import cmath\n",
    "from utils.qiskit_patch.two_qubit_decompose import (\n",
    "    transform_to_magic_basis,\n",
    "    decompose_two_qubit_product_gate,\n",
    ")\n",
    "import scipy.linalg as la\n",
    "\n",
    "_ipx = np.array([[0, 1j], [1j, 0]], dtype=complex)\n",
    "_ipy = np.array([[0, 1], [-1, 0]], dtype=complex)\n",
    "_ipz = np.array([[1j, 0], [0, -1j]], dtype=complex)\n",
    "_id = np.array([[1, 0], [0, 1]], dtype=complex)\n",
    "\n",
    "\n",
    "def KAKDecomp(unitary_matrix, *, fidelity=(1.0 - 1.0e-9)):\n",
    "    \"\"\"Perform the Weyl chamber decomposition, and optionally choose a specialized subclass.\n",
    "\n",
    "    The flip into the Weyl Chamber is described in B. Kraus and J. I. Cirac, Phys. Rev. A 63,\n",
    "    062309 (2001).\n",
    "\n",
    "    FIXME: There's a cleaner-seeming method based on choosing branch cuts carefully, in Andrew\n",
    "    M. Childs, Henry L. Haselgrove, and Michael A. Nielsen, Phys. Rev. A 68, 052311, but I\n",
    "    wasn't able to get that to work.\n",
    "\n",
    "    The overall decomposition scheme is taken from Drury and Love, arXiv:0806.4015 [quant-ph].\n",
    "    \"\"\"\n",
    "    pi = np.pi\n",
    "    pi2 = np.pi / 2\n",
    "    pi4 = np.pi / 4\n",
    "\n",
    "    # Make U be in SU(4)\n",
    "    U = np.array(unitary_matrix, dtype=complex, copy=True)\n",
    "    detU = la.det(U)\n",
    "    U *= detU ** (-0.25)\n",
    "    global_phase = cmath.phase(detU) / 4\n",
    "\n",
    "    Up = transform_to_magic_basis(U, reverse=True)\n",
    "    M2 = Up.T.dot(Up)\n",
    "\n",
    "    # M2 is a symmetric complex matrix. We need to decompose it as M2 = P D P^T where\n",
    "    # P ∈ SO(4), D is diagonal with unit-magnitude elements.\n",
    "    #\n",
    "    # We can't use raw `eig` directly because it isn't guaranteed to give us real or othogonal\n",
    "    # eigenvectors.  Instead, since `M2` is complex-symmetric,\n",
    "    #   M2 = A + iB\n",
    "    # for real-symmetric `A` and `B`, and as\n",
    "    #   M2^+ @ M2 = A^2 + B^2 + i [A, B] = 1\n",
    "    # we must have `A` and `B` commute, and consequently they are simultaneously diagonalizable.\n",
    "    # Mixing them together _should_ account for any degeneracy problems, but it's not\n",
    "    # guaranteed, so we repeat it a little bit.  The fixed seed is to make failures\n",
    "    # deterministic; the value is not important.\n",
    "    state = np.random.default_rng(2020)\n",
    "    for _ in range(100):  # FIXME: this randomized algorithm is horrendous\n",
    "        M2real = state.normal() * M2.real + state.normal() * M2.imag\n",
    "        _, P = np.linalg.eigh(M2real)\n",
    "        D = P.T.dot(M2).dot(P).diagonal()\n",
    "        if np.allclose(P.dot(np.diag(D)).dot(P.T), M2, rtol=0, atol=1.0e-13):\n",
    "            break\n",
    "    else:\n",
    "        raise ValueError\n",
    "\n",
    "    d = -np.angle(D) / 2\n",
    "    d[3] = -d[0] - d[1] - d[2]\n",
    "    cs = np.mod((d[:3] + d[3]) / 2, 2 * np.pi)\n",
    "\n",
    "    # Reorder the eigenvalues to get in the Weyl chamber\n",
    "    cstemp = np.mod(cs, pi2)\n",
    "    np.minimum(cstemp, pi2 - cstemp, cstemp)\n",
    "    order = np.argsort(cstemp)[[1, 2, 0]]\n",
    "    cs = cs[order]\n",
    "    d[:3] = d[order]\n",
    "    P[:, :3] = P[:, order]\n",
    "\n",
    "    # Fix the sign of P to be in SO(4)\n",
    "    if np.real(la.det(P)) < 0:\n",
    "        P[:, -1] = -P[:, -1]\n",
    "\n",
    "    # Find K1, K2 so that U = K1.A.K2, with K being product of single-qubit unitaries\n",
    "    K1 = transform_to_magic_basis(Up @ P @ np.diag(np.exp(1j * d)))\n",
    "    K2 = transform_to_magic_basis(P.T)\n",
    "\n",
    "    K1l, K1r, phase_l = decompose_two_qubit_product_gate(K1)\n",
    "    K2l, K2r, phase_r = decompose_two_qubit_product_gate(K2)\n",
    "    global_phase += phase_l + phase_r\n",
    "\n",
    "    K1l = K1l.copy()\n",
    "\n",
    "    # Flip into Weyl chamber\n",
    "    if cs[0] > pi2:\n",
    "        cs[0] -= 3 * pi2\n",
    "        K1l = K1l.dot(_ipy)\n",
    "        K1r = K1r.dot(_ipy)\n",
    "        global_phase += pi2\n",
    "    if cs[1] > pi2:\n",
    "        cs[1] -= 3 * pi2\n",
    "        K1l = K1l.dot(_ipx)\n",
    "        K1r = K1r.dot(_ipx)\n",
    "        global_phase += pi2\n",
    "    conjs = 0\n",
    "    if cs[0] > pi4:\n",
    "        cs[0] = pi2 - cs[0]\n",
    "        K1l = K1l.dot(_ipy)\n",
    "        K2r = _ipy.dot(K2r)\n",
    "        conjs += 1\n",
    "        global_phase -= pi2\n",
    "    if cs[1] > pi4:\n",
    "        cs[1] = pi2 - cs[1]\n",
    "        K1l = K1l.dot(_ipx)\n",
    "        K2r = _ipx.dot(K2r)\n",
    "        conjs += 1\n",
    "        global_phase += pi2\n",
    "        if conjs == 1:\n",
    "            global_phase -= pi\n",
    "    if cs[2] > pi2:\n",
    "        cs[2] -= 3 * pi2\n",
    "        K1l = K1l.dot(_ipz)\n",
    "        K1r = K1r.dot(_ipz)\n",
    "        global_phase += pi2\n",
    "        if conjs == 1:\n",
    "            global_phase -= pi\n",
    "    if conjs == 1:\n",
    "        cs[2] = pi2 - cs[2]\n",
    "        K1l = K1l.dot(_ipz)\n",
    "        K2r = _ipz.dot(K2r)\n",
    "        global_phase += pi2\n",
    "    if cs[2] > pi4:\n",
    "        cs[2] -= pi2\n",
    "        K1l = K1l.dot(_ipz)\n",
    "        K1r = K1r.dot(_ipz)\n",
    "        global_phase -= pi2\n",
    "\n",
    "    a, b, c = cs[1], cs[0], cs[2]\n",
    "    return global_phase, (a, b, c), K1l, K1r, K2l, K2r\n"
   ]
  },
  {
   "cell_type": "code",
   "execution_count": 271,
   "metadata": {},
   "outputs": [],
   "source": [
    "# Reference: https://arxiv.org/pdf/2105.06074.pdf\n",
    "from qiskit.circuit.library import RZGate, RXGate, RYGate, IGate\n",
    "\n",
    "\n",
    "def decomp(U):\n",
    "    \"\"\"Decompose U into single qubit gates and the SQiSW gates\"\"\"\n",
    "    qc = QuantumCircuit(2)\n",
    "\n",
    "    _, (x, y, z), A1, A2, B1, B2 = KAKDecomp(U)\n",
    "    if np.abs(z) <= x - y:\n",
    "        C1, C2 = interleavingSingleQubitRotations(x, y, z)\n",
    "        V = RiSwapGate(0.5).to_matrix() @ np.kron(C1, C2) @ RiSwapGate(0.5).to_matrix()\n",
    "        _, (x, y, z), D1, D2, E1, E2 = KAKDecomp(V)\n",
    "\n",
    "        qc.append(UnitaryGate(np.matrix(E1).H @ B1), [1])\n",
    "        qc.append(UnitaryGate(np.matrix(E2).H @ B2), [0])\n",
    "        qc.append(RiSwapGate(0.5), [0, 1])\n",
    "        qc.append(UnitaryGate(C1), [1])\n",
    "        qc.append(UnitaryGate(C2), [0])\n",
    "        qc.append(RiSwapGate(0.5), [0, 1])\n",
    "        qc.append(UnitaryGate(A1 @ np.matrix(D1).H), [1])\n",
    "        qc.append(UnitaryGate(A2 @ np.matrix(D2).H), [0])\n",
    "    else:\n",
    "        (x, y, z), F1, F2, G1, G2, H1, H2 = canonicalize(x, y, z)\n",
    "        C1, C2 = interleavingSingleQubitRotations(x, y, z)\n",
    "        V = RiSwapGate(0.5).to_matrix() @ np.kron(C1, C2) @ RiSwapGate(0.5).to_matrix()\n",
    "        _, (x, y, z), D1, D2, E1, E2 = KAKDecomp(V)\n",
    "\n",
    "        qc.append(UnitaryGate(H1 @ B1), [1])\n",
    "        qc.append(UnitaryGate(H2 @ B2), [0])\n",
    "        qc.append(RiSwapGate(0.5), [0, 1])\n",
    "        qc.append(UnitaryGate(np.matrix(E1).H @ G1), [1])\n",
    "        qc.append(UnitaryGate(np.matrix(E2).H @ G2), [0])\n",
    "        qc.append(RiSwapGate(0.5), [0, 1])\n",
    "        qc.append(UnitaryGate(C1), [1])\n",
    "        qc.append(UnitaryGate(C2), [0])\n",
    "        qc.append(RiSwapGate(0.5), [0, 1])\n",
    "        qc.append(UnitaryGate(A1 @ F1 @ np.matrix(D1).H), [1])\n",
    "        qc.append(UnitaryGate(A2 @ F2 @ np.matrix(D2).H), [0])\n",
    "\n",
    "    return qc\n",
    "\n",
    "\n",
    "def interleavingSingleQubitRotations(x, y, z):\n",
    "    \"\"\"Output the single qubit rotations given the interaction coefficients (x,y,z) \\in W' when sandiwched by two SQiSW gates\"\"\"\n",
    "    C = np.sin(x + y - z) * np.sin(x - y + z) * np.sin(-x - y - z) * np.sin(-x + y + z)\n",
    "    alpha = np.arccos(np.cos(2 * x) - np.cos(2 * y) + np.cos(2 * z) + 2 * np.sqrt(C))\n",
    "    beta = np.arccos(np.cos(2 * x) - np.cos(2 * y) + np.cos(2 * z) - 2 * np.sqrt(C))\n",
    "    _num = 4 * (np.cos(x) ** 2) * (np.cos(z) ** 2) * (np.cos(y) ** 2)\n",
    "    _den = _num + np.cos(2 * x) + np.cos(2 * y) * np.cos(2 * z)\n",
    "    gamma = np.arccos(np.sign(z) * np.sqrt(_num / _den))\n",
    "    return (\n",
    "        RZGate(gamma).to_matrix()\n",
    "        @ RXGate(alpha).to_matrix()\n",
    "        @ RZGate(gamma).to_matrix(),\n",
    "        RXGate(beta).to_matrix(),\n",
    "    )\n",
    "\n",
    "\n",
    "def canonicalize(x, y, z):\n",
    "    \"\"\"Decompose an arbitrary gate into one SQISW and one L(x,y',z) where (x',y',z') \\in W' and output the coefficients (x',y',z') and the interleaving single qubit rotations\"\"\"\n",
    "    A0 = IGate().to_matrix()\n",
    "    A1 = IGate().to_matrix()\n",
    "    B1 = RYGate(-np.pi / 2).to_matrix()\n",
    "    B2 = RYGate(np.pi / 2).to_matrix()\n",
    "    C1 = RYGate(np.pi / 2).to_matrix()\n",
    "    C2 = RYGate(-np.pi / 2).to_matrix()\n",
    "    s = np.sign(z)\n",
    "    z = np.abs(z)\n",
    "    if x > np.pi / 8:\n",
    "        y = y - np.pi / 8\n",
    "        z = z - np.pi / 8\n",
    "        B1 = RZGate(np.pi / 2).to_matrix() @ B1\n",
    "        B2 = RZGate(-np.pi / 2).to_matrix() @ B2\n",
    "        C1 = C1 @ RZGate(-np.pi / 2).to_matrix()\n",
    "        C2 = C2 @ RZGate(np.pi / 2).to_matrix()\n",
    "\n",
    "    else:\n",
    "        x = x + np.pi / 8\n",
    "        z = z - np.pi / 8\n",
    "\n",
    "    if np.abs(y) < np.abs(z):\n",
    "        # XXX typo in alibaba here (?)\n",
    "        z = -z\n",
    "        A1 = RXGate(np.pi / 2).to_matrix()\n",
    "        A2 = RXGate(-np.pi / 2).to_matrix()\n",
    "        B1 = RXGate(-np.pi / 2).to_matrix() @ B1\n",
    "        B2 = RXGate(np.pi / 2).to_matrix() @ B2\n",
    "    if s < 0:\n",
    "        z = -z\n",
    "        A1 = RZGate(np.pi).to_matrix() @ A1 @ RZGate(np.pi).to_matrix()\n",
    "        B1 = RZGate(np.pi).to_matrix() @ B1 @ RZGate(np.pi).to_matrix()\n",
    "        C1 = RZGate(np.pi).to_matrix() @ C1 @ RZGate(np.pi).to_matrix()\n",
    "    \n",
    "    return (x,y,z), A1, A2, B1, B2, C1, C2\n",
    "\n",
    "d = decomp(Operator(qc).data)"
   ]
  },
  {
   "cell_type": "code",
   "execution_count": 272,
   "metadata": {},
   "outputs": [
    {
     "data": {
      "text/plain": [
       "True"
      ]
     },
     "execution_count": 272,
     "metadata": {},
     "output_type": "execute_result"
    }
   ],
   "source": [
    "Operator(d).equiv(CXGate())"
   ]
  }
 ],
 "metadata": {
  "interpreter": {
   "hash": "3c923d04e9af837f8cfab086aad703afe35b7499ff33e9e2bcba0d425db844a6"
  },
  "kernelspec": {
   "display_name": "Python 3.8.10 ('venv': venv)",
   "language": "python",
   "name": "python3"
  },
  "language_info": {
   "codemirror_mode": {
    "name": "ipython",
    "version": 3
   },
   "file_extension": ".py",
   "mimetype": "text/x-python",
   "name": "python",
   "nbconvert_exporter": "python",
   "pygments_lexer": "ipython3",
   "version": "3.8.10"
  },
  "orig_nbformat": 4
 },
 "nbformat": 4,
 "nbformat_minor": 2
}
